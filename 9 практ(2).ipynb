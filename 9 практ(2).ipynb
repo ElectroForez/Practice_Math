{
 "cells": [
  {
   "cell_type": "code",
   "execution_count": 1,
   "id": "b0bfb942",
   "metadata": {
    "ExecuteTime": {
     "end_time": "2022-03-14T07:17:26.692836Z",
     "start_time": "2022-03-14T07:17:26.435391Z"
    }
   },
   "outputs": [],
   "source": [
    "from sympy import *\n",
    "from IPython.core.interactiveshell import InteractiveShell\n",
    "InteractiveShell.ast_node_interactivity = \"all\"\n",
    "from IPython.display import display, Math"
   ]
  },
  {
   "cell_type": "code",
   "execution_count": 96,
   "id": "7e050f96",
   "metadata": {
    "ExecuteTime": {
     "end_time": "2022-03-14T08:00:36.379891Z",
     "start_time": "2022-03-14T08:00:36.372049Z"
    }
   },
   "outputs": [],
   "source": [
    "def sym_order(sym, n):\n",
    "    if len(sym) > 1:\n",
    "        tail = sym[1:]\n",
    "        sym=sym[0]\n",
    "    else:\n",
    "        tail = ''\n",
    "    if n == 0:\n",
    "        return Symbol(sym + tail)\n",
    "    if 1 <= n <=3:\n",
    "        order = '\\'' * n\n",
    "    else:\n",
    "        order = f'({n})'\n",
    "    return symbols(sym + '^{'+order+'}' + tail)"
   ]
  },
  {
   "cell_type": "code",
   "execution_count": 99,
   "id": "85b5ea1b",
   "metadata": {
    "ExecuteTime": {
     "end_time": "2022-03-14T08:03:33.027960Z",
     "start_time": "2022-03-14T08:03:33.019597Z"
    }
   },
   "outputs": [],
   "source": [
    "def sym_lower(sym, low):\n",
    "    if len(sym) > 1:\n",
    "        tail = sym[1:]\n",
    "        sym=sym[0]\n",
    "    else:\n",
    "        tail = ''\n",
    "    return symbols(sym + '_{' + low + '}')"
   ]
  },
  {
   "cell_type": "code",
   "execution_count": null,
   "id": "81f76780",
   "metadata": {},
   "outputs": [],
   "source": [
    "def print_expr(expr):\n",
    "    display(Math(str(sym)))"
   ]
  },
  {
   "cell_type": "code",
   "execution_count": 112,
   "id": "e643965c",
   "metadata": {
    "ExecuteTime": {
     "end_time": "2022-03-14T08:12:53.381897Z",
     "start_time": "2022-03-14T08:12:53.375707Z"
    }
   },
   "outputs": [
    {
     "data": {
      "text/latex": [
       "$\\displaystyle f^{''}(x)$"
      ],
      "text/plain": [
       "<IPython.core.display.Math object>"
      ]
     },
     "metadata": {},
     "output_type": "display_data"
    }
   ],
   "source": [
    "display(Math(str(sym_order('f(x)', 2))))"
   ]
  },
  {
   "cell_type": "code",
   "execution_count": null,
   "id": "287ef11b",
   "metadata": {},
   "outputs": [],
   "source": [
    "def print"
   ]
  },
  {
   "cell_type": "code",
   "execution_count": 102,
   "id": "47c417a8",
   "metadata": {
    "ExecuteTime": {
     "end_time": "2022-03-14T08:06:50.541609Z",
     "start_time": "2022-03-14T08:06:50.535817Z"
    }
   },
   "outputs": [
    {
     "data": {
      "text/latex": [
       "$\\displaystyle f^{''}$"
      ],
      "text/plain": [
       "f^{''}"
      ]
     },
     "execution_count": 102,
     "metadata": {},
     "output_type": "execute_result"
    }
   ],
   "source": [
    "sym_order('f', 2)"
   ]
  },
  {
   "cell_type": "code",
   "execution_count": null,
   "id": "0ee49028",
   "metadata": {},
   "outputs": [],
   "source": []
  },
  {
   "cell_type": "code",
   "execution_count": 12,
   "id": "7bc291b8",
   "metadata": {
    "ExecuteTime": {
     "end_time": "2022-03-14T07:29:22.556548Z",
     "start_time": "2022-03-14T07:29:22.550970Z"
    }
   },
   "outputs": [],
   "source": [
    "x = Symbol('x')"
   ]
  },
  {
   "cell_type": "code",
   "execution_count": null,
   "id": "cf9d1db9",
   "metadata": {},
   "outputs": [],
   "source": [
    "expr = "
   ]
  }
 ],
 "metadata": {
  "kernelspec": {
   "display_name": "Python 3 (ipykernel)",
   "language": "python",
   "name": "python3"
  },
  "language_info": {
   "codemirror_mode": {
    "name": "ipython",
    "version": 3
   },
   "file_extension": ".py",
   "mimetype": "text/x-python",
   "name": "python",
   "nbconvert_exporter": "python",
   "pygments_lexer": "ipython3",
   "version": "3.9.7"
  },
  "latex_envs": {
   "LaTeX_envs_menu_present": true,
   "autoclose": false,
   "autocomplete": true,
   "bibliofile": "biblio.bib",
   "cite_by": "apalike",
   "current_citInitial": 1,
   "eqLabelWithNumbers": true,
   "eqNumInitial": 1,
   "hotkeys": {
    "equation": "Ctrl-E",
    "itemize": "Ctrl-I"
   },
   "labels_anchors": false,
   "latex_user_defs": false,
   "report_style_numbering": false,
   "user_envs_cfg": false
  }
 },
 "nbformat": 4,
 "nbformat_minor": 5
}
