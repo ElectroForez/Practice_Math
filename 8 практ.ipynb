{
 "cells": [
  {
   "cell_type": "code",
   "execution_count": 1,
   "id": "09ac5cec",
   "metadata": {
    "ExecuteTime": {
     "end_time": "2022-02-27T18:55:05.379363Z",
     "start_time": "2022-02-27T18:55:03.772395Z"
    }
   },
   "outputs": [
    {
     "name": "stdout",
     "output_type": "stream",
     "text": [
      "Requirement already satisfied: sympy in /home/vladt/.local/lib/python3.9/site-packages (1.9)\r\n",
      "Requirement already satisfied: mpmath>=0.19 in /home/vladt/.local/lib/python3.9/site-packages (from sympy) (1.2.1)\r\n"
     ]
    }
   ],
   "source": [
    "!pip install sympy"
   ]
  },
  {
   "cell_type": "code",
   "execution_count": 2,
   "id": "5933a7ae",
   "metadata": {
    "ExecuteTime": {
     "end_time": "2022-02-27T18:55:05.695638Z",
     "start_time": "2022-02-27T18:55:05.384191Z"
    }
   },
   "outputs": [],
   "source": [
    "import os\n",
    "import sys\n",
    "from sympy import *\n",
    "init_printing()"
   ]
  },
  {
   "cell_type": "code",
   "execution_count": 3,
   "id": "f1f79348",
   "metadata": {
    "ExecuteTime": {
     "end_time": "2022-02-27T18:55:05.698983Z",
     "start_time": "2022-02-27T18:55:05.696784Z"
    }
   },
   "outputs": [],
   "source": [
    "from IPython.core.interactiveshell import InteractiveShell\n",
    "InteractiveShell.ast_node_interactivity = \"all\""
   ]
  },
  {
   "cell_type": "code",
   "execution_count": 4,
   "id": "e5cfcaf9",
   "metadata": {
    "ExecuteTime": {
     "end_time": "2022-02-27T18:55:05.707355Z",
     "start_time": "2022-02-27T18:55:05.700358Z"
    }
   },
   "outputs": [],
   "source": [
    "def get_degree(el):#только для массивов без элементов в виде чисел\n",
    "    '''\n",
    "    Эта функция используется для сортировки членов интеграла по степеням,\n",
    "    а то там порядок сбивается, и отрицательные члены сначала идут\n",
    "    '''\n",
    "    if ask(Q.extended_real(el)):\n",
    "        return el\n",
    "    arg = el.args\n",
    "    if len(arg) > 1:\n",
    "        return get_degree(arg[-1])\n",
    "    if len(arg) == 0:\n",
    "        return 1"
   ]
  },
  {
   "cell_type": "code",
   "execution_count": null,
   "id": "d55fe414",
   "metadata": {},
   "outputs": [],
   "source": []
  },
  {
   "cell_type": "code",
   "execution_count": 5,
   "id": "588d7839",
   "metadata": {
    "ExecuteTime": {
     "end_time": "2022-02-27T18:55:05.715331Z",
     "start_time": "2022-02-27T18:55:05.708468Z"
    }
   },
   "outputs": [],
   "source": [
    "cosh.__name__='ch'\n",
    "sinh.__name__='sh'"
   ]
  },
  {
   "cell_type": "code",
   "execution_count": 6,
   "id": "cc0abb6b",
   "metadata": {
    "ExecuteTime": {
     "end_time": "2022-02-27T18:55:05.724415Z",
     "start_time": "2022-02-27T18:55:05.716578Z"
    }
   },
   "outputs": [],
   "source": [
    "x = Symbol('x')\n",
    "y = Symbol('y')"
   ]
  },
  {
   "cell_type": "markdown",
   "id": "e8ded61c",
   "metadata": {
    "ExecuteTime": {
     "end_time": "2022-02-25T19:56:36.150569Z",
     "start_time": "2022-02-25T19:56:36.146942Z"
    }
   },
   "source": [
    "# КАК ПИСАТЬ ВЫРАЖЕНИЯ"
   ]
  },
  {
   "cell_type": "markdown",
   "id": "02a7bf03",
   "metadata": {},
   "source": [
    "е в степени"
   ]
  },
  {
   "cell_type": "code",
   "execution_count": 7,
   "id": "e758b675",
   "metadata": {
    "ExecuteTime": {
     "end_time": "2022-02-27T18:55:06.925254Z",
     "start_time": "2022-02-27T18:55:06.770486Z"
    }
   },
   "outputs": [
    {
     "data": {
      "text/latex": [
       "$\\displaystyle e^{- 2 x^{2}}$"
      ],
      "text/plain": [
       "     2\n",
       " -2⋅x \n",
       "ℯ     "
      ]
     },
     "execution_count": 7,
     "metadata": {},
     "output_type": "execute_result"
    }
   ],
   "source": [
    "exp(-2 * x ** 2)"
   ]
  },
  {
   "cell_type": "markdown",
   "id": "77df52ea",
   "metadata": {},
   "source": [
    "Дробь, где только циферки"
   ]
  },
  {
   "cell_type": "code",
   "execution_count": 8,
   "id": "597fa759",
   "metadata": {
    "ExecuteTime": {
     "end_time": "2022-02-27T18:55:07.114794Z",
     "start_time": "2022-02-27T18:55:07.107180Z"
    }
   },
   "outputs": [
    {
     "data": {
      "text/latex": [
       "$\\displaystyle \\frac{1}{2}$"
      ],
      "text/plain": [
       "1/2"
      ]
     },
     "execution_count": 8,
     "metadata": {},
     "output_type": "execute_result"
    }
   ],
   "source": [
    "Rational(1, 2)"
   ]
  },
  {
   "cell_type": "markdown",
   "id": "6d8051f5",
   "metadata": {},
   "source": [
    "Так эти дроби писать не надо!"
   ]
  },
  {
   "cell_type": "code",
   "execution_count": 9,
   "id": "6b211f9d",
   "metadata": {
    "ExecuteTime": {
     "end_time": "2022-02-27T18:55:07.494370Z",
     "start_time": "2022-02-27T18:55:07.486087Z"
    }
   },
   "outputs": [
    {
     "data": {
      "text/latex": [
       "$\\displaystyle 0.5$"
      ],
      "text/plain": [
       "0.5"
      ]
     },
     "execution_count": 9,
     "metadata": {},
     "output_type": "execute_result"
    }
   ],
   "source": [
    "1 / 2"
   ]
  },
  {
   "cell_type": "markdown",
   "id": "4c9eb68d",
   "metadata": {
    "ExecuteTime": {
     "end_time": "2022-02-25T20:00:05.757853Z",
     "start_time": "2022-02-25T20:00:05.750828Z"
    }
   },
   "source": [
    "Дробь с букавками"
   ]
  },
  {
   "cell_type": "code",
   "execution_count": 10,
   "id": "3feef46c",
   "metadata": {
    "ExecuteTime": {
     "end_time": "2022-02-27T18:55:08.104663Z",
     "start_time": "2022-02-27T18:55:08.090048Z"
    }
   },
   "outputs": [
    {
     "data": {
      "text/latex": [
       "$\\displaystyle \\frac{e^{- 2 x^{2}}}{\\sqrt{x}}$"
      ],
      "text/plain": [
       "     2\n",
       " -2⋅x \n",
       "ℯ     \n",
       "──────\n",
       "  √x  "
      ]
     },
     "execution_count": 10,
     "metadata": {},
     "output_type": "execute_result"
    }
   ],
   "source": [
    "exp(-2 * x ** 2) / sqrt(x)"
   ]
  },
  {
   "cell_type": "markdown",
   "id": "0b6ccae8",
   "metadata": {},
   "source": [
    "Корень произвольной степени. Знаменатель и есть степень корня. Вспоминайте математику"
   ]
  },
  {
   "cell_type": "code",
   "execution_count": 11,
   "id": "cf194082",
   "metadata": {
    "ExecuteTime": {
     "end_time": "2022-02-27T18:55:08.804861Z",
     "start_time": "2022-02-27T18:55:08.792115Z"
    }
   },
   "outputs": [
    {
     "data": {
      "text/latex": [
       "$\\displaystyle \\sqrt[3]{x + 1}$"
      ],
      "text/plain": [
       "3 _______\n",
       "╲╱ x + 1 "
      ]
     },
     "execution_count": 11,
     "metadata": {},
     "output_type": "execute_result"
    }
   ],
   "source": [
    "(x + 1) ** Rational(1, 3)"
   ]
  },
  {
   "cell_type": "markdown",
   "id": "66101a36",
   "metadata": {},
   "source": [
    "# Вставьте здесь ваши параметры"
   ]
  },
  {
   "cell_type": "code",
   "execution_count": 135,
   "id": "32ebad2b",
   "metadata": {
    "ExecuteTime": {
     "end_time": "2022-02-27T20:24:06.524409Z",
     "start_time": "2022-02-27T20:24:06.509996Z"
    },
    "scrolled": false
   },
   "outputs": [
    {
     "name": "stdout",
     "output_type": "stream",
     "text": [
      "Проверьте, что ваше выражение корректно отображается!\n"
     ]
    },
    {
     "data": {
      "text/latex": [
       "$\\displaystyle \\int\\limits_{0}^{\\frac{1}{10}} \\frac{\\log{\\left(2 x + 1 \\right)}}{x}\\, dx$"
      ],
      "text/plain": [
       "1/10                \n",
       " ⌠                  \n",
       " ⎮   log(2⋅x + 1)   \n",
       " ⎮   ──────────── dx\n",
       " ⎮        x         \n",
       " ⌡                  \n",
       " 0                  "
      ]
     },
     "execution_count": 135,
     "metadata": {},
     "output_type": "execute_result"
    },
    {
     "name": "stdout",
     "output_type": "stream",
     "text": [
      "Вычислить с точностью = 0.001\n"
     ]
    }
   ],
   "source": [
    "x0 = 0 #в этой задаче он должен быть 0, поэтому не меняем\n",
    "accuracy = 0.001 # до производной какой степени считать\n",
    "n = 3 #количество. Минимум 2 должно быть\n",
    "a = Rational(1, 10)# a в интеграле(верхняя циферка). Нижняя у всех 0\n",
    "expr = ln(1 + 2 * x) / x#<------- здесь должно быть ваше выражение\n",
    "print('Проверьте, что ваше выражение корректно отображается!')\n",
    "Integral(expr, (x, 0, a))\n",
    "print('Вычислить с точностью =', accuracy)"
   ]
  },
  {
   "cell_type": "code",
   "execution_count": 138,
   "id": "ed9f9691",
   "metadata": {
    "ExecuteTime": {
     "end_time": "2022-02-27T20:37:07.668143Z",
     "start_time": "2022-02-27T20:37:07.589884Z"
    }
   },
   "outputs": [
    {
     "name": "stdout",
     "output_type": "stream",
     "text": [
      "В знаменателе только x, поэтому его мы игнорируем при дифференцировании, а потом, получив дифференциал, поделием его на этот знаменатель\n",
      "В коде ниже будет результат вместе с делением\n"
     ]
    },
    {
     "data": {
      "text/latex": [
       "$\\displaystyle \\log{\\left(2 x + 1 \\right)}$"
      ],
      "text/plain": [
       "log(2⋅x + 1)"
      ]
     },
     "execution_count": 138,
     "metadata": {},
     "output_type": "execute_result"
    }
   ],
   "source": [
    "good_detominator = True\n",
    "for el in expr.args:\n",
    "    degree = get_degree(el)\n",
    "    if (degree is None or ask(Q.extended_real(el))) or degree >= 0:\n",
    "        continue\n",
    "    denominator = el\n",
    "    if not ask(Q.extended_real(denominator.subs(x, 0))):\n",
    "        print('В знаменателе только x, поэтому его мы игнорируем при дифференцировании, а потом, получив дифференциал, поделием его на этот знаменатель')\n",
    "        print('В коде ниже будет результат вместе с делением')\n",
    "        new_expr = expr / denominator\n",
    "        new_expr\n",
    "        good_detominator = False\n",
    "        break"
   ]
  },
  {
   "cell_type": "markdown",
   "id": "21218a8d",
   "metadata": {},
   "source": [
    "# Вычисление по точности"
   ]
  },
  {
   "cell_type": "markdown",
   "id": "4c608c40",
   "metadata": {},
   "source": [
    "но Виклянчук сказала, что нужно минимум 4 члена высчитать, поэтому минимум 4 члена и выведется"
   ]
  },
  {
   "cell_type": "code",
   "execution_count": 133,
   "id": "cf4fd78a",
   "metadata": {
    "ExecuteTime": {
     "end_time": "2022-02-27T20:23:23.925649Z",
     "start_time": "2022-02-27T20:23:23.042775Z"
    },
    "scrolled": true
   },
   "outputs": [
    {
     "name": "stdout",
     "output_type": "stream",
     "text": [
      "Выражение\n"
     ]
    },
    {
     "data": {
      "text/latex": [
       "$\\displaystyle \\frac{\\log{\\left(2 x + 1 \\right)}}{x}$"
      ],
      "text/plain": [
       "log(2⋅x + 1)\n",
       "────────────\n",
       "     x      "
      ]
     },
     "execution_count": 133,
     "metadata": {},
     "output_type": "execute_result"
    },
    {
     "name": "stdout",
     "output_type": "stream",
     "text": [
      "0 порядок\n",
      "Дифференциал\n"
     ]
    },
    {
     "data": {
      "text/latex": [
       "$\\displaystyle y = \\log{\\left(2 x + 1 \\right)}$"
      ],
      "text/plain": [
       "y = log(2⋅x + 1)"
      ]
     },
     "execution_count": 133,
     "metadata": {},
     "output_type": "execute_result"
    },
    {
     "name": "stdout",
     "output_type": "stream",
     "text": [
      "При x = 0\n"
     ]
    },
    {
     "data": {
      "text/latex": [
       "$\\displaystyle y = 0$"
      ],
      "text/plain": [
       "y = 0"
      ]
     },
     "execution_count": 133,
     "metadata": {},
     "output_type": "execute_result"
    },
    {
     "name": "stdout",
     "output_type": "stream",
     "text": [
      "1 порядок\n",
      "Дифференциал\n"
     ]
    },
    {
     "data": {
      "text/latex": [
       "$\\displaystyle y = \\frac{2}{2 x + 1}$"
      ],
      "text/plain": [
       "       2   \n",
       "y = ───────\n",
       "    2⋅x + 1"
      ]
     },
     "execution_count": 133,
     "metadata": {},
     "output_type": "execute_result"
    },
    {
     "name": "stdout",
     "output_type": "stream",
     "text": [
      "При x = 0\n"
     ]
    },
    {
     "data": {
      "text/latex": [
       "$\\displaystyle y = 2$"
      ],
      "text/plain": [
       "y = 2"
      ]
     },
     "execution_count": 133,
     "metadata": {},
     "output_type": "execute_result"
    },
    {
     "name": "stdout",
     "output_type": "stream",
     "text": [
      "2 порядок\n",
      "Дифференциал\n"
     ]
    },
    {
     "data": {
      "text/latex": [
       "$\\displaystyle y = - \\frac{4}{\\left(2 x + 1\\right)^{2}}$"
      ],
      "text/plain": [
       "       -4     \n",
       "y = ──────────\n",
       "             2\n",
       "    (2⋅x + 1) "
      ]
     },
     "execution_count": 133,
     "metadata": {},
     "output_type": "execute_result"
    },
    {
     "name": "stdout",
     "output_type": "stream",
     "text": [
      "При x = 0\n"
     ]
    },
    {
     "data": {
      "text/latex": [
       "$\\displaystyle y = -4$"
      ],
      "text/plain": [
       "y = -4"
      ]
     },
     "execution_count": 133,
     "metadata": {},
     "output_type": "execute_result"
    },
    {
     "name": "stdout",
     "output_type": "stream",
     "text": [
      "3 порядок\n",
      "Дифференциал\n"
     ]
    },
    {
     "data": {
      "text/latex": [
       "$\\displaystyle y = \\frac{16}{\\left(2 x + 1\\right)^{3}}$"
      ],
      "text/plain": [
       "        16    \n",
       "y = ──────────\n",
       "             3\n",
       "    (2⋅x + 1) "
      ]
     },
     "execution_count": 133,
     "metadata": {},
     "output_type": "execute_result"
    },
    {
     "name": "stdout",
     "output_type": "stream",
     "text": [
      "При x = 0\n"
     ]
    },
    {
     "data": {
      "text/latex": [
       "$\\displaystyle y = 16$"
      ],
      "text/plain": [
       "y = 16"
      ]
     },
     "execution_count": 133,
     "metadata": {},
     "output_type": "execute_result"
    },
    {
     "name": "stdout",
     "output_type": "stream",
     "text": [
      "\n",
      "Финал\n",
      "\n",
      "Дифференциал\n"
     ]
    },
    {
     "data": {
      "text/latex": [
       "$\\displaystyle - 4 x^{3} + \\frac{8 x^{2}}{3} - 2 x + 2$"
      ],
      "text/plain": [
       "            2          \n",
       "     3   8⋅x           \n",
       "- 4⋅x  + ──── - 2⋅x + 2\n",
       "          3            "
      ]
     },
     "execution_count": 133,
     "metadata": {},
     "output_type": "execute_result"
    },
    {
     "name": "stdout",
     "output_type": "stream",
     "text": [
      "Интегралыч\n"
     ]
    },
    {
     "data": {
      "text/latex": [
       "$\\displaystyle - x^{4} + \\frac{8 x^{3}}{9} - x^{2} + 2 x$"
      ],
      "text/plain": [
       "          3           \n",
       "   4   8⋅x     2      \n",
       "- x  + ──── - x  + 2⋅x\n",
       "        9             "
      ]
     },
     "execution_count": 133,
     "metadata": {},
     "output_type": "execute_result"
    },
    {
     "name": "stdout",
     "output_type": "stream",
     "text": [
      "Убираем последние 2 члена т.к. они дают меньше нужной точности\n",
      "При a = 1/10\n"
     ]
    },
    {
     "data": {
      "text/latex": [
       "$\\displaystyle - x^{2} + 2 x = \\frac{19}{100}$"
      ],
      "text/plain": [
       "   2          19\n",
       "- x  + 2⋅x = ───\n",
       "             100"
      ]
     },
     "execution_count": 133,
     "metadata": {},
     "output_type": "execute_result"
    },
    {
     "name": "stdout",
     "output_type": "stream",
     "text": [
      "Численный ответ =  0.19\n",
      "Точность 0.0007888888888888889\n"
     ]
    }
   ],
   "source": [
    "print('Выражение')\n",
    "expr\n",
    "i = 0\n",
    "while True:\n",
    "    print(i, 'порядок')\n",
    "    if good_detominator:\n",
    "        expr_dif = expr.diff(x, i)#дифференциал\n",
    "    else:\n",
    "        expr_dif = new_expr.diff(x, i)\n",
    "    print('Дифференциал')\n",
    "    Eq(y, expr_dif)#выводим его\n",
    "    print('При x =', x0)\n",
    "    Eq(y, expr_dif.subs(x, x0))#выводим чему равен при подстановке\n",
    "    ser = expr.series(x0=x0, n=i + 1).removeO()#ряд\n",
    "    integral = sorted(integrate(ser, (x)).args, key=get_degree)# интеграл от ряда\n",
    "    if len(integral) >= 2:\n",
    "        l1 = integral[-1].subs(x, a)# последний член интеграла\n",
    "        l2 = integral[-2].subs(x, a)# предпоследний\n",
    "        cur_acc = abs(l2 + l1)#считаем здесь их точность\n",
    "        if cur_acc < accuracy and len(integral) >= 4:\n",
    "            print('\\nФинал\\n')\n",
    "            print('Дифференциал')\n",
    "            ser\n",
    "            print('Интегралыч')\n",
    "            integrate(ser, (x))\n",
    "            integ_need = Add(*integral[:-2])# нужная часть интеграла для итогового счёта\n",
    "            answer = integ_need.subs(x, a)\n",
    "            print('Убираем последние 2 члена т.к. они дают меньше нужной точности')\n",
    "            print('При a =', a)\n",
    "            Eq(Add(integ_need), answer) \n",
    "            print('Численный ответ = ', answer.p / answer.q)\n",
    "            print('Точность',  cur_acc.p / cur_acc.q)\n",
    "            break\n",
    "    i +=1"
   ]
  },
  {
   "cell_type": "markdown",
   "id": "7a5d90fb",
   "metadata": {},
   "source": [
    "# Вычисление по количеству членов"
   ]
  },
  {
   "cell_type": "code",
   "execution_count": 134,
   "id": "bd819b09",
   "metadata": {
    "ExecuteTime": {
     "end_time": "2022-02-27T20:23:25.061824Z",
     "start_time": "2022-02-27T20:23:24.204498Z"
    },
    "scrolled": true
   },
   "outputs": [
    {
     "name": "stdout",
     "output_type": "stream",
     "text": [
      "Выражение\n"
     ]
    },
    {
     "data": {
      "text/latex": [
       "$\\displaystyle \\frac{\\log{\\left(2 x + 1 \\right)}}{x}$"
      ],
      "text/plain": [
       "log(2⋅x + 1)\n",
       "────────────\n",
       "     x      "
      ]
     },
     "execution_count": 134,
     "metadata": {},
     "output_type": "execute_result"
    },
    {
     "name": "stdout",
     "output_type": "stream",
     "text": [
      "0 порядок\n",
      "\n",
      "Дифференциал\n"
     ]
    },
    {
     "data": {
      "text/latex": [
       "$\\displaystyle y = \\log{\\left(2 x + 1 \\right)}$"
      ],
      "text/plain": [
       "y = log(2⋅x + 1)"
      ]
     },
     "execution_count": 134,
     "metadata": {},
     "output_type": "execute_result"
    },
    {
     "name": "stdout",
     "output_type": "stream",
     "text": [
      "При x = 0\n"
     ]
    },
    {
     "data": {
      "text/latex": [
       "$\\displaystyle y = 0$"
      ],
      "text/plain": [
       "y = 0"
      ]
     },
     "execution_count": 134,
     "metadata": {},
     "output_type": "execute_result"
    },
    {
     "name": "stdout",
     "output_type": "stream",
     "text": [
      "1 порядок\n",
      "\n",
      "Дифференциал\n"
     ]
    },
    {
     "data": {
      "text/latex": [
       "$\\displaystyle y = \\frac{2}{2 x + 1}$"
      ],
      "text/plain": [
       "       2   \n",
       "y = ───────\n",
       "    2⋅x + 1"
      ]
     },
     "execution_count": 134,
     "metadata": {},
     "output_type": "execute_result"
    },
    {
     "name": "stdout",
     "output_type": "stream",
     "text": [
      "При x = 0\n"
     ]
    },
    {
     "data": {
      "text/latex": [
       "$\\displaystyle y = 2$"
      ],
      "text/plain": [
       "y = 2"
      ]
     },
     "execution_count": 134,
     "metadata": {},
     "output_type": "execute_result"
    },
    {
     "name": "stdout",
     "output_type": "stream",
     "text": [
      "2 порядок\n",
      "\n",
      "Дифференциал\n"
     ]
    },
    {
     "data": {
      "text/latex": [
       "$\\displaystyle y = - \\frac{4}{\\left(2 x + 1\\right)^{2}}$"
      ],
      "text/plain": [
       "       -4     \n",
       "y = ──────────\n",
       "             2\n",
       "    (2⋅x + 1) "
      ]
     },
     "execution_count": 134,
     "metadata": {},
     "output_type": "execute_result"
    },
    {
     "name": "stdout",
     "output_type": "stream",
     "text": [
      "При x = 0\n"
     ]
    },
    {
     "data": {
      "text/latex": [
       "$\\displaystyle y = -4$"
      ],
      "text/plain": [
       "y = -4"
      ]
     },
     "execution_count": 134,
     "metadata": {},
     "output_type": "execute_result"
    },
    {
     "name": "stdout",
     "output_type": "stream",
     "text": [
      "3 порядок\n",
      "\n",
      "Дифференциал\n"
     ]
    },
    {
     "data": {
      "text/latex": [
       "$\\displaystyle y = \\frac{16}{\\left(2 x + 1\\right)^{3}}$"
      ],
      "text/plain": [
       "        16    \n",
       "y = ──────────\n",
       "             3\n",
       "    (2⋅x + 1) "
      ]
     },
     "execution_count": 134,
     "metadata": {},
     "output_type": "execute_result"
    },
    {
     "name": "stdout",
     "output_type": "stream",
     "text": [
      "При x = 0\n"
     ]
    },
    {
     "data": {
      "text/latex": [
       "$\\displaystyle y = 16$"
      ],
      "text/plain": [
       "y = 16"
      ]
     },
     "execution_count": 134,
     "metadata": {},
     "output_type": "execute_result"
    },
    {
     "name": "stdout",
     "output_type": "stream",
     "text": [
      "\n",
      "Финал\n",
      "\n",
      "Дифференциал\n"
     ]
    },
    {
     "data": {
      "text/latex": [
       "$\\displaystyle - 4 x^{3} + \\frac{8 x^{2}}{3} - 2 x + 2$"
      ],
      "text/plain": [
       "            2          \n",
       "     3   8⋅x           \n",
       "- 4⋅x  + ──── - 2⋅x + 2\n",
       "          3            "
      ]
     },
     "execution_count": 134,
     "metadata": {},
     "output_type": "execute_result"
    },
    {
     "name": "stdout",
     "output_type": "stream",
     "text": [
      "Интегралыч\n"
     ]
    },
    {
     "data": {
      "text/latex": [
       "$\\displaystyle - x^{4} + \\frac{8 x^{3}}{9} - x^{2} + 2 x$"
      ],
      "text/plain": [
       "          3           \n",
       "   4   8⋅x     2      \n",
       "- x  + ──── - x  + 2⋅x\n",
       "        9             "
      ]
     },
     "execution_count": 134,
     "metadata": {},
     "output_type": "execute_result"
    },
    {
     "name": "stdout",
     "output_type": "stream",
     "text": [
      "При a = 1/10\n"
     ]
    },
    {
     "data": {
      "text/latex": [
       "$\\displaystyle - x^{4} + \\frac{8 x^{3}}{9} - x^{2} + 2 x = \\frac{17171}{90000}$"
      ],
      "text/plain": [
       "          3                   \n",
       "   4   8⋅x     2         17171\n",
       "- x  + ──── - x  + 2⋅x = ─────\n",
       "        9                90000"
      ]
     },
     "execution_count": 134,
     "metadata": {},
     "output_type": "execute_result"
    },
    {
     "name": "stdout",
     "output_type": "stream",
     "text": [
      "Численный ответ =  0.1907888888888889\n",
      "Точность =  0.0007888888888888889\n"
     ]
    }
   ],
   "source": [
    "print('Выражение')\n",
    "expr\n",
    "i = 0\n",
    "while True:\n",
    "    print(i, 'порядок\\n')\n",
    "    if good_detominator:\n",
    "        expr_dif = expr.diff(x, i)#дифференциал\n",
    "    else:\n",
    "        expr_dif = new_expr.diff(x, i)\n",
    "    print('Дифференциал')\n",
    "    Eq(y, expr_dif)\n",
    "    print('При x =', x0)\n",
    "    Eq(y, expr_dif.subs(x, x0))\n",
    "    ser = expr.series(x0=x0, n=i + 1).removeO()#ряд\n",
    "    integral = sorted(integrate(ser, (x)).args, key=get_degree)# интеграл от ряда\n",
    "    if len(integral) == n:\n",
    "        l1 = integral[-1].subs(x, a)# последний член интеграла\n",
    "        l2 = integral[-2].subs(x, a)# предпоследний\n",
    "        cur_acc = abs(l2 + l1)# берём модуль\n",
    "        print('\\nФинал\\n')\n",
    "        print('Дифференциал')\n",
    "        ser\n",
    "        print('Интегралыч')\n",
    "        integ_need = Add(*integral)# нужная часть интеграла для итогового счёта\n",
    "        integ_need\n",
    "        answer = integ_need.subs(x, a)\n",
    "        print('При a =', a)\n",
    "        Eq(Add(integ_need), answer) \n",
    "        print('Численный ответ = ', answer.p / answer.q)\n",
    "        print('Точность = ',  cur_acc.p / cur_acc.q)\n",
    "        break\n",
    "        \n",
    "    i +=1"
   ]
  },
  {
   "cell_type": "code",
   "execution_count": null,
   "id": "30c41172",
   "metadata": {},
   "outputs": [],
   "source": []
  }
 ],
 "metadata": {
  "kernelspec": {
   "display_name": "Python 3 (ipykernel)",
   "language": "python",
   "name": "python3"
  },
  "language_info": {
   "codemirror_mode": {
    "name": "ipython",
    "version": 3
   },
   "file_extension": ".py",
   "mimetype": "text/x-python",
   "name": "python",
   "nbconvert_exporter": "python",
   "pygments_lexer": "ipython3",
   "version": "3.9.7"
  },
  "latex_envs": {
   "LaTeX_envs_menu_present": true,
   "autoclose": false,
   "autocomplete": true,
   "bibliofile": "biblio.bib",
   "cite_by": "apalike",
   "current_citInitial": 1,
   "eqLabelWithNumbers": true,
   "eqNumInitial": 1,
   "hotkeys": {
    "equation": "Ctrl-E",
    "itemize": "Ctrl-I"
   },
   "labels_anchors": false,
   "latex_user_defs": false,
   "report_style_numbering": false,
   "user_envs_cfg": false
  }
 },
 "nbformat": 4,
 "nbformat_minor": 5
}
