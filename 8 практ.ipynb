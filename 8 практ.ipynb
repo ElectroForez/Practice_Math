{
 "cells": [
  {
   "cell_type": "code",
   "execution_count": 1,
   "id": "09ac5cec",
   "metadata": {
    "ExecuteTime": {
     "end_time": "2022-03-02T17:23:58.947726Z",
     "start_time": "2022-03-02T17:23:57.329647Z"
    }
   },
   "outputs": [
    {
     "name": "stdout",
     "output_type": "stream",
     "text": [
      "Requirement already satisfied: sympy in /home/vladt/.local/lib/python3.9/site-packages (1.9)\r\n",
      "Requirement already satisfied: mpmath>=0.19 in /home/vladt/.local/lib/python3.9/site-packages (from sympy) (1.2.1)\r\n"
     ]
    }
   ],
   "source": [
    "!pip install sympy"
   ]
  },
  {
   "cell_type": "code",
   "execution_count": 2,
   "id": "5933a7ae",
   "metadata": {
    "ExecuteTime": {
     "end_time": "2022-03-02T17:23:59.219888Z",
     "start_time": "2022-03-02T17:23:58.952299Z"
    }
   },
   "outputs": [],
   "source": [
    "import os\n",
    "import sys\n",
    "from sympy import *\n",
    "init_printing()"
   ]
  },
  {
   "cell_type": "code",
   "execution_count": 3,
   "id": "f1f79348",
   "metadata": {
    "ExecuteTime": {
     "end_time": "2022-03-02T17:23:59.224678Z",
     "start_time": "2022-03-02T17:23:59.221591Z"
    }
   },
   "outputs": [],
   "source": [
    "from IPython.core.interactiveshell import InteractiveShell\n",
    "InteractiveShell.ast_node_interactivity = \"all\""
   ]
  },
  {
   "cell_type": "code",
   "execution_count": 4,
   "id": "e5cfcaf9",
   "metadata": {
    "ExecuteTime": {
     "end_time": "2022-03-02T17:23:59.230192Z",
     "start_time": "2022-03-02T17:23:59.226570Z"
    }
   },
   "outputs": [],
   "source": [
    "def get_degree(el):#только для массивов без элементов в виде чисел\n",
    "    '''\n",
    "    Эта функция используется для сортировки членов интеграла по степеням,\n",
    "    а то там порядок сбивается, и отрицательные члены сначала идут\n",
    "    '''\n",
    "    if ask(Q.extended_real(el)):\n",
    "        return el\n",
    "    arg = el.args\n",
    "    if len(arg) > 1:\n",
    "        return get_degree(arg[-1])\n",
    "    if len(arg) == 0:\n",
    "        return 1"
   ]
  },
  {
   "cell_type": "code",
   "execution_count": 5,
   "id": "588d7839",
   "metadata": {
    "ExecuteTime": {
     "end_time": "2022-03-02T17:23:59.233705Z",
     "start_time": "2022-03-02T17:23:59.231399Z"
    }
   },
   "outputs": [],
   "source": [
    "cosh.__name__='ch'\n",
    "sinh.__name__='sh'"
   ]
  },
  {
   "cell_type": "code",
   "execution_count": 6,
   "id": "cc0abb6b",
   "metadata": {
    "ExecuteTime": {
     "end_time": "2022-03-02T17:23:59.238163Z",
     "start_time": "2022-03-02T17:23:59.235564Z"
    }
   },
   "outputs": [],
   "source": [
    "x = Symbol('x')\n",
    "y = Symbol('y')"
   ]
  },
  {
   "cell_type": "markdown",
   "id": "e8ded61c",
   "metadata": {
    "ExecuteTime": {
     "end_time": "2022-02-25T19:56:36.150569Z",
     "start_time": "2022-02-25T19:56:36.146942Z"
    }
   },
   "source": [
    "# КАК ПИСАТЬ ВЫРАЖЕНИЯ"
   ]
  },
  {
   "cell_type": "markdown",
   "id": "02a7bf03",
   "metadata": {},
   "source": [
    "е в степени"
   ]
  },
  {
   "cell_type": "code",
   "execution_count": 7,
   "id": "e758b675",
   "metadata": {
    "ExecuteTime": {
     "end_time": "2022-03-02T17:23:59.401138Z",
     "start_time": "2022-03-02T17:23:59.239549Z"
    }
   },
   "outputs": [
    {
     "data": {
      "text/latex": [
       "$\\displaystyle e^{- 2 x^{2}}$"
      ],
      "text/plain": [
       "     2\n",
       " -2⋅x \n",
       "ℯ     "
      ]
     },
     "execution_count": 7,
     "metadata": {},
     "output_type": "execute_result"
    }
   ],
   "source": [
    "exp(-2 * x ** 2)"
   ]
  },
  {
   "cell_type": "markdown",
   "id": "77df52ea",
   "metadata": {},
   "source": [
    "Дробь, где только циферки"
   ]
  },
  {
   "cell_type": "code",
   "execution_count": 8,
   "id": "597fa759",
   "metadata": {
    "ExecuteTime": {
     "end_time": "2022-03-02T17:23:59.407660Z",
     "start_time": "2022-03-02T17:23:59.403123Z"
    }
   },
   "outputs": [
    {
     "data": {
      "text/latex": [
       "$\\displaystyle \\frac{1}{2}$"
      ],
      "text/plain": [
       "1/2"
      ]
     },
     "execution_count": 8,
     "metadata": {},
     "output_type": "execute_result"
    }
   ],
   "source": [
    "Rational(1, 2)"
   ]
  },
  {
   "cell_type": "markdown",
   "id": "6d8051f5",
   "metadata": {},
   "source": [
    "Так эти дроби писать не надо!"
   ]
  },
  {
   "cell_type": "code",
   "execution_count": 9,
   "id": "6b211f9d",
   "metadata": {
    "ExecuteTime": {
     "end_time": "2022-03-02T17:23:59.413682Z",
     "start_time": "2022-03-02T17:23:59.409182Z"
    }
   },
   "outputs": [
    {
     "data": {
      "text/latex": [
       "$\\displaystyle 0.5$"
      ],
      "text/plain": [
       "0.5"
      ]
     },
     "execution_count": 9,
     "metadata": {},
     "output_type": "execute_result"
    }
   ],
   "source": [
    "1 / 2"
   ]
  },
  {
   "cell_type": "markdown",
   "id": "4c9eb68d",
   "metadata": {
    "ExecuteTime": {
     "end_time": "2022-02-25T20:00:05.757853Z",
     "start_time": "2022-02-25T20:00:05.750828Z"
    }
   },
   "source": [
    "Дробь с букавками"
   ]
  },
  {
   "cell_type": "code",
   "execution_count": 10,
   "id": "3feef46c",
   "metadata": {
    "ExecuteTime": {
     "end_time": "2022-03-02T17:23:59.421444Z",
     "start_time": "2022-03-02T17:23:59.415313Z"
    }
   },
   "outputs": [
    {
     "data": {
      "text/latex": [
       "$\\displaystyle \\frac{e^{- 2 x^{2}}}{\\sqrt{x}}$"
      ],
      "text/plain": [
       "     2\n",
       " -2⋅x \n",
       "ℯ     \n",
       "──────\n",
       "  √x  "
      ]
     },
     "execution_count": 10,
     "metadata": {},
     "output_type": "execute_result"
    }
   ],
   "source": [
    "exp(-2 * x ** 2) / sqrt(x)"
   ]
  },
  {
   "cell_type": "markdown",
   "id": "0b6ccae8",
   "metadata": {},
   "source": [
    "Корень произвольной степени. Знаменатель и есть степень корня. Вспоминайте математику"
   ]
  },
  {
   "cell_type": "code",
   "execution_count": 11,
   "id": "cf194082",
   "metadata": {
    "ExecuteTime": {
     "end_time": "2022-03-02T17:23:59.428168Z",
     "start_time": "2022-03-02T17:23:59.422737Z"
    }
   },
   "outputs": [
    {
     "data": {
      "text/latex": [
       "$\\displaystyle \\sqrt[3]{x + 1}$"
      ],
      "text/plain": [
       "3 _______\n",
       "╲╱ x + 1 "
      ]
     },
     "execution_count": 11,
     "metadata": {},
     "output_type": "execute_result"
    }
   ],
   "source": [
    "(x + 1) ** Rational(1, 3)"
   ]
  },
  {
   "cell_type": "markdown",
   "id": "66101a36",
   "metadata": {},
   "source": [
    "# Вставьте здесь ваши параметры"
   ]
  },
  {
   "cell_type": "code",
   "execution_count": 19,
   "id": "32ebad2b",
   "metadata": {
    "ExecuteTime": {
     "end_time": "2022-03-02T17:34:18.498896Z",
     "start_time": "2022-03-02T17:34:18.486526Z"
    },
    "scrolled": false
   },
   "outputs": [
    {
     "name": "stdout",
     "output_type": "stream",
     "text": [
      "Проверьте, что ваше выражение корректно отображается!\n"
     ]
    },
    {
     "data": {
      "text/latex": [
       "$\\displaystyle \\int\\limits_{0}^{0.5} \\frac{1}{\\sqrt[3]{x + 1}}\\, dx$"
      ],
      "text/plain": [
       "0.5             \n",
       " ⌠              \n",
       " ⎮      1       \n",
       " ⎮  ───────── dx\n",
       " ⎮  3 _______   \n",
       " ⎮  ╲╱ x + 1    \n",
       " ⌡              \n",
       " 0              "
      ]
     },
     "execution_count": 19,
     "metadata": {},
     "output_type": "execute_result"
    },
    {
     "name": "stdout",
     "output_type": "stream",
     "text": [
      "Вычислить с точностью = 0.001\n"
     ]
    }
   ],
   "source": [
    "x0 = 0 #в этой задаче он должен быть 0, поэтому не меняем\n",
    "accuracy = 0.001 # до производной какой степени считать\n",
    "n = 3 #количество. Минимум 2 должно быть\n",
    "a = 0.5# a в интеграле(верхняя циферка). Нижняя у всех 0\n",
    "expr = 1 / ((1 + x) ** Rational(1, 3))#<------- здесь должно быть ваше выражение\n",
    "print('Проверьте, что ваше выражение корректно отображается!')\n",
    "Integral(expr, (x, 0, a))\n",
    "print('Вычислить с точностью =', accuracy)"
   ]
  },
  {
   "cell_type": "code",
   "execution_count": 20,
   "id": "ed9f9691",
   "metadata": {
    "ExecuteTime": {
     "end_time": "2022-03-02T17:34:19.038878Z",
     "start_time": "2022-03-02T17:34:18.921060Z"
    }
   },
   "outputs": [],
   "source": [
    "good_detominator = True\n",
    "for el in expr.args:\n",
    "    degree = get_degree(el)\n",
    "    if (degree is None or ask(Q.extended_real(el))) or degree > 1:\n",
    "        continue\n",
    "    denominator = diff(el, x)\n",
    "    if not ask(Q.extended_real(denominator.subs(x, 0))):\n",
    "        print('В знаменателе только x, поэтому его мы игнорируем при дифференцировании, а потом, получив дифференциал, поделием его на этот знаменатель')\n",
    "        print('В коде ниже будет результат вместе с делением')\n",
    "        new_expr = expr / denominator\n",
    "        new_expr\n",
    "        good_detominator = False\n",
    "        break"
   ]
  },
  {
   "cell_type": "markdown",
   "id": "21218a8d",
   "metadata": {},
   "source": [
    "# Вычисление по точности"
   ]
  },
  {
   "cell_type": "markdown",
   "id": "4c608c40",
   "metadata": {},
   "source": [
    "но Виклянчук сказала, что нужно минимум 4 члена высчитать, поэтому минимум 4 члена и выведется"
   ]
  },
  {
   "cell_type": "code",
   "execution_count": 22,
   "id": "cf4fd78a",
   "metadata": {
    "ExecuteTime": {
     "end_time": "2022-03-02T17:35:48.252466Z",
     "start_time": "2022-03-02T17:35:46.277257Z"
    },
    "scrolled": true
   },
   "outputs": [
    {
     "name": "stdout",
     "output_type": "stream",
     "text": [
      "Выражение\n"
     ]
    },
    {
     "data": {
      "text/latex": [
       "$\\displaystyle \\frac{1}{\\sqrt[3]{x + 1}}$"
      ],
      "text/plain": [
       "    1    \n",
       "─────────\n",
       "3 _______\n",
       "╲╱ x + 1 "
      ]
     },
     "execution_count": 22,
     "metadata": {},
     "output_type": "execute_result"
    },
    {
     "name": "stdout",
     "output_type": "stream",
     "text": [
      "0 порядок\n",
      "Дифференциал\n"
     ]
    },
    {
     "data": {
      "text/latex": [
       "$\\displaystyle y = \\frac{1}{\\sqrt[3]{x + 1}}$"
      ],
      "text/plain": [
       "        1    \n",
       "y = ─────────\n",
       "    3 _______\n",
       "    ╲╱ x + 1 "
      ]
     },
     "execution_count": 22,
     "metadata": {},
     "output_type": "execute_result"
    },
    {
     "name": "stdout",
     "output_type": "stream",
     "text": [
      "При x = 0\n"
     ]
    },
    {
     "data": {
      "text/latex": [
       "$\\displaystyle y = 1$"
      ],
      "text/plain": [
       "y = 1"
      ]
     },
     "execution_count": 22,
     "metadata": {},
     "output_type": "execute_result"
    },
    {
     "name": "stdout",
     "output_type": "stream",
     "text": [
      "1 порядок\n",
      "Дифференциал\n"
     ]
    },
    {
     "data": {
      "text/latex": [
       "$\\displaystyle y = - \\frac{1}{3 \\left(x + 1\\right)^{\\frac{4}{3}}}$"
      ],
      "text/plain": [
       "        -1      \n",
       "y = ────────────\n",
       "             4/3\n",
       "    3⋅(x + 1)   "
      ]
     },
     "execution_count": 22,
     "metadata": {},
     "output_type": "execute_result"
    },
    {
     "name": "stdout",
     "output_type": "stream",
     "text": [
      "При x = 0\n"
     ]
    },
    {
     "data": {
      "text/latex": [
       "$\\displaystyle y = - \\frac{1}{3}$"
      ],
      "text/plain": [
       "y = -1/3"
      ]
     },
     "execution_count": 22,
     "metadata": {},
     "output_type": "execute_result"
    },
    {
     "name": "stdout",
     "output_type": "stream",
     "text": [
      "2 порядок\n",
      "Дифференциал\n"
     ]
    },
    {
     "data": {
      "text/latex": [
       "$\\displaystyle y = \\frac{4}{9 \\sqrt[3]{x + 1} \\left(x^{2} + 2 x + 1\\right)}$"
      ],
      "text/plain": [
       "                4             \n",
       "y = ──────────────────────────\n",
       "      3 _______ ⎛ 2          ⎞\n",
       "    9⋅╲╱ x + 1 ⋅⎝x  + 2⋅x + 1⎠"
      ]
     },
     "execution_count": 22,
     "metadata": {},
     "output_type": "execute_result"
    },
    {
     "name": "stdout",
     "output_type": "stream",
     "text": [
      "При x = 0\n"
     ]
    },
    {
     "data": {
      "text/latex": [
       "$\\displaystyle y = \\frac{4}{9}$"
      ],
      "text/plain": [
       "y = 4/9"
      ]
     },
     "execution_count": 22,
     "metadata": {},
     "output_type": "execute_result"
    },
    {
     "name": "stdout",
     "output_type": "stream",
     "text": [
      "3 порядок\n",
      "Дифференциал\n"
     ]
    },
    {
     "data": {
      "text/latex": [
       "$\\displaystyle y = - \\frac{28}{27 \\sqrt[3]{x + 1} \\left(x^{3} + 3 x^{2} + 3 x + 1\\right)}$"
      ],
      "text/plain": [
       "                   -28                \n",
       "y = ──────────────────────────────────\n",
       "       3 _______ ⎛ 3      2          ⎞\n",
       "    27⋅╲╱ x + 1 ⋅⎝x  + 3⋅x  + 3⋅x + 1⎠"
      ]
     },
     "execution_count": 22,
     "metadata": {},
     "output_type": "execute_result"
    },
    {
     "name": "stdout",
     "output_type": "stream",
     "text": [
      "При x = 0\n"
     ]
    },
    {
     "data": {
      "text/latex": [
       "$\\displaystyle y = - \\frac{28}{27}$"
      ],
      "text/plain": [
       "    -28 \n",
       "y = ────\n",
       "     27 "
      ]
     },
     "execution_count": 22,
     "metadata": {},
     "output_type": "execute_result"
    },
    {
     "name": "stdout",
     "output_type": "stream",
     "text": [
      "4 порядок\n",
      "Дифференциал\n"
     ]
    },
    {
     "data": {
      "text/latex": [
       "$\\displaystyle y = \\frac{280}{81 \\sqrt[3]{x + 1} \\left(x^{4} + 4 x^{3} + 6 x^{2} + 4 x + 1\\right)}$"
      ],
      "text/plain": [
       "                       280                   \n",
       "y = ─────────────────────────────────────────\n",
       "       3 _______ ⎛ 4      3      2          ⎞\n",
       "    81⋅╲╱ x + 1 ⋅⎝x  + 4⋅x  + 6⋅x  + 4⋅x + 1⎠"
      ]
     },
     "execution_count": 22,
     "metadata": {},
     "output_type": "execute_result"
    },
    {
     "name": "stdout",
     "output_type": "stream",
     "text": [
      "При x = 0\n"
     ]
    },
    {
     "data": {
      "text/latex": [
       "$\\displaystyle y = \\frac{280}{81}$"
      ],
      "text/plain": [
       "    280\n",
       "y = ───\n",
       "     81"
      ]
     },
     "execution_count": 22,
     "metadata": {},
     "output_type": "execute_result"
    },
    {
     "name": "stdout",
     "output_type": "stream",
     "text": [
      "5 порядок\n",
      "Дифференциал\n"
     ]
    },
    {
     "data": {
      "text/latex": [
       "$\\displaystyle y = - \\frac{3640}{243 \\sqrt[3]{x + 1} \\left(x^{5} + 5 x^{4} + 10 x^{3} + 10 x^{2} + 5 x + 1\\right)}$"
      ],
      "text/plain": [
       "                           -3640                       \n",
       "y = ───────────────────────────────────────────────────\n",
       "        3 _______ ⎛ 5      4       3       2          ⎞\n",
       "    243⋅╲╱ x + 1 ⋅⎝x  + 5⋅x  + 10⋅x  + 10⋅x  + 5⋅x + 1⎠"
      ]
     },
     "execution_count": 22,
     "metadata": {},
     "output_type": "execute_result"
    },
    {
     "name": "stdout",
     "output_type": "stream",
     "text": [
      "При x = 0\n"
     ]
    },
    {
     "data": {
      "text/latex": [
       "$\\displaystyle y = - \\frac{3640}{243}$"
      ],
      "text/plain": [
       "    -3640 \n",
       "y = ──────\n",
       "     243  "
      ]
     },
     "execution_count": 22,
     "metadata": {},
     "output_type": "execute_result"
    },
    {
     "name": "stdout",
     "output_type": "stream",
     "text": [
      "\n",
      "Финал\n",
      "\n",
      "Дифференциал\n"
     ]
    },
    {
     "data": {
      "text/latex": [
       "$\\displaystyle - \\frac{91 x^{5}}{729} + \\frac{35 x^{4}}{243} - \\frac{14 x^{3}}{81} + \\frac{2 x^{2}}{9} - \\frac{x}{3} + 1$"
      ],
      "text/plain": [
       "      5       4       3      2        \n",
       "  91⋅x    35⋅x    14⋅x    2⋅x    x    \n",
       "- ───── + ───── - ───── + ──── - ─ + 1\n",
       "   729     243      81     9     3    "
      ]
     },
     "execution_count": 22,
     "metadata": {},
     "output_type": "execute_result"
    },
    {
     "name": "stdout",
     "output_type": "stream",
     "text": [
      "Интегралыч\n"
     ]
    },
    {
     "data": {
      "text/latex": [
       "$\\displaystyle - \\frac{91 x^{6}}{4374} + \\frac{7 x^{5}}{243} - \\frac{7 x^{4}}{162} + \\frac{2 x^{3}}{27} - \\frac{x^{2}}{6} + x$"
      ],
      "text/plain": [
       "      6      5      4      3    2    \n",
       "  91⋅x    7⋅x    7⋅x    2⋅x    x     \n",
       "- ───── + ──── - ──── + ──── - ── + x\n",
       "   4374   243    162     27    6     "
      ]
     },
     "execution_count": 22,
     "metadata": {},
     "output_type": "execute_result"
    },
    {
     "name": "stdout",
     "output_type": "stream",
     "text": [
      "Убираем последние 2 члена т.к. они дают меньше нужной точности\n",
      "При a = 0.5\n"
     ]
    },
    {
     "data": {
      "text/latex": [
       "$\\displaystyle - \\frac{7 x^{4}}{162} + \\frac{2 x^{3}}{27} - \\frac{x^{2}}{6} + x = 0.464891975308642$"
      ],
      "text/plain": [
       "     4      3    2                        \n",
       "  7⋅x    2⋅x    x                         \n",
       "- ──── + ──── - ── + x = 0.464891975308642\n",
       "  162     27    6                         "
      ]
     },
     "execution_count": 22,
     "metadata": {},
     "output_type": "execute_result"
    },
    {
     "name": "stdout",
     "output_type": "stream",
     "text": [
      "Численный ответ =  0.464891975308642\n",
      "Точность 0.0005751315\n"
     ]
    }
   ],
   "source": [
    "print('Выражение')\n",
    "expr\n",
    "i = 0\n",
    "while True:\n",
    "    print(i, 'порядок')\n",
    "    if good_detominator:\n",
    "        expr_dif = expr.diff(x, i)#дифференциал\n",
    "    else:\n",
    "        expr_dif = new_expr.diff(x, i)\n",
    "    print('Дифференциал')\n",
    "    Eq(y, simplify(expand(expr_dif)))#выводим его\n",
    "    #Eq(y, expr_dif)\n",
    "    print('При x =', x0)\n",
    "    Eq(y, expr_dif.subs(x, x0))#выводим чему равен при подстановке\n",
    "    ser = expr.series(x0=x0, n=i + 1).removeO()#ряд\n",
    "    integral = sorted(integrate(ser, (x)).args, key=get_degree)# интеграл от ряда\n",
    "    if len(integral) >= 2:\n",
    "        l1 = integral[-1].subs(x, a)# последний член интеграла\n",
    "        l2 = integral[-2].subs(x, a)# предпоследний\n",
    "        cur_acc = abs(l2 + l1)#считаем здесь их точность\n",
    "        if cur_acc < accuracy and len(integral) >= 4:\n",
    "            if not good_detominator:#костыль из-за того, что знаменатель пропадает, и на 1 порядок меньше выводится\n",
    "                print(i + 1, 'порядок')\n",
    "                expr_dif = new_expr.diff(x, i + 1)\n",
    "                print('Дифференциал')\n",
    "                Eq(y, expr_dif)#выводим его\n",
    "                print('При x =', x0)\n",
    "                Eq(y, expr_dif.subs(x, x0))#выводим чему равен при подстановке\n",
    "            print('\\nФинал\\n')\n",
    "            print('Дифференциал')\n",
    "            ser\n",
    "            print('Интегралыч')\n",
    "            integrate(ser, (x))\n",
    "            integ_need = Add(*integral[:-2])# нужная часть интеграла для итогового счёта\n",
    "            answer = integ_need.subs(x, a)\n",
    "            print('Убираем последние 2 члена т.к. они дают меньше нужной точности')\n",
    "            print('При a =', a)\n",
    "            Eq(Add(integ_need), answer) \n",
    "            try:\n",
    "                print('Численный ответ = ', answer.p / answer.q)\n",
    "            except AttributeError:\n",
    "                print('Численный ответ = ', answer)\n",
    "            try:\n",
    "                print('Точность %12.10f' % (cur_acc.p / cur_acc.q))\n",
    "            except AttributeError:\n",
    "                print('Точность %12.10f' % cur_acc)\n",
    "            break\n",
    "    i +=1"
   ]
  },
  {
   "cell_type": "code",
   "execution_count": 15,
   "id": "b6c3bf35",
   "metadata": {
    "ExecuteTime": {
     "end_time": "2022-03-02T17:26:47.373330Z",
     "start_time": "2022-03-02T17:26:47.367993Z"
    }
   },
   "outputs": [
    {
     "data": {
      "text/latex": [
       "$\\displaystyle 720$"
      ],
      "text/plain": [
       "720"
      ]
     },
     "execution_count": 15,
     "metadata": {},
     "output_type": "execute_result"
    }
   ],
   "source": [
    "factorial(6)"
   ]
  },
  {
   "cell_type": "markdown",
   "id": "7a5d90fb",
   "metadata": {},
   "source": [
    "# Вычисление по количеству членов"
   ]
  },
  {
   "cell_type": "code",
   "execution_count": 16,
   "id": "bd819b09",
   "metadata": {
    "ExecuteTime": {
     "end_time": "2022-03-02T17:26:50.136643Z",
     "start_time": "2022-03-02T17:26:47.375050Z"
    },
    "scrolled": true
   },
   "outputs": [
    {
     "name": "stdout",
     "output_type": "stream",
     "text": [
      "Выражение\n"
     ]
    },
    {
     "data": {
      "text/latex": [
       "$\\displaystyle \\operatorname{atan}{\\left(x^{3} \\right)}$"
      ],
      "text/plain": [
       "    ⎛ 3⎞\n",
       "atan⎝x ⎠"
      ]
     },
     "execution_count": 16,
     "metadata": {},
     "output_type": "execute_result"
    },
    {
     "name": "stdout",
     "output_type": "stream",
     "text": [
      "0 порядок\n",
      "\n",
      "Дифференциал\n"
     ]
    },
    {
     "data": {
      "text/latex": [
       "$\\displaystyle y = \\operatorname{atan}{\\left(x^{3} \\right)}$"
      ],
      "text/plain": [
       "        ⎛ 3⎞\n",
       "y = atan⎝x ⎠"
      ]
     },
     "execution_count": 16,
     "metadata": {},
     "output_type": "execute_result"
    },
    {
     "name": "stdout",
     "output_type": "stream",
     "text": [
      "При x = 0\n"
     ]
    },
    {
     "data": {
      "text/latex": [
       "$\\displaystyle y = 0$"
      ],
      "text/plain": [
       "y = 0"
      ]
     },
     "execution_count": 16,
     "metadata": {},
     "output_type": "execute_result"
    },
    {
     "name": "stdout",
     "output_type": "stream",
     "text": [
      "1 порядок\n",
      "\n",
      "Дифференциал\n"
     ]
    },
    {
     "data": {
      "text/latex": [
       "$\\displaystyle y = \\frac{3 x^{2}}{x^{6} + 1}$"
      ],
      "text/plain": [
       "        2 \n",
       "     3⋅x  \n",
       "y = ──────\n",
       "     6    \n",
       "    x  + 1"
      ]
     },
     "execution_count": 16,
     "metadata": {},
     "output_type": "execute_result"
    },
    {
     "name": "stdout",
     "output_type": "stream",
     "text": [
      "При x = 0\n"
     ]
    },
    {
     "data": {
      "text/latex": [
       "$\\displaystyle y = 0$"
      ],
      "text/plain": [
       "y = 0"
      ]
     },
     "execution_count": 16,
     "metadata": {},
     "output_type": "execute_result"
    },
    {
     "name": "stdout",
     "output_type": "stream",
     "text": [
      "2 порядок\n",
      "\n",
      "Дифференциал\n"
     ]
    },
    {
     "data": {
      "text/latex": [
       "$\\displaystyle y = \\frac{6 x \\left(- \\frac{3 x^{6}}{x^{6} + 1} + 1\\right)}{x^{6} + 1}$"
      ],
      "text/plain": [
       "        ⎛      6     ⎞\n",
       "        ⎜   3⋅x      ⎟\n",
       "    6⋅x⋅⎜- ────── + 1⎟\n",
       "        ⎜   6        ⎟\n",
       "        ⎝  x  + 1    ⎠\n",
       "y = ──────────────────\n",
       "           6          \n",
       "          x  + 1      "
      ]
     },
     "execution_count": 16,
     "metadata": {},
     "output_type": "execute_result"
    },
    {
     "name": "stdout",
     "output_type": "stream",
     "text": [
      "При x = 0\n"
     ]
    },
    {
     "data": {
      "text/latex": [
       "$\\displaystyle y = 0$"
      ],
      "text/plain": [
       "y = 0"
      ]
     },
     "execution_count": 16,
     "metadata": {},
     "output_type": "execute_result"
    },
    {
     "name": "stdout",
     "output_type": "stream",
     "text": [
      "3 порядок\n",
      "\n",
      "Дифференциал\n"
     ]
    },
    {
     "data": {
      "text/latex": [
       "$\\displaystyle y = \\frac{6 \\left(\\frac{36 x^{12}}{\\left(x^{6} + 1\\right)^{2}} - \\frac{27 x^{6}}{x^{6} + 1} + 1\\right)}{x^{6} + 1}$"
      ],
      "text/plain": [
       "      ⎛      12        6     ⎞\n",
       "      ⎜  36⋅x      27⋅x      ⎟\n",
       "    6⋅⎜───────── - ────── + 1⎟\n",
       "      ⎜        2    6        ⎟\n",
       "      ⎜⎛ 6    ⎞    x  + 1    ⎟\n",
       "      ⎝⎝x  + 1⎠              ⎠\n",
       "y = ──────────────────────────\n",
       "               6              \n",
       "              x  + 1          "
      ]
     },
     "execution_count": 16,
     "metadata": {},
     "output_type": "execute_result"
    },
    {
     "name": "stdout",
     "output_type": "stream",
     "text": [
      "При x = 0\n"
     ]
    },
    {
     "data": {
      "text/latex": [
       "$\\displaystyle y = 6$"
      ],
      "text/plain": [
       "y = 6"
      ]
     },
     "execution_count": 16,
     "metadata": {},
     "output_type": "execute_result"
    },
    {
     "name": "stdout",
     "output_type": "stream",
     "text": [
      "4 порядок\n",
      "\n",
      "Дифференциал\n"
     ]
    },
    {
     "data": {
      "text/latex": [
       "$\\displaystyle y = \\frac{72 x^{5} \\left(- \\frac{54 x^{12}}{\\left(x^{6} + 1\\right)^{2}} + \\frac{63 x^{6}}{x^{6} + 1} - 14\\right)}{\\left(x^{6} + 1\\right)^{2}}$"
      ],
      "text/plain": [
       "          ⎛        12        6      ⎞\n",
       "        5 ⎜    54⋅x      63⋅x       ⎟\n",
       "    72⋅x ⋅⎜- ───────── + ────── - 14⎟\n",
       "          ⎜          2    6         ⎟\n",
       "          ⎜  ⎛ 6    ⎞    x  + 1     ⎟\n",
       "          ⎝  ⎝x  + 1⎠               ⎠\n",
       "y = ─────────────────────────────────\n",
       "                        2            \n",
       "                ⎛ 6    ⎞             \n",
       "                ⎝x  + 1⎠             "
      ]
     },
     "execution_count": 16,
     "metadata": {},
     "output_type": "execute_result"
    },
    {
     "name": "stdout",
     "output_type": "stream",
     "text": [
      "При x = 0\n"
     ]
    },
    {
     "data": {
      "text/latex": [
       "$\\displaystyle y = 0$"
      ],
      "text/plain": [
       "y = 0"
      ]
     },
     "execution_count": 16,
     "metadata": {},
     "output_type": "execute_result"
    },
    {
     "name": "stdout",
     "output_type": "stream",
     "text": [
      "5 порядок\n",
      "\n",
      "Дифференциал\n"
     ]
    },
    {
     "data": {
      "text/latex": [
       "$\\displaystyle y = \\frac{72 x^{4} \\left(\\frac{1296 x^{18}}{\\left(x^{6} + 1\\right)^{3}} - \\frac{2052 x^{12}}{\\left(x^{6} + 1\\right)^{2}} + \\frac{861 x^{6}}{x^{6} + 1} - 70\\right)}{\\left(x^{6} + 1\\right)^{2}}$"
      ],
      "text/plain": [
       "          ⎛       18          12        6     ⎞\n",
       "        4 ⎜ 1296⋅x      2052⋅x     861⋅x      ⎟\n",
       "    72⋅x ⋅⎜───────── - ───────── + ────── - 70⎟\n",
       "          ⎜        3           2    6         ⎟\n",
       "          ⎜⎛ 6    ⎞    ⎛ 6    ⎞    x  + 1     ⎟\n",
       "          ⎝⎝x  + 1⎠    ⎝x  + 1⎠               ⎠\n",
       "y = ───────────────────────────────────────────\n",
       "                             2                 \n",
       "                     ⎛ 6    ⎞                  \n",
       "                     ⎝x  + 1⎠                  "
      ]
     },
     "execution_count": 16,
     "metadata": {},
     "output_type": "execute_result"
    },
    {
     "name": "stdout",
     "output_type": "stream",
     "text": [
      "При x = 0\n"
     ]
    },
    {
     "data": {
      "text/latex": [
       "$\\displaystyle y = 0$"
      ],
      "text/plain": [
       "y = 0"
      ]
     },
     "execution_count": 16,
     "metadata": {},
     "output_type": "execute_result"
    },
    {
     "name": "stdout",
     "output_type": "stream",
     "text": [
      "6 порядок\n",
      "\n",
      "Дифференциал\n"
     ]
    },
    {
     "data": {
      "text/latex": [
       "$\\displaystyle y = \\frac{720 x^{3} \\left(- \\frac{3888 x^{24}}{\\left(x^{6} + 1\\right)^{4}} + \\frac{7776 x^{18}}{\\left(x^{6} + 1\\right)^{3}} - \\frac{4833 x^{12}}{\\left(x^{6} + 1\\right)^{2}} + \\frac{945 x^{6}}{x^{6} + 1} - 28\\right)}{\\left(x^{6} + 1\\right)^{2}}$"
      ],
      "text/plain": [
       "           ⎛         24          18          12        6     ⎞\n",
       "         3 ⎜   3888⋅x      7776⋅x      4833⋅x     945⋅x      ⎟\n",
       "    720⋅x ⋅⎜- ───────── + ───────── - ───────── + ────── - 28⎟\n",
       "           ⎜          4           3           2    6         ⎟\n",
       "           ⎜  ⎛ 6    ⎞    ⎛ 6    ⎞    ⎛ 6    ⎞    x  + 1     ⎟\n",
       "           ⎝  ⎝x  + 1⎠    ⎝x  + 1⎠    ⎝x  + 1⎠               ⎠\n",
       "y = ──────────────────────────────────────────────────────────\n",
       "                                    2                         \n",
       "                            ⎛ 6    ⎞                          \n",
       "                            ⎝x  + 1⎠                          "
      ]
     },
     "execution_count": 16,
     "metadata": {},
     "output_type": "execute_result"
    },
    {
     "name": "stdout",
     "output_type": "stream",
     "text": [
      "При x = 0\n"
     ]
    },
    {
     "data": {
      "text/latex": [
       "$\\displaystyle y = 0$"
      ],
      "text/plain": [
       "y = 0"
      ]
     },
     "execution_count": 16,
     "metadata": {},
     "output_type": "execute_result"
    },
    {
     "name": "stdout",
     "output_type": "stream",
     "text": [
      "7 порядок\n",
      "\n",
      "Дифференциал\n"
     ]
    },
    {
     "data": {
      "text/latex": [
       "$\\displaystyle y = \\frac{2160 x^{2} \\left(\\frac{46656 x^{30}}{\\left(x^{6} + 1\\right)^{5}} - \\frac{112752 x^{24}}{\\left(x^{6} + 1\\right)^{4}} + \\frac{93096 x^{18}}{\\left(x^{6} + 1\\right)^{3}} - \\frac{29835 x^{12}}{\\left(x^{6} + 1\\right)^{2}} + \\frac{2947 x^{6}}{x^{6} + 1} - 28\\right)}{\\left(x^{6} + 1\\right)^{2}}$"
      ],
      "text/plain": [
       "            ⎛       30           24          18          12         6     ⎞\n",
       "          2 ⎜46656⋅x     112752⋅x     93096⋅x     29835⋅x     2947⋅x      ⎟\n",
       "    2160⋅x ⋅⎜───────── - ────────── + ───────── - ───────── + ─────── - 28⎟\n",
       "            ⎜        5           4            3           2     6         ⎟\n",
       "            ⎜⎛ 6    ⎞    ⎛ 6    ⎞     ⎛ 6    ⎞    ⎛ 6    ⎞     x  + 1     ⎟\n",
       "            ⎝⎝x  + 1⎠    ⎝x  + 1⎠     ⎝x  + 1⎠    ⎝x  + 1⎠                ⎠\n",
       "y = ───────────────────────────────────────────────────────────────────────\n",
       "                                           2                               \n",
       "                                   ⎛ 6    ⎞                                \n",
       "                                   ⎝x  + 1⎠                                "
      ]
     },
     "execution_count": 16,
     "metadata": {},
     "output_type": "execute_result"
    },
    {
     "name": "stdout",
     "output_type": "stream",
     "text": [
      "При x = 0\n"
     ]
    },
    {
     "data": {
      "text/latex": [
       "$\\displaystyle y = 0$"
      ],
      "text/plain": [
       "y = 0"
      ]
     },
     "execution_count": 16,
     "metadata": {},
     "output_type": "execute_result"
    },
    {
     "name": "stdout",
     "output_type": "stream",
     "text": [
      "8 порядок\n",
      "\n",
      "Дифференциал\n"
     ]
    },
    {
     "data": {
      "text/latex": [
       "$\\displaystyle y = \\frac{120960 x \\left(- \\frac{34992 x^{36}}{\\left(x^{6} + 1\\right)^{6}} + \\frac{99144 x^{30}}{\\left(x^{6} + 1\\right)^{5}} - \\frac{102222 x^{24}}{\\left(x^{6} + 1\\right)^{4}} + \\frac{46035 x^{18}}{\\left(x^{6} + 1\\right)^{3}} - \\frac{8406 x^{12}}{\\left(x^{6} + 1\\right)^{2}} + \\frac{427 x^{6}}{x^{6} + 1} - 1\\right)}{\\left(x^{6} + 1\\right)^{2}}$"
      ],
      "text/plain": [
       "             ⎛         36          30           24          18          12    \n",
       "             ⎜  34992⋅x     99144⋅x     102222⋅x     46035⋅x      8406⋅x     4\n",
       "    120960⋅x⋅⎜- ───────── + ───────── - ────────── + ───────── - ───────── + ─\n",
       "             ⎜          6           5           4            3           2    \n",
       "             ⎜  ⎛ 6    ⎞    ⎛ 6    ⎞    ⎛ 6    ⎞     ⎛ 6    ⎞    ⎛ 6    ⎞    x\n",
       "             ⎝  ⎝x  + 1⎠    ⎝x  + 1⎠    ⎝x  + 1⎠     ⎝x  + 1⎠    ⎝x  + 1⎠     \n",
       "y = ──────────────────────────────────────────────────────────────────────────\n",
       "                                                 2                            \n",
       "                                         ⎛ 6    ⎞                             \n",
       "                                         ⎝x  + 1⎠                             \n",
       "\n",
       "    6    ⎞\n",
       "27⋅x     ⎟\n",
       "───── - 1⎟\n",
       "6        ⎟\n",
       "  + 1    ⎟\n",
       "         ⎠\n",
       "──────────\n",
       "          \n",
       "          \n",
       "          "
      ]
     },
     "execution_count": 16,
     "metadata": {},
     "output_type": "execute_result"
    },
    {
     "name": "stdout",
     "output_type": "stream",
     "text": [
      "При x = 0\n"
     ]
    },
    {
     "data": {
      "text/latex": [
       "$\\displaystyle y = 0$"
      ],
      "text/plain": [
       "y = 0"
      ]
     },
     "execution_count": 16,
     "metadata": {},
     "output_type": "execute_result"
    },
    {
     "name": "stdout",
     "output_type": "stream",
     "text": [
      "9 порядок\n",
      "\n",
      "Дифференциал\n"
     ]
    },
    {
     "data": {
      "text/latex": [
       "$\\displaystyle y = \\frac{120960 \\left(\\frac{1679616 x^{42}}{\\left(x^{6} + 1\\right)^{7}} - \\frac{5458752 x^{36}}{\\left(x^{6} + 1\\right)^{6}} + \\frac{6753456 x^{30}}{\\left(x^{6} + 1\\right)^{5}} - \\frac{3936600 x^{24}}{\\left(x^{6} + 1\\right)^{4}} + \\frac{1076409 x^{18}}{\\left(x^{6} + 1\\right)^{3}} - \\frac{116964 x^{12}}{\\left(x^{6} + 1\\right)^{2}} + \\frac{3001 x^{6}}{x^{6} + 1} - 1\\right)}{\\left(x^{6} + 1\\right)^{2}}$"
      ],
      "text/plain": [
       "           ⎛         42            36            30            24            1\n",
       "           ⎜1679616⋅x     5458752⋅x     6753456⋅x     3936600⋅x     1076409⋅x \n",
       "    120960⋅⎜─────────── - ─────────── + ─────────── - ─────────── + ──────────\n",
       "           ⎜         7             6             5             4             3\n",
       "           ⎜ ⎛ 6    ⎞      ⎛ 6    ⎞      ⎛ 6    ⎞      ⎛ 6    ⎞      ⎛ 6    ⎞ \n",
       "           ⎝ ⎝x  + 1⎠      ⎝x  + 1⎠      ⎝x  + 1⎠      ⎝x  + 1⎠      ⎝x  + 1⎠ \n",
       "y = ──────────────────────────────────────────────────────────────────────────\n",
       "                                                           2                  \n",
       "                                                   ⎛ 6    ⎞                   \n",
       "                                                   ⎝x  + 1⎠                   \n",
       "\n",
       "8           12         6    ⎞\n",
       "    116964⋅x     3001⋅x     ⎟\n",
       "─ - ────────── + ─────── - 1⎟\n",
       "            2      6        ⎟\n",
       "    ⎛ 6    ⎞      x  + 1    ⎟\n",
       "    ⎝x  + 1⎠                ⎠\n",
       "─────────────────────────────\n",
       "                             \n",
       "                             \n",
       "                             "
      ]
     },
     "execution_count": 16,
     "metadata": {},
     "output_type": "execute_result"
    },
    {
     "name": "stdout",
     "output_type": "stream",
     "text": [
      "При x = 0\n"
     ]
    },
    {
     "data": {
      "text/latex": [
       "$\\displaystyle y = -120960$"
      ],
      "text/plain": [
       "y = -120960"
      ]
     },
     "execution_count": 16,
     "metadata": {},
     "output_type": "execute_result"
    },
    {
     "name": "stdout",
     "output_type": "stream",
     "text": [
      "10 порядок\n",
      "\n",
      "Дифференциал\n"
     ]
    },
    {
     "data": {
      "text/latex": [
       "$\\displaystyle y = \\frac{2177280 x^{5} \\left(- \\frac{5038848 x^{42}}{\\left(x^{6} + 1\\right)^{7}} + \\frac{18475776 x^{36}}{\\left(x^{6} + 1\\right)^{6}} - \\frac{26675568 x^{30}}{\\left(x^{6} + 1\\right)^{5}} + \\frac{19128960 x^{24}}{\\left(x^{6} + 1\\right)^{4}} - \\frac{7042815 x^{18}}{\\left(x^{6} + 1\\right)^{3}} + \\frac{1232361 x^{12}}{\\left(x^{6} + 1\\right)^{2}} - \\frac{80977 x^{6}}{x^{6} + 1} + 1001\\right)}{\\left(x^{6} + 1\\right)^{3}}$"
      ],
      "text/plain": [
       "               ⎛           42             36             30             24    \n",
       "             5 ⎜  5038848⋅x     18475776⋅x     26675568⋅x     19128960⋅x     7\n",
       "    2177280⋅x ⋅⎜- ─────────── + ──────────── - ──────────── + ──────────── - ─\n",
       "               ⎜           7             6              5              4      \n",
       "               ⎜   ⎛ 6    ⎞      ⎛ 6    ⎞       ⎛ 6    ⎞       ⎛ 6    ⎞       \n",
       "               ⎝   ⎝x  + 1⎠      ⎝x  + 1⎠       ⎝x  + 1⎠       ⎝x  + 1⎠       \n",
       "y = ──────────────────────────────────────────────────────────────────────────\n",
       "                                                                  3           \n",
       "                                                          ⎛ 6    ⎞            \n",
       "                                                          ⎝x  + 1⎠            \n",
       "\n",
       "        18            12          6       ⎞\n",
       "042815⋅x     1232361⋅x     80977⋅x        ⎟\n",
       "────────── + ─────────── - ──────── + 1001⎟\n",
       "        3             2      6            ⎟\n",
       "⎛ 6    ⎞      ⎛ 6    ⎞      x  + 1        ⎟\n",
       "⎝x  + 1⎠      ⎝x  + 1⎠                    ⎠\n",
       "───────────────────────────────────────────\n",
       "                                           \n",
       "                                           \n",
       "                                           "
      ]
     },
     "execution_count": 16,
     "metadata": {},
     "output_type": "execute_result"
    },
    {
     "name": "stdout",
     "output_type": "stream",
     "text": [
      "При x = 0\n"
     ]
    },
    {
     "data": {
      "text/latex": [
       "$\\displaystyle y = 0$"
      ],
      "text/plain": [
       "y = 0"
      ]
     },
     "execution_count": 16,
     "metadata": {},
     "output_type": "execute_result"
    },
    {
     "name": "stdout",
     "output_type": "stream",
     "text": [
      "11 порядок\n",
      "\n",
      "Дифференциал\n"
     ]
    },
    {
     "data": {
      "text/latex": [
       "$\\displaystyle y = \\frac{10886400 x^{4} \\left(\\frac{60466176 x^{48}}{\\left(x^{6} + 1\\right)^{8}} - \\frac{246903552 x^{42}}{\\left(x^{6} + 1\\right)^{7}} + \\frac{407586816 x^{36}}{\\left(x^{6} + 1\\right)^{6}} - \\frac{347412240 x^{30}}{\\left(x^{6} + 1\\right)^{5}} + \\frac{161656236 x^{24}}{\\left(x^{6} + 1\\right)^{4}} - \\frac{39791115 x^{18}}{\\left(x^{6} + 1\\right)^{3}} + \\frac{4578717 x^{12}}{\\left(x^{6} + 1\\right)^{2}} - \\frac{181753 x^{6}}{x^{6} + 1} + 1001\\right)}{\\left(x^{6} + 1\\right)^{3}}$"
      ],
      "text/plain": [
       "                ⎛          48              42              36              30 \n",
       "              4 ⎜60466176⋅x     246903552⋅x     407586816⋅x     347412240⋅x   \n",
       "    10886400⋅x ⋅⎜──────────── - ───────────── + ───────────── - ───────────── \n",
       "                ⎜         8               7               6               5   \n",
       "                ⎜ ⎛ 6    ⎞        ⎛ 6    ⎞        ⎛ 6    ⎞        ⎛ 6    ⎞    \n",
       "                ⎝ ⎝x  + 1⎠        ⎝x  + 1⎠        ⎝x  + 1⎠        ⎝x  + 1⎠    \n",
       "y = ──────────────────────────────────────────────────────────────────────────\n",
       "                                                                            3 \n",
       "                                                                    ⎛ 6    ⎞  \n",
       "                                                                    ⎝x  + 1⎠  \n",
       "\n",
       "             24             18            12           6       ⎞\n",
       "  161656236⋅x     39791115⋅x     4578717⋅x     181753⋅x        ⎟\n",
       "+ ───────────── - ──────────── + ─────────── - ───────── + 1001⎟\n",
       "            4              3              2       6            ⎟\n",
       "    ⎛ 6    ⎞       ⎛ 6    ⎞       ⎛ 6    ⎞       x  + 1        ⎟\n",
       "    ⎝x  + 1⎠       ⎝x  + 1⎠       ⎝x  + 1⎠                     ⎠\n",
       "────────────────────────────────────────────────────────────────\n",
       "                                                                \n",
       "                                                                \n",
       "                                                                "
      ]
     },
     "execution_count": 16,
     "metadata": {},
     "output_type": "execute_result"
    },
    {
     "name": "stdout",
     "output_type": "stream",
     "text": [
      "При x = 0\n"
     ]
    },
    {
     "data": {
      "text/latex": [
       "$\\displaystyle y = 0$"
      ],
      "text/plain": [
       "y = 0"
      ]
     },
     "execution_count": 16,
     "metadata": {},
     "output_type": "execute_result"
    },
    {
     "name": "stdout",
     "output_type": "stream",
     "text": [
      "12 порядок\n",
      "\n",
      "Дифференциал\n"
     ]
    },
    {
     "data": {
      "text/latex": [
       "$\\displaystyle y = \\frac{479001600 x^{3} \\left(- \\frac{90699264 x^{54}}{\\left(x^{6} + 1\\right)^{9}} + \\frac{408146688 x^{48}}{\\left(x^{6} + 1\\right)^{8}} - \\frac{758346624 x^{42}}{\\left(x^{6} + 1\\right)^{7}} + \\frac{749528640 x^{36}}{\\left(x^{6} + 1\\right)^{6}} - \\frac{422763138 x^{30}}{\\left(x^{6} + 1\\right)^{5}} + \\frac{135428517 x^{24}}{\\left(x^{6} + 1\\right)^{4}} - \\frac{23017410 x^{18}}{\\left(x^{6} + 1\\right)^{3}} + \\frac{1764126 x^{12}}{\\left(x^{6} + 1\\right)^{2}} - \\frac{41717 x^{6}}{x^{6} + 1} + 91\\right)}{\\left(x^{6} + 1\\right)^{3}}$"
      ],
      "text/plain": [
       "                 ⎛            54              48              42              \n",
       "               3 ⎜  90699264⋅x     408146688⋅x     758346624⋅x     749528640⋅x\n",
       "    479001600⋅x ⋅⎜- ──────────── + ───────────── - ───────────── + ───────────\n",
       "                 ⎜           9               8               7               6\n",
       "                 ⎜   ⎛ 6    ⎞        ⎛ 6    ⎞        ⎛ 6    ⎞        ⎛ 6    ⎞ \n",
       "                 ⎝   ⎝x  + 1⎠        ⎝x  + 1⎠        ⎝x  + 1⎠        ⎝x  + 1⎠ \n",
       "y = ──────────────────────────────────────────────────────────────────────────\n",
       "                                                                              \n",
       "                                                                            ⎛ \n",
       "                                                                            ⎝x\n",
       "\n",
       "36              30              24             18            12          6    \n",
       "     422763138⋅x     135428517⋅x     23017410⋅x     1764126⋅x     41717⋅x     \n",
       "── - ───────────── + ───────────── - ──────────── + ─────────── - ──────── + 9\n",
       "               5               4              3              2      6         \n",
       "       ⎛ 6    ⎞        ⎛ 6    ⎞       ⎛ 6    ⎞       ⎛ 6    ⎞      x  + 1     \n",
       "       ⎝x  + 1⎠        ⎝x  + 1⎠       ⎝x  + 1⎠       ⎝x  + 1⎠                 \n",
       "──────────────────────────────────────────────────────────────────────────────\n",
       "      3                                                                       \n",
       "6    ⎞                                                                        \n",
       "  + 1⎠                                                                        \n",
       "\n",
       " ⎞\n",
       " ⎟\n",
       "1⎟\n",
       " ⎟\n",
       " ⎟\n",
       " ⎠\n",
       "──\n",
       "  \n",
       "  \n",
       "  "
      ]
     },
     "execution_count": 16,
     "metadata": {},
     "output_type": "execute_result"
    },
    {
     "name": "stdout",
     "output_type": "stream",
     "text": [
      "При x = 0\n"
     ]
    },
    {
     "data": {
      "text/latex": [
       "$\\displaystyle y = 0$"
      ],
      "text/plain": [
       "y = 0"
      ]
     },
     "execution_count": 16,
     "metadata": {},
     "output_type": "execute_result"
    },
    {
     "name": "stdout",
     "output_type": "stream",
     "text": [
      "13 порядок\n",
      "\n",
      "Дифференциал\n"
     ]
    },
    {
     "data": {
      "text/latex": [
       "$\\displaystyle y = \\frac{1437004800 x^{2} \\left(\\frac{2176782336 x^{60}}{\\left(x^{6} + 1\\right)^{10}} - \\frac{10702513152 x^{54}}{\\left(x^{6} + 1\\right)^{9}} + \\frac{22105426176 x^{48}}{\\left(x^{6} + 1\\right)^{8}} - \\frac{24866714880 x^{42}}{\\left(x^{6} + 1\\right)^{7}} + \\frac{16508082528 x^{36}}{\\left(x^{6} + 1\\right)^{6}} - \\frac{6546393756 x^{30}}{\\left(x^{6} + 1\\right)^{5}} + \\frac{1495065573 x^{24}}{\\left(x^{6} + 1\\right)^{4}} - \\frac{178763130 x^{18}}{\\left(x^{6} + 1\\right)^{3}} + \\frac{9154366 x^{12}}{\\left(x^{6} + 1\\right)^{2}} - \\frac{125697 x^{6}}{x^{6} + 1} + 91\\right)}{\\left(x^{6} + 1\\right)^{3}}$"
      ],
      "text/plain": [
       "                  ⎛            60                54                48         \n",
       "                2 ⎜2176782336⋅x     10702513152⋅x     22105426176⋅x     248667\n",
       "    1437004800⋅x ⋅⎜────────────── - ─────────────── + ─────────────── - ──────\n",
       "                  ⎜          10                9                 8            \n",
       "                  ⎜  ⎛ 6    ⎞          ⎛ 6    ⎞          ⎛ 6    ⎞          ⎛ 6\n",
       "                  ⎝  ⎝x  + 1⎠          ⎝x  + 1⎠          ⎝x  + 1⎠          ⎝x \n",
       "y = ──────────────────────────────────────────────────────────────────────────\n",
       "                                                                              \n",
       "                                                                              \n",
       "                                                                              \n",
       "\n",
       "       42                36               30               24              18 \n",
       "14880⋅x     16508082528⋅x     6546393756⋅x     1495065573⋅x     178763130⋅x   \n",
       "───────── + ─────────────── - ────────────── + ────────────── - ───────────── \n",
       "     7                 6                5                4                3   \n",
       "    ⎞          ⎛ 6    ⎞         ⎛ 6    ⎞         ⎛ 6    ⎞         ⎛ 6    ⎞    \n",
       " + 1⎠          ⎝x  + 1⎠         ⎝x  + 1⎠         ⎝x  + 1⎠         ⎝x  + 1⎠    \n",
       "──────────────────────────────────────────────────────────────────────────────\n",
       "                     3                                                        \n",
       "             ⎛ 6    ⎞                                                         \n",
       "             ⎝x  + 1⎠                                                         \n",
       "\n",
       "           12           6     ⎞\n",
       "  9154366⋅x     125697⋅x      ⎟\n",
       "+ ─────────── - ───────── + 91⎟\n",
       "           2       6          ⎟\n",
       "   ⎛ 6    ⎞       x  + 1      ⎟\n",
       "   ⎝x  + 1⎠                   ⎠\n",
       "───────────────────────────────\n",
       "                               \n",
       "                               \n",
       "                               "
      ]
     },
     "execution_count": 16,
     "metadata": {},
     "output_type": "execute_result"
    },
    {
     "name": "stdout",
     "output_type": "stream",
     "text": [
      "При x = 0\n"
     ]
    },
    {
     "data": {
      "text/latex": [
       "$\\displaystyle y = 0$"
      ],
      "text/plain": [
       "y = 0"
      ]
     },
     "execution_count": 16,
     "metadata": {},
     "output_type": "execute_result"
    },
    {
     "name": "stdout",
     "output_type": "stream",
     "text": [
      "14 порядок\n",
      "\n",
      "Дифференциал\n"
     ]
    },
    {
     "data": {
      "text/latex": [
       "$\\displaystyle y = \\frac{37362124800 x \\left(- \\frac{6530347008 x^{66}}{\\left(x^{6} + 1\\right)^{11}} + \\frac{34828517376 x^{60}}{\\left(x^{6} + 1\\right)^{10}} - \\frac{79165340928 x^{54}}{\\left(x^{6} + 1\\right)^{9}} + \\frac{99895161600 x^{48}}{\\left(x^{6} + 1\\right)^{8}} - \\frac{76368150432 x^{42}}{\\left(x^{6} + 1\\right)^{7}} + \\frac{36212847552 x^{36}}{\\left(x^{6} + 1\\right)^{6}} - \\frac{10472205933 x^{30}}{\\left(x^{6} + 1\\right)^{5}} + \\frac{1742583753 x^{24}}{\\left(x^{6} + 1\\right)^{4}} - \\frac{148072830 x^{18}}{\\left(x^{6} + 1\\right)^{3}} + \\frac{5045302 x^{12}}{\\left(x^{6} + 1\\right)^{2}} - \\frac{38739 x^{6}}{x^{6} + 1} + 7\\right)}{\\left(x^{6} + 1\\right)^{3}}$"
      ],
      "text/plain": [
       "                  ⎛              66                60                54       \n",
       "                  ⎜  6530347008⋅x     34828517376⋅x     79165340928⋅x     9989\n",
       "    37362124800⋅x⋅⎜- ────────────── + ─────────────── - ─────────────── + ────\n",
       "                  ⎜            11                10                9          \n",
       "                  ⎜    ⎛ 6    ⎞          ⎛ 6    ⎞          ⎛ 6    ⎞          ⎛\n",
       "                  ⎝    ⎝x  + 1⎠          ⎝x  + 1⎠          ⎝x  + 1⎠          ⎝\n",
       "y = ──────────────────────────────────────────────────────────────────────────\n",
       "                                                                              \n",
       "                                                                              \n",
       "                                                                              \n",
       "\n",
       "         48                42                36                30             \n",
       "5161600⋅x     76368150432⋅x     36212847552⋅x     10472205933⋅x     1742583753\n",
       "─────────── - ─────────────── + ─────────────── - ─────────────── + ──────────\n",
       "       8                 7                 6                 5                \n",
       " 6    ⎞          ⎛ 6    ⎞          ⎛ 6    ⎞          ⎛ 6    ⎞         ⎛ 6    ⎞\n",
       "x  + 1⎠          ⎝x  + 1⎠          ⎝x  + 1⎠          ⎝x  + 1⎠         ⎝x  + 1⎠\n",
       "──────────────────────────────────────────────────────────────────────────────\n",
       "                              3                                               \n",
       "                      ⎛ 6    ⎞                                                \n",
       "                      ⎝x  + 1⎠                                                \n",
       "\n",
       "  24              18            12          6    ⎞\n",
       "⋅x     148072830⋅x     5045302⋅x     38739⋅x     ⎟\n",
       "──── - ───────────── + ─────────── - ──────── + 7⎟\n",
       "4                3              2      6         ⎟\n",
       "         ⎛ 6    ⎞       ⎛ 6    ⎞      x  + 1     ⎟\n",
       "         ⎝x  + 1⎠       ⎝x  + 1⎠                 ⎠\n",
       "──────────────────────────────────────────────────\n",
       "                                                  \n",
       "                                                  \n",
       "                                                  "
      ]
     },
     "execution_count": 16,
     "metadata": {},
     "output_type": "execute_result"
    },
    {
     "name": "stdout",
     "output_type": "stream",
     "text": [
      "При x = 0\n"
     ]
    },
    {
     "data": {
      "text/latex": [
       "$\\displaystyle y = 0$"
      ],
      "text/plain": [
       "y = 0"
      ]
     },
     "execution_count": 16,
     "metadata": {},
     "output_type": "execute_result"
    },
    {
     "name": "stdout",
     "output_type": "stream",
     "text": [
      "15 порядок\n",
      "\n",
      "Дифференциал\n"
     ]
    },
    {
     "data": {
      "text/latex": [
       "$\\displaystyle y = \\frac{261534873600 \\left(\\frac{78364164096 x^{72}}{\\left(x^{6} + 1\\right)^{12}} - \\frac{450593943552 x^{66}}{\\left(x^{6} + 1\\right)^{11}} + \\frac{1117777729536 x^{60}}{\\left(x^{6} + 1\\right)^{10}} - \\frac{1563882059520 x^{54}}{\\left(x^{6} + 1\\right)^{9}} + \\frac{1353850277760 x^{48}}{\\left(x^{6} + 1\\right)^{8}} - \\frac{748474890912 x^{42}}{\\left(x^{6} + 1\\right)^{7}} + \\frac{263220177744 x^{36}}{\\left(x^{6} + 1\\right)^{6}} - \\frac{56832414507 x^{30}}{\\left(x^{6} + 1\\right)^{5}} + \\frac{6985030815 x^{24}}{\\left(x^{6} + 1\\right)^{4}} - \\frac{423534690 x^{18}}{\\left(x^{6} + 1\\right)^{3}} + \\frac{9502666 x^{12}}{\\left(x^{6} + 1\\right)^{2}} - \\frac{38757 x^{6}}{x^{6} + 1} + 1\\right)}{\\left(x^{6} + 1\\right)^{3}}$"
      ],
      "text/plain": [
       "                 ⎛             72                 66                  60      \n",
       "                 ⎜78364164096⋅x     450593943552⋅x     1117777729536⋅x     156\n",
       "    261534873600⋅⎜─────────────── - ──────────────── + ───────────────── - ───\n",
       "                 ⎜           12                11                  10         \n",
       "                 ⎜   ⎛ 6    ⎞          ⎛ 6    ⎞            ⎛ 6    ⎞           \n",
       "                 ⎝   ⎝x  + 1⎠          ⎝x  + 1⎠            ⎝x  + 1⎠           \n",
       "y = ──────────────────────────────────────────────────────────────────────────\n",
       "                                                                              \n",
       "                                                                              \n",
       "                                                                              \n",
       "\n",
       "            54                  48                 42                 36      \n",
       "3882059520⋅x     1353850277760⋅x     748474890912⋅x     263220177744⋅x     568\n",
       "────────────── + ───────────────── - ──────────────── + ──────────────── - ───\n",
       "         9                   8                  7                  6          \n",
       " ⎛ 6    ⎞            ⎛ 6    ⎞           ⎛ 6    ⎞           ⎛ 6    ⎞           \n",
       " ⎝x  + 1⎠            ⎝x  + 1⎠           ⎝x  + 1⎠           ⎝x  + 1⎠           \n",
       "──────────────────────────────────────────────────────────────────────────────\n",
       "                                           3                                  \n",
       "                                   ⎛ 6    ⎞                                   \n",
       "                                   ⎝x  + 1⎠                                   \n",
       "\n",
       "          30               24              18            12          6    ⎞\n",
       "32414507⋅x     6985030815⋅x     423534690⋅x     9502666⋅x     38757⋅x     ⎟\n",
       "──────────── + ────────────── - ───────────── + ─────────── - ──────── + 1⎟\n",
       "        5                4                3              2      6         ⎟\n",
       "⎛ 6    ⎞         ⎛ 6    ⎞         ⎛ 6    ⎞       ⎛ 6    ⎞      x  + 1     ⎟\n",
       "⎝x  + 1⎠         ⎝x  + 1⎠         ⎝x  + 1⎠       ⎝x  + 1⎠                 ⎠\n",
       "───────────────────────────────────────────────────────────────────────────\n",
       "                                                                           \n",
       "                                                                           \n",
       "                                                                           "
      ]
     },
     "execution_count": 16,
     "metadata": {},
     "output_type": "execute_result"
    },
    {
     "name": "stdout",
     "output_type": "stream",
     "text": [
      "При x = 0\n"
     ]
    },
    {
     "data": {
      "text/latex": [
       "$\\displaystyle y = 261534873600$"
      ],
      "text/plain": [
       "y = 261534873600"
      ]
     },
     "execution_count": 16,
     "metadata": {},
     "output_type": "execute_result"
    },
    {
     "name": "stdout",
     "output_type": "stream",
     "text": [
      "\n",
      "Финал\n",
      "\n",
      "Дифференциал\n"
     ]
    },
    {
     "data": {
      "text/latex": [
       "$\\displaystyle \\frac{x^{15}}{5} - \\frac{x^{9}}{3} + x^{3}$"
      ],
      "text/plain": [
       " 15    9     \n",
       "x     x     3\n",
       "─── - ── + x \n",
       " 5    3      "
      ]
     },
     "execution_count": 16,
     "metadata": {},
     "output_type": "execute_result"
    },
    {
     "name": "stdout",
     "output_type": "stream",
     "text": [
      "Интегралыч\n"
     ]
    },
    {
     "data": {
      "text/latex": [
       "$\\displaystyle \\frac{x^{16}}{80} - \\frac{x^{10}}{30} + \\frac{x^{4}}{4}$"
      ],
      "text/plain": [
       " 16    10    4\n",
       "x     x     x \n",
       "─── - ─── + ──\n",
       " 80    30   4 "
      ]
     },
     "execution_count": 16,
     "metadata": {},
     "output_type": "execute_result"
    },
    {
     "name": "stdout",
     "output_type": "stream",
     "text": [
      "При a = 0.5\n"
     ]
    },
    {
     "data": {
      "text/latex": [
       "$\\displaystyle \\frac{x^{16}}{80} - \\frac{x^{10}}{30} + \\frac{x^{4}}{4} = 0.0155926386515299$"
      ],
      "text/plain": [
       " 16    10    4                     \n",
       "x     x     x                      \n",
       "─── - ─── + ── = 0.0155926386515299\n",
       " 80    30   4                      "
      ]
     },
     "execution_count": 16,
     "metadata": {},
     "output_type": "execute_result"
    },
    {
     "name": "stdout",
     "output_type": "stream",
     "text": [
      "Численный ответ =  0.0155926386515299\n",
      "Точность 3.23613484700521e-5\n"
     ]
    }
   ],
   "source": [
    "print('Выражение')\n",
    "expr\n",
    "i = 0\n",
    "while True:\n",
    "    print(i, 'порядок\\n')\n",
    "    if good_detominator:\n",
    "        expr_dif = expr.diff(x, i)#дифференциал\n",
    "    else:\n",
    "        expr_dif = new_expr.diff(x, i)\n",
    "    print('Дифференциал')\n",
    "    Eq(y, expr_dif)\n",
    "    print('При x =', x0)\n",
    "    Eq(y, expr_dif.subs(x, x0))\n",
    "    ser = expr.series(x0=x0, n=i + 1).removeO()#ряд\n",
    "    integral = sorted(integrate(ser, (x)).args, key=get_degree)# интеграл от ряда\n",
    "    if len(integral) == n:\n",
    "        l1 = integral[-1].subs(x, a)# последний член интеграла\n",
    "        l2 = integral[-2].subs(x, a)# предпоследний\n",
    "        cur_acc = abs(l2 + l1)# берём модуль\n",
    "        if not good_detominator:#костыль из-за того, что знаменатель пропадает, и на 1 порядок меньше выводится\n",
    "            print(i + 1, 'порядок')\n",
    "            expr_dif = new_expr.diff(x, i + 1)\n",
    "            print('Дифференциал')\n",
    "            Eq(y, expr_dif)#выводим его\n",
    "            print('При x =', x0)\n",
    "            Eq(y, expr_dif.subs(x, x0))#выводим чему равен при подстановке\n",
    "        print('\\nФинал\\n')\n",
    "        print('Дифференциал')\n",
    "        ser\n",
    "        print('Интегралыч')\n",
    "        integ_need = Add(*integral)# нужная часть интеграла для итогового счёта\n",
    "        integ_need\n",
    "        answer = integ_need.subs(x, a)\n",
    "        print('При a =', a)\n",
    "        Eq(Add(integ_need), answer) \n",
    "        try:\n",
    "            print('Численный ответ = ', answer.p / answer.q)\n",
    "        except AttributeError:\n",
    "            print('Численный ответ = ', answer)\n",
    "        try:\n",
    "            print('Точность %12.10f' % (cur_acc.p / cur_acc.q))\n",
    "        except AttributeError:\n",
    "            print('Точность %12.10f' % cur_acc)\n",
    "        break\n",
    "        \n",
    "    i +=1"
   ]
  },
  {
   "cell_type": "code",
   "execution_count": null,
   "id": "30c41172",
   "metadata": {},
   "outputs": [],
   "source": []
  }
 ],
 "metadata": {
  "kernelspec": {
   "display_name": "Python 3 (ipykernel)",
   "language": "python",
   "name": "python3"
  },
  "language_info": {
   "codemirror_mode": {
    "name": "ipython",
    "version": 3
   },
   "file_extension": ".py",
   "mimetype": "text/x-python",
   "name": "python",
   "nbconvert_exporter": "python",
   "pygments_lexer": "ipython3",
   "version": "3.9.7"
  },
  "latex_envs": {
   "LaTeX_envs_menu_present": true,
   "autoclose": false,
   "autocomplete": true,
   "bibliofile": "biblio.bib",
   "cite_by": "apalike",
   "current_citInitial": 1,
   "eqLabelWithNumbers": true,
   "eqNumInitial": 1,
   "hotkeys": {
    "equation": "Ctrl-E",
    "itemize": "Ctrl-I"
   },
   "labels_anchors": false,
   "latex_user_defs": false,
   "report_style_numbering": false,
   "user_envs_cfg": false
  }
 },
 "nbformat": 4,
 "nbformat_minor": 5
}
