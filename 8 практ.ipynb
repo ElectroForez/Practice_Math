{
 "cells": [
  {
   "cell_type": "code",
   "execution_count": 1,
   "id": "09ac5cec",
   "metadata": {
    "ExecuteTime": {
     "end_time": "2022-04-02T15:01:57.465422Z",
     "start_time": "2022-04-02T15:01:54.682065Z"
    }
   },
   "outputs": [
    {
     "name": "stdout",
     "output_type": "stream",
     "text": [
      "Requirement already satisfied: sympy in c:\\users\\vladt\\anaconda3\\lib\\site-packages (1.8)\n",
      "Requirement already satisfied: mpmath>=0.19 in c:\\users\\vladt\\anaconda3\\lib\\site-packages (from sympy) (1.2.1)\n"
     ]
    }
   ],
   "source": [
    "!pip install sympy"
   ]
  },
  {
   "cell_type": "code",
   "execution_count": 2,
   "id": "5933a7ae",
   "metadata": {
    "ExecuteTime": {
     "end_time": "2022-04-02T15:01:57.929536Z",
     "start_time": "2022-04-02T15:01:57.466423Z"
    }
   },
   "outputs": [],
   "source": [
    "from sympy import *\n",
    "from IPython.core.interactiveshell import InteractiveShell\n",
    "InteractiveShell.ast_node_interactivity = \"all\"\n",
    "from IPython.display import display, Math, Latex\n",
    "init_printing(use_latex='mathjax')"
   ]
  },
  {
   "cell_type": "code",
   "execution_count": 3,
   "id": "e5cfcaf9",
   "metadata": {
    "ExecuteTime": {
     "end_time": "2022-04-02T15:01:57.945590Z",
     "start_time": "2022-04-02T15:01:57.931537Z"
    }
   },
   "outputs": [],
   "source": [
    "def print_eq(eq, *exprs, rev_int2=False):\n",
    "    if type(eq) == str:\n",
    "        eq = Symbol(eq)\n",
    "    out = '$$ {} ' + '= {}' * len(exprs) + '$$'\n",
    "    exprs=list(exprs)\n",
    "    for i in range(len(exprs)):\n",
    "        if type(exprs[i]) != str:\n",
    "            exprs[i] = latex(exprs[i])\n",
    "    if rev_int2:\n",
    "        exprs[-2] += '|_0^x'\n",
    "    display(Latex(out.format(latex(eq), *exprs)))\n",
    "    \n",
    "def get_degree(el):#только для массивов без элементов в виде чисел\n",
    "    '''\n",
    "    Эта функция используется для сортировки членов интеграла по степеням,\n",
    "    а то там порядок сбивается, и отрицательные члены сначала идут\n",
    "    '''\n",
    "    if ask(Q.extended_real(el)):\n",
    "        return el\n",
    "    arg = el.args\n",
    "    if len(arg) > 1:\n",
    "        return get_degree(arg[-1])\n",
    "    if len(arg) == 0:\n",
    "        return 1\n",
    "\n",
    "def s_o(sym, order):#sym\n",
    "    sym = str(sym)\n",
    "    if len(sym) > 1:\n",
    "        tail = sym[1:]\n",
    "        sym=sym[0]\n",
    "    else:\n",
    "        tail = ''\n",
    "    if order == 0:\n",
    "        return Symbol(sym + tail)\n",
    "    if 1 <= order <=3:\n",
    "        order = '\\'' * order\n",
    "    else:\n",
    "        order = f'({order})'\n",
    "    return Symbol(sym + '^{'+order+'}' + tail)\n",
    "\n",
    "def to_s(i):\n",
    "    return Symbol(latex(i))"
   ]
  },
  {
   "cell_type": "code",
   "execution_count": 4,
   "id": "d3182ff7",
   "metadata": {
    "ExecuteTime": {
     "end_time": "2022-04-02T15:01:57.961447Z",
     "start_time": "2022-04-02T15:01:57.946591Z"
    }
   },
   "outputs": [],
   "source": [
    "def get_bad_denominator(expr, print_info=False):\n",
    "    good_detominator = True\n",
    "    for el in expr.args:\n",
    "        degree = get_degree(el)\n",
    "        if (degree is None or ask(Q.extended_real(el))) or degree > 1:\n",
    "            continue\n",
    "        denominator = el\n",
    "        if not ask(Q.extended_real(denominator.subs(x, 0))) or denominator.subs(x, 0) == 0:\n",
    "            new_expr = expr / denominator\n",
    "            if print_info:\n",
    "                print('В знаменателе только x, поэтому его мы игнорируем при дифференцировании, а потом, получив дифференциал, поделием его на этот знаменатель')\n",
    "                print('В коде ниже будет результат вместе с делением')\n",
    "                print_eq(new_expr)\n",
    "            good_detominator = False\n",
    "            break\n",
    "    if good_detominator:\n",
    "        return 1\n",
    "    else:\n",
    "        return denominator"
   ]
  },
  {
   "cell_type": "code",
   "execution_count": 5,
   "id": "f5f2f3fd",
   "metadata": {
    "ExecuteTime": {
     "end_time": "2022-04-02T15:01:57.977362Z",
     "start_time": "2022-04-02T15:01:57.962450Z"
    }
   },
   "outputs": [],
   "source": [
    "def print_dif(expr, i):\n",
    "    expr_dif = expr.diff(x, i)#дифференциал\n",
    "    print_eq(Eq(s_o(y, i), expr_dif))#выводим его\n",
    "    y_value = expr_dif.subs(x, x0)\n",
    "    print_eq(Eq(s_o(y_f(x0), i), y_value))#выводим чему равен при подстановке\n",
    "    return y_value"
   ]
  },
  {
   "cell_type": "code",
   "execution_count": 6,
   "id": "ed45654f",
   "metadata": {
    "ExecuteTime": {
     "end_time": "2022-04-02T15:01:57.992369Z",
     "start_time": "2022-04-02T15:01:57.978363Z"
    }
   },
   "outputs": [],
   "source": [
    "def print_answer(ser, answ_by_acc=False):\n",
    "    integral = integrate(ser, (x))\n",
    "    integral_args = sorted(integral.args, key=get_degree)# интеграл от ряда\n",
    "    l1 = integral_args[-1].subs(x, a)# последний член интеграла\n",
    "    l2 = integral_args[-2].subs(x, a)# предпоследний\n",
    "    cur_acc = abs(l2 + l1)#считаем здесь их точность\n",
    "    print('Разложение в ряд подынтегрального выражения')\n",
    "    print_eq(expr, ser)\n",
    "    print('Находим неопределённый интеграл')\n",
    "    if answ_by_acc:\n",
    "        print('Убираем последние 2 члена т.к. они дают меньше нужной точности')\n",
    "        integ_need = Add(*integral_args[:-2])\n",
    "        integ_2_last = f'\\\\bigg[\\\\bigg({latex(Add(*integral_args[-2:]).subs(x, to_s(a)))}\\\\bigg) < {accuracy}\\\\bigg] +'\n",
    "        pp = latex(integ_need.subs(x, to_s(a))) + r'\\approx'\n",
    "    else:\n",
    "        integ_need = integral # нужная часть интеграла для итогового счёта\n",
    "        integ_2_last = ''\n",
    "        pp = ''\n",
    "    answer = integ_need.subs(x, a)\n",
    "    print_eq(latex(Integral(expr, (x, 0, a))) + r'\\approx' + latex(Integral(ser, (x, 0, a))), \n",
    "             f'\\\\bigg({latex(integral)}\\\\bigg)' + f'\\\\bigg|_0^{{{latex(a)}}}',\n",
    "             integ_2_last + latex(integ_need.subs(x, to_s(a))) + r'\\approx' + pp + str(answer)\n",
    "            )\n",
    "    try:\n",
    "        print('Численный ответ = ', answer.p / answer.q)\n",
    "    except AttributeError:\n",
    "        print('Численный ответ = ', answer)\n",
    "    try:\n",
    "        print('Точность %12.10f' % (cur_acc.p / cur_acc.q))\n",
    "    except AttributeError:\n",
    "        print('Точность %12.10f' % cur_acc)"
   ]
  },
  {
   "cell_type": "code",
   "execution_count": 7,
   "id": "bae15a6b",
   "metadata": {
    "ExecuteTime": {
     "end_time": "2022-04-02T15:01:58.008374Z",
     "start_time": "2022-04-02T15:01:57.993370Z"
    }
   },
   "outputs": [],
   "source": [
    "def main(expr, find_by_acc = True):\n",
    "    bad_denominator = get_bad_denominator(expr, True)\n",
    "    expr_dif = expr / bad_denominator\n",
    "    if not ask(Q.extended_real(expr_dif.diff(x, 3).subs(x, x0))):\n",
    "        print('Калькулятор не подходит для вычисления данного примера!!! Используйте стандатное разложение')\n",
    "        bad_expr = True\n",
    "        return\n",
    "    print('Выражение')\n",
    "    print_eq(expr_dif)\n",
    "    i = 0\n",
    "    found_els = 0\n",
    "    while True:\n",
    "        print(i, 'порядок')\n",
    "        y_value = print_dif(expr_dif, i)\n",
    "        ser = expr.series(x0=x0, n=i).removeO()#ряд\n",
    "        integral = sorted(integrate(ser, (x)).args, key=get_degree)\n",
    "        if y_value != 0:\n",
    "            found_els += 1\n",
    "        if find_by_acc:\n",
    "            if found_els >= n:\n",
    "                l1 = integral[-1].subs(x, a)# последний член интеграла\n",
    "                l2 = integral[-2].subs(x, a)# предпоследний\n",
    "                cur_acc = abs(l2 + l1)#считаем здесь их точность\n",
    "                if cur_acc < accuracy:\n",
    "                    print_answer(ser, True)\n",
    "                    break\n",
    "        else:\n",
    "            if found_els == n:\n",
    "                print_answer(ser, False)\n",
    "                break\n",
    "        i +=1"
   ]
  },
  {
   "cell_type": "code",
   "execution_count": 8,
   "id": "588d7839",
   "metadata": {
    "ExecuteTime": {
     "end_time": "2022-04-02T15:01:58.024379Z",
     "start_time": "2022-04-02T15:01:58.010375Z"
    }
   },
   "outputs": [],
   "source": [
    "cosh.__name__='ch'\n",
    "sinh.__name__='sh'"
   ]
  },
  {
   "cell_type": "code",
   "execution_count": 9,
   "id": "cc0abb6b",
   "metadata": {
    "ExecuteTime": {
     "end_time": "2022-04-02T15:01:58.040092Z",
     "start_time": "2022-04-02T15:01:58.026377Z"
    }
   },
   "outputs": [],
   "source": [
    "x = Symbol('x')\n",
    "y = Symbol('y')\n",
    "y_f = Function('y')"
   ]
  },
  {
   "cell_type": "markdown",
   "id": "66101a36",
   "metadata": {},
   "source": [
    "# Вставьте здесь ваши параметры"
   ]
  },
  {
   "cell_type": "code",
   "execution_count": 10,
   "id": "32ebad2b",
   "metadata": {
    "ExecuteTime": {
     "end_time": "2022-04-02T15:01:58.264145Z",
     "start_time": "2022-04-02T15:01:58.041095Z"
    },
    "scrolled": false
   },
   "outputs": [
    {
     "name": "stdout",
     "output_type": "stream",
     "text": [
      "Проверьте, что ваше выражение корректно отображается!\n"
     ]
    },
    {
     "data": {
      "text/latex": [
       "$$ \\int\\limits_{0}^{0.5} \\frac{\\sin{\\left(2 x \\right)}}{x + 1}\\, dx $$"
      ],
      "text/plain": [
       "<IPython.core.display.Latex object>"
      ]
     },
     "metadata": {},
     "output_type": "display_data"
    },
    {
     "name": "stdout",
     "output_type": "stream",
     "text": [
      "Вычислить с точностью = 0.001\n"
     ]
    }
   ],
   "source": [
    "x0 = 0 #в этой задаче он должен быть 0, поэтому не меняем\n",
    "accuracy = 0.001 # до производной какой степени считать\n",
    "a = 0.5# a в интеграле(верхняя циферка). Нижняя у всех 0\n",
    "expr =sin(2*x) / (x + 1)#<------- здесь должно быть ваше выражение\n",
    "print('Проверьте, что ваше выражение корректно отображается!')\n",
    "print_eq(Integral(expr, (x, 0, a)))\n",
    "print('Вычислить с точностью =', accuracy)\n",
    "n = 4 # Надо 4 члена, хоть и в практической написано 3"
   ]
  },
  {
   "cell_type": "markdown",
   "id": "21218a8d",
   "metadata": {},
   "source": [
    "# Вычисление по точности"
   ]
  },
  {
   "cell_type": "markdown",
   "id": "4c608c40",
   "metadata": {},
   "source": [
    "но Виклянчук сказала, что нужно минимум 4 члена высчитать, поэтому минимум 4 члена и выведется"
   ]
  },
  {
   "cell_type": "code",
   "execution_count": 11,
   "id": "da6a08ef",
   "metadata": {
    "ExecuteTime": {
     "end_time": "2022-04-02T15:01:59.992534Z",
     "start_time": "2022-04-02T15:01:58.265145Z"
    }
   },
   "outputs": [
    {
     "name": "stdout",
     "output_type": "stream",
     "text": [
      "Выражение\n"
     ]
    },
    {
     "data": {
      "text/latex": [
       "$$ \\frac{\\sin{\\left(2 x \\right)}}{x + 1} $$"
      ],
      "text/plain": [
       "<IPython.core.display.Latex object>"
      ]
     },
     "metadata": {},
     "output_type": "display_data"
    },
    {
     "name": "stdout",
     "output_type": "stream",
     "text": [
      "0 порядок\n"
     ]
    },
    {
     "data": {
      "text/latex": [
       "$$ y = \\frac{\\sin{\\left(2 x \\right)}}{x + 1} $$"
      ],
      "text/plain": [
       "<IPython.core.display.Latex object>"
      ]
     },
     "metadata": {},
     "output_type": "display_data"
    },
    {
     "data": {
      "text/latex": [
       "$$ y(0) = 0 $$"
      ],
      "text/plain": [
       "<IPython.core.display.Latex object>"
      ]
     },
     "metadata": {},
     "output_type": "display_data"
    },
    {
     "name": "stdout",
     "output_type": "stream",
     "text": [
      "1 порядок\n"
     ]
    },
    {
     "data": {
      "text/latex": [
       "$$ y^{'} = \\frac{2 \\cos{\\left(2 x \\right)}}{x + 1} - \\frac{\\sin{\\left(2 x \\right)}}{\\left(x + 1\\right)^{2}} $$"
      ],
      "text/plain": [
       "<IPython.core.display.Latex object>"
      ]
     },
     "metadata": {},
     "output_type": "display_data"
    },
    {
     "data": {
      "text/latex": [
       "$$ y^{'}(0) = 2 $$"
      ],
      "text/plain": [
       "<IPython.core.display.Latex object>"
      ]
     },
     "metadata": {},
     "output_type": "display_data"
    },
    {
     "name": "stdout",
     "output_type": "stream",
     "text": [
      "2 порядок\n"
     ]
    },
    {
     "data": {
      "text/latex": [
       "$$ y^{''} = \\frac{2 \\left(- 2 \\sin{\\left(2 x \\right)} - \\frac{2 \\cos{\\left(2 x \\right)}}{x + 1} + \\frac{\\sin{\\left(2 x \\right)}}{\\left(x + 1\\right)^{2}}\\right)}{x + 1} $$"
      ],
      "text/plain": [
       "<IPython.core.display.Latex object>"
      ]
     },
     "metadata": {},
     "output_type": "display_data"
    },
    {
     "data": {
      "text/latex": [
       "$$ y^{''}(0) = -4 $$"
      ],
      "text/plain": [
       "<IPython.core.display.Latex object>"
      ]
     },
     "metadata": {},
     "output_type": "display_data"
    },
    {
     "name": "stdout",
     "output_type": "stream",
     "text": [
      "3 порядок\n"
     ]
    },
    {
     "data": {
      "text/latex": [
       "$$ y^{'''} = \\frac{2 \\left(- 4 \\cos{\\left(2 x \\right)} + \\frac{6 \\sin{\\left(2 x \\right)}}{x + 1} + \\frac{6 \\cos{\\left(2 x \\right)}}{\\left(x + 1\\right)^{2}} - \\frac{3 \\sin{\\left(2 x \\right)}}{\\left(x + 1\\right)^{3}}\\right)}{x + 1} $$"
      ],
      "text/plain": [
       "<IPython.core.display.Latex object>"
      ]
     },
     "metadata": {},
     "output_type": "display_data"
    },
    {
     "data": {
      "text/latex": [
       "$$ y^{'''}(0) = 4 $$"
      ],
      "text/plain": [
       "<IPython.core.display.Latex object>"
      ]
     },
     "metadata": {},
     "output_type": "display_data"
    },
    {
     "name": "stdout",
     "output_type": "stream",
     "text": [
      "4 порядок\n"
     ]
    },
    {
     "data": {
      "text/latex": [
       "$$ y^{(4)} = \\frac{8 \\left(2 \\sin{\\left(2 x \\right)} + \\frac{4 \\cos{\\left(2 x \\right)}}{x + 1} - \\frac{6 \\sin{\\left(2 x \\right)}}{\\left(x + 1\\right)^{2}} - \\frac{6 \\cos{\\left(2 x \\right)}}{\\left(x + 1\\right)^{3}} + \\frac{3 \\sin{\\left(2 x \\right)}}{\\left(x + 1\\right)^{4}}\\right)}{x + 1} $$"
      ],
      "text/plain": [
       "<IPython.core.display.Latex object>"
      ]
     },
     "metadata": {},
     "output_type": "display_data"
    },
    {
     "data": {
      "text/latex": [
       "$$ y^{(4)}(0) = -16 $$"
      ],
      "text/plain": [
       "<IPython.core.display.Latex object>"
      ]
     },
     "metadata": {},
     "output_type": "display_data"
    },
    {
     "name": "stdout",
     "output_type": "stream",
     "text": [
      "5 порядок\n"
     ]
    },
    {
     "data": {
      "text/latex": [
       "$$ y^{(5)} = \\frac{8 \\left(4 \\cos{\\left(2 x \\right)} - \\frac{10 \\sin{\\left(2 x \\right)}}{x + 1} - \\frac{20 \\cos{\\left(2 x \\right)}}{\\left(x + 1\\right)^{2}} + \\frac{30 \\sin{\\left(2 x \\right)}}{\\left(x + 1\\right)^{3}} + \\frac{30 \\cos{\\left(2 x \\right)}}{\\left(x + 1\\right)^{4}} - \\frac{15 \\sin{\\left(2 x \\right)}}{\\left(x + 1\\right)^{5}}\\right)}{x + 1} $$"
      ],
      "text/plain": [
       "<IPython.core.display.Latex object>"
      ]
     },
     "metadata": {},
     "output_type": "display_data"
    },
    {
     "data": {
      "text/latex": [
       "$$ y^{(5)}(0) = 112 $$"
      ],
      "text/plain": [
       "<IPython.core.display.Latex object>"
      ]
     },
     "metadata": {},
     "output_type": "display_data"
    },
    {
     "name": "stdout",
     "output_type": "stream",
     "text": [
      "6 порядок\n"
     ]
    },
    {
     "data": {
      "text/latex": [
       "$$ y^{(6)} = \\frac{16 \\left(- 4 \\sin{\\left(2 x \\right)} - \\frac{12 \\cos{\\left(2 x \\right)}}{x + 1} + \\frac{30 \\sin{\\left(2 x \\right)}}{\\left(x + 1\\right)^{2}} + \\frac{60 \\cos{\\left(2 x \\right)}}{\\left(x + 1\\right)^{3}} - \\frac{90 \\sin{\\left(2 x \\right)}}{\\left(x + 1\\right)^{4}} - \\frac{90 \\cos{\\left(2 x \\right)}}{\\left(x + 1\\right)^{5}} + \\frac{45 \\sin{\\left(2 x \\right)}}{\\left(x + 1\\right)^{6}}\\right)}{x + 1} $$"
      ],
      "text/plain": [
       "<IPython.core.display.Latex object>"
      ]
     },
     "metadata": {},
     "output_type": "display_data"
    },
    {
     "data": {
      "text/latex": [
       "$$ y^{(6)}(0) = -672 $$"
      ],
      "text/plain": [
       "<IPython.core.display.Latex object>"
      ]
     },
     "metadata": {},
     "output_type": "display_data"
    },
    {
     "name": "stdout",
     "output_type": "stream",
     "text": [
      "7 порядок\n"
     ]
    },
    {
     "data": {
      "text/latex": [
       "$$ y^{(7)} = \\frac{16 \\left(- 8 \\cos{\\left(2 x \\right)} + \\frac{28 \\sin{\\left(2 x \\right)}}{x + 1} + \\frac{84 \\cos{\\left(2 x \\right)}}{\\left(x + 1\\right)^{2}} - \\frac{210 \\sin{\\left(2 x \\right)}}{\\left(x + 1\\right)^{3}} - \\frac{420 \\cos{\\left(2 x \\right)}}{\\left(x + 1\\right)^{4}} + \\frac{630 \\sin{\\left(2 x \\right)}}{\\left(x + 1\\right)^{5}} + \\frac{630 \\cos{\\left(2 x \\right)}}{\\left(x + 1\\right)^{6}} - \\frac{315 \\sin{\\left(2 x \\right)}}{\\left(x + 1\\right)^{7}}\\right)}{x + 1} $$"
      ],
      "text/plain": [
       "<IPython.core.display.Latex object>"
      ]
     },
     "metadata": {},
     "output_type": "display_data"
    },
    {
     "data": {
      "text/latex": [
       "$$ y^{(7)}(0) = 4576 $$"
      ],
      "text/plain": [
       "<IPython.core.display.Latex object>"
      ]
     },
     "metadata": {},
     "output_type": "display_data"
    },
    {
     "name": "stdout",
     "output_type": "stream",
     "text": [
      "8 порядок\n"
     ]
    },
    {
     "data": {
      "text/latex": [
       "$$ y^{(8)} = \\frac{128 \\left(2 \\sin{\\left(2 x \\right)} + \\frac{8 \\cos{\\left(2 x \\right)}}{x + 1} - \\frac{28 \\sin{\\left(2 x \\right)}}{\\left(x + 1\\right)^{2}} - \\frac{84 \\cos{\\left(2 x \\right)}}{\\left(x + 1\\right)^{3}} + \\frac{210 \\sin{\\left(2 x \\right)}}{\\left(x + 1\\right)^{4}} + \\frac{420 \\cos{\\left(2 x \\right)}}{\\left(x + 1\\right)^{5}} - \\frac{630 \\sin{\\left(2 x \\right)}}{\\left(x + 1\\right)^{6}} - \\frac{630 \\cos{\\left(2 x \\right)}}{\\left(x + 1\\right)^{7}} + \\frac{315 \\sin{\\left(2 x \\right)}}{\\left(x + 1\\right)^{8}}\\right)}{x + 1} $$"
      ],
      "text/plain": [
       "<IPython.core.display.Latex object>"
      ]
     },
     "metadata": {},
     "output_type": "display_data"
    },
    {
     "data": {
      "text/latex": [
       "$$ y^{(8)}(0) = -36608 $$"
      ],
      "text/plain": [
       "<IPython.core.display.Latex object>"
      ]
     },
     "metadata": {},
     "output_type": "display_data"
    },
    {
     "name": "stdout",
     "output_type": "stream",
     "text": [
      "Разложение в ряд подынтегрального выражения\n"
     ]
    },
    {
     "data": {
      "text/latex": [
       "$$ \\frac{\\sin{\\left(2 x \\right)}}{x + 1} = \\frac{286 x^{7}}{315} - \\frac{14 x^{6}}{15} + \\frac{14 x^{5}}{15} - \\frac{2 x^{4}}{3} + \\frac{2 x^{3}}{3} - 2 x^{2} + 2 x$$"
      ],
      "text/plain": [
       "<IPython.core.display.Latex object>"
      ]
     },
     "metadata": {},
     "output_type": "display_data"
    },
    {
     "name": "stdout",
     "output_type": "stream",
     "text": [
      "Находим неопределённый интеграл\n",
      "Убираем последние 2 члена т.к. они дают меньше нужной точности\n"
     ]
    },
    {
     "data": {
      "text/latex": [
       "$$ \\int\\limits_{0}^{0.5} \\frac{\\sin{\\left(2 x \\right)}}{x + 1}\\, dx\\approx\\int\\limits_{0}^{0.5} \\left(\\frac{286 x^{7}}{315} - \\frac{14 x^{6}}{15} + \\frac{14 x^{5}}{15} - \\frac{2 x^{4}}{3} + \\frac{2 x^{3}}{3} - 2 x^{2} + 2 x\\right)\\, dx = \\bigg(\\frac{143 x^{8}}{1260} - \\frac{2 x^{7}}{15} + \\frac{7 x^{6}}{45} - \\frac{2 x^{5}}{15} + \\frac{x^{4}}{6} - \\frac{2 x^{3}}{3} + x^{2}\\bigg)\\bigg|_0^{0.5}= \\bigg[\\bigg(\\frac{143 \\cdot 0.5^{8}}{1260} - \\frac{2 \\cdot 0.5^{7}}{15}\\bigg) < 0.001\\bigg] +\\frac{7 \\cdot 0.5^{6}}{45} - \\frac{2 \\cdot 0.5^{5}}{15} + \\frac{0.5^{4}}{6} - \\frac{2 \\cdot 0.5^{3}}{3} + 0.5^{2}\\approx\\frac{7 \\cdot 0.5^{6}}{45} - \\frac{2 \\cdot 0.5^{5}}{15} + \\frac{0.5^{4}}{6} - \\frac{2 \\cdot 0.5^{3}}{3} + 0.5^{2}\\approx0.175347222222222$$"
      ],
      "text/plain": [
       "<IPython.core.display.Latex object>"
      ]
     },
     "metadata": {},
     "output_type": "display_data"
    },
    {
     "name": "stdout",
     "output_type": "stream",
     "text": [
      "Численный ответ =  0.175347222222222\n",
      "Точность 0.0005983383\n"
     ]
    }
   ],
   "source": [
    "main(expr, True)"
   ]
  },
  {
   "cell_type": "markdown",
   "id": "7a5d90fb",
   "metadata": {},
   "source": [
    "# Вычисление по количеству членов"
   ]
  },
  {
   "cell_type": "code",
   "execution_count": 12,
   "id": "30c41172",
   "metadata": {
    "ExecuteTime": {
     "end_time": "2022-04-02T15:02:00.424632Z",
     "start_time": "2022-04-02T15:01:59.993535Z"
    }
   },
   "outputs": [
    {
     "name": "stdout",
     "output_type": "stream",
     "text": [
      "Выражение\n"
     ]
    },
    {
     "data": {
      "text/latex": [
       "$$ \\frac{\\sin{\\left(2 x \\right)}}{x + 1} $$"
      ],
      "text/plain": [
       "<IPython.core.display.Latex object>"
      ]
     },
     "metadata": {},
     "output_type": "display_data"
    },
    {
     "name": "stdout",
     "output_type": "stream",
     "text": [
      "0 порядок\n"
     ]
    },
    {
     "data": {
      "text/latex": [
       "$$ y = \\frac{\\sin{\\left(2 x \\right)}}{x + 1} $$"
      ],
      "text/plain": [
       "<IPython.core.display.Latex object>"
      ]
     },
     "metadata": {},
     "output_type": "display_data"
    },
    {
     "data": {
      "text/latex": [
       "$$ y(0) = 0 $$"
      ],
      "text/plain": [
       "<IPython.core.display.Latex object>"
      ]
     },
     "metadata": {},
     "output_type": "display_data"
    },
    {
     "name": "stdout",
     "output_type": "stream",
     "text": [
      "1 порядок\n"
     ]
    },
    {
     "data": {
      "text/latex": [
       "$$ y^{'} = \\frac{2 \\cos{\\left(2 x \\right)}}{x + 1} - \\frac{\\sin{\\left(2 x \\right)}}{\\left(x + 1\\right)^{2}} $$"
      ],
      "text/plain": [
       "<IPython.core.display.Latex object>"
      ]
     },
     "metadata": {},
     "output_type": "display_data"
    },
    {
     "data": {
      "text/latex": [
       "$$ y^{'}(0) = 2 $$"
      ],
      "text/plain": [
       "<IPython.core.display.Latex object>"
      ]
     },
     "metadata": {},
     "output_type": "display_data"
    },
    {
     "name": "stdout",
     "output_type": "stream",
     "text": [
      "2 порядок\n"
     ]
    },
    {
     "data": {
      "text/latex": [
       "$$ y^{''} = \\frac{2 \\left(- 2 \\sin{\\left(2 x \\right)} - \\frac{2 \\cos{\\left(2 x \\right)}}{x + 1} + \\frac{\\sin{\\left(2 x \\right)}}{\\left(x + 1\\right)^{2}}\\right)}{x + 1} $$"
      ],
      "text/plain": [
       "<IPython.core.display.Latex object>"
      ]
     },
     "metadata": {},
     "output_type": "display_data"
    },
    {
     "data": {
      "text/latex": [
       "$$ y^{''}(0) = -4 $$"
      ],
      "text/plain": [
       "<IPython.core.display.Latex object>"
      ]
     },
     "metadata": {},
     "output_type": "display_data"
    },
    {
     "name": "stdout",
     "output_type": "stream",
     "text": [
      "3 порядок\n"
     ]
    },
    {
     "data": {
      "text/latex": [
       "$$ y^{'''} = \\frac{2 \\left(- 4 \\cos{\\left(2 x \\right)} + \\frac{6 \\sin{\\left(2 x \\right)}}{x + 1} + \\frac{6 \\cos{\\left(2 x \\right)}}{\\left(x + 1\\right)^{2}} - \\frac{3 \\sin{\\left(2 x \\right)}}{\\left(x + 1\\right)^{3}}\\right)}{x + 1} $$"
      ],
      "text/plain": [
       "<IPython.core.display.Latex object>"
      ]
     },
     "metadata": {},
     "output_type": "display_data"
    },
    {
     "data": {
      "text/latex": [
       "$$ y^{'''}(0) = 4 $$"
      ],
      "text/plain": [
       "<IPython.core.display.Latex object>"
      ]
     },
     "metadata": {},
     "output_type": "display_data"
    },
    {
     "name": "stdout",
     "output_type": "stream",
     "text": [
      "4 порядок\n"
     ]
    },
    {
     "data": {
      "text/latex": [
       "$$ y^{(4)} = \\frac{8 \\left(2 \\sin{\\left(2 x \\right)} + \\frac{4 \\cos{\\left(2 x \\right)}}{x + 1} - \\frac{6 \\sin{\\left(2 x \\right)}}{\\left(x + 1\\right)^{2}} - \\frac{6 \\cos{\\left(2 x \\right)}}{\\left(x + 1\\right)^{3}} + \\frac{3 \\sin{\\left(2 x \\right)}}{\\left(x + 1\\right)^{4}}\\right)}{x + 1} $$"
      ],
      "text/plain": [
       "<IPython.core.display.Latex object>"
      ]
     },
     "metadata": {},
     "output_type": "display_data"
    },
    {
     "data": {
      "text/latex": [
       "$$ y^{(4)}(0) = -16 $$"
      ],
      "text/plain": [
       "<IPython.core.display.Latex object>"
      ]
     },
     "metadata": {},
     "output_type": "display_data"
    },
    {
     "name": "stdout",
     "output_type": "stream",
     "text": [
      "Разложение в ряд подынтегрального выражения\n"
     ]
    },
    {
     "data": {
      "text/latex": [
       "$$ \\frac{\\sin{\\left(2 x \\right)}}{x + 1} = \\frac{2 x^{3}}{3} - 2 x^{2} + 2 x$$"
      ],
      "text/plain": [
       "<IPython.core.display.Latex object>"
      ]
     },
     "metadata": {},
     "output_type": "display_data"
    },
    {
     "name": "stdout",
     "output_type": "stream",
     "text": [
      "Находим неопределённый интеграл\n"
     ]
    },
    {
     "data": {
      "text/latex": [
       "$$ \\int\\limits_{0}^{0.5} \\frac{\\sin{\\left(2 x \\right)}}{x + 1}\\, dx\\approx\\int\\limits_{0}^{0.5} \\left(\\frac{2 x^{3}}{3} - 2 x^{2} + 2 x\\right)\\, dx = \\bigg(\\frac{x^{4}}{6} - \\frac{2 x^{3}}{3} + x^{2}\\bigg)\\bigg|_0^{0.5}= \\frac{0.5^{4}}{6} - \\frac{2 \\cdot 0.5^{3}}{3} + 0.5^{2}\\approx0.177083333333333$$"
      ],
      "text/plain": [
       "<IPython.core.display.Latex object>"
      ]
     },
     "metadata": {},
     "output_type": "display_data"
    },
    {
     "name": "stdout",
     "output_type": "stream",
     "text": [
      "Численный ответ =  0.177083333333333\n",
      "Точность 0.0729166667\n"
     ]
    }
   ],
   "source": [
    "main(expr, False)"
   ]
  },
  {
   "cell_type": "code",
   "execution_count": null,
   "id": "e295726d",
   "metadata": {},
   "outputs": [],
   "source": []
  }
 ],
 "metadata": {
  "kernelspec": {
   "display_name": "Python 3",
   "language": "python",
   "name": "python3"
  },
  "language_info": {
   "codemirror_mode": {
    "name": "ipython",
    "version": 3
   },
   "file_extension": ".py",
   "mimetype": "text/x-python",
   "name": "python",
   "nbconvert_exporter": "python",
   "pygments_lexer": "ipython3",
   "version": "3.8.8"
  },
  "latex_envs": {
   "LaTeX_envs_menu_present": true,
   "autoclose": false,
   "autocomplete": true,
   "bibliofile": "biblio.bib",
   "cite_by": "apalike",
   "current_citInitial": 1,
   "eqLabelWithNumbers": true,
   "eqNumInitial": 1,
   "hotkeys": {
    "equation": "Ctrl-E",
    "itemize": "Ctrl-I"
   },
   "labels_anchors": false,
   "latex_user_defs": false,
   "report_style_numbering": false,
   "user_envs_cfg": false
  },
  "varInspector": {
   "cols": {
    "lenName": 16,
    "lenType": 16,
    "lenVar": 40
   },
   "kernels_config": {
    "python": {
     "delete_cmd_postfix": "",
     "delete_cmd_prefix": "del ",
     "library": "var_list.py",
     "varRefreshCmd": "print(var_dic_list())"
    },
    "r": {
     "delete_cmd_postfix": ") ",
     "delete_cmd_prefix": "rm(",
     "library": "var_list.r",
     "varRefreshCmd": "cat(var_dic_list()) "
    }
   },
   "types_to_exclude": [
    "module",
    "function",
    "builtin_function_or_method",
    "instance",
    "_Feature"
   ],
   "window_display": false
  }
 },
 "nbformat": 4,
 "nbformat_minor": 5
}
