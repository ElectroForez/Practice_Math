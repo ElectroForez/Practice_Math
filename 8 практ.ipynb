{
 "cells": [
  {
   "cell_type": "code",
   "execution_count": 1,
   "id": "09ac5cec",
   "metadata": {
    "ExecuteTime": {
     "end_time": "2022-03-01T09:33:17.574327Z",
     "start_time": "2022-03-01T09:33:16.029591Z"
    }
   },
   "outputs": [
    {
     "name": "stdout",
     "output_type": "stream",
     "text": [
      "Requirement already satisfied: sympy in /home/vladt/.local/lib/python3.9/site-packages (1.9)\r\n",
      "Requirement already satisfied: mpmath>=0.19 in /home/vladt/.local/lib/python3.9/site-packages (from sympy) (1.2.1)\r\n"
     ]
    }
   ],
   "source": [
    "!pip install sympy"
   ]
  },
  {
   "cell_type": "code",
   "execution_count": 2,
   "id": "5933a7ae",
   "metadata": {
    "ExecuteTime": {
     "end_time": "2022-03-01T09:33:17.888570Z",
     "start_time": "2022-03-01T09:33:17.579481Z"
    }
   },
   "outputs": [],
   "source": [
    "import os\n",
    "import sys\n",
    "from sympy import *\n",
    "init_printing()"
   ]
  },
  {
   "cell_type": "code",
   "execution_count": 3,
   "id": "f1f79348",
   "metadata": {
    "ExecuteTime": {
     "end_time": "2022-03-01T09:33:17.892484Z",
     "start_time": "2022-03-01T09:33:17.890264Z"
    }
   },
   "outputs": [],
   "source": [
    "from IPython.core.interactiveshell import InteractiveShell\n",
    "InteractiveShell.ast_node_interactivity = \"all\""
   ]
  },
  {
   "cell_type": "code",
   "execution_count": 4,
   "id": "e5cfcaf9",
   "metadata": {
    "ExecuteTime": {
     "end_time": "2022-03-01T09:33:17.900074Z",
     "start_time": "2022-03-01T09:33:17.893985Z"
    }
   },
   "outputs": [],
   "source": [
    "def get_degree(el):#только для массивов без элементов в виде чисел\n",
    "    '''\n",
    "    Эта функция используется для сортировки членов интеграла по степеням,\n",
    "    а то там порядок сбивается, и отрицательные члены сначала идут\n",
    "    '''\n",
    "    if ask(Q.extended_real(el)):\n",
    "        return el\n",
    "    arg = el.args\n",
    "    if len(arg) > 1:\n",
    "        return get_degree(arg[-1])\n",
    "    if len(arg) == 0:\n",
    "        return 1"
   ]
  },
  {
   "cell_type": "code",
   "execution_count": 5,
   "id": "588d7839",
   "metadata": {
    "ExecuteTime": {
     "end_time": "2022-03-01T09:33:17.909477Z",
     "start_time": "2022-03-01T09:33:17.901336Z"
    }
   },
   "outputs": [],
   "source": [
    "cosh.__name__='ch'\n",
    "sinh.__name__='sh'"
   ]
  },
  {
   "cell_type": "code",
   "execution_count": 6,
   "id": "cc0abb6b",
   "metadata": {
    "ExecuteTime": {
     "end_time": "2022-03-01T09:33:17.918562Z",
     "start_time": "2022-03-01T09:33:17.910712Z"
    }
   },
   "outputs": [],
   "source": [
    "x = Symbol('x')\n",
    "y = Symbol('y')"
   ]
  },
  {
   "cell_type": "markdown",
   "id": "e8ded61c",
   "metadata": {
    "ExecuteTime": {
     "end_time": "2022-02-25T19:56:36.150569Z",
     "start_time": "2022-02-25T19:56:36.146942Z"
    }
   },
   "source": [
    "# КАК ПИСАТЬ ВЫРАЖЕНИЯ"
   ]
  },
  {
   "cell_type": "markdown",
   "id": "02a7bf03",
   "metadata": {},
   "source": [
    "е в степени"
   ]
  },
  {
   "cell_type": "code",
   "execution_count": 7,
   "id": "e758b675",
   "metadata": {
    "ExecuteTime": {
     "end_time": "2022-03-01T09:33:18.075650Z",
     "start_time": "2022-03-01T09:33:17.919808Z"
    }
   },
   "outputs": [
    {
     "data": {
      "text/latex": [
       "$\\displaystyle e^{- 2 x^{2}}$"
      ],
      "text/plain": [
       "     2\n",
       " -2⋅x \n",
       "ℯ     "
      ]
     },
     "execution_count": 7,
     "metadata": {},
     "output_type": "execute_result"
    }
   ],
   "source": [
    "exp(-2 * x ** 2)"
   ]
  },
  {
   "cell_type": "markdown",
   "id": "77df52ea",
   "metadata": {},
   "source": [
    "Дробь, где только циферки"
   ]
  },
  {
   "cell_type": "code",
   "execution_count": 8,
   "id": "597fa759",
   "metadata": {
    "ExecuteTime": {
     "end_time": "2022-03-01T09:33:18.081064Z",
     "start_time": "2022-03-01T09:33:18.076850Z"
    }
   },
   "outputs": [
    {
     "data": {
      "text/latex": [
       "$\\displaystyle \\frac{1}{2}$"
      ],
      "text/plain": [
       "1/2"
      ]
     },
     "execution_count": 8,
     "metadata": {},
     "output_type": "execute_result"
    }
   ],
   "source": [
    "Rational(1, 2)"
   ]
  },
  {
   "cell_type": "markdown",
   "id": "6d8051f5",
   "metadata": {},
   "source": [
    "Так эти дроби писать не надо!"
   ]
  },
  {
   "cell_type": "code",
   "execution_count": 9,
   "id": "6b211f9d",
   "metadata": {
    "ExecuteTime": {
     "end_time": "2022-03-01T09:33:18.095609Z",
     "start_time": "2022-03-01T09:33:18.082233Z"
    }
   },
   "outputs": [
    {
     "data": {
      "text/latex": [
       "$\\displaystyle 0.5$"
      ],
      "text/plain": [
       "0.5"
      ]
     },
     "execution_count": 9,
     "metadata": {},
     "output_type": "execute_result"
    }
   ],
   "source": [
    "1 / 2"
   ]
  },
  {
   "cell_type": "markdown",
   "id": "4c9eb68d",
   "metadata": {
    "ExecuteTime": {
     "end_time": "2022-02-25T20:00:05.757853Z",
     "start_time": "2022-02-25T20:00:05.750828Z"
    }
   },
   "source": [
    "Дробь с букавками"
   ]
  },
  {
   "cell_type": "code",
   "execution_count": 10,
   "id": "3feef46c",
   "metadata": {
    "ExecuteTime": {
     "end_time": "2022-03-01T09:33:18.105754Z",
     "start_time": "2022-03-01T09:33:18.097258Z"
    }
   },
   "outputs": [
    {
     "data": {
      "text/latex": [
       "$\\displaystyle \\frac{e^{- 2 x^{2}}}{\\sqrt{x}}$"
      ],
      "text/plain": [
       "     2\n",
       " -2⋅x \n",
       "ℯ     \n",
       "──────\n",
       "  √x  "
      ]
     },
     "execution_count": 10,
     "metadata": {},
     "output_type": "execute_result"
    }
   ],
   "source": [
    "exp(-2 * x ** 2) / sqrt(x)"
   ]
  },
  {
   "cell_type": "markdown",
   "id": "0b6ccae8",
   "metadata": {},
   "source": [
    "Корень произвольной степени. Знаменатель и есть степень корня. Вспоминайте математику"
   ]
  },
  {
   "cell_type": "code",
   "execution_count": 11,
   "id": "cf194082",
   "metadata": {
    "ExecuteTime": {
     "end_time": "2022-03-01T09:33:18.116343Z",
     "start_time": "2022-03-01T09:33:18.106717Z"
    }
   },
   "outputs": [
    {
     "data": {
      "text/latex": [
       "$\\displaystyle \\sqrt[3]{x + 1}$"
      ],
      "text/plain": [
       "3 _______\n",
       "╲╱ x + 1 "
      ]
     },
     "execution_count": 11,
     "metadata": {},
     "output_type": "execute_result"
    }
   ],
   "source": [
    "(x + 1) ** Rational(1, 3)"
   ]
  },
  {
   "cell_type": "markdown",
   "id": "66101a36",
   "metadata": {},
   "source": [
    "# Вставьте здесь ваши параметры"
   ]
  },
  {
   "cell_type": "code",
   "execution_count": 31,
   "id": "32ebad2b",
   "metadata": {
    "ExecuteTime": {
     "end_time": "2022-03-01T09:57:21.853780Z",
     "start_time": "2022-03-01T09:57:21.842026Z"
    },
    "scrolled": false
   },
   "outputs": [
    {
     "name": "stdout",
     "output_type": "stream",
     "text": [
      "Проверьте, что ваше выражение корректно отображается!\n"
     ]
    },
    {
     "data": {
      "text/latex": [
       "$\\displaystyle \\int\\limits_{0}^{0.25} \\sqrt{x} \\sin{\\left(x^{2} \\right)}\\, dx$"
      ],
      "text/plain": [
       "0.25              \n",
       " ⌠                \n",
       " ⎮         ⎛ 2⎞   \n",
       " ⎮   √x⋅sin⎝x ⎠ dx\n",
       " ⌡                \n",
       " 0                "
      ]
     },
     "execution_count": 31,
     "metadata": {},
     "output_type": "execute_result"
    },
    {
     "name": "stdout",
     "output_type": "stream",
     "text": [
      "Вычислить с точностью = 0.001\n"
     ]
    }
   ],
   "source": [
    "x0 = 0 #в этой задаче он должен быть 0, поэтому не меняем\n",
    "accuracy = 0.001 # до производной какой степени считать\n",
    "n = 3 #количество. Минимум 2 должно быть\n",
    "a = 0.25# a в интеграле(верхняя циферка). Нижняя у всех 0\n",
    "expr = (x) ** Rational(1, 2)*sin(x**2)#<------- здесь должно быть ваше выражение\n",
    "print('Проверьте, что ваше выражение корректно отображается!')\n",
    "Integral(expr, (x, 0, a))\n",
    "print('Вычислить с точностью =', accuracy)"
   ]
  },
  {
   "cell_type": "code",
   "execution_count": 35,
   "id": "ed9f9691",
   "metadata": {
    "ExecuteTime": {
     "end_time": "2022-03-01T10:02:27.113162Z",
     "start_time": "2022-03-01T10:02:27.029585Z"
    }
   },
   "outputs": [
    {
     "name": "stdout",
     "output_type": "stream",
     "text": [
      "В знаменателе только x, поэтому его мы игнорируем при дифференцировании, а потом, получив дифференциал, поделием его на этот знаменатель\n",
      "В коде ниже будет результат вместе с делением\n"
     ]
    },
    {
     "data": {
      "text/latex": [
       "$\\displaystyle 2 x \\sin{\\left(x^{2} \\right)}$"
      ],
      "text/plain": [
       "       ⎛ 2⎞\n",
       "2⋅x⋅sin⎝x ⎠"
      ]
     },
     "execution_count": 35,
     "metadata": {},
     "output_type": "execute_result"
    }
   ],
   "source": [
    "good_detominator = True\n",
    "for el in expr.args:\n",
    "    degree = get_degree(el)\n",
    "    if (degree is None or ask(Q.extended_real(el))) or degree > 1:\n",
    "        continue\n",
    "    denominator = diff(el, x)\n",
    "    if not ask(Q.extended_real(denominator.subs(x, 0))):\n",
    "        print('В знаменателе только x, поэтому его мы игнорируем при дифференцировании, а потом, получив дифференциал, поделием его на этот знаменатель')\n",
    "        print('В коде ниже будет результат вместе с делением')\n",
    "        new_expr = expr / denominator\n",
    "        new_expr\n",
    "        good_detominator = False\n",
    "        break"
   ]
  },
  {
   "cell_type": "code",
   "execution_count": 36,
   "id": "fa1e3773",
   "metadata": {
    "ExecuteTime": {
     "end_time": "2022-03-01T10:03:47.483691Z",
     "start_time": "2022-03-01T10:03:47.477028Z"
    }
   },
   "outputs": [
    {
     "data": {
      "text/latex": [
       "$\\displaystyle \\frac{1}{2 \\sqrt{x}}$"
      ],
      "text/plain": [
       " 1  \n",
       "────\n",
       "2⋅√x"
      ]
     },
     "execution_count": 36,
     "metadata": {},
     "output_type": "execute_result"
    }
   ],
   "source": [
    "denominator"
   ]
  },
  {
   "cell_type": "markdown",
   "id": "21218a8d",
   "metadata": {},
   "source": [
    "# Вычисление по точности"
   ]
  },
  {
   "cell_type": "markdown",
   "id": "4c608c40",
   "metadata": {},
   "source": [
    "но Виклянчук сказала, что нужно минимум 4 члена высчитать, поэтому минимум 4 члена и выведется"
   ]
  },
  {
   "cell_type": "code",
   "execution_count": 29,
   "id": "cf4fd78a",
   "metadata": {
    "ExecuteTime": {
     "end_time": "2022-03-01T09:50:32.233755Z",
     "start_time": "2022-03-01T09:50:22.854049Z"
    },
    "scrolled": true
   },
   "outputs": [
    {
     "name": "stdout",
     "output_type": "stream",
     "text": [
      "Выражение\n"
     ]
    },
    {
     "data": {
      "text/latex": [
       "$\\displaystyle \\sqrt{x} \\sin{\\left(x^{2} \\right)}$"
      ],
      "text/plain": [
       "      ⎛ 2⎞\n",
       "√x⋅sin⎝x ⎠"
      ]
     },
     "execution_count": 29,
     "metadata": {},
     "output_type": "execute_result"
    },
    {
     "name": "stdout",
     "output_type": "stream",
     "text": [
      "0 порядок\n",
      "Дифференциал\n"
     ]
    },
    {
     "data": {
      "text/latex": [
       "$\\displaystyle y = \\sqrt{x} \\sin{\\left(x^{2} \\right)}$"
      ],
      "text/plain": [
       "          ⎛ 2⎞\n",
       "y = √x⋅sin⎝x ⎠"
      ]
     },
     "execution_count": 29,
     "metadata": {},
     "output_type": "execute_result"
    },
    {
     "name": "stdout",
     "output_type": "stream",
     "text": [
      "При x = 0\n"
     ]
    },
    {
     "data": {
      "text/latex": [
       "$\\displaystyle y = 0$"
      ],
      "text/plain": [
       "y = 0"
      ]
     },
     "execution_count": 29,
     "metadata": {},
     "output_type": "execute_result"
    },
    {
     "name": "stdout",
     "output_type": "stream",
     "text": [
      "1 порядок\n",
      "Дифференциал\n"
     ]
    },
    {
     "data": {
      "text/latex": [
       "$\\displaystyle y = \\frac{4 x^{2} \\cos{\\left(x^{2} \\right)} + \\sin{\\left(x^{2} \\right)}}{2 \\sqrt{x}}$"
      ],
      "text/plain": [
       "       2    ⎛ 2⎞      ⎛ 2⎞\n",
       "    4⋅x ⋅cos⎝x ⎠ + sin⎝x ⎠\n",
       "y = ──────────────────────\n",
       "             2⋅√x         "
      ]
     },
     "execution_count": 29,
     "metadata": {},
     "output_type": "execute_result"
    },
    {
     "name": "stdout",
     "output_type": "stream",
     "text": [
      "При x = 0\n"
     ]
    },
    {
     "data": {
      "text/latex": [
       "$\\displaystyle \\text{False}$"
      ],
      "text/plain": [
       "False"
      ]
     },
     "execution_count": 29,
     "metadata": {},
     "output_type": "execute_result"
    },
    {
     "name": "stdout",
     "output_type": "stream",
     "text": [
      "2 порядок\n",
      "Дифференциал\n"
     ]
    },
    {
     "data": {
      "text/latex": [
       "$\\displaystyle y = \\frac{16 x^{2} \\left(- x^{2} \\sin{\\left(x^{2} \\right)} + \\cos{\\left(x^{2} \\right)}\\right) - \\sin{\\left(x^{2} \\right)}}{4 x^{\\frac{3}{2}}}$"
      ],
      "text/plain": [
       "        2 ⎛   2    ⎛ 2⎞      ⎛ 2⎞⎞      ⎛ 2⎞\n",
       "    16⋅x ⋅⎝- x ⋅sin⎝x ⎠ + cos⎝x ⎠⎠ - sin⎝x ⎠\n",
       "y = ────────────────────────────────────────\n",
       "                        3/2                 \n",
       "                     4⋅x                    "
      ]
     },
     "execution_count": 29,
     "metadata": {},
     "output_type": "execute_result"
    },
    {
     "name": "stdout",
     "output_type": "stream",
     "text": [
      "При x = 0\n"
     ]
    },
    {
     "data": {
      "text/latex": [
       "$\\displaystyle \\text{False}$"
      ],
      "text/plain": [
       "False"
      ]
     },
     "execution_count": 29,
     "metadata": {},
     "output_type": "execute_result"
    },
    {
     "name": "stdout",
     "output_type": "stream",
     "text": [
      "3 порядок\n",
      "Дифференциал\n"
     ]
    },
    {
     "data": {
      "text/latex": [
       "$\\displaystyle y = \\frac{- 64 x^{6} \\cos{\\left(x^{2} \\right)} - 144 x^{4} \\sin{\\left(x^{2} \\right)} + 12 x^{2} \\cos{\\left(x^{2} \\right)} + 3 \\sin{\\left(x^{2} \\right)}}{8 x^{\\frac{5}{2}}}$"
      ],
      "text/plain": [
       "          6    ⎛ 2⎞        4    ⎛ 2⎞       2    ⎛ 2⎞        ⎛ 2⎞\n",
       "    - 64⋅x ⋅cos⎝x ⎠ - 144⋅x ⋅sin⎝x ⎠ + 12⋅x ⋅cos⎝x ⎠ + 3⋅sin⎝x ⎠\n",
       "y = ────────────────────────────────────────────────────────────\n",
       "                                  5/2                           \n",
       "                               8⋅x                              "
      ]
     },
     "execution_count": 29,
     "metadata": {},
     "output_type": "execute_result"
    },
    {
     "name": "stdout",
     "output_type": "stream",
     "text": [
      "При x = 0\n"
     ]
    },
    {
     "data": {
      "text/latex": [
       "$\\displaystyle \\text{False}$"
      ],
      "text/plain": [
       "False"
      ]
     },
     "execution_count": 29,
     "metadata": {},
     "output_type": "execute_result"
    },
    {
     "name": "stdout",
     "output_type": "stream",
     "text": [
      "4 порядок\n",
      "Дифференциал\n"
     ]
    },
    {
     "data": {
      "text/latex": [
       "$\\displaystyle y = \\frac{256 x^{8} \\sin{\\left(x^{2} \\right)} - 1024 x^{6} \\cos{\\left(x^{2} \\right)} - 480 x^{4} \\sin{\\left(x^{2} \\right)} - 15 \\sin{\\left(x^{2} \\right)}}{16 x^{\\frac{7}{2}}}$"
      ],
      "text/plain": [
       "         8    ⎛ 2⎞         6    ⎛ 2⎞        4    ⎛ 2⎞         ⎛ 2⎞\n",
       "    256⋅x ⋅sin⎝x ⎠ - 1024⋅x ⋅cos⎝x ⎠ - 480⋅x ⋅sin⎝x ⎠ - 15⋅sin⎝x ⎠\n",
       "y = ──────────────────────────────────────────────────────────────\n",
       "                                   7/2                            \n",
       "                               16⋅x                               "
      ]
     },
     "execution_count": 29,
     "metadata": {},
     "output_type": "execute_result"
    },
    {
     "name": "stdout",
     "output_type": "stream",
     "text": [
      "При x = 0\n"
     ]
    },
    {
     "data": {
      "text/latex": [
       "$\\displaystyle \\text{False}$"
      ],
      "text/plain": [
       "False"
      ]
     },
     "execution_count": 29,
     "metadata": {},
     "output_type": "execute_result"
    },
    {
     "name": "stdout",
     "output_type": "stream",
     "text": [
      "5 порядок\n",
      "Дифференциал\n"
     ]
    },
    {
     "data": {
      "text/latex": [
       "$\\displaystyle y = \\frac{1024 x^{10} \\cos{\\left(x^{2} \\right)} + 6400 x^{8} \\sin{\\left(x^{2} \\right)} - 7040 x^{6} \\cos{\\left(x^{2} \\right)} - 480 x^{4} \\sin{\\left(x^{2} \\right)} - 60 x^{2} \\cos{\\left(x^{2} \\right)} + 105 \\sin{\\left(x^{2} \\right)}}{32 x^{\\frac{9}{2}}}$"
      ],
      "text/plain": [
       "          10    ⎛ 2⎞         8    ⎛ 2⎞         6    ⎛ 2⎞        4    ⎛ 2⎞     \n",
       "    1024⋅x  ⋅cos⎝x ⎠ + 6400⋅x ⋅sin⎝x ⎠ - 7040⋅x ⋅cos⎝x ⎠ - 480⋅x ⋅sin⎝x ⎠ - 60\n",
       "y = ──────────────────────────────────────────────────────────────────────────\n",
       "                                                      9/2                     \n",
       "                                                  32⋅x                        \n",
       "\n",
       "  2    ⎛ 2⎞          ⎛ 2⎞\n",
       "⋅x ⋅cos⎝x ⎠ + 105⋅sin⎝x ⎠\n",
       "─────────────────────────\n",
       "                         \n",
       "                         "
      ]
     },
     "execution_count": 29,
     "metadata": {},
     "output_type": "execute_result"
    },
    {
     "name": "stdout",
     "output_type": "stream",
     "text": [
      "При x = 0\n"
     ]
    },
    {
     "data": {
      "text/latex": [
       "$\\displaystyle \\text{False}$"
      ],
      "text/plain": [
       "False"
      ]
     },
     "execution_count": 29,
     "metadata": {},
     "output_type": "execute_result"
    },
    {
     "name": "stdout",
     "output_type": "stream",
     "text": [
      "6 порядок\n",
      "Дифференциал\n"
     ]
    },
    {
     "data": {
      "text/latex": [
       "$\\displaystyle y = \\frac{- 4096 x^{12} \\sin{\\left(x^{2} \\right)} + 36864 x^{10} \\cos{\\left(x^{2} \\right)} + 72960 x^{8} \\sin{\\left(x^{2} \\right)} - 23040 x^{6} \\cos{\\left(x^{2} \\right)} + 720 x^{4} \\sin{\\left(x^{2} \\right)} + 720 x^{2} \\cos{\\left(x^{2} \\right)} - 945 \\sin{\\left(x^{2} \\right)}}{64 x^{\\frac{11}{2}}}$"
      ],
      "text/plain": [
       "            12    ⎛ 2⎞          10    ⎛ 2⎞          8    ⎛ 2⎞          6    ⎛ \n",
       "    - 4096⋅x  ⋅sin⎝x ⎠ + 36864⋅x  ⋅cos⎝x ⎠ + 72960⋅x ⋅sin⎝x ⎠ - 23040⋅x ⋅cos⎝x\n",
       "y = ──────────────────────────────────────────────────────────────────────────\n",
       "                                                                  11/2        \n",
       "                                                              64⋅x            \n",
       "\n",
       "2⎞        4    ⎛ 2⎞        2    ⎛ 2⎞          ⎛ 2⎞\n",
       " ⎠ + 720⋅x ⋅sin⎝x ⎠ + 720⋅x ⋅cos⎝x ⎠ - 945⋅sin⎝x ⎠\n",
       "──────────────────────────────────────────────────\n",
       "                                                  \n",
       "                                                  "
      ]
     },
     "execution_count": 29,
     "metadata": {},
     "output_type": "execute_result"
    },
    {
     "name": "stdout",
     "output_type": "stream",
     "text": [
      "При x = 0\n"
     ]
    },
    {
     "data": {
      "text/latex": [
       "$\\displaystyle \\text{False}$"
      ],
      "text/plain": [
       "False"
      ]
     },
     "execution_count": 29,
     "metadata": {},
     "output_type": "execute_result"
    },
    {
     "name": "stdout",
     "output_type": "stream",
     "text": [
      "7 порядок\n",
      "Дифференциал\n"
     ]
    },
    {
     "data": {
      "text/latex": [
       "$\\displaystyle y = \\frac{- 16384 x^{14} \\cos{\\left(x^{2} \\right)} - 200704 x^{12} \\sin{\\left(x^{2} \\right)} + 623616 x^{10} \\cos{\\left(x^{2} \\right)} + 456960 x^{8} \\sin{\\left(x^{2} \\right)} - 20160 x^{6} \\cos{\\left(x^{2} \\right)} - 5040 x^{4} \\sin{\\left(x^{2} \\right)} - 8820 x^{2} \\cos{\\left(x^{2} \\right)} + 10395 \\sin{\\left(x^{2} \\right)}}{128 x^{\\frac{13}{2}}}$"
      ],
      "text/plain": [
       "             14    ⎛ 2⎞           12    ⎛ 2⎞           10    ⎛ 2⎞           8 \n",
       "    - 16384⋅x  ⋅cos⎝x ⎠ - 200704⋅x  ⋅sin⎝x ⎠ + 623616⋅x  ⋅cos⎝x ⎠ + 456960⋅x ⋅\n",
       "y = ──────────────────────────────────────────────────────────────────────────\n",
       "                                                                              \n",
       "                                                                           128\n",
       "\n",
       "   ⎛ 2⎞          6    ⎛ 2⎞         4    ⎛ 2⎞         2    ⎛ 2⎞            ⎛ 2⎞\n",
       "sin⎝x ⎠ - 20160⋅x ⋅cos⎝x ⎠ - 5040⋅x ⋅sin⎝x ⎠ - 8820⋅x ⋅cos⎝x ⎠ + 10395⋅sin⎝x ⎠\n",
       "──────────────────────────────────────────────────────────────────────────────\n",
       "  13/2                                                                        \n",
       "⋅x                                                                            "
      ]
     },
     "execution_count": 29,
     "metadata": {},
     "output_type": "execute_result"
    },
    {
     "name": "stdout",
     "output_type": "stream",
     "text": [
      "При x = 0\n"
     ]
    },
    {
     "data": {
      "text/latex": [
       "$\\displaystyle \\text{False}$"
      ],
      "text/plain": [
       "False"
      ]
     },
     "execution_count": 29,
     "metadata": {},
     "output_type": "execute_result"
    },
    {
     "name": "stdout",
     "output_type": "stream",
     "text": [
      "8 порядок\n",
      "Дифференциал\n"
     ]
    },
    {
     "data": {
      "text/latex": [
       "$\\displaystyle y = \\frac{65536 x^{16} \\sin{\\left(x^{2} \\right)} - 1048576 x^{14} \\cos{\\left(x^{2} \\right)} - 4702208 x^{12} \\sin{\\left(x^{2} \\right)} + 6193152 x^{10} \\cos{\\left(x^{2} \\right)} + 1451520 x^{8} \\sin{\\left(x^{2} \\right)} + 60480 x^{4} \\sin{\\left(x^{2} \\right)} + 120960 x^{2} \\cos{\\left(x^{2} \\right)} - 135135 \\sin{\\left(x^{2} \\right)}}{256 x^{\\frac{15}{2}}}$"
      ],
      "text/plain": [
       "           16    ⎛ 2⎞            14    ⎛ 2⎞            12    ⎛ 2⎞            1\n",
       "    65536⋅x  ⋅sin⎝x ⎠ - 1048576⋅x  ⋅cos⎝x ⎠ - 4702208⋅x  ⋅sin⎝x ⎠ + 6193152⋅x \n",
       "y = ──────────────────────────────────────────────────────────────────────────\n",
       "                                                                              \n",
       "                                                                              \n",
       "\n",
       "0    ⎛ 2⎞            8    ⎛ 2⎞          4    ⎛ 2⎞           2    ⎛ 2⎞         \n",
       " ⋅cos⎝x ⎠ + 1451520⋅x ⋅sin⎝x ⎠ + 60480⋅x ⋅sin⎝x ⎠ + 120960⋅x ⋅cos⎝x ⎠ - 135135\n",
       "──────────────────────────────────────────────────────────────────────────────\n",
       "      15/2                                                                    \n",
       " 256⋅x                                                                        \n",
       "\n",
       "    ⎛ 2⎞\n",
       "⋅sin⎝x ⎠\n",
       "────────\n",
       "        \n",
       "        "
      ]
     },
     "execution_count": 29,
     "metadata": {},
     "output_type": "execute_result"
    },
    {
     "name": "stdout",
     "output_type": "stream",
     "text": [
      "При x = 0\n"
     ]
    },
    {
     "data": {
      "text/latex": [
       "$\\displaystyle \\text{False}$"
      ],
      "text/plain": [
       "False"
      ]
     },
     "execution_count": 29,
     "metadata": {},
     "output_type": "execute_result"
    },
    {
     "name": "stdout",
     "output_type": "stream",
     "text": [
      "9 порядок\n",
      "Дифференциал\n"
     ]
    },
    {
     "data": {
      "text/latex": [
       "$\\displaystyle y = \\frac{262144 x^{18} \\cos{\\left(x^{2} \\right)} + 5308416 x^{16} \\sin{\\left(x^{2} \\right)} - 32440320 x^{14} \\cos{\\left(x^{2} \\right)} - 67092480 x^{12} \\sin{\\left(x^{2} \\right)} + 36771840 x^{10} \\cos{\\left(x^{2} \\right)} + 1451520 x^{8} \\sin{\\left(x^{2} \\right)} + 241920 x^{6} \\cos{\\left(x^{2} \\right)} - 907200 x^{4} \\sin{\\left(x^{2} \\right)} - 1871100 x^{2} \\cos{\\left(x^{2} \\right)} + 2027025 \\sin{\\left(x^{2} \\right)}}{512 x^{\\frac{17}{2}}}$"
      ],
      "text/plain": [
       "            18    ⎛ 2⎞            16    ⎛ 2⎞             14    ⎛ 2⎞           \n",
       "    262144⋅x  ⋅cos⎝x ⎠ + 5308416⋅x  ⋅sin⎝x ⎠ - 32440320⋅x  ⋅cos⎝x ⎠ - 67092480\n",
       "y = ──────────────────────────────────────────────────────────────────────────\n",
       "                                                                              \n",
       "                                                                              \n",
       "\n",
       "  12    ⎛ 2⎞             10    ⎛ 2⎞            8    ⎛ 2⎞           6    ⎛ 2⎞  \n",
       "⋅x  ⋅sin⎝x ⎠ + 36771840⋅x  ⋅cos⎝x ⎠ + 1451520⋅x ⋅sin⎝x ⎠ + 241920⋅x ⋅cos⎝x ⎠ -\n",
       "──────────────────────────────────────────────────────────────────────────────\n",
       "                               17/2                                           \n",
       "                          512⋅x                                               \n",
       "\n",
       "         4    ⎛ 2⎞            2    ⎛ 2⎞              ⎛ 2⎞\n",
       " 907200⋅x ⋅sin⎝x ⎠ - 1871100⋅x ⋅cos⎝x ⎠ + 2027025⋅sin⎝x ⎠\n",
       "─────────────────────────────────────────────────────────\n",
       "                                                         \n",
       "                                                         "
      ]
     },
     "execution_count": 29,
     "metadata": {},
     "output_type": "execute_result"
    },
    {
     "name": "stdout",
     "output_type": "stream",
     "text": [
      "При x = 0\n"
     ]
    },
    {
     "data": {
      "text/latex": [
       "$\\displaystyle \\text{False}$"
      ],
      "text/plain": [
       "False"
      ]
     },
     "execution_count": 29,
     "metadata": {},
     "output_type": "execute_result"
    },
    {
     "name": "stdout",
     "output_type": "stream",
     "text": [
      "10 порядок\n",
      "Дифференциал\n"
     ]
    },
    {
     "data": {
      "text/latex": [
       "$\\displaystyle y = \\frac{- 1048576 x^{20} \\sin{\\left(x^{2} \\right)} + 26214400 x^{18} \\cos{\\left(x^{2} \\right)} + 209387520 x^{16} \\sin{\\left(x^{2} \\right)} - 625213440 x^{14} \\cos{\\left(x^{2} \\right)} - 616734720 x^{12} \\sin{\\left(x^{2} \\right)} + 116121600 x^{10} \\cos{\\left(x^{2} \\right)} - 2419200 x^{8} \\sin{\\left(x^{2} \\right)} - 4838400 x^{6} \\cos{\\left(x^{2} \\right)} + 15649200 x^{4} \\sin{\\left(x^{2} \\right)} + 32432400 x^{2} \\cos{\\left(x^{2} \\right)} - 34459425 \\sin{\\left(x^{2} \\right)}}{1024 x^{\\frac{19}{2}}}$"
      ],
      "text/plain": [
       "               20    ⎛ 2⎞             18    ⎛ 2⎞              16    ⎛ 2⎞      \n",
       "    - 1048576⋅x  ⋅sin⎝x ⎠ + 26214400⋅x  ⋅cos⎝x ⎠ + 209387520⋅x  ⋅sin⎝x ⎠ - 625\n",
       "y = ──────────────────────────────────────────────────────────────────────────\n",
       "                                                                              \n",
       "                                                                              \n",
       "\n",
       "        14    ⎛ 2⎞              12    ⎛ 2⎞              10    ⎛ 2⎞            \n",
       "213440⋅x  ⋅cos⎝x ⎠ - 616734720⋅x  ⋅sin⎝x ⎠ + 116121600⋅x  ⋅cos⎝x ⎠ - 2419200⋅x\n",
       "──────────────────────────────────────────────────────────────────────────────\n",
       "                                                  19/2                        \n",
       "                                            1024⋅x                            \n",
       "\n",
       "8    ⎛ 2⎞            6    ⎛ 2⎞             4    ⎛ 2⎞             2    ⎛ 2⎞    \n",
       " ⋅sin⎝x ⎠ - 4838400⋅x ⋅cos⎝x ⎠ + 15649200⋅x ⋅sin⎝x ⎠ + 32432400⋅x ⋅cos⎝x ⎠ - 3\n",
       "──────────────────────────────────────────────────────────────────────────────\n",
       "                                                                              \n",
       "                                                                              \n",
       "\n",
       "           ⎛ 2⎞\n",
       "4459425⋅sin⎝x ⎠\n",
       "───────────────\n",
       "               \n",
       "               "
      ]
     },
     "execution_count": 29,
     "metadata": {},
     "output_type": "execute_result"
    },
    {
     "name": "stdout",
     "output_type": "stream",
     "text": [
      "При x = 0\n"
     ]
    },
    {
     "data": {
      "text/latex": [
       "$\\displaystyle \\text{False}$"
      ],
      "text/plain": [
       "False"
      ]
     },
     "execution_count": 29,
     "metadata": {},
     "output_type": "execute_result"
    },
    {
     "name": "stdout",
     "output_type": "stream",
     "text": [
      "11 порядок\n",
      "Дифференциал\n"
     ]
    },
    {
     "data": {
      "text/latex": [
       "$\\displaystyle y = \\frac{- 4194304 x^{22} \\cos{\\left(x^{2} \\right)} - 126877696 x^{20} \\sin{\\left(x^{2} \\right)} + 1283194880 x^{18} \\cos{\\left(x^{2} \\right)} + 5222891520 x^{16} \\sin{\\left(x^{2} \\right)} - 8093859840 x^{14} \\cos{\\left(x^{2} \\right)} - 3548160000 x^{12} \\sin{\\left(x^{2} \\right)} + 106444800 x^{10} \\cos{\\left(x^{2} \\right)} + 26611200 x^{8} \\sin{\\left(x^{2} \\right)} + 96465600 x^{6} \\cos{\\left(x^{2} \\right)} - 301870800 x^{4} \\sin{\\left(x^{2} \\right)} - 624323700 x^{2} \\cos{\\left(x^{2} \\right)} + 654729075 \\sin{\\left(x^{2} \\right)}}{2048 x^{\\frac{21}{2}}}$"
      ],
      "text/plain": [
       "               22    ⎛ 2⎞              20    ⎛ 2⎞               18    ⎛ 2⎞    \n",
       "    - 4194304⋅x  ⋅cos⎝x ⎠ - 126877696⋅x  ⋅sin⎝x ⎠ + 1283194880⋅x  ⋅cos⎝x ⎠ + 5\n",
       "y = ──────────────────────────────────────────────────────────────────────────\n",
       "                                                                              \n",
       "                                                                              \n",
       "\n",
       "           16    ⎛ 2⎞               14    ⎛ 2⎞               12    ⎛ 2⎞       \n",
       "222891520⋅x  ⋅sin⎝x ⎠ - 8093859840⋅x  ⋅cos⎝x ⎠ - 3548160000⋅x  ⋅sin⎝x ⎠ + 1064\n",
       "──────────────────────────────────────────────────────────────────────────────\n",
       "                                                                   21/2       \n",
       "                                                             2048⋅x           \n",
       "\n",
       "       10    ⎛ 2⎞             8    ⎛ 2⎞             6    ⎛ 2⎞              4  \n",
       "44800⋅x  ⋅cos⎝x ⎠ + 26611200⋅x ⋅sin⎝x ⎠ + 96465600⋅x ⋅cos⎝x ⎠ - 301870800⋅x ⋅s\n",
       "──────────────────────────────────────────────────────────────────────────────\n",
       "                                                                              \n",
       "                                                                              \n",
       "\n",
       "  ⎛ 2⎞              2    ⎛ 2⎞                ⎛ 2⎞\n",
       "in⎝x ⎠ - 624323700⋅x ⋅cos⎝x ⎠ + 654729075⋅sin⎝x ⎠\n",
       "─────────────────────────────────────────────────\n",
       "                                                 \n",
       "                                                 "
      ]
     },
     "execution_count": 29,
     "metadata": {},
     "output_type": "execute_result"
    },
    {
     "name": "stdout",
     "output_type": "stream",
     "text": [
      "При x = 0\n"
     ]
    },
    {
     "data": {
      "text/latex": [
       "$\\displaystyle \\text{False}$"
      ],
      "text/plain": [
       "False"
      ]
     },
     "execution_count": 29,
     "metadata": {},
     "output_type": "execute_result"
    },
    {
     "name": "stdout",
     "output_type": "stream",
     "text": [
      "12 порядок\n",
      "Дифференциал\n"
     ]
    },
    {
     "data": {
      "text/latex": [
       "$\\displaystyle y = \\frac{16777216 x^{24} \\sin{\\left(x^{2} \\right)} - 603979776 x^{22} \\cos{\\left(x^{2} \\right)} - 7543455744 x^{20} \\sin{\\left(x^{2} \\right)} + 40139489280 x^{18} \\cos{\\left(x^{2} \\right)} + 89827246080 x^{16} \\sin{\\left(x^{2} \\right)} - 70849658880 x^{14} \\cos{\\left(x^{2} \\right)} - 11070259200 x^{12} \\sin{\\left(x^{2} \\right)} - 518918400 x^{8} \\sin{\\left(x^{2} \\right)} - 2075673600 x^{6} \\cos{\\left(x^{2} \\right)} + 6421615200 x^{4} \\sin{\\left(x^{2} \\right)} + 13232419200 x^{2} \\cos{\\left(x^{2} \\right)} - 13749310575 \\sin{\\left(x^{2} \\right)}}{4096 x^{\\frac{23}{2}}}$"
      ],
      "text/plain": [
       "              24    ⎛ 2⎞              22    ⎛ 2⎞               20    ⎛ 2⎞     \n",
       "    16777216⋅x  ⋅sin⎝x ⎠ - 603979776⋅x  ⋅cos⎝x ⎠ - 7543455744⋅x  ⋅sin⎝x ⎠ + 40\n",
       "y = ──────────────────────────────────────────────────────────────────────────\n",
       "                                                                              \n",
       "                                                                              \n",
       "\n",
       "           18    ⎛ 2⎞                16    ⎛ 2⎞                14    ⎛ 2⎞     \n",
       "139489280⋅x  ⋅cos⎝x ⎠ + 89827246080⋅x  ⋅sin⎝x ⎠ - 70849658880⋅x  ⋅cos⎝x ⎠ - 11\n",
       "──────────────────────────────────────────────────────────────────────────────\n",
       "                                                                         23/2 \n",
       "                                                                   4096⋅x     \n",
       "\n",
       "           12    ⎛ 2⎞              8    ⎛ 2⎞               6    ⎛ 2⎞          \n",
       "070259200⋅x  ⋅sin⎝x ⎠ - 518918400⋅x ⋅sin⎝x ⎠ - 2075673600⋅x ⋅cos⎝x ⎠ + 6421615\n",
       "──────────────────────────────────────────────────────────────────────────────\n",
       "                                                                              \n",
       "                                                                              \n",
       "\n",
       "     4    ⎛ 2⎞                2    ⎛ 2⎞                  ⎛ 2⎞\n",
       "200⋅x ⋅sin⎝x ⎠ + 13232419200⋅x ⋅cos⎝x ⎠ - 13749310575⋅sin⎝x ⎠\n",
       "─────────────────────────────────────────────────────────────\n",
       "                                                             \n",
       "                                                             "
      ]
     },
     "execution_count": 29,
     "metadata": {},
     "output_type": "execute_result"
    },
    {
     "name": "stdout",
     "output_type": "stream",
     "text": [
      "При x = 0\n"
     ]
    },
    {
     "data": {
      "text/latex": [
       "$\\displaystyle \\text{False}$"
      ],
      "text/plain": [
       "False"
      ]
     },
     "execution_count": 29,
     "metadata": {},
     "output_type": "execute_result"
    },
    {
     "name": "stdout",
     "output_type": "stream",
     "text": [
      "13 порядок\n",
      "Дифференциал\n"
     ]
    },
    {
     "data": {
      "text/latex": [
       "$\\displaystyle y = \\frac{67108864 x^{26} \\cos{\\left(x^{2} \\right)} + 2835349504 x^{24} \\sin{\\left(x^{2} \\right)} - 42857398272 x^{22} \\cos{\\left(x^{2} \\right)} - 288796704768 x^{20} \\sin{\\left(x^{2} \\right)} + 881122344960 x^{18} \\cos{\\left(x^{2} \\right)} + 1091843850240 x^{16} \\sin{\\left(x^{2} \\right)} - 398529331200 x^{14} \\cos{\\left(x^{2} \\right)} - 11070259200 x^{12} \\sin{\\left(x^{2} \\right)} - 2075673600 x^{10} \\cos{\\left(x^{2} \\right)} + 11935123200 x^{8} \\sin{\\left(x^{2} \\right)} + 48518870400 x^{6} \\cos{\\left(x^{2} \\right)} - 149253904800 x^{4} \\sin{\\left(x^{2} \\right)} - 306413207100 x^{2} \\cos{\\left(x^{2} \\right)} + 316234143225 \\sin{\\left(x^{2} \\right)}}{8192 x^{\\frac{25}{2}}}$"
      ],
      "text/plain": [
       "              26    ⎛ 2⎞               24    ⎛ 2⎞                22    ⎛ 2⎞   \n",
       "    67108864⋅x  ⋅cos⎝x ⎠ + 2835349504⋅x  ⋅sin⎝x ⎠ - 42857398272⋅x  ⋅cos⎝x ⎠ - \n",
       "y = ──────────────────────────────────────────────────────────────────────────\n",
       "                                                                              \n",
       "                                                                              \n",
       "\n",
       "              20    ⎛ 2⎞                 18    ⎛ 2⎞                  16    ⎛ 2\n",
       "288796704768⋅x  ⋅sin⎝x ⎠ + 881122344960⋅x  ⋅cos⎝x ⎠ + 1091843850240⋅x  ⋅sin⎝x \n",
       "──────────────────────────────────────────────────────────────────────────────\n",
       "                                                                              \n",
       "                                                                              \n",
       "\n",
       "⎞                 14    ⎛ 2⎞                12    ⎛ 2⎞               10    ⎛ 2\n",
       "⎠ - 398529331200⋅x  ⋅cos⎝x ⎠ - 11070259200⋅x  ⋅sin⎝x ⎠ - 2075673600⋅x  ⋅cos⎝x \n",
       "──────────────────────────────────────────────────────────────────────────────\n",
       "                           25/2                                               \n",
       "                     8192⋅x                                                   \n",
       "\n",
       "⎞                8    ⎛ 2⎞                6    ⎛ 2⎞                 4    ⎛ 2⎞ \n",
       "⎠ + 11935123200⋅x ⋅sin⎝x ⎠ + 48518870400⋅x ⋅cos⎝x ⎠ - 149253904800⋅x ⋅sin⎝x ⎠ \n",
       "──────────────────────────────────────────────────────────────────────────────\n",
       "                                                                              \n",
       "                                                                              \n",
       "\n",
       "                2    ⎛ 2⎞                   ⎛ 2⎞\n",
       "- 306413207100⋅x ⋅cos⎝x ⎠ + 316234143225⋅sin⎝x ⎠\n",
       "────────────────────────────────────────────────\n",
       "                                                \n",
       "                                                "
      ]
     },
     "execution_count": 29,
     "metadata": {},
     "output_type": "execute_result"
    },
    {
     "name": "stdout",
     "output_type": "stream",
     "text": [
      "При x = 0\n"
     ]
    },
    {
     "data": {
      "text/latex": [
       "$\\displaystyle \\text{False}$"
      ],
      "text/plain": [
       "False"
      ]
     },
     "execution_count": 29,
     "metadata": {},
     "output_type": "execute_result"
    },
    {
     "name": "stdout",
     "output_type": "stream",
     "text": [
      "14 порядок\n",
      "Дифференциал\n"
     ]
    },
    {
     "data": {
      "text/latex": [
       "$\\displaystyle y = \\frac{- 268435456 x^{28} \\sin{\\left(x^{2} \\right)} + 13153337344 x^{26} \\cos{\\left(x^{2} \\right)} + 236642631680 x^{24} \\sin{\\left(x^{2} \\right)} - 1969477386240 x^{22} \\cos{\\left(x^{2} \\right)} - 7856439951360 x^{20} \\sin{\\left(x^{2} \\right)} + 14059721195520 x^{18} \\cos{\\left(x^{2} \\right)} + 9237024276480 x^{16} \\sin{\\left(x^{2} \\right)} - 1239869030400 x^{14} \\cos{\\left(x^{2} \\right)} + 19372953600 x^{12} \\sin{\\left(x^{2} \\right)} + 58118860800 x^{10} \\cos{\\left(x^{2} \\right)} - 301491590400 x^{8} \\sin{\\left(x^{2} \\right)} - 1227760934400 x^{6} \\cos{\\left(x^{2} \\right)} + 3762969210000 x^{4} \\sin{\\left(x^{2} \\right)} + 7699613922000 x^{2} \\cos{\\left(x^{2} \\right)} - 7905853580625 \\sin{\\left(x^{2} \\right)}}{16384 x^{\\frac{27}{2}}}$"
      ],
      "text/plain": [
       "                 28    ⎛ 2⎞                26    ⎛ 2⎞                 24    ⎛ \n",
       "    - 268435456⋅x  ⋅sin⎝x ⎠ + 13153337344⋅x  ⋅cos⎝x ⎠ + 236642631680⋅x  ⋅sin⎝x\n",
       "y = ──────────────────────────────────────────────────────────────────────────\n",
       "                                                                              \n",
       "                                                                              \n",
       "\n",
       "2⎞                  22    ⎛ 2⎞                  20    ⎛ 2⎞                   1\n",
       " ⎠ - 1969477386240⋅x  ⋅cos⎝x ⎠ - 7856439951360⋅x  ⋅sin⎝x ⎠ + 14059721195520⋅x \n",
       "──────────────────────────────────────────────────────────────────────────────\n",
       "                                                                              \n",
       "                                                                              \n",
       "\n",
       "8    ⎛ 2⎞                  16    ⎛ 2⎞                  14    ⎛ 2⎞             \n",
       " ⋅cos⎝x ⎠ + 9237024276480⋅x  ⋅sin⎝x ⎠ - 1239869030400⋅x  ⋅cos⎝x ⎠ + 1937295360\n",
       "──────────────────────────────────────────────────────────────────────────────\n",
       "                                                 27/2                         \n",
       "                                          16384⋅x                             \n",
       "\n",
       "   12    ⎛ 2⎞                10    ⎛ 2⎞                 8    ⎛ 2⎞             \n",
       "0⋅x  ⋅sin⎝x ⎠ + 58118860800⋅x  ⋅cos⎝x ⎠ - 301491590400⋅x ⋅sin⎝x ⎠ - 1227760934\n",
       "──────────────────────────────────────────────────────────────────────────────\n",
       "                                                                              \n",
       "                                                                              \n",
       "\n",
       "     6    ⎛ 2⎞                  4    ⎛ 2⎞                  2    ⎛ 2⎞          \n",
       "400⋅x ⋅cos⎝x ⎠ + 3762969210000⋅x ⋅sin⎝x ⎠ + 7699613922000⋅x ⋅cos⎝x ⎠ - 7905853\n",
       "──────────────────────────────────────────────────────────────────────────────\n",
       "                                                                              \n",
       "                                                                              \n",
       "\n",
       "          ⎛ 2⎞\n",
       "580625⋅sin⎝x ⎠\n",
       "──────────────\n",
       "              \n",
       "              "
      ]
     },
     "execution_count": 29,
     "metadata": {},
     "output_type": "execute_result"
    },
    {
     "name": "stdout",
     "output_type": "stream",
     "text": [
      "При x = 0\n"
     ]
    },
    {
     "data": {
      "text/latex": [
       "$\\displaystyle \\text{False}$"
      ],
      "text/plain": [
       "False"
      ]
     },
     "execution_count": 29,
     "metadata": {},
     "output_type": "execute_result"
    },
    {
     "name": "stdout",
     "output_type": "stream",
     "text": [
      "\n",
      "Финал\n",
      "\n",
      "Дифференциал\n"
     ]
    },
    {
     "data": {
      "text/latex": [
       "$\\displaystyle - \\frac{x^{\\frac{29}{2}}}{5040} + \\frac{x^{\\frac{21}{2}}}{120} - \\frac{x^{\\frac{13}{2}}}{6} + x^{\\frac{5}{2}}$"
      ],
      "text/plain": [
       "   29/2    21/2    13/2       \n",
       "  x       x       x        5/2\n",
       "- ───── + ───── - ───── + x   \n",
       "   5040    120      6         "
      ]
     },
     "execution_count": 29,
     "metadata": {},
     "output_type": "execute_result"
    },
    {
     "name": "stdout",
     "output_type": "stream",
     "text": [
      "Интегралыч\n"
     ]
    },
    {
     "data": {
      "text/latex": [
       "$\\displaystyle - \\frac{x^{\\frac{31}{2}}}{78120} + \\frac{x^{\\frac{23}{2}}}{1380} - \\frac{x^{\\frac{15}{2}}}{45} + \\frac{2 x^{\\frac{7}{2}}}{7}$"
      ],
      "text/plain": [
       "   31/2    23/2    15/2      7/2\n",
       "  x       x       x       2⋅x   \n",
       "- ───── + ───── - ───── + ──────\n",
       "  78120    1380     45      7   "
      ]
     },
     "execution_count": 29,
     "metadata": {},
     "output_type": "execute_result"
    },
    {
     "name": "stdout",
     "output_type": "stream",
     "text": [
      "Убираем последние 2 члена т.к. они дают меньше нужной точности\n",
      "При a = 0.25\n"
     ]
    },
    {
     "data": {
      "text/latex": [
       "$\\displaystyle - \\frac{x^{\\frac{15}{2}}}{45} + \\frac{2 x^{\\frac{7}{2}}}{7} = 0.00223146468874008$"
      ],
      "text/plain": [
       "   15/2      7/2                      \n",
       "  x       2⋅x                         \n",
       "- ───── + ────── = 0.00223146468874008\n",
       "    45      7                         "
      ]
     },
     "execution_count": 29,
     "metadata": {},
     "output_type": "execute_result"
    },
    {
     "name": "stdout",
     "output_type": "stream",
     "text": [
      "Численный ответ =  0.00223146468874008\n",
      "Точность 8.63775823067684e-11\n"
     ]
    }
   ],
   "source": [
    "print('Выражение')\n",
    "expr\n",
    "i = 0\n",
    "while True:\n",
    "    print(i, 'порядок')\n",
    "    if good_detominator:\n",
    "        expr_dif = expr.diff(x, i)#дифференциал\n",
    "    else:\n",
    "        expr_dif = new_expr.diff(x, i)\n",
    "    print('Дифференциал')\n",
    "    Eq(y, simplify(expand(expr_dif)))#выводим его\n",
    "    #Eq(y, expr_dif)\n",
    "    print('При x =', x0)\n",
    "    Eq(y, expr_dif.subs(x, x0))#выводим чему равен при подстановке\n",
    "    ser = expr.series(x0=x0, n=i + 1).removeO()#ряд\n",
    "    integral = sorted(integrate(ser, (x)).args, key=get_degree)# интеграл от ряда\n",
    "    if len(integral) >= 2:\n",
    "        l1 = integral[-1].subs(x, a)# последний член интеграла\n",
    "        l2 = integral[-2].subs(x, a)# предпоследний\n",
    "        cur_acc = abs(l2 + l1)#считаем здесь их точность\n",
    "        if cur_acc < accuracy and len(integral) >= 4:\n",
    "            if not good_detominator:#костыль из-за того, что знаменатель пропадает, и на 1 порядок меньше выводится\n",
    "                print(i + 1, 'порядок')\n",
    "                expr_dif = new_expr.diff(x, i + 1)\n",
    "                print('Дифференциал')\n",
    "                Eq(y, expr_dif)#выводим его\n",
    "                print('При x =', x0)\n",
    "                Eq(y, expr_dif.subs(x, x0))#выводим чему равен при подстановке\n",
    "            print('\\nФинал\\n')\n",
    "            print('Дифференциал')\n",
    "            ser\n",
    "            print('Интегралыч')\n",
    "            integrate(ser, (x))\n",
    "            integ_need = Add(*integral[:-2])# нужная часть интеграла для итогового счёта\n",
    "            answer = integ_need.subs(x, a)\n",
    "            print('Убираем последние 2 члена т.к. они дают меньше нужной точности')\n",
    "            print('При a =', a)\n",
    "            Eq(Add(integ_need), answer) \n",
    "            try:\n",
    "                print('Численный ответ = ', answer.p / answer.q)\n",
    "            except AttributeError:\n",
    "                print('Численный ответ = ', answer)\n",
    "            try:\n",
    "                print('Точность',  cur_acc.p / cur_acc.q)\n",
    "            except AttributeError:\n",
    "                print('Точность', cur_acc)\n",
    "            break\n",
    "    i +=1"
   ]
  },
  {
   "cell_type": "markdown",
   "id": "7a5d90fb",
   "metadata": {},
   "source": [
    "# Вычисление по количеству членов"
   ]
  },
  {
   "cell_type": "code",
   "execution_count": 20,
   "id": "bd819b09",
   "metadata": {
    "ExecuteTime": {
     "end_time": "2022-03-01T09:37:28.807018Z",
     "start_time": "2022-03-01T09:37:28.399036Z"
    },
    "scrolled": true
   },
   "outputs": [
    {
     "name": "stdout",
     "output_type": "stream",
     "text": [
      "Выражение\n"
     ]
    },
    {
     "data": {
      "text/latex": [
       "$\\displaystyle \\cos{\\left(\\sqrt[3]{x} \\right)}$"
      ],
      "text/plain": [
       "   ⎛3 ___⎞\n",
       "cos⎝╲╱ x ⎠"
      ]
     },
     "execution_count": 20,
     "metadata": {},
     "output_type": "execute_result"
    },
    {
     "name": "stdout",
     "output_type": "stream",
     "text": [
      "0 порядок\n",
      "\n",
      "Дифференциал\n"
     ]
    },
    {
     "data": {
      "text/latex": [
       "$\\displaystyle y = \\cos{\\left(\\sqrt[3]{x} \\right)}$"
      ],
      "text/plain": [
       "       ⎛3 ___⎞\n",
       "y = cos⎝╲╱ x ⎠"
      ]
     },
     "execution_count": 20,
     "metadata": {},
     "output_type": "execute_result"
    },
    {
     "name": "stdout",
     "output_type": "stream",
     "text": [
      "При x = 0\n"
     ]
    },
    {
     "data": {
      "text/latex": [
       "$\\displaystyle y = 1$"
      ],
      "text/plain": [
       "y = 1"
      ]
     },
     "execution_count": 20,
     "metadata": {},
     "output_type": "execute_result"
    },
    {
     "name": "stdout",
     "output_type": "stream",
     "text": [
      "1 порядок\n",
      "\n",
      "Дифференциал\n"
     ]
    },
    {
     "data": {
      "text/latex": [
       "$\\displaystyle y = - \\frac{\\sin{\\left(\\sqrt[3]{x} \\right)}}{3 x^{\\frac{2}{3}}}$"
      ],
      "text/plain": [
       "        ⎛3 ___⎞ \n",
       "    -sin⎝╲╱ x ⎠ \n",
       "y = ────────────\n",
       "          2/3   \n",
       "       3⋅x      "
      ]
     },
     "execution_count": 20,
     "metadata": {},
     "output_type": "execute_result"
    },
    {
     "name": "stdout",
     "output_type": "stream",
     "text": [
      "При x = 0\n"
     ]
    },
    {
     "data": {
      "text/latex": [
       "$\\displaystyle \\text{False}$"
      ],
      "text/plain": [
       "False"
      ]
     },
     "execution_count": 20,
     "metadata": {},
     "output_type": "execute_result"
    },
    {
     "name": "stdout",
     "output_type": "stream",
     "text": [
      "\n",
      "Финал\n",
      "\n",
      "Дифференциал\n"
     ]
    },
    {
     "data": {
      "text/latex": [
       "$\\displaystyle \\frac{x^{\\frac{4}{3}}}{24} - \\frac{x^{\\frac{2}{3}}}{2} + 1$"
      ],
      "text/plain": [
       " 4/3    2/3    \n",
       "x      x       \n",
       "──── - ──── + 1\n",
       " 24     2      "
      ]
     },
     "execution_count": 20,
     "metadata": {},
     "output_type": "execute_result"
    },
    {
     "name": "stdout",
     "output_type": "stream",
     "text": [
      "Интегралыч\n"
     ]
    },
    {
     "data": {
      "text/latex": [
       "$\\displaystyle \\frac{x^{\\frac{7}{3}}}{56} - \\frac{3 x^{\\frac{5}{3}}}{10} + x$"
      ],
      "text/plain": [
       " 7/3      5/3    \n",
       "x      3⋅x       \n",
       "──── - ────── + x\n",
       " 56      10      "
      ]
     },
     "execution_count": 20,
     "metadata": {},
     "output_type": "execute_result"
    },
    {
     "name": "stdout",
     "output_type": "stream",
     "text": [
      "При a = 1\n"
     ]
    },
    {
     "data": {
      "text/latex": [
       "$\\displaystyle \\frac{x^{\\frac{7}{3}}}{56} - \\frac{3 x^{\\frac{5}{3}}}{10} + x = \\frac{201}{280}$"
      ],
      "text/plain": [
       " 7/3      5/3          \n",
       "x      3⋅x          201\n",
       "──── - ────── + x = ───\n",
       " 56      10         280"
      ]
     },
     "execution_count": 20,
     "metadata": {},
     "output_type": "execute_result"
    },
    {
     "name": "stdout",
     "output_type": "stream",
     "text": [
      "Численный ответ =  0.7178571428571429\n",
      "Точность 0.28214285714285714\n"
     ]
    }
   ],
   "source": [
    "print('Выражение')\n",
    "expr\n",
    "i = 0\n",
    "while True:\n",
    "    print(i, 'порядок\\n')\n",
    "    if good_detominator:\n",
    "        expr_dif = expr.diff(x, i)#дифференциал\n",
    "    else:\n",
    "        expr_dif = new_expr.diff(x, i)\n",
    "    print('Дифференциал')\n",
    "    Eq(y, expr_dif)\n",
    "    print('При x =', x0)\n",
    "    Eq(y, expr_dif.subs(x, x0))\n",
    "    ser = expr.series(x0=x0, n=i + 1).removeO()#ряд\n",
    "    integral = sorted(integrate(ser, (x)).args, key=get_degree)# интеграл от ряда\n",
    "    if len(integral) == n:\n",
    "        l1 = integral[-1].subs(x, a)# последний член интеграла\n",
    "        l2 = integral[-2].subs(x, a)# предпоследний\n",
    "        cur_acc = abs(l2 + l1)# берём модуль\n",
    "        if not good_detominator:#костыль из-за того, что знаменатель пропадает, и на 1 порядок меньше выводится\n",
    "            print(i + 1, 'порядок')\n",
    "            expr_dif = new_expr.diff(x, i + 1)\n",
    "            print('Дифференциал')\n",
    "            Eq(y, expr_dif)#выводим его\n",
    "            print('При x =', x0)\n",
    "            Eq(y, expr_dif.subs(x, x0))#выводим чему равен при подстановке\n",
    "        print('\\nФинал\\n')\n",
    "        print('Дифференциал')\n",
    "        ser\n",
    "        print('Интегралыч')\n",
    "        integ_need = Add(*integral)# нужная часть интеграла для итогового счёта\n",
    "        integ_need\n",
    "        answer = integ_need.subs(x, a)\n",
    "        print('При a =', a)\n",
    "        Eq(Add(integ_need), answer) \n",
    "        try:\n",
    "            print('Численный ответ = ', answer.p / answer.q)\n",
    "        except AttributeError:\n",
    "            print('Численный ответ = ', answer)\n",
    "        try:\n",
    "            print('Точность',  cur_acc.p / cur_acc.q)\n",
    "        except AttributeError:\n",
    "            print('Точность', cur_acc)\n",
    "        break\n",
    "        \n",
    "    i +=1"
   ]
  },
  {
   "cell_type": "code",
   "execution_count": null,
   "id": "30c41172",
   "metadata": {},
   "outputs": [],
   "source": []
  }
 ],
 "metadata": {
  "kernelspec": {
   "display_name": "Python 3 (ipykernel)",
   "language": "python",
   "name": "python3"
  },
  "language_info": {
   "codemirror_mode": {
    "name": "ipython",
    "version": 3
   },
   "file_extension": ".py",
   "mimetype": "text/x-python",
   "name": "python",
   "nbconvert_exporter": "python",
   "pygments_lexer": "ipython3",
   "version": "3.9.7"
  },
  "latex_envs": {
   "LaTeX_envs_menu_present": true,
   "autoclose": false,
   "autocomplete": true,
   "bibliofile": "biblio.bib",
   "cite_by": "apalike",
   "current_citInitial": 1,
   "eqLabelWithNumbers": true,
   "eqNumInitial": 1,
   "hotkeys": {
    "equation": "Ctrl-E",
    "itemize": "Ctrl-I"
   },
   "labels_anchors": false,
   "latex_user_defs": false,
   "report_style_numbering": false,
   "user_envs_cfg": false
  }
 },
 "nbformat": 4,
 "nbformat_minor": 5
}
