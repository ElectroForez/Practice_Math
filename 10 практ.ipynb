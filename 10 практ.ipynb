{
 "cells": [
  {
   "cell_type": "markdown",
   "id": "3e897688",
   "metadata": {
    "id": "3e897688"
   },
   "source": [
    "# Для запуска кода введите свои параметры в полях ниже(придётся полистать)"
   ]
  },
  {
   "cell_type": "markdown",
   "id": "3008b2b8",
   "metadata": {
    "id": "3008b2b8"
   },
   "source": [
    "# а затем нажмите CNTRL + F9"
   ]
  },
  {
   "cell_type": "code",
   "execution_count": 1,
   "id": "add02c80",
   "metadata": {
    "ExecuteTime": {
     "end_time": "2022-03-30T15:42:45.554018Z",
     "start_time": "2022-03-30T15:42:45.292257Z"
    },
    "executionInfo": {
     "elapsed": 341,
     "status": "ok",
     "timestamp": 1647469123062,
     "user": {
      "displayName": "Влад Танцев",
      "photoUrl": "https://lh3.googleusercontent.com/a/default-user=s64",
      "userId": "17772345218159706590"
     },
     "user_tz": -180
    },
    "id": "add02c80"
   },
   "outputs": [],
   "source": [
    "from sympy import *\n",
    "from IPython.core.interactiveshell import InteractiveShell\n",
    "InteractiveShell.ast_node_interactivity = \"all\"\n",
    "from IPython.display import display, Math, Latex\n",
    "init_printing(use_latex='mathjax')\n",
    "from sympy.abc import lamda as lmd"
   ]
  },
  {
   "cell_type": "code",
   "execution_count": 2,
   "id": "xbjbt5aRyJgA",
   "metadata": {
    "ExecuteTime": {
     "end_time": "2022-03-30T15:42:45.564515Z",
     "start_time": "2022-03-30T15:42:45.555363Z"
    },
    "executionInfo": {
     "elapsed": 471,
     "status": "ok",
     "timestamp": 1647469123891,
     "user": {
      "displayName": "Влад Танцев",
      "photoUrl": "https://lh3.googleusercontent.com/a/default-user=s64",
      "userId": "17772345218159706590"
     },
     "user_tz": -180
    },
    "id": "xbjbt5aRyJgA"
   },
   "outputs": [],
   "source": [
    "def print_eq(eq, *exprs, rev_int2=False):\n",
    "    if type(eq) == str:\n",
    "        eq = Symbol(eq)\n",
    "    out = '$$ {} ' + '= {}' * len(exprs) + '$$'\n",
    "    exprs=list(exprs)\n",
    "    for i in range(len(exprs)):\n",
    "        if type(exprs[i]) != str:\n",
    "            exprs[i] = latex(exprs[i])\n",
    "    if rev_int2:\n",
    "        exprs[-2] += '|_0^x'\n",
    "    display(Latex(out.format(latex(eq), *exprs)))\n",
    "    \n",
    "def s_o(sym, order):#sym\n",
    "    sym = str(sym)\n",
    "    if len(sym) > 1:\n",
    "        tail = sym[1:]\n",
    "        sym=sym[0]\n",
    "    else:\n",
    "        tail = ''\n",
    "    if order == 0:\n",
    "        return Symbol(sym + tail)\n",
    "    if 1 <= order <=3:\n",
    "        order = '\\'' * order\n",
    "    else:\n",
    "        order = f'({order})'\n",
    "    return Symbol(sym + '^{'+order+'}' + tail)\n",
    "    \n",
    "def get_degree(el):\n",
    "    args = el.args\n",
    "    if len(args) == 0:\n",
    "        return 0\n",
    "    elif len(args[-1].args) == 0 and ask(Q.extended_real(args[-1])):\n",
    "        return args[-1]\n",
    "    else:\n",
    "        return 1\n",
    "        \n",
    "def get_coef(el):\n",
    "    args = el.args\n",
    "    if len(args) == 0:\n",
    "        return None\n",
    "    elif ask(Q.extended_real(args[0])):\n",
    "        return args[0]\n",
    "    return 1\n",
    "    \n",
    "def to_s(i):\n",
    "    return Symbol(str(i))\n",
    "    \n",
    "def print_system(*exprs, collab=False): \n",
    "    '''\n",
    "    collab говнюк не хочет нормально системы уравнений отоброжать, \n",
    "    если вы в Jupyter, то замените в аргументе collab True на False'''\n",
    "    exprs=list(exprs)\n",
    "    for i in range(len(exprs)):\n",
    "        if type(exprs[i]) != str:\n",
    "            exprs[i] = latex(exprs[i])\n",
    "    exprs_latex = r'\\\\'.join(exprs)\n",
    "    if collab:\n",
    "        system = r'Начало системы\\\\' + exprs_latex + r'\\\\Конец_системы\\\\'\n",
    "    else:\n",
    "        system = \\\n",
    "        r'''\\begin{equation*}\n",
    "    \\begin{cases}''' \\\n",
    "        + exprs_latex + \\\n",
    "        r'''\\end{cases}\n",
    "    \\end{equation*}\n",
    "        '''\n",
    "\n",
    "    print_eq(system)\n",
    "\n",
    "def simple_express(expr, symbol, from_left=True):\n",
    "    l_side = expr.lhs\n",
    "    r_side = expr.rhs\n",
    "    found = False\n",
    "    if from_left:\n",
    "        args = l_side.args\n",
    "    else:\n",
    "        args = r_side.args\n",
    "    for arg in args:\n",
    "        if arg != symbol:\n",
    "            l_side /= arg\n",
    "            r_side /= arg\n",
    "        else:\n",
    "            found = True\n",
    "    return Eq(l_side, r_side), found\n",
    "\n",
    "def get_den(expr): \n",
    "    for el in expr.args:\n",
    "        if type(el) == Rational:\n",
    "            return el\n",
    "            \n",
    "def task_10(n_task):\n",
    "    if n_task == 1:\n",
    "        print('Решаем краевую задачу')\n",
    "    elif n_task == 2:\n",
    "        print('Решаем задачу Коши')\n",
    "    else:\n",
    "        raise Exception('Надо поставить либо 1, либо 2')"
   ]
  },
  {
   "cell_type": "code",
   "execution_count": 3,
   "id": "3610f7d0",
   "metadata": {
    "ExecuteTime": {
     "end_time": "2022-03-30T15:42:45.570993Z",
     "start_time": "2022-03-30T15:42:45.566183Z"
    },
    "executionInfo": {
     "elapsed": 13,
     "status": "ok",
     "timestamp": 1647469123892,
     "user": {
      "displayName": "Влад Танцев",
      "photoUrl": "https://lh3.googleusercontent.com/a/default-user=s64",
      "userId": "17772345218159706590"
     },
     "user_tz": -180
    },
    "id": "3610f7d0"
   },
   "outputs": [],
   "source": [
    "def discriminant(coefs, symbol='x'):\n",
    "    global a, b, c\n",
    "    a = coefs[0]\n",
    "    b = coefs[1]\n",
    "    c = coefs[2]\n",
    "    D = b ** 2 - 4 * a * c\n",
    "    D_expr = to_s(b) ** 2 - 4 * to_s(a) * to_s(c)\n",
    "    print_eq('D', D_expr, D)\n",
    "    l1 = (-b + sqrt(D)) / (2 * a)\n",
    "    l2 = (-b - sqrt(D)) / (2 * a)\n",
    "    l1_expr = (to_s(-b) + to_s(sqrt(D))) / (2 * to_s(a))\n",
    "    l2_expr = (to_s(-b) - to_s(sqrt(D))) / (2 * to_s(a))\n",
    "    print_eq(str(symbol) + '1', l1_expr, l1)\n",
    "    print_eq(str(symbol) + '2', l2_expr, l2)\n",
    "    return l1, l2\n",
    "\n",
    "def coef_to_str(coef):\n",
    "    if coef == 1:\n",
    "        return ''\n",
    "    return '+' + str(coef) if coef >= 0 else str(coef) "
   ]
  },
  {
   "cell_type": "code",
   "execution_count": 4,
   "id": "715a03cc",
   "metadata": {
    "ExecuteTime": {
     "end_time": "2022-03-30T15:42:45.574295Z",
     "start_time": "2022-03-30T15:42:45.572375Z"
    },
    "executionInfo": {
     "elapsed": 12,
     "status": "ok",
     "timestamp": 1647469123892,
     "user": {
      "displayName": "Влад Танцев",
      "photoUrl": "https://lh3.googleusercontent.com/a/default-user=s64",
      "userId": "17772345218159706590"
     },
     "user_tz": -180
    },
    "id": "715a03cc"
   },
   "outputs": [],
   "source": [
    "ln.__name__ = 'ln'"
   ]
  },
  {
   "cell_type": "code",
   "execution_count": 5,
   "id": "f2984081",
   "metadata": {
    "ExecuteTime": {
     "end_time": "2022-03-30T15:42:45.578478Z",
     "start_time": "2022-03-30T15:42:45.575245Z"
    },
    "executionInfo": {
     "elapsed": 12,
     "status": "ok",
     "timestamp": 1647469123892,
     "user": {
      "displayName": "Влад Танцев",
      "photoUrl": "https://lh3.googleusercontent.com/a/default-user=s64",
      "userId": "17772345218159706590"
     },
     "user_tz": -180
    },
    "id": "f2984081"
   },
   "outputs": [],
   "source": [
    "x = Symbol('x')\n",
    "y = Symbol('y')\n",
    "t = Symbol('t')\n",
    "yk = Function('y_k')\n",
    "C1, C2, C1_d, C2_d = symbols('C1, C2, C^\\'_1, C^\\'_2', cls=Function)"
   ]
  },
  {
   "cell_type": "markdown",
   "id": "e7c45350",
   "metadata": {
    "id": "e7c45350"
   },
   "source": [
    "# Какую задачу решаем?"
   ]
  },
  {
   "cell_type": "markdown",
   "id": "0566bb70",
   "metadata": {
    "id": "0566bb70"
   },
   "source": [
    "Укажите в n_task какую задачу вам надо решить:<br>\n",
    "1 - для краевой задачи<br>\n",
    "2 - для задачи Коши"
   ]
  },
  {
   "cell_type": "code",
   "execution_count": 6,
   "id": "9071a384",
   "metadata": {
    "ExecuteTime": {
     "end_time": "2022-03-30T15:42:45.582192Z",
     "start_time": "2022-03-30T15:42:45.579519Z"
    },
    "colab": {
     "base_uri": "https://localhost:8080/"
    },
    "executionInfo": {
     "elapsed": 13,
     "status": "ok",
     "timestamp": 1647469123893,
     "user": {
      "displayName": "Влад Танцев",
      "photoUrl": "https://lh3.googleusercontent.com/a/default-user=s64",
      "userId": "17772345218159706590"
     },
     "user_tz": -180
    },
    "id": "9071a384",
    "outputId": "238fb9b6-0140-4894-b966-c9ffd9c15d38"
   },
   "outputs": [
    {
     "name": "stdout",
     "output_type": "stream",
     "text": [
      "Решаем задачу Коши\n"
     ]
    }
   ],
   "source": [
    "n_task = 2 #так будет решена задача Коши\n",
    "task_10(n_task)"
   ]
  },
  {
   "cell_type": "markdown",
   "id": "36057330",
   "metadata": {
    "id": "36057330"
   },
   "source": [
    "# Подставьте параметры для своей задачи. Параметры для другой задачи учитываться никак не будут"
   ]
  },
  {
   "cell_type": "markdown",
   "id": "b9acadb5",
   "metadata": {
    "ExecuteTime": {
     "end_time": "2022-03-16T20:32:20.847492Z",
     "start_time": "2022-03-16T20:32:20.835489Z"
    },
    "id": "b9acadb5"
   },
   "source": [
    "## Подстановка параметров для краевой задачи(1)"
   ]
  },
  {
   "cell_type": "code",
   "execution_count": 7,
   "id": "c574c68b",
   "metadata": {
    "ExecuteTime": {
     "end_time": "2022-03-30T15:42:45.588806Z",
     "start_time": "2022-03-30T15:42:45.584125Z"
    },
    "executionInfo": {
     "elapsed": 12,
     "status": "ok",
     "timestamp": 1647469123893,
     "user": {
      "displayName": "Влад Танцев",
      "photoUrl": "https://lh3.googleusercontent.com/a/default-user=s64",
      "userId": "17772345218159706590"
     },
     "user_tz": -180
    },
    "id": "c574c68b"
   },
   "outputs": [],
   "source": [
    "if n_task == 1:\n",
    "    y_c = [1, -10, 24]  # сюда коэффициенты. Сначала для второго порядка(у всех это 1), потом первого, и затем просто для y\n",
    "    right_side = 5 * exp(2 * x)  #вместо 8 свой коэффициент, и заместо 3 перед x тоже свой коэфф\n",
    "    y0 = -5 #свой y(0)\n",
    "    n_y = ln(4) # сюда вставляем n, где n - y(n)\n",
    "    y_n = 9 #сюда значение в точке y(n)\n",
    "    expr = Eq(y_c[0] * s_o(y, 2) + y_c[1] * s_o(y, 1) + y_c[2] * y,  right_side)\n",
    "    y_c_s = list(map(coef_to_str, y_c))\n",
    "    l_side_latex = f'{latex(s_o(y, 2))}{y_c_s[1]}{latex(s_o(y, 1))}{y_c_s[2]}{y}'.replace('*', '\\cdot')\n",
    "    r_side_latex = latex(expr.rhs)\n",
    "    print_system(l_side_latex + '=' + r_side_latex + '(1)', f'y(0)={y0}' + '; ' + f'y\\'({n_y})={y_n}' + '(*)')"
   ]
  },
  {
   "cell_type": "markdown",
   "id": "33ad68d0",
   "metadata": {
    "id": "33ad68d0"
   },
   "source": [
    "## Подстановка параметров для задачи Коши(2)"
   ]
  },
  {
   "cell_type": "code",
   "execution_count": 8,
   "id": "7137e5eb",
   "metadata": {
    "ExecuteTime": {
     "end_time": "2022-03-30T15:42:45.638520Z",
     "start_time": "2022-03-30T15:42:45.589902Z"
    },
    "colab": {
     "base_uri": "https://localhost:8080/",
     "height": 120
    },
    "executionInfo": {
     "elapsed": 12,
     "status": "ok",
     "timestamp": 1647469123894,
     "user": {
      "displayName": "Влад Танцев",
      "photoUrl": "https://lh3.googleusercontent.com/a/default-user=s64",
      "userId": "17772345218159706590"
     },
     "user_tz": -180
    },
    "id": "7137e5eb",
    "outputId": "8e701ee6-64a1-45bd-d6d9-d7b6a20fa4c6"
   },
   "outputs": [
    {
     "data": {
      "text/latex": [
       "$$ \\begin{equation*}\n",
       "    \\begin{cases}y^{''}-10y^{'}+3y=x^{2}-23x+57(1)\\\\y(0)=15; y'(0)=17(*)\\end{cases}\n",
       "    \\end{equation*}\n",
       "         $$"
      ],
      "text/plain": [
       "<IPython.core.display.Latex object>"
      ]
     },
     "metadata": {},
     "output_type": "display_data"
    }
   ],
   "source": [
    "if n_task == 2:\n",
    "    y_c = [3, -10, 3] # сюда коэффициенты перед производными. Сначала для второго порядка(у всех это 1), потом первого, и затем просто для y\n",
    "    x_c = [11, -23, 57] # сюда коэффициенты перед иксами. Сначала для второй степени(у всех это 1), потом первой, и затем просто для х\n",
    "    y0 = 15 # значение в нуле\n",
    "    yd0 = 17 # значение в точке 0 от дифференциала\n",
    "    expr = Eq(y_c[0] * s_o(y, 2) + y_c[1] * s_o(y, 1) + y_c[2] * y,  x_c[0] * x ** 2 + x_c[1] * x + x_c[2])\n",
    "    y_c_s = list(map(coef_to_str, y_c))\n",
    "    x_c_s = list(map(coef_to_str, x_c))\n",
    "    l_side_latex = f'{latex(s_o(y, 2))}{y_c_s[1]}{latex(s_o(y, 1))}{y_c_s[2]}{y}'.replace('*', '\\cdot')\n",
    "    r_side_latex = f'{latex(x ** 2)}{x_c_s[1]}{x}{x_c_s[2]}'.replace('*', '\\cdot')\n",
    "    print_system(l_side_latex + '=' + r_side_latex + '(1)', f'y(0)={y0}' + '; ' + f'y\\'(0)={yd0}' + '(*)')"
   ]
  },
  {
   "cell_type": "markdown",
   "id": "d96e0640",
   "metadata": {},
   "source": [
    "# Перезапустите блокнот после ввода параметров"
   ]
  },
  {
   "cell_type": "markdown",
   "id": "51ac9950",
   "metadata": {},
   "source": [
    "# Решение"
   ]
  },
  {
   "cell_type": "code",
   "execution_count": 9,
   "id": "8f584d35",
   "metadata": {
    "ExecuteTime": {
     "end_time": "2022-03-30T15:42:45.767401Z",
     "start_time": "2022-03-30T15:42:45.639650Z"
    },
    "colab": {
     "base_uri": "https://localhost:8080/",
     "height": 124
    },
    "executionInfo": {
     "elapsed": 11,
     "status": "ok",
     "timestamp": 1647469123895,
     "user": {
      "displayName": "Влад Танцев",
      "photoUrl": "https://lh3.googleusercontent.com/a/default-user=s64",
      "userId": "17772345218159706590"
     },
     "user_tz": -180
    },
    "id": "8f584d35",
    "outputId": "25f383ad-8139-41d0-e99f-e2908042d6ad"
   },
   "outputs": [
    {
     "data": {
      "text/latex": [
       "$$ y^{''}-10y^{'}+3y = 0$$"
      ],
      "text/plain": [
       "<IPython.core.display.Latex object>"
      ]
     },
     "metadata": {},
     "output_type": "display_data"
    },
    {
     "name": "stdout",
     "output_type": "stream",
     "text": [
      "Ищем решение д. у. (2) в виде "
     ]
    },
    {
     "data": {
      "text/latex": [
       "$$ y = e^{\\lambda x}$$"
      ],
      "text/plain": [
       "<IPython.core.display.Latex object>"
      ]
     },
     "metadata": {},
     "output_type": "display_data"
    },
    {
     "data": {
      "text/latex": [
       "$$ y' = \\lambda e^{\\lambda x}$$"
      ],
      "text/plain": [
       "<IPython.core.display.Latex object>"
      ]
     },
     "metadata": {},
     "output_type": "display_data"
    },
    {
     "data": {
      "text/latex": [
       "$$ y'' = \\lambda^{2} e^{\\lambda x}$$"
      ],
      "text/plain": [
       "<IPython.core.display.Latex object>"
      ]
     },
     "metadata": {},
     "output_type": "display_data"
    }
   ],
   "source": [
    "print_eq(l_side_latex,0)\n",
    "print('Ищем решение д. у. (2) в виде ', end='')\n",
    "v = exp(lmd * x)\n",
    "print_eq('y', v)\n",
    "print_eq('y\\'', v.diff(x))\n",
    "print_eq('y\\'\\'', v.diff(x, 2))"
   ]
  },
  {
   "cell_type": "code",
   "execution_count": 10,
   "id": "675803e7",
   "metadata": {
    "ExecuteTime": {
     "end_time": "2022-03-30T15:42:45.846976Z",
     "start_time": "2022-03-30T15:42:45.769333Z"
    },
    "colab": {
     "base_uri": "https://localhost:8080/",
     "height": 127
    },
    "executionInfo": {
     "elapsed": 363,
     "status": "ok",
     "timestamp": 1647469124248,
     "user": {
      "displayName": "Влад Танцев",
      "photoUrl": "https://lh3.googleusercontent.com/a/default-user=s64",
      "userId": "17772345218159706590"
     },
     "user_tz": -180
    },
    "id": "675803e7",
    "outputId": "c47eb069-9e5f-4bcb-cafa-a50427cc2c26"
   },
   "outputs": [
    {
     "data": {
      "text/latex": [
       "$\\displaystyle \\left(3 \\lambda^{2} - 10 \\lambda + 3\\right) e^{\\lambda x} = 0$"
      ],
      "text/plain": [
       "⎛   2           ⎞  λ⋅x    \n",
       "⎝3⋅λ  - 10⋅λ + 3⎠⋅ℯ    = 0"
      ]
     },
     "execution_count": 10,
     "metadata": {},
     "output_type": "execute_result"
    },
    {
     "data": {
      "text/latex": [
       "$\\displaystyle 3 \\lambda^{2} - 10 \\lambda + 3 = 0$"
      ],
      "text/plain": [
       "   2               \n",
       "3⋅λ  - 10⋅λ + 3 = 0"
      ]
     },
     "execution_count": 10,
     "metadata": {},
     "output_type": "execute_result"
    },
    {
     "data": {
      "text/latex": [
       "$$ D = -10^{2} - 4 \\cdot 3^{2}= 64$$"
      ],
      "text/plain": [
       "<IPython.core.display.Latex object>"
      ]
     },
     "metadata": {},
     "output_type": "display_data"
    },
    {
     "data": {
      "text/latex": [
       "$$ \\lambda_{1} = \\frac{10 + 8}{2 \\cdot 3}= 3$$"
      ],
      "text/plain": [
       "<IPython.core.display.Latex object>"
      ]
     },
     "metadata": {},
     "output_type": "display_data"
    },
    {
     "data": {
      "text/latex": [
       "$$ \\lambda_{2} = \\frac{10 - 8}{2 \\cdot 3}= \\frac{1}{3}$$"
      ],
      "text/plain": [
       "<IPython.core.display.Latex object>"
      ]
     },
     "metadata": {},
     "output_type": "display_data"
    }
   ],
   "source": [
    "new_expr = simplify(expr.lhs.subs({s_o(y, 2): v.diff(x, 2), s_o(y, 1): v.diff(x, 1), y: v}))\n",
    "Eq(new_expr, 0)\n",
    "Eq(new_expr.args[0], 0)\n",
    "l1, l2 = discriminant(y_c, symbol=lmd)"
   ]
  },
  {
   "cell_type": "code",
   "execution_count": 11,
   "id": "6776e55d",
   "metadata": {
    "ExecuteTime": {
     "end_time": "2022-03-30T15:42:45.886204Z",
     "start_time": "2022-03-30T15:42:45.849099Z"
    },
    "colab": {
     "base_uri": "https://localhost:8080/",
     "height": 147
    },
    "executionInfo": {
     "elapsed": 8,
     "status": "ok",
     "timestamp": 1647469124248,
     "user": {
      "displayName": "Влад Танцев",
      "photoUrl": "https://lh3.googleusercontent.com/a/default-user=s64",
      "userId": "17772345218159706590"
     },
     "user_tz": -180
    },
    "id": "6776e55d",
    "outputId": "8789c22e-7f61-47e0-f884-128a711bcff0"
   },
   "outputs": [
    {
     "data": {
      "text/latex": [
       "$$ y_{оо} = C_{1} e^{3 x} + C_{2} e^{\\frac{x}{3}}$$"
      ],
      "text/plain": [
       "<IPython.core.display.Latex object>"
      ]
     },
     "metadata": {},
     "output_type": "display_data"
    },
    {
     "data": {
      "text/latex": [
       "$$ y_{он} = \\operatorname{C_{1}}{\\left(x \\right)} e^{3 x} + \\operatorname{C_{2}}{\\left(x \\right)} e^{\\frac{x}{3}}$$"
      ],
      "text/plain": [
       "<IPython.core.display.Latex object>"
      ]
     },
     "metadata": {},
     "output_type": "display_data"
    },
    {
     "name": "stdout",
     "output_type": "stream",
     "text": [
      "Доп.условие Лагранжа:\n"
     ]
    },
    {
     "data": {
      "text/latex": [
       "$$ \\operatorname{C^{'}_{1}}{\\left(x \\right)} e^{3 x} + \\operatorname{C^{'}_{2}}{\\left(x \\right)} e^{\\frac{x}{3}} = 0 $$"
      ],
      "text/plain": [
       "<IPython.core.display.Latex object>"
      ]
     },
     "metadata": {},
     "output_type": "display_data"
    },
    {
     "data": {
      "text/latex": [
       "$$ y^{'} = 3 \\operatorname{C_{1}}{\\left(x \\right)} e^{3 x} + \\frac{\\operatorname{C_{2}}{\\left(x \\right)} e^{\\frac{x}{3}}}{3} + \\operatorname{C^{'}_{1}}{\\left(x \\right)} e^{3 x} + \\operatorname{C^{'}_{2}}{\\left(x \\right)} e^{\\frac{x}{3}}$$"
      ],
      "text/plain": [
       "<IPython.core.display.Latex object>"
      ]
     },
     "metadata": {},
     "output_type": "display_data"
    },
    {
     "data": {
      "text/latex": [
       "$$ y^{''} = 9 \\operatorname{C_{1}}{\\left(x \\right)} e^{3 x} + \\frac{\\operatorname{C_{2}}{\\left(x \\right)} e^{\\frac{x}{3}}}{9} + 3 \\operatorname{C^{'}_{1}}{\\left(x \\right)} e^{3 x} + \\frac{\\operatorname{C^{'}_{2}}{\\left(x \\right)} e^{\\frac{x}{3}}}{3}$$"
      ],
      "text/plain": [
       "<IPython.core.display.Latex object>"
      ]
     },
     "metadata": {},
     "output_type": "display_data"
    }
   ],
   "source": [
    "yoo = to_s('C1') * exp(l1 * x) + to_s('C2') * exp(l2 * x)\n",
    "yoh = C1(x) * exp(l1 * x) + C2(x) * exp(l2 * x)\n",
    "print_eq('y_оо', yoo)\n",
    "print_eq('y_он', yoh)\n",
    "print('Доп.условие Лагранжа:')\n",
    "lagrange = yoh.subs({C1(x): C1_d(x), C2(x): C2_d(x)})\n",
    "print_eq(Eq(lagrange, 0))\n",
    "y1_dif = C1_d(x) * exp(l1 * x) + C2_d(x) * exp(l2 * x) + C1(x) * exp(l1 * x).diff(x) + C2(x) * exp(l2 * x).diff(x)\n",
    "y2_dif = C1_d(x) * exp(l1 * x).diff(x) + C2_d(x) * exp(l2 * x).diff(x) + C1(x) * exp(l1 * x).diff(x, 2) + C2(x) * exp(l2 * x).diff(x, 2)\n",
    "print_eq(s_o(y, 1), y1_dif)\n",
    "print_eq(s_o(y, 2), y2_dif)"
   ]
  },
  {
   "cell_type": "code",
   "execution_count": 12,
   "id": "0e365c14",
   "metadata": {
    "ExecuteTime": {
     "end_time": "2022-03-30T15:42:45.890892Z",
     "start_time": "2022-03-30T15:42:45.887650Z"
    },
    "executionInfo": {
     "elapsed": 8,
     "status": "ok",
     "timestamp": 1647469124249,
     "user": {
      "displayName": "Влад Танцев",
      "photoUrl": "https://lh3.googleusercontent.com/a/default-user=s64",
      "userId": "17772345218159706590"
     },
     "user_tz": -180
    },
    "id": "0e365c14"
   },
   "outputs": [],
   "source": [
    "b_l = b if b < 0 else '+' + str(b)\n",
    "c_l = c if c < 0 else '+' + str(c)"
   ]
  },
  {
   "cell_type": "code",
   "execution_count": 13,
   "id": "3b6f5e0f",
   "metadata": {
    "ExecuteTime": {
     "end_time": "2022-03-30T15:42:45.921129Z",
     "start_time": "2022-03-30T15:42:45.892500Z"
    },
    "colab": {
     "base_uri": "https://localhost:8080/",
     "height": 148
    },
    "executionInfo": {
     "elapsed": 7,
     "status": "ok",
     "timestamp": 1647469124249,
     "user": {
      "displayName": "Влад Танцев",
      "photoUrl": "https://lh3.googleusercontent.com/a/default-user=s64",
      "userId": "17772345218159706590"
     },
     "user_tz": -180
    },
    "id": "3b6f5e0f",
    "outputId": "64b1503c-417c-42c6-91bc-d4bbe91de5b3"
   },
   "outputs": [
    {
     "data": {
      "text/latex": [
       "$$ 3\\cdot(9 \\operatorname{C_{1}}{\\left(x \\right)} e^{3 x} + \\frac{\\operatorname{C_{2}}{\\left(x \\right)} e^{\\frac{x}{3}}}{9} + 3 \\operatorname{C^{'}_{1}}{\\left(x \\right)} e^{3 x} + \\frac{\\operatorname{C^{'}_{2}}{\\left(x \\right)} e^{\\frac{x}{3}}}{3})-10\\cdot(3 \\operatorname{C_{1}}{\\left(x \\right)} e^{3 x} + \\frac{\\operatorname{C_{2}}{\\left(x \\right)} e^{\\frac{x}{3}}}{3} + \\operatorname{C^{'}_{1}}{\\left(x \\right)} e^{3 x} + \\operatorname{C^{'}_{2}}{\\left(x \\right)} e^{\\frac{x}{3}})+3\\cdot(\\operatorname{C_{1}}{\\left(x \\right)} e^{3 x} + \\operatorname{C_{2}}{\\left(x \\right)} e^{\\frac{x}{3}}) = 11 x^{2} - 23 x + 57 $$"
      ],
      "text/plain": [
       "<IPython.core.display.Latex object>"
      ]
     },
     "metadata": {},
     "output_type": "display_data"
    },
    {
     "data": {
      "text/latex": [
       "$$ \\begin{equation*}\n",
       "    \\begin{cases}9 \\operatorname{C^{'}_{1}}{\\left(x \\right)} e^{3 x} + \\operatorname{C^{'}_{2}}{\\left(x \\right)} e^{\\frac{x}{3}} = 11 x^{2} - 23 x + 57\\\\\\operatorname{C^{'}_{1}}{\\left(x \\right)} e^{3 x} + \\operatorname{C^{'}_{2}}{\\left(x \\right)} e^{\\frac{x}{3}} = 0\\end{cases}\n",
       "    \\end{equation*}\n",
       "         $$"
      ],
      "text/plain": [
       "<IPython.core.display.Latex object>"
      ]
     },
     "metadata": {},
     "output_type": "display_data"
    }
   ],
   "source": [
    "vyr = a * y2_dif + b * y1_dif.subs(lagrange, 0) + c * yoh\n",
    "vyr_latex = f'{a}*({latex(y2_dif)}){b_l}*({latex(y1_dif)}){c_l}*({latex(yoh)}) = {latex(expr.rhs)}'.replace('*', '\\cdot')\n",
    "print_eq(vyr_latex)\n",
    "s1 = Eq(vyr, expr.rhs)\n",
    "s2 = Eq(lagrange, 0)\n",
    "print_system(s1, s2)"
   ]
  },
  {
   "cell_type": "code",
   "execution_count": 14,
   "id": "bd06c1c8",
   "metadata": {
    "ExecuteTime": {
     "end_time": "2022-03-30T15:42:46.033648Z",
     "start_time": "2022-03-30T15:42:45.922542Z"
    },
    "colab": {
     "base_uri": "https://localhost:8080/",
     "height": 63
    },
    "executionInfo": {
     "elapsed": 7,
     "status": "ok",
     "timestamp": 1647469124249,
     "user": {
      "displayName": "Влад Танцев",
      "photoUrl": "https://lh3.googleusercontent.com/a/default-user=s64",
      "userId": "17772345218159706590"
     },
     "user_tz": -180
    },
    "id": "bd06c1c8",
    "outputId": "035ed2b4-909e-439f-fa59-21ab55d85028"
   },
   "outputs": [
    {
     "data": {
      "text/latex": [
       "$$ - 8 \\operatorname{C^{'}_{2}}{\\left(x \\right)} e^{\\frac{x}{3}} = 11 x^{2} - 23 x + 57 $$"
      ],
      "text/plain": [
       "<IPython.core.display.Latex object>"
      ]
     },
     "metadata": {},
     "output_type": "display_data"
    },
    {
     "data": {
      "text/latex": [
       "$$ 8 \\operatorname{C^{'}_{1}}{\\left(x \\right)} e^{3 x} = 11 x^{2} - 23 x + 57 $$"
      ],
      "text/plain": [
       "<IPython.core.display.Latex object>"
      ]
     },
     "metadata": {},
     "output_type": "display_data"
    }
   ],
   "source": [
    "coef_l, coef_r  = get_coef(s1.lhs.args[1]), get_coef(s1.lhs.args[0])\n",
    "s_red1 = Eq(s1.lhs - coef_l * s2.lhs, expr.rhs)\n",
    "s_red2 = Eq(s1.lhs - coef_r * s2.lhs, expr.rhs)\n",
    "if not simple_express(s_red1, C2_d(x))[1]:\n",
    "    s_red1, s_red2 = s_red2, s_red1\n",
    "print_eq(s_red1) \n",
    "print_eq(s_red2)"
   ]
  },
  {
   "cell_type": "code",
   "execution_count": 15,
   "id": "426705fb",
   "metadata": {
    "ExecuteTime": {
     "end_time": "2022-03-30T15:42:46.616607Z",
     "start_time": "2022-03-30T15:42:46.034864Z"
    },
    "colab": {
     "base_uri": "https://localhost:8080/",
     "height": 75
    },
    "executionInfo": {
     "elapsed": 837,
     "status": "ok",
     "timestamp": 1647469125080,
     "user": {
      "displayName": "Влад Танцев",
      "photoUrl": "https://lh3.googleusercontent.com/a/default-user=s64",
      "userId": "17772345218159706590"
     },
     "user_tz": -180
    },
    "id": "426705fb",
    "outputId": "cede56ca-94e8-4d4a-ee99-0a8b8c094771"
   },
   "outputs": [
    {
     "data": {
      "text/latex": [
       "$$ \\operatorname{C^{'}_{1}}{\\left(x \\right)} = \\frac{\\left(11 x^{2} - 23 x + 57\\right) e^{- 3 x}}{8} $$"
      ],
      "text/plain": [
       "<IPython.core.display.Latex object>"
      ]
     },
     "metadata": {},
     "output_type": "display_data"
    },
    {
     "data": {
      "text/latex": [
       "$$ \\operatorname{C^{'}_{2}}{\\left(x \\right)} = \\frac{\\left(- 11 x^{2} + 23 x - 57\\right) e^{- \\frac{x}{3}}}{8} $$"
      ],
      "text/plain": [
       "<IPython.core.display.Latex object>"
      ]
     },
     "metadata": {},
     "output_type": "display_data"
    }
   ],
   "source": [
    "C1_d_expr = simplify(simple_express(s_red2, C1_d(x))[0])\n",
    "C2_d_expr = simplify(simple_express(s_red1, C2_d(x))[0])\n",
    "print_eq(C1_d_expr)\n",
    "print_eq(C2_d_expr)\n",
    "den_1 = get_den(C1_d_expr.rhs)\n",
    "den_2 = get_den(C2_d_expr.rhs)\n",
    "if den_1 is None:\n",
    "    den_1 = 1\n",
    "if den_2 is None:\n",
    "    den_2 = 1"
   ]
  },
  {
   "cell_type": "code",
   "execution_count": 16,
   "id": "a13a2810",
   "metadata": {
    "ExecuteTime": {
     "end_time": "2022-03-30T15:42:46.627620Z",
     "start_time": "2022-03-30T15:42:46.618101Z"
    },
    "colab": {
     "base_uri": "https://localhost:8080/",
     "height": 61
    },
    "executionInfo": {
     "elapsed": 5,
     "status": "ok",
     "timestamp": 1647469125081,
     "user": {
      "displayName": "Влад Танцев",
      "photoUrl": "https://lh3.googleusercontent.com/a/default-user=s64",
      "userId": "17772345218159706590"
     },
     "user_tz": -180
    },
    "id": "a13a2810",
    "outputId": "c852e751-10c7-48dd-92c9-c08b053e4924"
   },
   "outputs": [
    {
     "data": {
      "text/latex": [
       "$$ \\operatorname{C_{1}}{\\left(x \\right)} = \\frac{1}{8}\\int \\left(11 x^{2} - 23 x + 57\\right) e^{- 3 x}\\, dx$$"
      ],
      "text/plain": [
       "<IPython.core.display.Latex object>"
      ]
     },
     "metadata": {},
     "output_type": "display_data"
    },
    {
     "data": {
      "text/latex": [
       "$$ \\operatorname{C_{2}}{\\left(x \\right)} = \\frac{1}{8}\\int \\left(- 11 x^{2} + 23 x - 57\\right) e^{- \\frac{x}{3}}\\, dx$$"
      ],
      "text/plain": [
       "<IPython.core.display.Latex object>"
      ]
     },
     "metadata": {},
     "output_type": "display_data"
    }
   ],
   "source": [
    "C1_expr = Integral(C1_d_expr.rhs, x)\n",
    "C2_expr = Integral(C2_d_expr.rhs, x)\n",
    "print_eq(C1(x), latex(den_1) + latex(Integral(C1_expr.args[0] / den_1, x)))\n",
    "print_eq(C2(x), latex(den_2) + latex(Integral(C2_expr.args[0] / den_2, x)))"
   ]
  },
  {
   "cell_type": "code",
   "execution_count": 17,
   "id": "f2a50c08",
   "metadata": {
    "ExecuteTime": {
     "end_time": "2022-03-30T15:42:46.724961Z",
     "start_time": "2022-03-30T15:42:46.629052Z"
    },
    "colab": {
     "base_uri": "https://localhost:8080/",
     "height": 148
    },
    "executionInfo": {
     "elapsed": 603,
     "status": "ok",
     "timestamp": 1647469125680,
     "user": {
      "displayName": "Влад Танцев",
      "photoUrl": "https://lh3.googleusercontent.com/a/default-user=s64",
      "userId": "17772345218159706590"
     },
     "user_tz": -180
    },
    "id": "f2a50c08",
    "outputId": "a3191fb5-eb59-48bb-8678-8f48ce2c1ca3"
   },
   "outputs": [
    {
     "name": "stdout",
     "output_type": "stream",
     "text": [
      "Писать интегрирование по частям очень долго и бессмысленно т.к. есть онлайн калькулятор.\n",
      "    https://math.semestr.ru/math/integration-parts.php.\n",
      "    Проинтегрировать нужно верхние два примера. Ответы ниже должны совпадать\n",
      "    \n"
     ]
    },
    {
     "data": {
      "text/latex": [
       "$$ \\operatorname{C_{1}}{\\left(x \\right)} = \\frac{\\left(- 99 x^{2} + 141 x - 466\\right) e^{- 3 x}}{216}+C_{1}$$"
      ],
      "text/plain": [
       "<IPython.core.display.Latex object>"
      ]
     },
     "metadata": {},
     "output_type": "display_data"
    },
    {
     "data": {
      "text/latex": [
       "$$ \\operatorname{C_{2}}{\\left(x \\right)} = \\frac{\\left(33 x^{2} + 129 x + 558\\right) e^{- \\frac{x}{3}}}{8}+C_{2}$$"
      ],
      "text/plain": [
       "<IPython.core.display.Latex object>"
      ]
     },
     "metadata": {},
     "output_type": "display_data"
    }
   ],
   "source": [
    "if n_task == 2: #текст ниже относится только ко второй задаче\n",
    "    print('''Писать интегрирование по частям очень долго и бессмысленно т.к. есть онлайн калькулятор.\n",
    "    https://math.semestr.ru/math/integration-parts.php.\n",
    "    Проинтегрировать нужно верхние два примера. Ответы ниже должны совпадать\n",
    "    ''')\n",
    "C1_i_expr = C1_expr.doit()\n",
    "C2_i_expr = C2_expr.doit()\n",
    "print_eq(C1(x), latex(C1_i_expr) + latex(to_s('+C_1')))\n",
    "print_eq(C2(x), latex(C2_i_expr) + latex(to_s('+C_2')))\n",
    "C1_i_expr += to_s('C1')\n",
    "C2_i_expr += to_s('C2')"
   ]
  },
  {
   "cell_type": "code",
   "execution_count": 18,
   "id": "3bae7913",
   "metadata": {
    "ExecuteTime": {
     "end_time": "2022-03-30T15:42:46.775056Z",
     "start_time": "2022-03-30T15:42:46.726264Z"
    },
    "colab": {
     "base_uri": "https://localhost:8080/",
     "height": 125
    },
    "executionInfo": {
     "elapsed": 11,
     "status": "ok",
     "timestamp": 1647469125680,
     "user": {
      "displayName": "Влад Танцев",
      "photoUrl": "https://lh3.googleusercontent.com/a/default-user=s64",
      "userId": "17772345218159706590"
     },
     "user_tz": -180
    },
    "id": "3bae7913",
    "outputId": "66aa7fe9-c470-4b6e-908a-1c287d64d84a"
   },
   "outputs": [
    {
     "data": {
      "text/latex": [
       "$$ \\begin{equation*}\n",
       "    \\begin{cases}y_{он} = C_{1} e^{3 x} + C_{2} e^{\\frac{x}{3}} + \\frac{11 x^{2}}{3} + \\frac{151 x}{9} + \\frac{1825}{27}\\\\y(0)=15, y'(0)=17\\end{cases}\n",
       "    \\end{equation*}\n",
       "         $$"
      ],
      "text/plain": [
       "<IPython.core.display.Latex object>"
      ]
     },
     "metadata": {},
     "output_type": "display_data"
    },
    {
     "data": {
      "text/latex": [
       "$$ y' = 3 C_{1} e^{3 x} + \\frac{C_{2} e^{\\frac{x}{3}}}{3} + \\frac{22 x}{3} + \\frac{151}{9} $$"
      ],
      "text/plain": [
       "<IPython.core.display.Latex object>"
      ]
     },
     "metadata": {},
     "output_type": "display_data"
    }
   ],
   "source": [
    "new_yoh = Eq(to_s('y_он'), expand(yoh.subs({C1(x):C1_i_expr, C2(x):C2_i_expr})))\n",
    "if n_task == 2:\n",
    "    print_system(new_yoh, f'y(0)={y0}, y\\'(0)={yd0}')\n",
    "    second_equat = Eq(to_s('y\\''), new_yoh.rhs.diff(x))\n",
    "    print_eq(second_equat)\n",
    "else:\n",
    "    print_system(new_yoh, f'y(0)={y0}, y({n_y})={y_n}')\n",
    "    second_equat = Eq(y, new_yoh.rhs)"
   ]
  },
  {
   "cell_type": "code",
   "execution_count": 19,
   "id": "4179d496",
   "metadata": {
    "ExecuteTime": {
     "end_time": "2022-03-30T15:42:46.892561Z",
     "start_time": "2022-03-30T15:42:46.776017Z"
    },
    "colab": {
     "base_uri": "https://localhost:8080/",
     "height": 189
    },
    "executionInfo": {
     "elapsed": 12,
     "status": "ok",
     "timestamp": 1647469125681,
     "user": {
      "displayName": "Влад Танцев",
      "photoUrl": "https://lh3.googleusercontent.com/a/default-user=s64",
      "userId": "17772345218159706590"
     },
     "user_tz": -180
    },
    "id": "4179d496",
    "outputId": "25c2ce25-76c8-4b7c-fde6-122bbf73dd47"
   },
   "outputs": [
    {
     "data": {
      "text/latex": [
       "$$ \\begin{equation*}\n",
       "    \\begin{cases}C_{1} + C_{2} + \\frac{1825}{27} = 15\\\\3 C_{1} + \\frac{C_{2}}{3} + \\frac{151}{9} = 17\\end{cases}\n",
       "    \\end{equation*}\n",
       "         $$"
      ],
      "text/plain": [
       "<IPython.core.display.Latex object>"
      ]
     },
     "metadata": {},
     "output_type": "display_data"
    },
    {
     "data": {
      "text/latex": [
       "$$ \\operatorname{C_{1}} = - C_{2} - \\frac{1420}{27}$$"
      ],
      "text/plain": [
       "<IPython.core.display.Latex object>"
      ]
     },
     "metadata": {},
     "output_type": "display_data"
    },
    {
     "data": {
      "text/latex": [
       "$$ 3 (- C_{2} - \\frac{1420}{27}) + \\frac{C_{2}}{3} + \\frac{151}{9} = 17 $$"
      ],
      "text/plain": [
       "<IPython.core.display.Latex object>"
      ]
     },
     "metadata": {},
     "output_type": "display_data"
    },
    {
     "data": {
      "text/latex": [
       "$$ C_{2} = - \\frac{237}{4}$$"
      ],
      "text/plain": [
       "<IPython.core.display.Latex object>"
      ]
     },
     "metadata": {},
     "output_type": "display_data"
    },
    {
     "data": {
      "text/latex": [
       "$$ C_{1} = - (- \\frac{237}{4}) - \\frac{1420}{27}= \\frac{719}{108}$$"
      ],
      "text/plain": [
       "<IPython.core.display.Latex object>"
      ]
     },
     "metadata": {},
     "output_type": "display_data"
    }
   ],
   "source": [
    "new_yoh_val = Eq(new_yoh.rhs, new_yoh.lhs).subs({x: 0, to_s('y_он'):y0})\n",
    "if n_task == 2:\n",
    "    second_equat_val = Eq(second_equat.rhs, second_equat.lhs).subs({x: 0, to_s('y\\''):yd0})\n",
    "else:\n",
    "    second_equat_val = Eq(second_equat.rhs, second_equat.lhs).subs({x: n_y, to_s(y):y_n})\n",
    "print_system(new_yoh_val, second_equat_val)\n",
    "\n",
    "C1_value = solve(new_yoh_val, to_s('C1'))[0]\n",
    "print_eq(C1, C1_value)\n",
    "print_eq(second_equat_val.subs(to_s('C1'), to_s(f'({latex(C1_value)})')))\n",
    "C2_value = solve(second_equat_val.subs(to_s('C1'), C1_value), to_s('C2'))[0]\n",
    "print_eq('C2', C2_value)\n",
    "print_eq('C1', C1_value.subs(to_s('C2'), to_s(f'({latex(C2_value)})')), C1_value.subs(to_s('C2'), C2_value))\n",
    "C1_value = C1_value.subs(to_s('C2'), C2_value)"
   ]
  },
  {
   "cell_type": "code",
   "execution_count": 20,
   "id": "9e9f1ef2",
   "metadata": {
    "ExecuteTime": {
     "end_time": "2022-03-30T15:42:46.904664Z",
     "start_time": "2022-03-30T15:42:46.893792Z"
    },
    "colab": {
     "base_uri": "https://localhost:8080/",
     "height": 59
    },
    "executionInfo": {
     "elapsed": 12,
     "status": "ok",
     "timestamp": 1647469125682,
     "user": {
      "displayName": "Влад Танцев",
      "photoUrl": "https://lh3.googleusercontent.com/a/default-user=s64",
      "userId": "17772345218159706590"
     },
     "user_tz": -180
    },
    "id": "9e9f1ef2",
    "outputId": "d623ed0b-4fd2-4d4f-8d0a-4100bcb010af"
   },
   "outputs": [
    {
     "name": "stdout",
     "output_type": "stream",
     "text": [
      "Ответ:\n"
     ]
    },
    {
     "data": {
      "text/latex": [
       "$$ y = \\frac{11 x^{2}}{3} + \\frac{151 x}{9} - \\frac{237 e^{\\frac{x}{3}}}{4} + \\frac{719 e^{3 x}}{108} + \\frac{1825}{27}$$"
      ],
      "text/plain": [
       "<IPython.core.display.Latex object>"
      ]
     },
     "metadata": {},
     "output_type": "display_data"
    }
   ],
   "source": [
    "print('Ответ:')\n",
    "print_eq(y, expand(new_yoh.rhs.subs({to_s('C1'):C1_value, to_s('C2'):C2_value})))"
   ]
  }
 ],
 "metadata": {
  "colab": {
   "collapsed_sections": [],
   "name": "10 практ.ipynb",
   "provenance": []
  },
  "kernelspec": {
   "display_name": "Python 3 (ipykernel)",
   "language": "python",
   "name": "python3"
  },
  "language_info": {
   "codemirror_mode": {
    "name": "ipython",
    "version": 3
   },
   "file_extension": ".py",
   "mimetype": "text/x-python",
   "name": "python",
   "nbconvert_exporter": "python",
   "pygments_lexer": "ipython3",
   "version": "3.9.7"
  },
  "latex_envs": {
   "LaTeX_envs_menu_present": true,
   "autoclose": false,
   "autocomplete": true,
   "bibliofile": "biblio.bib",
   "cite_by": "apalike",
   "current_citInitial": 1,
   "eqLabelWithNumbers": true,
   "eqNumInitial": 1,
   "hotkeys": {
    "equation": "Ctrl-E",
    "itemize": "Ctrl-I"
   },
   "labels_anchors": false,
   "latex_user_defs": false,
   "report_style_numbering": false,
   "user_envs_cfg": false
  },
  "varInspector": {
   "cols": {
    "lenName": 16,
    "lenType": 16,
    "lenVar": 40
   },
   "kernels_config": {
    "python": {
     "delete_cmd_postfix": "",
     "delete_cmd_prefix": "del ",
     "library": "var_list.py",
     "varRefreshCmd": "print(var_dic_list())"
    },
    "r": {
     "delete_cmd_postfix": ") ",
     "delete_cmd_prefix": "rm(",
     "library": "var_list.r",
     "varRefreshCmd": "cat(var_dic_list()) "
    }
   },
   "types_to_exclude": [
    "module",
    "function",
    "builtin_function_or_method",
    "instance",
    "_Feature"
   ],
   "window_display": false
  }
 },
 "nbformat": 4,
 "nbformat_minor": 5
}
