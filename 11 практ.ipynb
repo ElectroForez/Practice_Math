{
 "cells": [
  {
   "cell_type": "code",
   "execution_count": 1,
   "id": "5e0c9779",
   "metadata": {
    "ExecuteTime": {
     "end_time": "2022-03-26T20:31:26.539289Z",
     "start_time": "2022-03-26T20:31:26.048521Z"
    }
   },
   "outputs": [],
   "source": [
    "from sympy import *\n",
    "from IPython.core.interactiveshell import InteractiveShell\n",
    "InteractiveShell.ast_node_interactivity = \"all\"\n",
    "from IPython.display import display, Math, Latex\n",
    "init_printing(use_latex='mathjax')\n",
    "import numpy as np\n",
    "import pandas as pd\n",
    "from IPython.display import HTML, display\n",
    "from tabulate import tabulate"
   ]
  },
  {
   "cell_type": "code",
   "execution_count": 2,
   "id": "f4ba9249",
   "metadata": {
    "ExecuteTime": {
     "end_time": "2022-03-26T20:31:26.547187Z",
     "start_time": "2022-03-26T20:31:26.540663Z"
    }
   },
   "outputs": [],
   "source": [
    "def print_eq(eq, *exprs, rev_int2=False):\n",
    "    if type(eq) == str:\n",
    "        eq = Symbol(eq)\n",
    "    out = '$$ {} ' + '= {}' * len(exprs) + '$$'\n",
    "    exprs=list(exprs)\n",
    "    for i in range(len(exprs)):\n",
    "        if type(exprs[i]) != str:\n",
    "            exprs[i] = latex(exprs[i])\n",
    "    if rev_int2:\n",
    "        exprs[-2] += '|_0^x'\n",
    "    display(Latex(out.format(latex(eq), *exprs)))\n",
    "\n",
    "def to_s(i):\n",
    "    return Symbol(str(i))\n",
    "\n",
    "def print_system(*exprs, collab=False): \n",
    "    '''\n",
    "    collab негодяй не хочет нормально системы уравнений отоброжать, \n",
    "    если вы в Jupyter, то замените в аргументе collab True на False'''\n",
    "    exprs=list(exprs)\n",
    "    for i in range(len(exprs)):\n",
    "        if type(exprs[i]) != str:\n",
    "            exprs[i] = latex(exprs[i])\n",
    "    exprs_latex = r'\\\\'.join(exprs)\n",
    "    if collab:\n",
    "        system = r'Начало системы\\\\' + exprs_latex + r'\\\\Конец_системы\\\\'\n",
    "    else:\n",
    "        system = \\\n",
    "        r'''\\begin{equation*}\n",
    "    \\begin{cases}''' \\\n",
    "        + exprs_latex + \\\n",
    "        r'''\\end{cases}\n",
    "    \\end{equation*}\n",
    "        '''\n",
    "\n",
    "    print_eq(system)\n",
    "    \n",
    "def get_coef(el):\n",
    "    args = el.args\n",
    "    if len(args) == 0:\n",
    "        return 1\n",
    "    elif ask(Q.extended_real(args[0])):\n",
    "        return int(args[0])\n",
    "    \n",
    "def print_table(array):\n",
    "    display(HTML(tabulate(array, tablefmt='html')))\n",
    "    \n",
    "def left_bas(*x_nums):\n",
    "    global x_dict\n",
    "    table = []\n",
    "    for x in x_nums:\n",
    "        table += [[x_dict[f'x{x}'], f'x{x}']]\n",
    "    return table"
   ]
  },
  {
   "cell_type": "code",
   "execution_count": 3,
   "id": "b10fbea8",
   "metadata": {
    "ExecuteTime": {
     "end_time": "2022-03-26T20:31:26.556201Z",
     "start_time": "2022-03-26T20:31:26.548342Z"
    }
   },
   "outputs": [],
   "source": [
    "x1, x2, x3, x4 = symbols('x_1, x_2, x_3, x_4')\n",
    "L = Symbol(r'L(\\bar{x})')"
   ]
  },
  {
   "cell_type": "code",
   "execution_count": 4,
   "id": "f8b2809d",
   "metadata": {
    "ExecuteTime": {
     "end_time": "2022-03-26T20:31:26.720649Z",
     "start_time": "2022-03-26T20:31:26.557722Z"
    }
   },
   "outputs": [
    {
     "data": {
      "text/latex": [
       "$$ L(\\bar{x}) = 3 x_{1} + 4 x_{2}\\rightarrow max$$"
      ],
      "text/plain": [
       "<IPython.core.display.Latex object>"
      ]
     },
     "metadata": {},
     "output_type": "display_data"
    },
    {
     "data": {
      "text/latex": [
       "$$ x_{1} \\geqslant 0,\\ x_{2} \\geqslant 0 $$"
      ],
      "text/plain": [
       "<IPython.core.display.Latex object>"
      ]
     },
     "metadata": {},
     "output_type": "display_data"
    },
    {
     "data": {
      "text/latex": [
       "$$ \\begin{equation*}\n",
       "    \\begin{cases}x_{1} + 2 x_{2} \\leq 4\\\\x_{1} + x_{2} \\leq 3\\\\2 x_{1} + x_{2} \\leq 8\\end{cases}\n",
       "    \\end{equation*}\n",
       "         $$"
      ],
      "text/plain": [
       "<IPython.core.display.Latex object>"
      ]
     },
     "metadata": {},
     "output_type": "display_data"
    }
   ],
   "source": [
    "L_coefs = [3, 4]\n",
    "    \n",
    "conss = [\n",
    "        x1 + 2 * x2 <= 4,\n",
    "        x1 + x2 <= 3,\n",
    "        2 * x1 + x2 <= 8\n",
    "       ]\n",
    "\n",
    "L_expr = 0\n",
    "for i, coef in enumerate(L_coefs):\n",
    "    L_expr += coef * to_s(f'x_{i + 1}')\n",
    "    \n",
    "print_eq(L, latex(L_expr) + r'\\rightarrow max')\n",
    "print_eq(r'x_{1} \\geqslant 0,\\ x_{2} \\geqslant 0')\n",
    "print_system(*conss)"
   ]
  },
  {
   "cell_type": "code",
   "execution_count": 5,
   "id": "afb5a260",
   "metadata": {
    "ExecuteTime": {
     "end_time": "2022-03-26T20:31:26.744046Z",
     "start_time": "2022-03-26T20:31:26.722267Z"
    }
   },
   "outputs": [
    {
     "name": "stdout",
     "output_type": "stream",
     "text": [
      "Приведём запись к каноническому виду\n"
     ]
    },
    {
     "data": {
      "text/latex": [
       "$$ L(\\bar{x}) = 3 x_{1} + 4 x_{2}\\rightarrow max$$"
      ],
      "text/plain": [
       "<IPython.core.display.Latex object>"
      ]
     },
     "metadata": {},
     "output_type": "display_data"
    },
    {
     "name": "stdout",
     "output_type": "stream",
     "text": [
      "При ограничениях:\n"
     ]
    },
    {
     "data": {
      "text/latex": [
       "$$ \\begin{equation*}\n",
       "    \\begin{cases}x_{1} + 2 x_{2} + x_{3} = 4\\\\x_{1} + x_{2} + x_{4} = 3\\\\2 x_{1} + x_{2} + x_{5} = 8\\end{cases}\n",
       "    \\end{equation*}\n",
       "         $$"
      ],
      "text/plain": [
       "<IPython.core.display.Latex object>"
      ]
     },
     "metadata": {},
     "output_type": "display_data"
    },
    {
     "data": {
      "text/latex": [
       "$$ x_{j} \\geqslant 0,\\ j=\\overline{1,5} $$"
      ],
      "text/plain": [
       "<IPython.core.display.Latex object>"
      ]
     },
     "metadata": {},
     "output_type": "display_data"
    }
   ],
   "source": [
    "can_conss = [*conss]\n",
    "for i, constraint in enumerate(conss):\n",
    "    l_side = constraint.lhs + to_s(f'x_{len(L_coefs) + i + 1}')\n",
    "    r_side = constraint.rhs\n",
    "    if type(constraint) in (GreaterThan, StrictGreaterThan):\n",
    "        l_side = l_side / -1\n",
    "        r_side = r_side / -1\n",
    "    can_conss[i] = Eq(l_side, r_side)\n",
    "\n",
    "print('Приведём запись к каноническому виду')\n",
    "print_eq(L, latex(L_expr) + r'\\rightarrow max')\n",
    "print('При ограничениях:')\n",
    "print_system(*can_conss)\n",
    "print_eq(r'x_{j} \\geqslant 0,\\ j=\\overline{1,' + str(len(L_coefs) + len(conss)) + '}')"
   ]
  },
  {
   "cell_type": "code",
   "execution_count": 14,
   "id": "ae0b3379",
   "metadata": {
    "ExecuteTime": {
     "end_time": "2022-03-26T20:39:10.959539Z",
     "start_time": "2022-03-26T20:39:10.928766Z"
    }
   },
   "outputs": [
    {
     "data": {
      "text/html": [
       "<table>\n",
       "<tbody>\n",
       "<tr><td>ci</td><td>БП</td><td>3 </td><td>4 </td><td>0 </td><td>0 </td><td>0 </td><td>L(x)</td></tr>\n",
       "<tr><td>  </td><td>  </td><td>x1</td><td>x2</td><td>x3</td><td>x4</td><td>x5</td><td>bi  </td></tr>\n",
       "<tr><td>0 </td><td>x3</td><td>1 </td><td>2 </td><td>1 </td><td>0 </td><td>0 </td><td>4   </td></tr>\n",
       "<tr><td>0 </td><td>x4</td><td>1 </td><td>1 </td><td>0 </td><td>1 </td><td>0 </td><td>3   </td></tr>\n",
       "<tr><td>0 </td><td>x5</td><td>2 </td><td>1 </td><td>0 </td><td>0 </td><td>1 </td><td>8   </td></tr>\n",
       "<tr><td>  </td><td>j </td><td>-3</td><td>-4</td><td>0 </td><td>0 </td><td>0 </td><td>0   </td></tr>\n",
       "</tbody>\n",
       "</table>"
      ],
      "text/plain": [
       "<IPython.core.display.HTML object>"
      ]
     },
     "metadata": {},
     "output_type": "display_data"
    }
   ],
   "source": [
    "table = []\n",
    "x_values = L_coefs + [0] * (len(conss))\n",
    "xs = [f'x{i}' for i in range(1, len(L_coefs) + len(conss) + 1)]\n",
    "x_dict = {x: value for x, value in zip(xs, x_values)}\n",
    "header = np.vstack((x_values, xs))\n",
    "header = np.hstack(([['ci', 'БП'], ['', '']], header, [['L(x)'], ['bi']]))\n",
    "table_coef_x = []\n",
    "for i, constraint in enumerate(conss):\n",
    "    table_coef_x += [[]]\n",
    "    for arg in sorted(conss[i].lhs.args, key=lambda x: str(x)[-1]):\n",
    "        table_coef_x[i].append(get_coef(arg))\n",
    "    \n",
    "table = np.hstack((table_coef_x, np.eye(len(conss), dtype=int)))\n",
    "bs = []\n",
    "for constraint in conss:\n",
    "    bs += [[constraint.rhs]]\n",
    "basises = left_bas(*list(range(len(L_coefs) + 1, len(x_dict) + 1)))\n",
    "table = np.hstack((basises, table, bs))\n",
    "table = np.vstack((header, table))\n",
    "footer = [coef * - 1 for coef in L_coefs] + [0] * (len(conss) + 1)\n",
    "table = np.vstack((table, ['', 'j'] + footer))\n",
    "print_table(table)"
   ]
  }
 ],
 "metadata": {
  "kernelspec": {
   "display_name": "Python 3 (ipykernel)",
   "language": "python",
   "name": "python3"
  },
  "language_info": {
   "codemirror_mode": {
    "name": "ipython",
    "version": 3
   },
   "file_extension": ".py",
   "mimetype": "text/x-python",
   "name": "python",
   "nbconvert_exporter": "python",
   "pygments_lexer": "ipython3",
   "version": "3.9.7"
  },
  "latex_envs": {
   "LaTeX_envs_menu_present": true,
   "autoclose": false,
   "autocomplete": true,
   "bibliofile": "biblio.bib",
   "cite_by": "apalike",
   "current_citInitial": 1,
   "eqLabelWithNumbers": true,
   "eqNumInitial": 1,
   "hotkeys": {
    "equation": "Ctrl-E",
    "itemize": "Ctrl-I"
   },
   "labels_anchors": false,
   "latex_user_defs": false,
   "report_style_numbering": false,
   "user_envs_cfg": false
  }
 },
 "nbformat": 4,
 "nbformat_minor": 5
}
