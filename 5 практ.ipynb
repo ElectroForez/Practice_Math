{
 "cells": [
  {
   "cell_type": "code",
   "execution_count": 46,
   "id": "35afb9f3",
   "metadata": {
    "ExecuteTime": {
     "end_time": "2022-03-30T16:21:12.815990Z",
     "start_time": "2022-03-30T16:21:12.806874Z"
    }
   },
   "outputs": [],
   "source": [
    "import numpy as np\n",
    "from sympy import *\n",
    "from IPython.core.interactiveshell import InteractiveShell\n",
    "InteractiveShell.ast_node_interactivity = \"all\"\n",
    "from IPython.display import display, Math, Latex\n",
    "init_printing(use_latex='mathjax')"
   ]
  },
  {
   "cell_type": "code",
   "execution_count": 166,
   "id": "b4fee651",
   "metadata": {
    "ExecuteTime": {
     "end_time": "2022-03-30T20:23:21.604757Z",
     "start_time": "2022-03-30T20:23:21.597263Z"
    }
   },
   "outputs": [],
   "source": [
    "def print_eq(eq, *exprs):\n",
    "    if type(eq) == str:\n",
    "        eq = Symbol(eq)\n",
    "    out = '$$ {} ' + '= {}' * len(exprs) + '$$'\n",
    "    exprs=list(exprs)\n",
    "    for i in range(len(exprs)):\n",
    "        if type(exprs[i]) != str:\n",
    "            exprs[i] = latex(exprs[i])\n",
    "    display(Latex(out.format(latex(eq), *exprs)))\n",
    "\n",
    "def print_system(*exprs, collab=False): \n",
    "    '''\n",
    "    collab говнюк не хочет нормально системы уравнений отоброжать, \n",
    "    если вы в Jupyter, то замените в аргументе collab True на False'''\n",
    "    exprs=list(exprs)\n",
    "    for i in range(len(exprs)):\n",
    "        if type(exprs[i]) != str:\n",
    "            exprs[i] = latex(exprs[i])\n",
    "    exprs_latex = r'\\\\'.join(exprs)\n",
    "    if collab:\n",
    "        system = r'Начало системы\\\\' + exprs_latex + r'\\\\Конец_системы\\\\'\n",
    "    else:\n",
    "        system = \\\n",
    "        r'''\\begin{equation*}\n",
    "    \\begin{cases}''' \\\n",
    "        + exprs_latex + \\\n",
    "        r'''\\end{cases}\n",
    "    \\end{equation*}\n",
    "        '''\n",
    "\n",
    "    print_eq(system)\n",
    "    \n",
    "def to_s(i):\n",
    "    return Symbol(str(i))"
   ]
  },
  {
   "cell_type": "code",
   "execution_count": 54,
   "id": "ce149b19",
   "metadata": {
    "ExecuteTime": {
     "end_time": "2022-03-30T16:31:22.960875Z",
     "start_time": "2022-03-30T16:31:22.958298Z"
    }
   },
   "outputs": [],
   "source": [
    "sym = symbols('x, y, z, c')"
   ]
  },
  {
   "cell_type": "code",
   "execution_count": 185,
   "id": "d0daa53a",
   "metadata": {
    "ExecuteTime": {
     "end_time": "2022-03-30T20:33:06.718760Z",
     "start_time": "2022-03-30T20:33:06.714170Z"
    }
   },
   "outputs": [],
   "source": [
    "A = np.array([\n",
    "    [11, 1, -2, 1],\n",
    "    [2, 19, 2, -2],\n",
    "    [-2, -1, 20, -1],\n",
    "    [1, 2, 1, 10]\n",
    "])\n",
    "b = [20, 60, 90, 60]"
   ]
  },
  {
   "cell_type": "code",
   "execution_count": 90,
   "id": "dd140127",
   "metadata": {
    "ExecuteTime": {
     "end_time": "2022-03-30T19:28:27.883060Z",
     "start_time": "2022-03-30T19:28:27.869644Z"
    }
   },
   "outputs": [
    {
     "data": {
      "text/latex": [
       "$$ \\begin{equation*}\n",
       "    \\begin{cases}11 x+y- 2 z+c=20\\\\2 x+19 y+2 z- 2 c=60\\\\- 2 x- y+20 z- c=90\\\\x+2 y+z+10 c=60\\end{cases}\n",
       "    \\end{equation*}\n",
       "         $$"
      ],
      "text/plain": [
       "<IPython.core.display.Latex object>"
      ]
     },
     "metadata": {},
     "output_type": "display_data"
    }
   ],
   "source": [
    "exprs = []\n",
    "exprs_lat = []\n",
    "for i in range(len(A)):\n",
    "    expr_lat = ''\n",
    "    expr = 0\n",
    "    for j in range(len(A[i])):\n",
    "        expr += sym[j] * A[i][j]\n",
    "        comp = latex(sym[j] * A[i][j])\n",
    "        if not comp.startswith('-') and j != 0:\n",
    "            comp = '+' + comp\n",
    "        expr_lat += comp\n",
    "    expr_lat += f'={b[i]}' \n",
    "    exprs_lat += [expr_lat]\n",
    "    exprs += [expr]\n",
    "print_system(*exprs_lat)"
   ]
  },
  {
   "cell_type": "code",
   "execution_count": 107,
   "id": "859f070b",
   "metadata": {
    "ExecuteTime": {
     "end_time": "2022-03-30T19:52:15.350326Z",
     "start_time": "2022-03-30T19:52:15.336663Z"
    },
    "scrolled": true
   },
   "outputs": [
    {
     "data": {
      "text/plain": [
       "[[-1, -1, 2, -1, 20],\n",
       " [-2, 1, -2, 2, 60],\n",
       " [2, 1, 0, 1, 90],\n",
       " [-1, -2, -1, 0, 60]]"
      ]
     },
     "execution_count": 107,
     "metadata": {},
     "output_type": "execute_result"
    },
    {
     "data": {
      "text/latex": [
       "$$ \\begin{equation*}\n",
       "    \\begin{cases}10x=- x- y+2 z- c+20\\\\20y=- 2 x+y- 2 z+2 c+60\\\\20z=2 x+y+0+c+90\\\\10c=- x- 2 y- z+0+60\\end{cases}\n",
       "    \\end{equation*}\n",
       "         $$"
      ],
      "text/plain": [
       "<IPython.core.display.Latex object>"
      ]
     },
     "metadata": {},
     "output_type": "display_data"
    }
   ],
   "source": [
    "new_values = []\n",
    "coefs_expressed = []\n",
    "new_exprs_lat = []\n",
    "for i in range(len(A)):\n",
    "    el_express = A[i][i]\n",
    "    if el_express % 10 > 5:\n",
    "        expressed = el_express // 10 * 10 + 10\n",
    "    else:\n",
    "        expressed = el_express - el_express % 10\n",
    "    expr_lat = f'{expressed}{sym[i]}='\n",
    "    coefs_expressed += [expressed]\n",
    "    new_values += [[]]\n",
    "    for j in range(len(A[i])):\n",
    "        if j != i:\n",
    "            new_values[-1].append(-A[i][j])\n",
    "        else:\n",
    "            new_values[-1].append(expressed - el_express)\n",
    "            \n",
    "        comp = latex(sym[j] * new_values[-1][-1])\n",
    "        if not comp.startswith('-') and j != 0:\n",
    "            comp = '+' + comp\n",
    "        expr_lat += comp\n",
    "    new_values[-1].append(b[i])\n",
    "    expr_lat += f'+{b[i]}' if b[i] > 0 else str(b[i]) \n",
    "    new_exprs_lat += [expr_lat]\n",
    "new_values\n",
    "print_system(*new_exprs_lat)"
   ]
  },
  {
   "cell_type": "code",
   "execution_count": 172,
   "id": "2cb06a35",
   "metadata": {
    "ExecuteTime": {
     "end_time": "2022-03-30T20:27:15.471564Z",
     "start_time": "2022-03-30T20:27:15.464236Z"
    }
   },
   "outputs": [
    {
     "data": {
      "text/latex": [
       "$\\displaystyle \\sqrt{3 \\cdot 0.05^{2} + 9 \\cdot 0.1^{2} + 2 \\cdot 0.2^{2}}$"
      ],
      "text/plain": [
       "   ___________________________\n",
       "  ╱       2        2        2 \n",
       "╲╱  3⋅0.05  + 9⋅0.1  + 2⋅0.2  "
      ]
     },
     "execution_count": 172,
     "metadata": {},
     "output_type": "execute_result"
    }
   ],
   "source": [
    "C2 = 0\n",
    "for row in C_abs:\n",
    "    for el in row:\n",
    "        if el != 0:\n",
    "            C2 += to_s(el) ** 2\n",
    "sqrt(C2)"
   ]
  },
  {
   "cell_type": "code",
   "execution_count": 193,
   "id": "bafac981",
   "metadata": {
    "ExecuteTime": {
     "end_time": "2022-03-30T20:54:06.594023Z",
     "start_time": "2022-03-30T20:54:06.571801Z"
    }
   },
   "outputs": [
    {
     "data": {
      "text/latex": [
       "$$ ||C||_{1} = max\\{0.4;0.4;0.4;0.25\\}=0.4$$"
      ],
      "text/plain": [
       "<IPython.core.display.Latex object>"
      ]
     },
     "metadata": {},
     "output_type": "display_data"
    },
    {
     "data": {
      "text/latex": [
       "$$ ||C||_{\\infty} = max\\{0.5;0.35;0.2;0.4\\}=0.5$$"
      ],
      "text/plain": [
       "<IPython.core.display.Latex object>"
      ]
     },
     "metadata": {},
     "output_type": "display_data"
    },
    {
     "data": {
      "text/latex": [
       "$$ ||C||_{2} = \\sqrt{3 \\cdot 0.05^{2} + 9 \\cdot 0.1^{2} + 2 \\cdot 0.2^{2}}= \\sqrt{0.1775}\\approx 0.421$$"
      ],
      "text/plain": [
       "<IPython.core.display.Latex object>"
      ]
     },
     "metadata": {},
     "output_type": "display_data"
    },
    {
     "data": {
      "text/latex": [
       "$$ ||C|| < 1 $$"
      ],
      "text/plain": [
       "<IPython.core.display.Latex object>"
      ]
     },
     "metadata": {},
     "output_type": "display_data"
    }
   ],
   "source": [
    "C = np.array(new_values, dtype='float64')\n",
    "for i in range(len(C)):\n",
    "    C[i] = C[i] / coefs_expressed[i]\n",
    "F = np.array(C[:, -1])\n",
    "C = np.array(C[:, :-1])\n",
    "C_abs = np.vectorize(abs)(C)\n",
    "C1 = C_abs.sum(axis=0)\n",
    "C_inf = C_abs.sum(axis=1)\n",
    "max_str = f'max\\{{{\";\".join(C1.astype(str))}\\}}={max(C1)}'\n",
    "print_eq('||C||_1', max_str)\n",
    "max_str = f'max\\{{{\";\".join(C_inf.astype(str))}\\}}={max(C_inf)}'\n",
    "print_eq('||C||_{\\infty}', max_str)\n",
    "C2 = 0\n",
    "C2_value = 0 \n",
    "for row in C_abs:\n",
    "    for el in row:\n",
    "        if el != 0:\n",
    "            C2 += to_s(el) ** 2\n",
    "            C2_value += el ** 2\n",
    "C2_value = round(C2_value, 8)\n",
    "print_eq('||C||_2', sqrt(C2), latex(sqrt(to_s(C2_value))) + f'\\\\approx {round(sqrt(C2_value), 3)}')\n",
    "if min(max(C1), max(C_inf), C2_value) < 1:\n",
    "    print_eq('||C|| < 1')\n",
    "else:\n",
    "    print_eq('Беда')"
   ]
  },
  {
   "cell_type": "code",
   "execution_count": 189,
   "id": "32300942",
   "metadata": {
    "ExecuteTime": {
     "end_time": "2022-03-30T20:47:20.558955Z",
     "start_time": "2022-03-30T20:47:20.547010Z"
    }
   },
   "outputs": [
    {
     "data": {
      "text/latex": [
       "$$ X^{(0)} = \\left[\\begin{matrix}0\\\\0\\\\0\\\\0\\end{matrix}\\right]$$"
      ],
      "text/plain": [
       "<IPython.core.display.Latex object>"
      ]
     },
     "metadata": {},
     "output_type": "display_data"
    }
   ],
   "source": [
    "X = Matrix([0] * len(b))\n",
    "i = 0\n",
    "while True:\n",
    "    print_eq(f'X^{{({i})}}', X)\n",
    "    break"
   ]
  },
  {
   "cell_type": "code",
   "execution_count": 25,
   "id": "4fb425bf",
   "metadata": {
    "ExecuteTime": {
     "end_time": "2022-03-30T14:56:54.566276Z",
     "start_time": "2022-03-30T14:56:54.559629Z"
    }
   },
   "outputs": [],
   "source": [
    "def acc(x1, x2):\n",
    "    x1 = x1[0]\n",
    "    x2 = x2[0]\n",
    "    accuracy = 0\n",
    "    info = \"\"\n",
    "    for i in range(len(x1)):\n",
    "        d1 = x1[i]\n",
    "        d2 = x2[i]\n",
    "        accuracy += pow(d1 - d2, 2)\n",
    "        info += f\"({d1}-{d2})^2+\"\n",
    "    print(accuracy)\n",
    "    return accuracy"
   ]
  },
  {
   "cell_type": "code",
   "execution_count": 44,
   "id": "ab940d1a",
   "metadata": {
    "ExecuteTime": {
     "end_time": "2022-03-30T15:02:25.571919Z",
     "start_time": "2022-03-30T15:02:25.566143Z"
    }
   },
   "outputs": [
    {
     "data": {
      "text/plain": [
       "array([[ 0.  ,  0.  ,  0.  ,  0.  ],\n",
       "       [ 3.5 ,  3.5 ,  1.25, 16.5 ]])"
      ]
     },
     "execution_count": 44,
     "metadata": {},
     "output_type": "execute_result"
    }
   ],
   "source": [
    "x = np.array([[0] * C.shape[0], F[0]])\n",
    "x"
   ]
  },
  {
   "cell_type": "code",
   "execution_count": 42,
   "id": "56d0277e",
   "metadata": {
    "ExecuteTime": {
     "end_time": "2022-03-30T15:00:41.389843Z",
     "start_time": "2022-03-30T15:00:41.382085Z"
    }
   },
   "outputs": [
    {
     "data": {
      "text/latex": [
       "$\\displaystyle \\left[\\begin{matrix}0 & 0 & 0 & 0\\\\3.5 & 3.5 & 1.25 & 16.5\\end{matrix}\\right]$"
      ],
      "text/plain": [
       "Matrix([\n",
       "[  0,   0,    0,    0],\n",
       "[3.5, 3.5, 1.25, 16.5]])"
      ]
     },
     "execution_count": 42,
     "metadata": {},
     "output_type": "execute_result"
    }
   ],
   "source": [
    "Matrix(x)"
   ]
  },
  {
   "cell_type": "code",
   "execution_count": 18,
   "id": "959eb8a3",
   "metadata": {
    "ExecuteTime": {
     "end_time": "2022-03-30T07:59:50.526166Z",
     "start_time": "2022-03-30T07:59:50.515255Z"
    }
   },
   "outputs": [
    {
     "name": "stdout",
     "output_type": "stream",
     "text": [
      "298.3125\n",
      "17.335625\n",
      "0.1761390624999998\n",
      "0.002778796875000049\n",
      "0.00012223207031252808\n",
      "1.002643554685959e-06\n"
     ]
    },
    {
     "data": {
      "text/plain": [
       "1.002643554685959e-06"
      ]
     },
     "execution_count": 18,
     "metadata": {},
     "output_type": "execute_result"
    }
   ],
   "source": [
    "while (acc(x[-1], x[-2]) > 0.001):\n",
    "    x = np.append(x, [(C.dot(x[-1].T) + F.T).T], axis=0)\n",
    "x = np.append(x, [(C.dot(x[-1].T) + F.T).T], axis=0)\n",
    "acc(x[-1], x[-2])"
   ]
  },
  {
   "cell_type": "code",
   "execution_count": 13,
   "id": "35886f04",
   "metadata": {
    "ExecuteTime": {
     "end_time": "2022-03-30T07:59:17.796129Z",
     "start_time": "2022-03-30T07:59:17.792564Z"
    }
   },
   "outputs": [
    {
     "data": {
      "text/plain": [
       "array([[[ 0.        ,  0.        ,  0.        ,  0.        ]],\n",
       "\n",
       "       [[ 3.5       ,  3.5       ,  1.25      , 16.5       ]],\n",
       "\n",
       "       [[ 1.25      ,  5.55      ,  0.95      , 13.675     ]],\n",
       "\n",
       "       [[ 1.3875    ,  5.175     ,  0.96875   , 13.8025    ]],\n",
       "\n",
       "       [[ 1.4085    ,  5.180875  ,  0.957375  , 13.849125  ]],\n",
       "\n",
       "       [[ 1.405525  ,  5.18906875,  0.9574375 , 13.842325  ]],\n",
       "\n",
       "       [[ 1.40537313,  5.18849469,  0.95788969, 13.8416575 ]]])"
      ]
     },
     "execution_count": 13,
     "metadata": {},
     "output_type": "execute_result"
    }
   ],
   "source": [
    "x"
   ]
  }
 ],
 "metadata": {
  "kernelspec": {
   "display_name": "Python 3 (ipykernel)",
   "language": "python",
   "name": "python3"
  },
  "language_info": {
   "codemirror_mode": {
    "name": "ipython",
    "version": 3
   },
   "file_extension": ".py",
   "mimetype": "text/x-python",
   "name": "python",
   "nbconvert_exporter": "python",
   "pygments_lexer": "ipython3",
   "version": "3.9.7"
  },
  "latex_envs": {
   "LaTeX_envs_menu_present": true,
   "autoclose": false,
   "autocomplete": true,
   "bibliofile": "biblio.bib",
   "cite_by": "apalike",
   "current_citInitial": 1,
   "eqLabelWithNumbers": true,
   "eqNumInitial": 1,
   "hotkeys": {
    "equation": "Ctrl-E",
    "itemize": "Ctrl-I"
   },
   "labels_anchors": false,
   "latex_user_defs": false,
   "report_style_numbering": false,
   "user_envs_cfg": false
  }
 },
 "nbformat": 4,
 "nbformat_minor": 5
}
