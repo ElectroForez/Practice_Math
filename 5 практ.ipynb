{
 "cells": [
  {
   "cell_type": "code",
   "execution_count": 2,
   "id": "35afb9f3",
   "metadata": {
    "ExecuteTime": {
     "end_time": "2022-02-20T17:34:32.105631Z",
     "start_time": "2022-02-20T17:34:32.046492Z"
    }
   },
   "outputs": [],
   "source": [
    "import numpy as np\n",
    "from decimal import Decimal"
   ]
  },
  {
   "cell_type": "code",
   "execution_count": 3,
   "id": "02946a57",
   "metadata": {
    "ExecuteTime": {
     "end_time": "2022-02-20T17:34:32.261945Z",
     "start_time": "2022-02-20T17:34:32.257734Z"
    }
   },
   "outputs": [],
   "source": [
    "C = np.array([[0, -0.1, -0.2, -0.1],\n",
    "             [0.1, 0.05, -0.1, 0.1],\n",
    "             [0.1, 0.05, 0, -0.05],\n",
    "             [0.1, 0.2, 0.1, -0.1]])\n",
    "F = np.array([[3.5, 3.5, 1.25, 16.5]])"
   ]
  },
  {
   "cell_type": "code",
   "execution_count": 4,
   "id": "4fb425bf",
   "metadata": {
    "ExecuteTime": {
     "end_time": "2022-02-20T17:34:32.464770Z",
     "start_time": "2022-02-20T17:34:32.461132Z"
    }
   },
   "outputs": [],
   "source": [
    "def acc(x1, x2):\n",
    "    x1 = x1[0]\n",
    "    x2 = x2[0]\n",
    "    accuracy = 0\n",
    "    info = \"\"\n",
    "    for i in range(len(x1)):\n",
    "        d1 = x1[i]\n",
    "        d2 = x2[i]\n",
    "        accuracy += pow(d1 - d2, 2)\n",
    "        info += f\"({d1}-{d2})^2+\"\n",
    "    print(accuracy)\n",
    "    return accuracy"
   ]
  },
  {
   "cell_type": "code",
   "execution_count": 5,
   "id": "ab940d1a",
   "metadata": {
    "ExecuteTime": {
     "end_time": "2022-02-20T17:34:32.698799Z",
     "start_time": "2022-02-20T17:34:32.695737Z"
    }
   },
   "outputs": [],
   "source": [
    "x = np.array([[[0, 0, 0, 0]], [F[0]]])"
   ]
  },
  {
   "cell_type": "code",
   "execution_count": 6,
   "id": "56d0277e",
   "metadata": {
    "ExecuteTime": {
     "end_time": "2022-02-20T17:34:33.193722Z",
     "start_time": "2022-02-20T17:34:33.186968Z"
    }
   },
   "outputs": [
    {
     "data": {
      "text/plain": [
       "array([[[ 0.  ,  0.  ,  0.  ,  0.  ]],\n",
       "\n",
       "       [[ 3.5 ,  3.5 ,  1.25, 16.5 ]]])"
      ]
     },
     "execution_count": 6,
     "metadata": {},
     "output_type": "execute_result"
    }
   ],
   "source": [
    "x"
   ]
  },
  {
   "cell_type": "code",
   "execution_count": 7,
   "id": "959eb8a3",
   "metadata": {
    "ExecuteTime": {
     "end_time": "2022-02-20T17:34:33.766423Z",
     "start_time": "2022-02-20T17:34:33.761537Z"
    }
   },
   "outputs": [
    {
     "name": "stdout",
     "output_type": "stream",
     "text": [
      "298.3125\n",
      "9.580625000000005\n",
      "0.07986406250000039\n",
      "0.005690421875000125\n",
      "0.0002168230078125462\n"
     ]
    }
   ],
   "source": [
    "while (acc(x[-1], x[-2]) > 0.001):\n",
    "    x = np.append(x, [(C.dot(x[-1].T) + F.T).T], axis=0)\n",
    "# x = np.append(x, [(C.dot(x[-1].T) + F.T).T], axis=0)\n",
    "# acc(x[-1], x[-2])"
   ]
  },
  {
   "cell_type": "code",
   "execution_count": 114,
   "id": "35886f04",
   "metadata": {
    "ExecuteTime": {
     "end_time": "2022-01-28T15:09:06.571763Z",
     "start_time": "2022-01-28T15:09:06.562680Z"
    }
   },
   "outputs": [
    {
     "data": {
      "text/plain": [
       "array([[[ 0.        ,  0.        ,  0.        ,  0.        ]],\n",
       "\n",
       "       [[ 3.5       ,  3.5       ,  1.25      , 16.5       ]],\n",
       "\n",
       "       [[ 1.25      ,  5.55      ,  0.95      , 16.025     ]],\n",
       "\n",
       "       [[ 1.1525    ,  5.41      ,  0.85125   , 16.2275    ]],\n",
       "\n",
       "       [[ 1.166     ,  5.423375  ,  0.824375  , 16.159625  ]],\n",
       "\n",
       "       [[ 1.176825  ,  5.42129375,  0.8297875 , 16.16775   ]],\n",
       "\n",
       "       [[ 1.17513812,  5.42254344,  0.83035969, 16.168145  ]]])"
      ]
     },
     "execution_count": 114,
     "metadata": {},
     "output_type": "execute_result"
    }
   ],
   "source": [
    "x"
   ]
  },
  {
   "cell_type": "code",
   "execution_count": null,
   "id": "50e0d16a",
   "metadata": {},
   "outputs": [],
   "source": []
  }
 ],
 "metadata": {
  "kernelspec": {
   "display_name": "Python 3 (ipykernel)",
   "language": "python",
   "name": "python3"
  },
  "language_info": {
   "codemirror_mode": {
    "name": "ipython",
    "version": 3
   },
   "file_extension": ".py",
   "mimetype": "text/x-python",
   "name": "python",
   "nbconvert_exporter": "python",
   "pygments_lexer": "ipython3",
   "version": "3.9.7"
  },
  "latex_envs": {
   "LaTeX_envs_menu_present": true,
   "autoclose": false,
   "autocomplete": true,
   "bibliofile": "biblio.bib",
   "cite_by": "apalike",
   "current_citInitial": 1,
   "eqLabelWithNumbers": true,
   "eqNumInitial": 1,
   "hotkeys": {
    "equation": "Ctrl-E",
    "itemize": "Ctrl-I"
   },
   "labels_anchors": false,
   "latex_user_defs": false,
   "report_style_numbering": false,
   "user_envs_cfg": false
  }
 },
 "nbformat": 4,
 "nbformat_minor": 5
}
