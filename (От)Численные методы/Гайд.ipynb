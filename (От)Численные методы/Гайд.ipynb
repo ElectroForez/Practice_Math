{
 "cells": [
  {
   "cell_type": "markdown",
   "id": "c9b0df6a",
   "metadata": {},
   "source": [
    "# Как вводить выражения"
   ]
  },
  {
   "cell_type": "code",
   "execution_count": 2,
   "id": "5ac51dc0",
   "metadata": {
    "ExecuteTime": {
     "end_time": "2022-03-21T09:20:44.219008Z",
     "start_time": "2022-03-21T09:20:44.208124Z"
    }
   },
   "outputs": [],
   "source": [
    "from sympy import *\n",
    "from sympy.abc import *"
   ]
  },
  {
   "cell_type": "code",
   "execution_count": 31,
   "id": "6dd4dfd7",
   "metadata": {
    "ExecuteTime": {
     "end_time": "2022-03-21T09:54:29.764680Z",
     "start_time": "2022-03-21T09:54:29.759377Z"
    }
   },
   "outputs": [],
   "source": [
    "f = Function('f')"
   ]
  },
  {
   "cell_type": "code",
   "execution_count": 17,
   "id": "1baaa666",
   "metadata": {
    "ExecuteTime": {
     "end_time": "2022-03-21T09:33:01.292624Z",
     "start_time": "2022-03-21T09:33:01.286107Z"
    }
   },
   "outputs": [],
   "source": [
    "ln.__name__ = 'ln'\n",
    "cosh.__name__ = 'ch'\n",
    "sinh.__name__ = 'sh'"
   ]
  },
  {
   "cell_type": "code",
   "execution_count": 25,
   "id": "fecd10e0",
   "metadata": {
    "ExecuteTime": {
     "end_time": "2022-03-21T09:43:42.984206Z",
     "start_time": "2022-03-21T09:43:42.975699Z"
    }
   },
   "outputs": [],
   "source": [
    "def s_o(sym, order):#sym\n",
    "    sym = str(sym)\n",
    "    if len(sym) > 1:\n",
    "        tail = sym[1:]\n",
    "        sym=sym[0]\n",
    "    else:\n",
    "        tail = ''\n",
    "    if order == 0:\n",
    "        return Symbol(sym + tail)\n",
    "    if 1 <= order <=3:\n",
    "        order = '\\'' * order\n",
    "    else:\n",
    "        order = f'({order})'\n",
    "    return Symbol(sym + '^{'+order+'}' + tail)"
   ]
  },
  {
   "cell_type": "markdown",
   "id": "4ada7ada",
   "metadata": {},
   "source": [
    "# Порядок действий как в математике"
   ]
  },
  {
   "cell_type": "markdown",
   "id": "680f074f",
   "metadata": {},
   "source": [
    "# Сложение"
   ]
  },
  {
   "cell_type": "code",
   "execution_count": 3,
   "id": "c4f86202",
   "metadata": {
    "ExecuteTime": {
     "end_time": "2022-03-21T09:24:41.232704Z",
     "start_time": "2022-03-21T09:24:41.196384Z"
    }
   },
   "outputs": [
    {
     "data": {
      "text/latex": [
       "$\\displaystyle x + y$"
      ],
      "text/plain": [
       "x + y"
      ]
     },
     "execution_count": 3,
     "metadata": {},
     "output_type": "execute_result"
    }
   ],
   "source": [
    "x + y"
   ]
  },
  {
   "cell_type": "markdown",
   "id": "5842581a",
   "metadata": {},
   "source": [
    "# Вычитание"
   ]
  },
  {
   "cell_type": "code",
   "execution_count": 5,
   "id": "f2a75e0c",
   "metadata": {
    "ExecuteTime": {
     "end_time": "2022-03-21T09:25:11.687376Z",
     "start_time": "2022-03-21T09:25:11.678934Z"
    }
   },
   "outputs": [
    {
     "data": {
      "text/latex": [
       "$\\displaystyle x - y$"
      ],
      "text/plain": [
       "x - y"
      ]
     },
     "execution_count": 5,
     "metadata": {},
     "output_type": "execute_result"
    }
   ],
   "source": [
    "x - y"
   ]
  },
  {
   "cell_type": "markdown",
   "id": "76a2342b",
   "metadata": {},
   "source": [
    "# Умножение"
   ]
  },
  {
   "cell_type": "code",
   "execution_count": 4,
   "id": "2335449f",
   "metadata": {
    "ExecuteTime": {
     "end_time": "2022-03-21T09:24:48.950613Z",
     "start_time": "2022-03-21T09:24:48.767709Z"
    }
   },
   "outputs": [
    {
     "data": {
      "text/latex": [
       "$\\displaystyle x y$"
      ],
      "text/plain": [
       "x*y"
      ]
     },
     "execution_count": 4,
     "metadata": {},
     "output_type": "execute_result"
    }
   ],
   "source": [
    "x * y"
   ]
  },
  {
   "cell_type": "markdown",
   "id": "f8431d24",
   "metadata": {},
   "source": [
    "# Деление(дробь)"
   ]
  },
  {
   "cell_type": "code",
   "execution_count": 6,
   "id": "f672ee82",
   "metadata": {
    "ExecuteTime": {
     "end_time": "2022-03-21T09:25:55.765193Z",
     "start_time": "2022-03-21T09:25:55.759312Z"
    }
   },
   "outputs": [
    {
     "data": {
      "text/latex": [
       "$\\displaystyle \\frac{x}{y}$"
      ],
      "text/plain": [
       "x/y"
      ]
     },
     "execution_count": 6,
     "metadata": {},
     "output_type": "execute_result"
    }
   ],
   "source": [
    "x / y"
   ]
  },
  {
   "cell_type": "markdown",
   "id": "b2b732a7",
   "metadata": {},
   "source": [
    "# Возведение в степень"
   ]
  },
  {
   "cell_type": "code",
   "execution_count": 20,
   "id": "da40dcfe",
   "metadata": {
    "ExecuteTime": {
     "end_time": "2022-03-21T09:34:21.851734Z",
     "start_time": "2022-03-21T09:34:21.841987Z"
    }
   },
   "outputs": [
    {
     "data": {
      "text/latex": [
       "$\\displaystyle x^{2}$"
      ],
      "text/plain": [
       "x**2"
      ]
     },
     "execution_count": 20,
     "metadata": {},
     "output_type": "execute_result"
    }
   ],
   "source": [
    "x ** 2"
   ]
  },
  {
   "cell_type": "markdown",
   "id": "2048c835",
   "metadata": {},
   "source": [
    "# Квадратный корень"
   ]
  },
  {
   "cell_type": "code",
   "execution_count": 21,
   "id": "b9cdeafe",
   "metadata": {
    "ExecuteTime": {
     "end_time": "2022-03-21T09:34:43.938638Z",
     "start_time": "2022-03-21T09:34:43.930875Z"
    }
   },
   "outputs": [
    {
     "data": {
      "text/latex": [
       "$\\displaystyle \\sqrt{x}$"
      ],
      "text/plain": [
       "sqrt(x)"
      ]
     },
     "execution_count": 21,
     "metadata": {},
     "output_type": "execute_result"
    }
   ],
   "source": [
    "sqrt(x)"
   ]
  },
  {
   "cell_type": "markdown",
   "id": "453235a3",
   "metadata": {},
   "source": [
    "# Скобочки"
   ]
  },
  {
   "cell_type": "code",
   "execution_count": 7,
   "id": "f9194dd6",
   "metadata": {
    "ExecuteTime": {
     "end_time": "2022-03-21T09:26:38.378850Z",
     "start_time": "2022-03-21T09:26:38.371892Z"
    }
   },
   "outputs": [
    {
     "data": {
      "text/latex": [
       "$\\displaystyle y \\left(x + 1\\right)$"
      ],
      "text/plain": [
       "y*(x + 1)"
      ]
     },
     "execution_count": 7,
     "metadata": {},
     "output_type": "execute_result"
    }
   ],
   "source": [
    "(x + 1) * y"
   ]
  },
  {
   "cell_type": "markdown",
   "id": "a229e19d",
   "metadata": {
    "ExecuteTime": {
     "end_time": "2022-03-21T09:27:45.929570Z",
     "start_time": "2022-03-21T09:27:45.921000Z"
    }
   },
   "source": [
    "# Дробь с числами"
   ]
  },
  {
   "cell_type": "code",
   "execution_count": 9,
   "id": "a8f470e5",
   "metadata": {
    "ExecuteTime": {
     "end_time": "2022-03-21T09:27:57.156432Z",
     "start_time": "2022-03-21T09:27:57.151581Z"
    }
   },
   "outputs": [
    {
     "data": {
      "text/latex": [
       "$\\displaystyle \\frac{1}{2}$"
      ],
      "text/plain": [
       "1/2"
      ]
     },
     "execution_count": 9,
     "metadata": {},
     "output_type": "execute_result"
    }
   ],
   "source": [
    "Rational(1, 2)"
   ]
  },
  {
   "cell_type": "markdown",
   "id": "106318bc",
   "metadata": {},
   "source": [
    "###  Важное замечание\n",
    "Заметьте, что примеры не совпадают(внешне). Это потому что дробь приводится в более правильный вид"
   ]
  },
  {
   "cell_type": "code",
   "execution_count": 24,
   "id": "b33aa8b2",
   "metadata": {
    "ExecuteTime": {
     "end_time": "2022-03-21T09:41:54.243928Z",
     "start_time": "2022-03-21T09:41:54.236157Z"
    }
   },
   "outputs": [
    {
     "data": {
      "text/latex": [
       "$\\displaystyle \\frac{\\sqrt{2}}{2}$"
      ],
      "text/plain": [
       "sqrt(2)/2"
      ]
     },
     "execution_count": 24,
     "metadata": {},
     "output_type": "execute_result"
    }
   ],
   "source": [
    "1 / sqrt(2)"
   ]
  },
  {
   "cell_type": "markdown",
   "id": "2a38cc95",
   "metadata": {},
   "source": [
    "# e в степени"
   ]
  },
  {
   "cell_type": "code",
   "execution_count": 10,
   "id": "200f3877",
   "metadata": {
    "ExecuteTime": {
     "end_time": "2022-03-21T09:28:19.373913Z",
     "start_time": "2022-03-21T09:28:19.361791Z"
    }
   },
   "outputs": [
    {
     "data": {
      "text/latex": [
       "$\\displaystyle e^{3 x}$"
      ],
      "text/plain": [
       "exp(3*x)"
      ]
     },
     "execution_count": 10,
     "metadata": {},
     "output_type": "execute_result"
    }
   ],
   "source": [
    "exp(3 * x)"
   ]
  },
  {
   "cell_type": "markdown",
   "id": "30ef557b",
   "metadata": {},
   "source": [
    "# Корень n степени\n",
    "в примере n = 3"
   ]
  },
  {
   "cell_type": "code",
   "execution_count": 38,
   "id": "a9e36bfa",
   "metadata": {
    "ExecuteTime": {
     "end_time": "2022-03-21T09:59:46.004347Z",
     "start_time": "2022-03-21T09:59:45.995695Z"
    }
   },
   "outputs": [
    {
     "data": {
      "text/latex": [
       "$\\displaystyle x^{0.333333333333333}$"
      ],
      "text/plain": [
       "x**0.333333333333333"
      ]
     },
     "execution_count": 38,
     "metadata": {},
     "output_type": "execute_result"
    }
   ],
   "source": [
    "x ** Rational(1, 3)"
   ]
  },
  {
   "cell_type": "markdown",
   "id": "c2361bdb",
   "metadata": {},
   "source": [
    "# ln"
   ]
  },
  {
   "cell_type": "code",
   "execution_count": 32,
   "id": "0d27d709",
   "metadata": {
    "ExecuteTime": {
     "end_time": "2022-03-21T09:54:43.240292Z",
     "start_time": "2022-03-21T09:54:43.232565Z"
    }
   },
   "outputs": [
    {
     "data": {
      "text/latex": [
       "$\\displaystyle \\ln{\\left(2 \\right)}$"
      ],
      "text/plain": [
       "ln(2)"
      ]
     },
     "execution_count": 32,
     "metadata": {},
     "output_type": "execute_result"
    }
   ],
   "source": [
    "ln(2) # если отображается, как log, то это нормально. "
   ]
  },
  {
   "cell_type": "markdown",
   "id": "97916258",
   "metadata": {},
   "source": [
    "# arc чего-нибидь"
   ]
  },
  {
   "cell_type": "code",
   "execution_count": 14,
   "id": "c9726adc",
   "metadata": {
    "ExecuteTime": {
     "end_time": "2022-03-21T09:31:10.287317Z",
     "start_time": "2022-03-21T09:31:10.280430Z"
    }
   },
   "outputs": [
    {
     "data": {
      "text/latex": [
       "$\\displaystyle \\operatorname{atan}{\\left(x \\right)}$"
      ],
      "text/plain": [
       "atan(x)"
      ]
     },
     "execution_count": 14,
     "metadata": {},
     "output_type": "execute_result"
    }
   ],
   "source": [
    "atan(x)"
   ]
  },
  {
   "cell_type": "code",
   "execution_count": 26,
   "id": "23099097",
   "metadata": {
    "ExecuteTime": {
     "end_time": "2022-03-21T09:46:03.350820Z",
     "start_time": "2022-03-21T09:46:03.344542Z"
    }
   },
   "outputs": [
    {
     "data": {
      "text/latex": [
       "$\\displaystyle \\operatorname{acos}{\\left(x \\right)}$"
      ],
      "text/plain": [
       "acos(x)"
      ]
     },
     "execution_count": 26,
     "metadata": {},
     "output_type": "execute_result"
    }
   ],
   "source": [
    "acos(x)"
   ]
  },
  {
   "cell_type": "code",
   "execution_count": 15,
   "id": "39f95634",
   "metadata": {
    "ExecuteTime": {
     "end_time": "2022-03-21T09:31:13.347222Z",
     "start_time": "2022-03-21T09:31:13.340299Z"
    }
   },
   "outputs": [
    {
     "data": {
      "text/latex": [
       "$\\displaystyle \\operatorname{asin}{\\left(x \\right)}$"
      ],
      "text/plain": [
       "asin(x)"
      ]
     },
     "execution_count": 15,
     "metadata": {},
     "output_type": "execute_result"
    }
   ],
   "source": [
    "asin(x)"
   ]
  },
  {
   "cell_type": "markdown",
   "id": "de44193c",
   "metadata": {},
   "source": [
    "# ch, sh"
   ]
  },
  {
   "cell_type": "code",
   "execution_count": 18,
   "id": "751516d7",
   "metadata": {
    "ExecuteTime": {
     "end_time": "2022-03-21T09:33:09.083559Z",
     "start_time": "2022-03-21T09:33:09.077255Z"
    }
   },
   "outputs": [
    {
     "data": {
      "text/latex": [
       "$\\displaystyle \\operatorname{ch}{\\left(x \\right)}$"
      ],
      "text/plain": [
       "ch(x)"
      ]
     },
     "execution_count": 18,
     "metadata": {},
     "output_type": "execute_result"
    }
   ],
   "source": [
    "cosh(x) #если отображается, как cosh, то это нормально"
   ]
  },
  {
   "cell_type": "code",
   "execution_count": 19,
   "id": "358b6885",
   "metadata": {
    "ExecuteTime": {
     "end_time": "2022-03-21T09:33:37.247934Z",
     "start_time": "2022-03-21T09:33:37.239296Z"
    }
   },
   "outputs": [
    {
     "data": {
      "text/latex": [
       "$\\displaystyle \\operatorname{sh}{\\left(x \\right)}$"
      ],
      "text/plain": [
       "sh(x)"
      ]
     },
     "execution_count": 19,
     "metadata": {},
     "output_type": "execute_result"
    }
   ],
   "source": [
    "sinh(x) #если отображается, как sinh, то это нормально"
   ]
  },
  {
   "cell_type": "markdown",
   "id": "da613218",
   "metadata": {},
   "source": [
    "# Производная n-го порядка\n",
    "Важно. Фукция s_o есть только в моём коде. В других местах её нету, поэтому работать она там не будет"
   ]
  },
  {
   "cell_type": "markdown",
   "id": "1d4967e0",
   "metadata": {},
   "source": [
    "s_o(символ, номер порядка)"
   ]
  },
  {
   "cell_type": "code",
   "execution_count": 27,
   "id": "5bcc3c43",
   "metadata": {
    "ExecuteTime": {
     "end_time": "2022-03-21T09:53:27.240060Z",
     "start_time": "2022-03-21T09:53:27.233058Z"
    }
   },
   "outputs": [
    {
     "data": {
      "text/latex": [
       "$\\displaystyle x^{'}$"
      ],
      "text/plain": [
       "x^{'}"
      ]
     },
     "execution_count": 27,
     "metadata": {},
     "output_type": "execute_result"
    }
   ],
   "source": [
    "s_o(x, 1)"
   ]
  },
  {
   "cell_type": "code",
   "execution_count": 35,
   "id": "a5a78298",
   "metadata": {
    "ExecuteTime": {
     "end_time": "2022-03-21T09:56:41.976682Z",
     "start_time": "2022-03-21T09:56:41.970103Z"
    }
   },
   "outputs": [
    {
     "data": {
      "text/latex": [
       "$\\displaystyle x^{'''}$"
      ],
      "text/plain": [
       "x^{'''}"
      ]
     },
     "execution_count": 35,
     "metadata": {},
     "output_type": "execute_result"
    }
   ],
   "source": [
    "s_o(x, 3)"
   ]
  },
  {
   "cell_type": "code",
   "execution_count": 36,
   "id": "3da96a82",
   "metadata": {
    "ExecuteTime": {
     "end_time": "2022-03-21T09:56:43.338905Z",
     "start_time": "2022-03-21T09:56:43.331182Z"
    }
   },
   "outputs": [
    {
     "data": {
      "text/latex": [
       "$\\displaystyle x^{(5)}$"
      ],
      "text/plain": [
       "x^{(5)}"
      ]
     },
     "execution_count": 36,
     "metadata": {},
     "output_type": "execute_result"
    }
   ],
   "source": [
    "s_o(x, 5)"
   ]
  },
  {
   "cell_type": "code",
   "execution_count": 37,
   "id": "d77409be",
   "metadata": {
    "ExecuteTime": {
     "end_time": "2022-03-21T09:56:44.238720Z",
     "start_time": "2022-03-21T09:56:44.231455Z"
    }
   },
   "outputs": [
    {
     "data": {
      "text/latex": [
       "$\\displaystyle f^{''}(x)$"
      ],
      "text/plain": [
       "f^{''}(x)"
      ]
     },
     "execution_count": 37,
     "metadata": {},
     "output_type": "execute_result"
    }
   ],
   "source": [
    "s_o(f(x), 2)"
   ]
  },
  {
   "cell_type": "markdown",
   "id": "ca7f0dc4",
   "metadata": {},
   "source": [
    "# Примеры более сложных выражений"
   ]
  },
  {
   "cell_type": "code",
   "execution_count": 23,
   "id": "2db16418",
   "metadata": {
    "ExecuteTime": {
     "end_time": "2022-03-21T09:38:00.498486Z",
     "start_time": "2022-03-21T09:38:00.466103Z"
    }
   },
   "outputs": [
    {
     "data": {
      "text/latex": [
       "$\\displaystyle \\frac{\\operatorname{ch}{\\left(3 x - 1 \\right)}}{x^{2}}$"
      ],
      "text/plain": [
       "ch(3*x - 1)/x**2"
      ]
     },
     "execution_count": 23,
     "metadata": {},
     "output_type": "execute_result"
    }
   ],
   "source": [
    "cosh(3 * x -1) / x ** 2"
   ]
  },
  {
   "cell_type": "code",
   "execution_count": 39,
   "id": "7a6b29cd",
   "metadata": {
    "ExecuteTime": {
     "end_time": "2022-03-21T10:01:52.462081Z",
     "start_time": "2022-03-21T10:01:52.454264Z"
    }
   },
   "outputs": [
    {
     "data": {
      "text/latex": [
       "$\\displaystyle 2 y^{'} - \\frac{y}{x}$"
      ],
      "text/plain": [
       "2*y^{'} - y/x"
      ]
     },
     "execution_count": 39,
     "metadata": {},
     "output_type": "execute_result"
    }
   ],
   "source": [
    "2 * s_o(y, 1) - y/x"
   ]
  },
  {
   "cell_type": "code",
   "execution_count": 40,
   "id": "f87668bb",
   "metadata": {
    "ExecuteTime": {
     "end_time": "2022-03-21T10:02:05.674410Z",
     "start_time": "2022-03-21T10:02:05.662231Z"
    }
   },
   "outputs": [
    {
     "data": {
      "text/latex": [
       "$\\displaystyle y^{3} \\left(- 20 x - \\frac{12}{x}\\right)$"
      ],
      "text/plain": [
       "y**3*(-20*x - 12/x)"
      ]
     },
     "execution_count": 40,
     "metadata": {},
     "output_type": "execute_result"
    }
   ],
   "source": [
    "-(20*x + 12/x) * y ** 3"
   ]
  },
  {
   "cell_type": "code",
   "execution_count": 41,
   "id": "ce186207",
   "metadata": {
    "ExecuteTime": {
     "end_time": "2022-03-21T10:06:20.112641Z",
     "start_time": "2022-03-21T10:06:20.104552Z"
    }
   },
   "outputs": [
    {
     "data": {
      "text/latex": [
       "$\\displaystyle 60 y + y^{''} - 38$"
      ],
      "text/plain": [
       "60*y + y^{''} - 38"
      ]
     },
     "execution_count": 41,
     "metadata": {},
     "output_type": "execute_result"
    }
   ],
   "source": [
    "s_o(y, 2) + 60 * y - 38"
   ]
  },
  {
   "cell_type": "markdown",
   "id": "5729241b",
   "metadata": {},
   "source": [
    "## Другой порядок это нормально. Главное, чтобы коэффициенты совпадали"
   ]
  }
 ],
 "metadata": {
  "kernelspec": {
   "display_name": "Python 3 (ipykernel)",
   "language": "python",
   "name": "python3"
  },
  "language_info": {
   "codemirror_mode": {
    "name": "ipython",
    "version": 3
   },
   "file_extension": ".py",
   "mimetype": "text/x-python",
   "name": "python",
   "nbconvert_exporter": "python",
   "pygments_lexer": "ipython3",
   "version": "3.10.6"
  },
  "latex_envs": {
   "LaTeX_envs_menu_present": true,
   "autoclose": false,
   "autocomplete": true,
   "bibliofile": "biblio.bib",
   "cite_by": "apalike",
   "current_citInitial": 1,
   "eqLabelWithNumbers": true,
   "eqNumInitial": 1,
   "hotkeys": {
    "equation": "Ctrl-E",
    "itemize": "Ctrl-I"
   },
   "labels_anchors": false,
   "latex_user_defs": false,
   "report_style_numbering": false,
   "user_envs_cfg": false
  }
 },
 "nbformat": 4,
 "nbformat_minor": 5
}
