{
 "cells": [
  {
   "cell_type": "code",
   "execution_count": 2,
   "id": "edae0303",
   "metadata": {
    "ExecuteTime": {
     "end_time": "2022-02-11T16:47:12.398014Z",
     "start_time": "2022-02-11T16:47:12.269110Z"
    }
   },
   "outputs": [],
   "source": [
    "import numpy as np"
   ]
  },
  {
   "cell_type": "code",
   "execution_count": 35,
   "id": "a04dbe63",
   "metadata": {
    "ExecuteTime": {
     "end_time": "2022-02-11T19:12:53.233324Z",
     "start_time": "2022-02-11T19:12:53.228147Z"
    }
   },
   "outputs": [],
   "source": [
    "A = np.array([[4, 5],\n",
    "             [-7, 8],\n",
    "             [13, 17],\n",
    "             [12, 15]])\n",
    "b = np.array([[31, 15, 31, 17]]).T"
   ]
  },
  {
   "cell_type": "code",
   "execution_count": 36,
   "id": "da016beb",
   "metadata": {
    "ExecuteTime": {
     "end_time": "2022-02-11T19:12:54.187444Z",
     "start_time": "2022-02-11T19:12:54.184566Z"
    }
   },
   "outputs": [
    {
     "name": "stdout",
     "output_type": "stream",
     "text": [
      "A.T * A\n",
      "[[378 365]\n",
      " [365 603]]\n"
     ]
    }
   ],
   "source": [
    "a = np.dot(A.T, A)\n",
    "print('A.T * A')\n",
    "print(a)"
   ]
  },
  {
   "cell_type": "code",
   "execution_count": 37,
   "id": "00198b8c",
   "metadata": {
    "ExecuteTime": {
     "end_time": "2022-02-11T19:12:54.533478Z",
     "start_time": "2022-02-11T19:12:54.524157Z"
    }
   },
   "outputs": [
    {
     "name": "stdout",
     "output_type": "stream",
     "text": [
      "A.T * b\n",
      "[[ 626]\n",
      " [1057]]\n"
     ]
    },
    {
     "data": {
      "text/plain": [
       "array([ 626, 1057])"
      ]
     },
     "execution_count": 37,
     "metadata": {},
     "output_type": "execute_result"
    }
   ],
   "source": [
    "at_dot_b = np.dot(A.T, b)\n",
    "print('A.T * b')\n",
    "print(at_dot_b)\n",
    "b = at_dot_b.reshape(2)\n",
    "# new_b.reshape(2)\n",
    "b"
   ]
  },
  {
   "cell_type": "code",
   "execution_count": 38,
   "id": "1f670a13",
   "metadata": {
    "ExecuteTime": {
     "end_time": "2022-02-11T19:12:54.865320Z",
     "start_time": "2022-02-11T19:12:54.857476Z"
    }
   },
   "outputs": [],
   "source": [
    "def det2(a):\n",
    "    return a[0][0] * a[1][1] - a[1][0] * a[0][1]\n",
    "def det2_s(a):\n",
    "    return f'{a[0][0]} * {a[1][1]} - {a[1][0]} * {a[0][1]}  {det2(a)}'"
   ]
  },
  {
   "cell_type": "code",
   "execution_count": 39,
   "id": "54be64fe",
   "metadata": {
    "ExecuteTime": {
     "end_time": "2022-02-11T19:12:55.092535Z",
     "start_time": "2022-02-11T19:12:55.085356Z"
    }
   },
   "outputs": [
    {
     "name": "stdout",
     "output_type": "stream",
     "text": [
      "[[378 365]\n",
      " [365 603]]\n",
      "a det = 94709\n"
     ]
    }
   ],
   "source": [
    "print(a)\n",
    "print('a det =', det2(a))"
   ]
  },
  {
   "cell_type": "code",
   "execution_count": 40,
   "id": "b34fce96",
   "metadata": {
    "ExecuteTime": {
     "end_time": "2022-02-11T19:12:55.296268Z",
     "start_time": "2022-02-11T19:12:55.287721Z"
    }
   },
   "outputs": [
    {
     "name": "stdout",
     "output_type": "stream",
     "text": [
      "      626 * 603 - 1057 * 365  -8327\n",
      "x1 =  --------------------  = ------- = -0.08792195039542176\n",
      "      378 * 603 - 365 * 365  94709\n"
     ]
    }
   ],
   "source": [
    "numerator = [[b[0], a[0][1]],\n",
    "            [b[1], a[1][1]]]\n",
    "denominator = a\n",
    "x1 = det2(numerator) / det2(denominator)\n",
    "print(' ' * 5, det2_s(numerator))\n",
    "print('x1 = ', '-' * 20, ' = ------- =', x1)\n",
    "print(' ' * 5, det2_s(denominator))"
   ]
  },
  {
   "cell_type": "code",
   "execution_count": 41,
   "id": "8e42825d",
   "metadata": {
    "ExecuteTime": {
     "end_time": "2022-02-11T19:12:55.483419Z",
     "start_time": "2022-02-11T19:12:55.474630Z"
    }
   },
   "outputs": [
    {
     "name": "stdout",
     "output_type": "stream",
     "text": [
      "      378 * 1057 - 365 * 626  171056\n",
      "x2 =  --------------------  = ------- = 1.806121910272519\n",
      "      378 * 603 - 365 * 365  94709\n"
     ]
    }
   ],
   "source": [
    "numerator = [[a[0][0], b[0]],\n",
    "            [a[1][0], b[1]]]\n",
    "denominator = a\n",
    "x2 = det2(numerator) / det2(denominator)\n",
    "print(' ' * 5, det2_s(numerator))\n",
    "print('x2 = ', '-' * 20, ' = ------- =', x2)\n",
    "print(' ' * 5, det2_s(denominator))\n",
    "# print('x2 =', det2(numerator), '/', det2(denominator), '=', x2)"
   ]
  },
  {
   "cell_type": "code",
   "execution_count": 42,
   "id": "b7910ee5",
   "metadata": {
    "ExecuteTime": {
     "end_time": "2022-02-11T19:23:35.445589Z",
     "start_time": "2022-02-11T19:23:35.437204Z"
    }
   },
   "outputs": [
    {
     "data": {
      "text/plain": [
       "1"
      ]
     },
     "execution_count": 42,
     "metadata": {},
     "output_type": "execute_result"
    }
   ],
   "source": [
    "171056 // 94709"
   ]
  },
  {
   "cell_type": "code",
   "execution_count": 43,
   "id": "507f901d",
   "metadata": {
    "ExecuteTime": {
     "end_time": "2022-02-11T19:23:54.529358Z",
     "start_time": "2022-02-11T19:23:54.523248Z"
    }
   },
   "outputs": [
    {
     "data": {
      "text/plain": [
       "76347"
      ]
     },
     "execution_count": 43,
     "metadata": {},
     "output_type": "execute_result"
    }
   ],
   "source": [
    "171056 - 94709"
   ]
  },
  {
   "cell_type": "code",
   "execution_count": null,
   "id": "0dbb2f18",
   "metadata": {},
   "outputs": [],
   "source": []
  }
 ],
 "metadata": {
  "kernelspec": {
   "display_name": "Python 3 (ipykernel)",
   "language": "python",
   "name": "python3"
  },
  "language_info": {
   "codemirror_mode": {
    "name": "ipython",
    "version": 3
   },
   "file_extension": ".py",
   "mimetype": "text/x-python",
   "name": "python",
   "nbconvert_exporter": "python",
   "pygments_lexer": "ipython3",
   "version": "3.10.4"
  },
  "latex_envs": {
   "LaTeX_envs_menu_present": true,
   "autoclose": false,
   "autocomplete": true,
   "bibliofile": "biblio.bib",
   "cite_by": "apalike",
   "current_citInitial": 1,
   "eqLabelWithNumbers": true,
   "eqNumInitial": 1,
   "hotkeys": {
    "equation": "Ctrl-E",
    "itemize": "Ctrl-I"
   },
   "labels_anchors": false,
   "latex_user_defs": false,
   "report_style_numbering": false,
   "user_envs_cfg": false
  }
 },
 "nbformat": 4,
 "nbformat_minor": 5
}
