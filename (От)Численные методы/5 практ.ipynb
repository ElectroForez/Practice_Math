{
 "cells": [
  {
   "cell_type": "code",
   "execution_count": 1,
   "id": "35afb9f3",
   "metadata": {
    "ExecuteTime": {
     "end_time": "2022-03-30T22:14:52.077069Z",
     "start_time": "2022-03-30T22:14:51.718967Z"
    }
   },
   "outputs": [],
   "source": [
    "import numpy as np\n",
    "from sympy import *\n",
    "from IPython.core.interactiveshell import InteractiveShell\n",
    "InteractiveShell.ast_node_interactivity = \"all\"\n",
    "from IPython.display import display, Math, Latex\n",
    "init_printing(use_latex='mathjax')"
   ]
  },
  {
   "cell_type": "code",
   "execution_count": 2,
   "id": "dfdc6006",
   "metadata": {
    "ExecuteTime": {
     "end_time": "2022-03-30T22:14:52.085852Z",
     "start_time": "2022-03-30T22:14:52.078402Z"
    }
   },
   "outputs": [],
   "source": [
    "def print_eq(eq, *exprs):\n",
    "    if type(eq) == str:\n",
    "        eq = Symbol(eq)\n",
    "    out = '$$ {} ' + '= {}' * len(exprs) + '$$'\n",
    "    exprs=list(exprs)\n",
    "    for i in range(len(exprs)):\n",
    "        if type(exprs[i]) != str:\n",
    "            exprs[i] = latex(exprs[i])\n",
    "    display(Latex(out.format(latex(eq), *exprs)))\n",
    "\n",
    "def print_system(*exprs, collab=False): \n",
    "    '''\n",
    "    collab говнюк не хочет нормально системы уравнений отоброжать, \n",
    "    если вы в Jupyter, то замените в аргументе collab True на False'''\n",
    "    exprs=list(exprs)\n",
    "    for i in range(len(exprs)):\n",
    "        if type(exprs[i]) != str:\n",
    "            exprs[i] = latex(exprs[i])\n",
    "    exprs_latex = r'\\\\'.join(exprs)\n",
    "    if collab:\n",
    "        system = r'Начало системы\\\\' + exprs_latex + r'\\\\Конец_системы\\\\'\n",
    "    else:\n",
    "        system = \\\n",
    "        r'''\\begin{equation*}\n",
    "    \\begin{cases}''' \\\n",
    "        + exprs_latex + \\\n",
    "        r'''\\end{cases}\n",
    "    \\end{equation*}\n",
    "        '''\n",
    "\n",
    "    print_eq(system)\n",
    "    \n",
    "def to_s(i):\n",
    "    return Symbol(str(i))\n",
    "\n",
    "def pmatrix(array):\n",
    "    if type(array) != Matrix:\n",
    "        array = Matrix(array)\n",
    "    return latex(array)[6:-7].replace('matrix', 'pmatrix') + ''"
   ]
  },
  {
   "cell_type": "code",
   "execution_count": 3,
   "id": "8de4e40a",
   "metadata": {
    "ExecuteTime": {
     "end_time": "2022-03-30T22:19:00.243623Z",
     "start_time": "2022-03-30T22:19:00.240471Z"
    }
   },
   "outputs": [],
   "source": [
    "def get_acc(X_cur, X_prev, lat=False):\n",
    "    acc = 0\n",
    "    acc_lat = ''\n",
    "    for i in range(len(X_cur)):\n",
    "        acc += (X_cur[i] - X_prev[i]) ** 2\n",
    "        acc_lat += f'({X_cur[i]} - {X_prev[i]})^{{2}}+'\n",
    "    return round(acc, 12), acc_lat[:-1]"
   ]
  },
  {
   "cell_type": "code",
   "execution_count": 4,
   "id": "6405ce1c",
   "metadata": {
    "ExecuteTime": {
     "end_time": "2022-03-30T22:14:52.090214Z",
     "start_time": "2022-03-30T22:14:52.087572Z"
    }
   },
   "outputs": [],
   "source": [
    "sym = symbols('x, y, z, c')"
   ]
  },
  {
   "cell_type": "code",
   "execution_count": 5,
   "id": "114d46b4",
   "metadata": {
    "ExecuteTime": {
     "end_time": "2022-03-30T22:14:52.098763Z",
     "start_time": "2022-03-30T22:14:52.091902Z"
    }
   },
   "outputs": [
    {
     "data": {
      "text/latex": [
       "$$ A = \\begin{pmatrix}10 & 1 & 1 & 2\\\\-1 & 19 & 2 & -2\\\\-2 & -1 & 20 & -1\\\\1 & 2 & 1 & 11\\end{pmatrix}$$"
      ],
      "text/plain": [
       "<IPython.core.display.Latex object>"
      ]
     },
     "metadata": {},
     "output_type": "display_data"
    },
    {
     "data": {
      "text/latex": [
       "$$ b = \\begin{pmatrix}10\\\\60\\\\90\\\\60\\end{pmatrix}$$"
      ],
      "text/plain": [
       "<IPython.core.display.Latex object>"
      ]
     },
     "metadata": {},
     "output_type": "display_data"
    }
   ],
   "source": [
    "A = np.array([\n",
    "    [10, 1, 1, 2],\n",
    "    [-1, 19, 2, -2],\n",
    "    [-2, -1, 20, -1],\n",
    "    [1, 2, 1, 11]\n",
    "])\n",
    "b = [10, 60, 90, 60]\n",
    "ACC = 0.001\n",
    "print_eq('A', pmatrix(A))\n",
    "print_eq('b', pmatrix(b))"
   ]
  },
  {
   "cell_type": "code",
   "execution_count": 6,
   "id": "63707491",
   "metadata": {
    "ExecuteTime": {
     "end_time": "2022-03-30T22:14:52.257090Z",
     "start_time": "2022-03-30T22:14:52.100010Z"
    }
   },
   "outputs": [
    {
     "data": {
      "text/latex": [
       "$$ \\begin{equation*}\n",
       "    \\begin{cases}10 x+y+z+2 c=10\\\\- x+19 y+2 z- 2 c=60\\\\- 2 x- y+20 z- c=90\\\\x+2 y+z+11 c=60\\end{cases}\n",
       "    \\end{equation*}\n",
       "         $$"
      ],
      "text/plain": [
       "<IPython.core.display.Latex object>"
      ]
     },
     "metadata": {},
     "output_type": "display_data"
    }
   ],
   "source": [
    "exprs = []\n",
    "exprs_lat = []\n",
    "for i in range(len(A)):\n",
    "    expr_lat = ''\n",
    "    expr = 0\n",
    "    for j in range(len(A[i])):\n",
    "        expr += sym[j] * A[i][j]\n",
    "        comp = latex(sym[j] * A[i][j])\n",
    "        if not comp.startswith('-') and j != 0:\n",
    "            comp = '+' + comp\n",
    "        expr_lat += comp\n",
    "    expr_lat += f'={b[i]}' \n",
    "    exprs_lat += [expr_lat]\n",
    "    exprs += [expr]\n",
    "print_system(*exprs_lat)"
   ]
  },
  {
   "cell_type": "code",
   "execution_count": 7,
   "id": "7297ee5a",
   "metadata": {
    "ExecuteTime": {
     "end_time": "2022-03-30T22:14:52.265933Z",
     "start_time": "2022-03-30T22:14:52.258247Z"
    },
    "scrolled": true
   },
   "outputs": [
    {
     "data": {
      "text/latex": [
       "$$ \\begin{equation*}\n",
       "    \\begin{cases}10x=0- y- z- 2 c+10\\\\20y=x+y- 2 z+2 c+60\\\\20z=2 x+y+0+c+90\\\\10c=- x- 2 y- z- c+60\\end{cases}\n",
       "    \\end{equation*}\n",
       "         $$"
      ],
      "text/plain": [
       "<IPython.core.display.Latex object>"
      ]
     },
     "metadata": {},
     "output_type": "display_data"
    }
   ],
   "source": [
    "new_values = []\n",
    "coefs_expressed = []\n",
    "new_exprs_lat = []\n",
    "for i in range(len(A)):\n",
    "    el_express = A[i][i]\n",
    "    if el_express % 10 > 5:\n",
    "        expressed = el_express // 10 * 10 + 10\n",
    "    else:\n",
    "        expressed = el_express - el_express % 10\n",
    "    expr_lat = f'{expressed}{sym[i]}='\n",
    "    coefs_expressed += [expressed]\n",
    "    new_values += [[]]\n",
    "    for j in range(len(A[i])):\n",
    "        if j != i:\n",
    "            new_values[-1].append(-A[i][j])\n",
    "        else:\n",
    "            new_values[-1].append(expressed - el_express)\n",
    "            \n",
    "        comp = latex(sym[j] * new_values[-1][-1])\n",
    "        if not comp.startswith('-') and j != 0:\n",
    "            comp = '+' + comp\n",
    "        expr_lat += comp\n",
    "    new_values[-1].append(b[i])\n",
    "    expr_lat += f'+{b[i]}' if b[i] > 0 else str(b[i]) \n",
    "    new_exprs_lat += [expr_lat]\n",
    "print_system(*new_exprs_lat)"
   ]
  },
  {
   "cell_type": "code",
   "execution_count": 8,
   "id": "f8ccdda9",
   "metadata": {
    "ExecuteTime": {
     "end_time": "2022-03-30T22:14:52.279835Z",
     "start_time": "2022-03-30T22:14:52.268027Z"
    }
   },
   "outputs": [
    {
     "data": {
      "text/latex": [
       "$$ \\begin{equation*}\n",
       "    \\begin{cases}x=0- 0.1 y- 0.1 z- 0.2 c+1.0\\\\y=0.05 x+0.05 y- 0.1 z+0.1 c+3.0\\\\z=0.1 x+0.05 y+0+0.05 c+4.5\\\\c=- 0.1 x- 0.2 y- 0.1 z- 0.1 c+6.0\\end{cases}\n",
       "    \\end{equation*}\n",
       "         $$"
      ],
      "text/plain": [
       "<IPython.core.display.Latex object>"
      ]
     },
     "metadata": {},
     "output_type": "display_data"
    }
   ],
   "source": [
    "div_exprs = []\n",
    "C = np.array(new_values, dtype='float64')\n",
    "for i in range(len(C)):\n",
    "    C[i] = C[i] / coefs_expressed[i]\n",
    "F = np.array(C[:, -1])\n",
    "C = np.array(C[:, :-1])\n",
    "for i in range(len(C)):\n",
    "    div_expr = f'{sym[i]}='\n",
    "    for j in range(len(C[i])): \n",
    "        comp = latex(sym[j] * C[i][j])\n",
    "        if not comp.startswith('-') and j != 0:\n",
    "            comp = '+' + comp\n",
    "        div_expr += comp\n",
    "    div_expr += f'+{F[i]}' if b[i] > 0 else str(b[i]) \n",
    "    div_exprs += [div_expr]\n",
    "print_system(*div_exprs)"
   ]
  },
  {
   "cell_type": "code",
   "execution_count": 9,
   "id": "e62560ee",
   "metadata": {
    "ExecuteTime": {
     "end_time": "2022-03-30T22:14:52.295191Z",
     "start_time": "2022-03-30T22:14:52.281608Z"
    }
   },
   "outputs": [
    {
     "data": {
      "text/latex": [
       "$$ ||C||_{1} = max\\{0.25;0.4;0.30000000000000004;0.45000000000000007\\}=0.45000000000000007$$"
      ],
      "text/plain": [
       "<IPython.core.display.Latex object>"
      ]
     },
     "metadata": {},
     "output_type": "display_data"
    },
    {
     "data": {
      "text/latex": [
       "$$ ||C||_{\\infty} = max\\{0.4;0.30000000000000004;0.2;0.5\\}=0.5$$"
      ],
      "text/plain": [
       "<IPython.core.display.Latex object>"
      ]
     },
     "metadata": {},
     "output_type": "display_data"
    },
    {
     "data": {
      "text/latex": [
       "$$ ||C||_{2} = \\sqrt{4 \\cdot 0.05^{2} + 8 \\cdot 0.1^{2} + 2 \\cdot 0.2^{2}}= \\sqrt{0.17}\\approx 0.412$$"
      ],
      "text/plain": [
       "<IPython.core.display.Latex object>"
      ]
     },
     "metadata": {},
     "output_type": "display_data"
    },
    {
     "data": {
      "text/latex": [
       "$$ ||C|| < 1 $$"
      ],
      "text/plain": [
       "<IPython.core.display.Latex object>"
      ]
     },
     "metadata": {},
     "output_type": "display_data"
    }
   ],
   "source": [
    "C_abs = np.vectorize(abs)(C)\n",
    "C1 = C_abs.sum(axis=0)\n",
    "C_inf = C_abs.sum(axis=1)\n",
    "max_str = f'max\\{{{\";\".join(C1.astype(str))}\\}}={max(C1)}'\n",
    "print_eq('||C||_1', max_str)\n",
    "max_str = f'max\\{{{\";\".join(C_inf.astype(str))}\\}}={max(C_inf)}'\n",
    "print_eq('||C||_{\\infty}', max_str)\n",
    "C2 = 0\n",
    "C2_value = 0 \n",
    "for row in C_abs:\n",
    "    for el in row:\n",
    "        if el != 0:\n",
    "            C2 += to_s(el) ** 2\n",
    "            C2_value += el ** 2\n",
    "C2_value = round(C2_value, 8)\n",
    "print_eq('||C||_2', sqrt(C2), latex(sqrt(to_s(C2_value))) + f'\\\\approx {round(sqrt(C2_value), 3)}')\n",
    "if min(max(C1), max(C_inf), C2_value) < 1:\n",
    "    print_eq('||C|| < 1')\n",
    "else:\n",
    "    print_eq('Беда')"
   ]
  },
  {
   "cell_type": "code",
   "execution_count": 10,
   "id": "622fe631",
   "metadata": {
    "ExecuteTime": {
     "end_time": "2022-03-30T22:14:52.347745Z",
     "start_time": "2022-03-30T22:14:52.300595Z"
    }
   },
   "outputs": [
    {
     "data": {
      "text/latex": [
       "$$ X^{(0)} = \\begin{pmatrix}0\\\\0\\\\0\\\\0\\end{pmatrix}$$"
      ],
      "text/plain": [
       "<IPython.core.display.Latex object>"
      ]
     },
     "metadata": {},
     "output_type": "display_data"
    },
    {
     "data": {
      "text/latex": [
       "$$ \\begin{pmatrix}x\\\\y\\\\z\\\\c\\end{pmatrix}^{(1)} = \\begin{pmatrix}0 & -0.1 & -0.1 & -0.2\\\\0.05 & 0.05 & -0.1 & 0.1\\\\0.1 & 0.05 & 0 & 0.05\\\\-0.1 & -0.2 & -0.1 & -0.1\\end{pmatrix}\\begin{pmatrix}0\\\\0\\\\0\\\\0\\end{pmatrix}+\\begin{pmatrix}1.0\\\\3.0\\\\4.5\\\\6.0\\end{pmatrix}= \\begin{pmatrix}1.0\\\\3.0\\\\4.5\\\\6.0\\end{pmatrix}$$"
      ],
      "text/plain": [
       "<IPython.core.display.Latex object>"
      ]
     },
     "metadata": {},
     "output_type": "display_data"
    },
    {
     "data": {
      "text/latex": [
       "$$ X^{(1)} = \\begin{pmatrix}1.0\\\\3.0\\\\4.5\\\\6.0\\end{pmatrix}$$"
      ],
      "text/plain": [
       "<IPython.core.display.Latex object>"
      ]
     },
     "metadata": {},
     "output_type": "display_data"
    },
    {
     "data": {
      "text/latex": [
       "$$ \\begin{pmatrix}x\\\\y\\\\z\\\\c\\end{pmatrix}^{(2)} = \\begin{pmatrix}0 & -0.1 & -0.1 & -0.2\\\\0.05 & 0.05 & -0.1 & 0.1\\\\0.1 & 0.05 & 0 & 0.05\\\\-0.1 & -0.2 & -0.1 & -0.1\\end{pmatrix}\\begin{pmatrix}1.0\\\\3.0\\\\4.5\\\\6.0\\end{pmatrix}+\\begin{pmatrix}1.0\\\\3.0\\\\4.5\\\\6.0\\end{pmatrix}= \\begin{pmatrix}-0.95\\\\3.35\\\\5.05\\\\4.25\\end{pmatrix}$$"
      ],
      "text/plain": [
       "<IPython.core.display.Latex object>"
      ]
     },
     "metadata": {},
     "output_type": "display_data"
    },
    {
     "data": {
      "text/latex": [
       "$$ X^{(2)} = \\begin{pmatrix}-0.95\\\\3.35\\\\5.05\\\\4.25\\end{pmatrix}$$"
      ],
      "text/plain": [
       "<IPython.core.display.Latex object>"
      ]
     },
     "metadata": {},
     "output_type": "display_data"
    },
    {
     "data": {
      "text/latex": [
       "$$ \\begin{pmatrix}x\\\\y\\\\z\\\\c\\end{pmatrix}^{(3)} = \\begin{pmatrix}0 & -0.1 & -0.1 & -0.2\\\\0.05 & 0.05 & -0.1 & 0.1\\\\0.1 & 0.05 & 0 & 0.05\\\\-0.1 & -0.2 & -0.1 & -0.1\\end{pmatrix}\\begin{pmatrix}-0.95\\\\3.35\\\\5.05\\\\4.25\\end{pmatrix}+\\begin{pmatrix}1.0\\\\3.0\\\\4.5\\\\6.0\\end{pmatrix}= \\begin{pmatrix}-0.69\\\\3.04\\\\4.785\\\\4.495\\end{pmatrix}$$"
      ],
      "text/plain": [
       "<IPython.core.display.Latex object>"
      ]
     },
     "metadata": {},
     "output_type": "display_data"
    },
    {
     "data": {
      "text/latex": [
       "$$ X^{(3)} = \\begin{pmatrix}-0.69\\\\3.04\\\\4.785\\\\4.495\\end{pmatrix}$$"
      ],
      "text/plain": [
       "<IPython.core.display.Latex object>"
      ]
     },
     "metadata": {},
     "output_type": "display_data"
    },
    {
     "data": {
      "text/latex": [
       "$$ \\begin{pmatrix}x\\\\y\\\\z\\\\c\\end{pmatrix}^{(4)} = \\begin{pmatrix}0 & -0.1 & -0.1 & -0.2\\\\0.05 & 0.05 & -0.1 & 0.1\\\\0.1 & 0.05 & 0 & 0.05\\\\-0.1 & -0.2 & -0.1 & -0.1\\end{pmatrix}\\begin{pmatrix}-0.69\\\\3.04\\\\4.785\\\\4.495\\end{pmatrix}+\\begin{pmatrix}1.0\\\\3.0\\\\4.5\\\\6.0\\end{pmatrix}= \\begin{pmatrix}-0.6815\\\\3.0885\\\\4.80775\\\\4.533\\end{pmatrix}$$"
      ],
      "text/plain": [
       "<IPython.core.display.Latex object>"
      ]
     },
     "metadata": {},
     "output_type": "display_data"
    },
    {
     "data": {
      "text/latex": [
       "$$ X^{(4)} = \\begin{pmatrix}-0.6815\\\\3.0885\\\\4.80775\\\\4.533\\end{pmatrix}$$"
      ],
      "text/plain": [
       "<IPython.core.display.Latex object>"
      ]
     },
     "metadata": {},
     "output_type": "display_data"
    },
    {
     "data": {
      "text/latex": [
       "$$ \\begin{pmatrix}x\\\\y\\\\z\\\\c\\end{pmatrix}^{(5)} = \\begin{pmatrix}0 & -0.1 & -0.1 & -0.2\\\\0.05 & 0.05 & -0.1 & 0.1\\\\0.1 & 0.05 & 0 & 0.05\\\\-0.1 & -0.2 & -0.1 & -0.1\\end{pmatrix}\\begin{pmatrix}-0.6815\\\\3.0885\\\\4.80775\\\\4.533\\end{pmatrix}+\\begin{pmatrix}1.0\\\\3.0\\\\4.5\\\\6.0\\end{pmatrix}= \\begin{pmatrix}-0.696225\\\\3.092875\\\\4.812925\\\\4.516375\\end{pmatrix}$$"
      ],
      "text/plain": [
       "<IPython.core.display.Latex object>"
      ]
     },
     "metadata": {},
     "output_type": "display_data"
    },
    {
     "data": {
      "text/latex": [
       "$$ (-0.696225000000000 - -0.681500000000000)^{2}+(3.09287500000000 - 3.08850000000000)^{2}+(4.81292500000000 - 4.80775000000000)^{2}+(4.51637500000000 - 4.53300000000000)^{2} = 0.0005391375< 0.001$$"
      ],
      "text/plain": [
       "<IPython.core.display.Latex object>"
      ]
     },
     "metadata": {},
     "output_type": "display_data"
    },
    {
     "data": {
      "text/latex": [
       "$$ X^{(5)} = \\begin{pmatrix}-0.696225\\\\3.092875\\\\4.812925\\\\4.516375\\end{pmatrix}= \\bar X$$"
      ],
      "text/plain": [
       "<IPython.core.display.Latex object>"
      ]
     },
     "metadata": {},
     "output_type": "display_data"
    }
   ],
   "source": [
    "X = [Matrix([0] * len(b))]\n",
    "C_mat = Matrix(C)\n",
    "F_mat = Matrix(F)\n",
    "xyz_m = Matrix(sym)\n",
    "i = 0\n",
    "print_eq(f'X^{{({i})}}', pmatrix(X[0]))\n",
    "while True:\n",
    "    i += 1\n",
    "    X.append(C_mat * X[-1] + F_mat)\n",
    "    print_eq(pmatrix(xyz_m) + f'^{{({i})}}', pmatrix(C_mat) + pmatrix(X[-2]) + '+' + pmatrix(F_mat), pmatrix(X[-1]))\n",
    "    acc = get_acc(X[-1], X[-2])[0]\n",
    "    if acc < ACC:\n",
    "        print_eq(get_acc(X[-1], X[-2])[1], latex(acc) + f'< {ACC}')\n",
    "        print_eq(f'X^{{({i})}}', pmatrix(X[-1]), r'\\bar X')\n",
    "        break\n",
    "    else:\n",
    "        print_eq(f'X^{{({i})}}', pmatrix(X[-1]))"
   ]
  },
  {
   "cell_type": "code",
   "execution_count": 11,
   "id": "724973ac",
   "metadata": {
    "ExecuteTime": {
     "end_time": "2022-03-30T22:14:52.353642Z",
     "start_time": "2022-03-30T22:14:52.348783Z"
    }
   },
   "outputs": [
    {
     "name": "stdout",
     "output_type": "stream",
     "text": [
      "Ответ:\n"
     ]
    },
    {
     "data": {
      "text/latex": [
       "$$ \\bar X = \\begin{pmatrix}-0.696225\\\\3.092875\\\\4.812925\\\\4.516375\\end{pmatrix}$$"
      ],
      "text/plain": [
       "<IPython.core.display.Latex object>"
      ]
     },
     "metadata": {},
     "output_type": "display_data"
    }
   ],
   "source": [
    "print('Ответ:')\n",
    "print_eq(r'\\bar X', pmatrix(X[-1]))"
   ]
  }
 ],
 "metadata": {
  "kernelspec": {
   "display_name": "Python 3 (ipykernel)",
   "language": "python",
   "name": "python3"
  },
  "language_info": {
   "codemirror_mode": {
    "name": "ipython",
    "version": 3
   },
   "file_extension": ".py",
   "mimetype": "text/x-python",
   "name": "python",
   "nbconvert_exporter": "python",
   "pygments_lexer": "ipython3",
   "version": "3.10.4"
  },
  "latex_envs": {
   "LaTeX_envs_menu_present": true,
   "autoclose": false,
   "autocomplete": true,
   "bibliofile": "biblio.bib",
   "cite_by": "apalike",
   "current_citInitial": 1,
   "eqLabelWithNumbers": true,
   "eqNumInitial": 1,
   "hotkeys": {
    "equation": "Ctrl-E",
    "itemize": "Ctrl-I"
   },
   "labels_anchors": false,
   "latex_user_defs": false,
   "report_style_numbering": false,
   "user_envs_cfg": false
  }
 },
 "nbformat": 4,
 "nbformat_minor": 5
}
