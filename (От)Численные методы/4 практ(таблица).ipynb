{
 "cells": [
  {
   "cell_type": "code",
   "execution_count": 1,
   "id": "ab70b6a8",
   "metadata": {
    "ExecuteTime": {
     "end_time": "2022-02-21T10:33:47.221778Z",
     "start_time": "2022-02-21T10:33:47.213126Z"
    }
   },
   "outputs": [],
   "source": [
    "def create_f(coefs): \n",
    "    def f(x):\n",
    "        if x in (float('-inf'), float('inf')):\n",
    "            return coefs[0] * x ** (len(coefs) - 1 - 0)\n",
    "        y = 0\n",
    "        for i in range(len(coefs)):\n",
    "            y += coefs[i] * x ** (len(coefs) - 1 - i) \n",
    "        return y\n",
    "    return f"
   ]
  },
  {
   "cell_type": "code",
   "execution_count": 2,
   "id": "2130637a",
   "metadata": {
    "ExecuteTime": {
     "end_time": "2022-02-21T10:33:47.552322Z",
     "start_time": "2022-02-21T10:33:47.547418Z"
    }
   },
   "outputs": [],
   "source": [
    "def getValues(x, funcs):\n",
    "    column = []\n",
    "    column.append(x)\n",
    "    for func in funcs:\n",
    "        if func(x) > 0:\n",
    "            column.append(1)\n",
    "        elif func(x) == 0:\n",
    "            column.append(0)\n",
    "        else:  \n",
    "            column.append(-1)\n",
    "            \n",
    "    w = 0\n",
    "    for i in range(1, len(column) - 1):\n",
    "        if column[i] * column[i + 1] < 0:\n",
    "            w += 1\n",
    "    column.append(w)\n",
    "        \n",
    "    column[1:-1] = ['+' if el == 1 else el for el in column[1:-1]]\n",
    "    column[1:-1] = ['-' if el == -1 else el for el in column[1:-1]]\n",
    "    return column"
   ]
  },
  {
   "cell_type": "code",
   "execution_count": 3,
   "id": "103809d2",
   "metadata": {
    "ExecuteTime": {
     "end_time": "2022-02-21T10:33:51.069437Z",
     "start_time": "2022-02-21T10:33:51.066954Z"
    }
   },
   "outputs": [],
   "source": [
    "def print_row(row):\n",
    "    for el in row:\n",
    "        print(' %4s' % el, end='|')\n",
    "    print()"
   ]
  },
  {
   "cell_type": "code",
   "execution_count": 4,
   "id": "c7765da3",
   "metadata": {
    "ExecuteTime": {
     "end_time": "2022-02-21T10:34:15.630868Z",
     "start_time": "2022-02-21T10:34:15.627220Z"
    }
   },
   "outputs": [],
   "source": [
    "#вставьте в квадратные скобочки свои коэффициенты\n",
    "f0 = create_f([1, 1, -4, -3, 3, 1])\n",
    "f1 = create_f([5, 4, -12, -6, 3])\n",
    "f2 = create_f([4, 3, -6, -2])\n",
    "f3 = create_f([3, 2, -2])\n",
    "f4 = create_f([2, 1])\n",
    "f5 = create_f([1])\n",
    "funcs = [f0, f1, f2, f3, f4, f5]"
   ]
  },
  {
   "cell_type": "code",
   "execution_count": 7,
   "id": "72ccd2de",
   "metadata": {
    "ExecuteTime": {
     "end_time": "2022-01-23T20:41:59.271179Z",
     "start_time": "2022-01-23T20:41:59.144148Z"
    }
   },
   "outputs": [],
   "source": [
    "import numpy as np"
   ]
  },
  {
   "cell_type": "code",
   "execution_count": 12,
   "id": "66a063b0",
   "metadata": {
    "ExecuteTime": {
     "end_time": "2022-01-23T20:41:59.286319Z",
     "start_time": "2022-01-23T20:41:59.272182Z"
    }
   },
   "outputs": [],
   "source": [
    "data = []\n",
    "# xs = list(range(-2,2, 0.5)) #тута напишите значения x от какого и до какого [)\n",
    "xs = list(np.arange(-2, 2, 0.5)) #тута напишите значения x от какого и до какого [)\n",
    "xs = [float('-inf')] + xs + [float('inf')]\n",
    "for x in xs:\n",
    "    data += [getValues(x, funcs)]\n",
    "    \n",
    "data = np.array(data).T.tolist()    "
   ]
  },
  {
   "cell_type": "code",
   "execution_count": 13,
   "id": "dc7c5cb1",
   "metadata": {
    "ExecuteTime": {
     "end_time": "2022-01-23T20:41:59.301324Z",
     "start_time": "2022-01-23T20:41:59.287321Z"
    }
   },
   "outputs": [
    {
     "name": "stdout",
     "output_type": "stream",
     "text": [
      " x| -inf| -2.0| -1.5| -1.0| -0.5|  0.0|  0.5|  1.0|  1.5|  inf|\n",
      "f1|    -|    -|    +|    -|    -|    +|    +|    -|    -|    +|\n",
      "f2|    +|    +|    -|    -|    +|    +|    -|    -|    +|    +|\n",
      "f3|    -|    -|    +|    +|    +|    -|    -|    -|    +|    +|\n",
      "f4|    +|    +|    +|    -|    -|    -|    -|    +|    +|    +|\n",
      "f5|    -|    -|    -|    -|    0|    +|    +|    +|    +|    +|\n",
      "f6|    +|    +|    +|    +|    +|    +|    +|    +|    +|    +|\n",
      " w|    5|    5|    4|    3|    2|    2|    2|    1|    1|    0|\n"
     ]
    }
   ],
   "source": [
    "i = 0\n",
    "for row in data:\n",
    "    if i == 0:\n",
    "        print(' x', end='|')\n",
    "    elif i == len(data) - 1:\n",
    "        print(' w', end='|')\n",
    "    else:\n",
    "        print('f' + str(i), end='|')\n",
    "    i += 1\n",
    "    print_row(row)"
   ]
  },
  {
   "cell_type": "code",
   "execution_count": null,
   "id": "c0fbe9d1",
   "metadata": {},
   "outputs": [],
   "source": []
  }
 ],
 "metadata": {
  "kernelspec": {
   "display_name": "Python 3 (ipykernel)",
   "language": "python",
   "name": "python3"
  },
  "language_info": {
   "codemirror_mode": {
    "name": "ipython",
    "version": 3
   },
   "file_extension": ".py",
   "mimetype": "text/x-python",
   "name": "python",
   "nbconvert_exporter": "python",
   "pygments_lexer": "ipython3",
   "version": "3.9.7"
  },
  "latex_envs": {
   "LaTeX_envs_menu_present": true,
   "autoclose": false,
   "autocomplete": true,
   "bibliofile": "biblio.bib",
   "cite_by": "apalike",
   "current_citInitial": 1,
   "eqLabelWithNumbers": true,
   "eqNumInitial": 1,
   "hotkeys": {
    "equation": "Ctrl-E",
    "itemize": "Ctrl-I"
   },
   "labels_anchors": false,
   "latex_user_defs": false,
   "report_style_numbering": false,
   "user_envs_cfg": false
  },
  "varInspector": {
   "cols": {
    "lenName": 16,
    "lenType": 16,
    "lenVar": 40
   },
   "kernels_config": {
    "python": {
     "delete_cmd_postfix": "",
     "delete_cmd_prefix": "del ",
     "library": "var_list.py",
     "varRefreshCmd": "print(var_dic_list())"
    },
    "r": {
     "delete_cmd_postfix": ") ",
     "delete_cmd_prefix": "rm(",
     "library": "var_list.r",
     "varRefreshCmd": "cat(var_dic_list()) "
    }
   },
   "types_to_exclude": [
    "module",
    "function",
    "builtin_function_or_method",
    "instance",
    "_Feature"
   ],
   "window_display": false
  }
 },
 "nbformat": 4,
 "nbformat_minor": 5
}
