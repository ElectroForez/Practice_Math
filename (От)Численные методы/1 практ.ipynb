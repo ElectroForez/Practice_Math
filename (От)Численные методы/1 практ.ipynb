{
 "cells": [
  {
   "cell_type": "code",
   "execution_count": 41,
   "id": "7f68bbd0",
   "metadata": {},
   "outputs": [
    {
     "data": {
      "text/plain": [
       "[[1, -4, -5, 20, 4, -16, 0],\n",
       " [1, -3, -11, 27, 10, -24, 0],\n",
       " [1, -2, -15, 20, 44, -48, 0],\n",
       " [1, -1, -17, 5, 64, -4, -48],\n",
       " [1, 0, -17, -12, 52, 48, 0],\n",
       " [1, 1, -15, -25, 14, 24, 0],\n",
       " [1, 3, -5, -15, 4, 12, 0]]"
      ]
     },
     "execution_count": 41,
     "metadata": {},
     "output_type": "execute_result"
    }
   ],
   "source": [
    "coefs = [[1, -4, -5, 20, 4, -16, 0],\n",
    "         [1, -3, -11, 27, 10, -24, 0],\n",
    "         [1, -2, -15, 20, 44, -48, 0],\n",
    "         [1, -1, -17, 5, 64, -4, -48],\n",
    "         [1,  0, -17, -12, 52, 48, 0],\n",
    "         [1, 1, -15, -25, 14, 24, 0],\n",
    "         [1, 3, -5, -15, 4, 12, 0]\n",
    "        ]\n",
    "um = [2352, -630, -168, -210, 840, -1722, 4450]\n",
    "coefs"
   ]
  },
  {
   "cell_type": "code",
   "execution_count": 42,
   "id": "c3a82bdb",
   "metadata": {},
   "outputs": [
    {
     "data": {
      "text/plain": [
       "[[2352, -9408, -11760, 47040, 9408, -37632, 0],\n",
       " [-630, 1890, 6930, -17010, -6300, 15120, 0],\n",
       " [-168, 336, 2520, -3360, -7392, 8064, 0],\n",
       " [-210, 210, 3570, -1050, -13440, 840, 10080],\n",
       " [840, 0, -14280, -10080, 43680, 40320, 0],\n",
       " [-1722, -1722, 25830, 43050, -24108, -41328, 0],\n",
       " [4450, 13350, -22250, -66750, 17800, 53400, 0]]"
      ]
     },
     "execution_count": 42,
     "metadata": {},
     "output_type": "execute_result"
    }
   ],
   "source": [
    "for i in range(len(coefs)):\n",
    "    for y in range(len(coefs[i])):\n",
    "        coefs[i][y] *= um[i]\n",
    "coefs"
   ]
  },
  {
   "cell_type": "code",
   "execution_count": 47,
   "id": "54e6db26",
   "metadata": {},
   "outputs": [
    {
     "data": {
      "text/plain": [
       "[4912, 4656, -9440, -8160, 19648, 38784, 10080]"
      ]
     },
     "execution_count": 47,
     "metadata": {},
     "output_type": "execute_result"
    }
   ],
   "source": [
    "ss = []\n",
    "for x in range(len(coefs[0])):\n",
    "    s = 0\n",
    "    for y in range(len(coefs)):\n",
    "        s += coefs[y][x]\n",
    "    ss += [s]\n",
    "ss"
   ]
  },
  {
   "cell_type": "code",
   "execution_count": 1,
   "id": "520831e7",
   "metadata": {
    "ExecuteTime": {
     "end_time": "2022-01-30T12:15:02.753807Z",
     "start_time": "2022-01-30T12:15:01.987253Z"
    }
   },
   "outputs": [
    {
     "ename": "NameError",
     "evalue": "name 'ss' is not defined",
     "output_type": "error",
     "traceback": [
      "\u001b[0;31m---------------------------------------------------------------------------\u001b[0m",
      "\u001b[0;31mNameError\u001b[0m                                 Traceback (most recent call last)",
      "Input \u001b[0;32mIn [1]\u001b[0m, in \u001b[0;36m<module>\u001b[0;34m\u001b[0m\n\u001b[1;32m      8\u001b[0m         \u001b[38;5;28;01mreturn\u001b[39;00m y\n\u001b[1;32m      9\u001b[0m     \u001b[38;5;28;01mreturn\u001b[39;00m f\n\u001b[0;32m---> 10\u001b[0m f0 \u001b[38;5;241m=\u001b[39m create_f(\u001b[43mss\u001b[49m)\n",
      "\u001b[0;31mNameError\u001b[0m: name 'ss' is not defined"
     ]
    }
   ],
   "source": [
    "def create_f(coefs): \n",
    "    def f(x):\n",
    "        if x in (float('-inf'), float('inf')):\n",
    "            return coefs[0] * x ** (len(coefs) - 1 - 0)\n",
    "        y = 0\n",
    "        for i in range(len(coefs)):\n",
    "            y += coefs[i] * x ** (len(coefs) - 1 - i) \n",
    "        return y\n",
    "    return f\n",
    "f0 = create_f(ss)"
   ]
  },
  {
   "cell_type": "code",
   "execution_count": 34,
   "id": "2ca1c4f4",
   "metadata": {
    "ExecuteTime": {
     "end_time": "2022-01-30T13:43:30.237282Z",
     "start_time": "2022-01-30T13:43:30.229334Z"
    }
   },
   "outputs": [],
   "source": [
    "f0 = create_f([-1, 10, -31, 31])"
   ]
  },
  {
   "cell_type": "code",
   "execution_count": 24,
   "id": "f2c69232",
   "metadata": {
    "ExecuteTime": {
     "end_time": "2022-01-30T13:17:38.937574Z",
     "start_time": "2022-01-30T13:17:38.923342Z"
    }
   },
   "outputs": [
    {
     "name": "stdout",
     "output_type": "stream",
     "text": [
      "24\n",
      "-6\n",
      "4\n",
      "-6\n",
      "24\n"
     ]
    }
   ],
   "source": [
    "print(create_f([1, -10, 35, -50, 24])(5))\n",
    "print(create_f([1, -11, 41, -61, 30])(4))\n",
    "print(create_f([1, -12, 49, -78, 40])(3))\n",
    "print(create_f([1, -13, 59, -107, 60])(2))\n",
    "print(create_f([1, -14, 71, -154, 120])(1))"
   ]
  },
  {
   "cell_type": "code",
   "execution_count": 33,
   "id": "66691331",
   "metadata": {
    "ExecuteTime": {
     "end_time": "2022-01-30T13:36:04.822199Z",
     "start_time": "2022-01-30T13:36:04.805978Z"
    }
   },
   "outputs": [
    {
     "name": "stdout",
     "output_type": "stream",
     "text": [
      "0\n",
      "0\n",
      "---\n",
      "1\n",
      "-24\n",
      "---\n",
      "2\n",
      "240\n",
      "---\n",
      "3\n",
      "-744\n",
      "---\n",
      "4\n",
      "744\n",
      "---\n"
     ]
    }
   ],
   "source": [
    "import numpy as np\n",
    "a = np.array([[1, -10, 35, -50, 24],\n",
    "[1, -11, 41, -61, 30],\n",
    "[1, -12, 49, -78, 40],\n",
    "[1, -13, 59, -107, 60],\n",
    "[1, -14, 71, -154, 120]]).T\n",
    "coefs = [1, -12, 6, -4, 9]\n",
    "for i in range(len(a)):\n",
    "    print(i)\n",
    "    t = a[i]\n",
    "    for j in range(len(a[i])):\n",
    "        t[j] *= coefs[j]\n",
    "#     print(t)\n",
    "    print(sum(t))\n",
    "    print('---')"
   ]
  },
  {
   "cell_type": "code",
   "execution_count": 36,
   "id": "89bd6002",
   "metadata": {
    "ExecuteTime": {
     "end_time": "2022-01-30T13:44:01.688658Z",
     "start_time": "2022-01-30T13:44:01.673495Z"
    }
   },
   "outputs": [
    {
     "name": "stdout",
     "output_type": "stream",
     "text": [
      "1 1\n",
      "3 3\n",
      "1 1\n",
      "1 1\n",
      "9 9\n"
     ]
    }
   ],
   "source": [
    "xs = [5, 4, 3, 2, 1]\n",
    "answers = [1, 3, 1, 1, 9]\n",
    "for x, answer in zip(xs, answers):\n",
    "#     print(f1(x) / 5040, answer)\n",
    "    print(f0(x), answer)"
   ]
  },
  {
   "cell_type": "code",
   "execution_count": null,
   "id": "8d5fc10f",
   "metadata": {},
   "outputs": [],
   "source": []
  }
 ],
 "metadata": {
  "kernelspec": {
   "display_name": "Python 3 (ipykernel)",
   "language": "python",
   "name": "python3"
  },
  "language_info": {
   "codemirror_mode": {
    "name": "ipython",
    "version": 3
   },
   "file_extension": ".py",
   "mimetype": "text/x-python",
   "name": "python",
   "nbconvert_exporter": "python",
   "pygments_lexer": "ipython3",
   "version": "3.9.7"
  },
  "latex_envs": {
   "LaTeX_envs_menu_present": true,
   "autoclose": false,
   "autocomplete": true,
   "bibliofile": "biblio.bib",
   "cite_by": "apalike",
   "current_citInitial": 1,
   "eqLabelWithNumbers": true,
   "eqNumInitial": 1,
   "hotkeys": {
    "equation": "Ctrl-E",
    "itemize": "Ctrl-I"
   },
   "labels_anchors": false,
   "latex_user_defs": false,
   "report_style_numbering": false,
   "user_envs_cfg": false
  }
 },
 "nbformat": 4,
 "nbformat_minor": 5
}
