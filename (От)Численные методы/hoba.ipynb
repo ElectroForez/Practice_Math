{
 "cells": [
  {
   "cell_type": "code",
   "execution_count": 1,
   "id": "27371b9a",
   "metadata": {
    "ExecuteTime": {
     "end_time": "2022-03-29T16:03:49.247431Z",
     "start_time": "2022-03-29T16:03:49.021687Z"
    }
   },
   "outputs": [],
   "source": [
    "from sympy import *\n",
    "from sympy.abc import *"
   ]
  },
  {
   "cell_type": "code",
   "execution_count": 2,
   "id": "b8f117b4",
   "metadata": {
    "ExecuteTime": {
     "end_time": "2022-03-29T16:03:49.251689Z",
     "start_time": "2022-03-29T16:03:49.249461Z"
    }
   },
   "outputs": [],
   "source": [
    "from IPython.core.interactiveshell import InteractiveShell\n",
    "InteractiveShell.ast_node_interactivity = \"all\"\n",
    "from IPython.display import display, Math"
   ]
  },
  {
   "cell_type": "code",
   "execution_count": 3,
   "id": "70713751",
   "metadata": {
    "ExecuteTime": {
     "end_time": "2022-03-29T16:03:49.342495Z",
     "start_time": "2022-03-29T16:03:49.336822Z"
    }
   },
   "outputs": [],
   "source": [
    "f = symbols('Уон', cls=Function)"
   ]
  },
  {
   "cell_type": "code",
   "execution_count": 4,
   "id": "2c738a3f",
   "metadata": {
    "ExecuteTime": {
     "end_time": "2022-03-29T16:03:49.539269Z",
     "start_time": "2022-03-29T16:03:49.491285Z"
    }
   },
   "outputs": [
    {
     "data": {
      "text/latex": [
       "$\\displaystyle \\operatorname{Уон}{\\left(x \\right)}$"
      ],
      "text/plain": [
       "Уон(x)"
      ]
     },
     "execution_count": 4,
     "metadata": {},
     "output_type": "execute_result"
    },
    {
     "data": {
      "text/latex": [
       "$\\displaystyle \\operatorname{Уон}{\\left(x \\right)} + \\frac{d^{2}}{d x^{2}} \\operatorname{Уон}{\\left(x \\right)}$"
      ],
      "text/plain": [
       "Уон(x) + Derivative(Уон(x), (x, 2))"
      ]
     },
     "execution_count": 4,
     "metadata": {},
     "output_type": "execute_result"
    }
   ],
   "source": [
    "f(x) # результат ?(?)\n",
    "f(x).diff(x, x) + f(x)"
   ]
  },
  {
   "cell_type": "code",
   "execution_count": 5,
   "id": "bc75f655",
   "metadata": {
    "ExecuteTime": {
     "end_time": "2022-03-29T16:03:49.674553Z",
     "start_time": "2022-03-29T16:03:49.661596Z"
    }
   },
   "outputs": [
    {
     "data": {
      "text/latex": [
       "$\\displaystyle \\operatorname{Уон}{\\left(x \\right)} + \\frac{d^{2}}{d x^{2}} \\operatorname{Уон}{\\left(x \\right)}$"
      ],
      "text/plain": [
       "<IPython.core.display.Math object>"
      ]
     },
     "metadata": {},
     "output_type": "display_data"
    },
    {
     "name": "stdout",
     "output_type": "stream",
     "text": [
      "exp(-15*z)\n"
     ]
    }
   ],
   "source": [
    "def func():\n",
    "    expr1 = Integral(a * z, (a, 2, 1))\n",
    "    expr1 = f(x).diff(x, x) + f(x)\n",
    "    display(Math(latex(expr1)))\n",
    "    expr2 = exp(-15*z)\n",
    "    print(expr2)\n",
    "func()"
   ]
  },
  {
   "cell_type": "code",
   "execution_count": 6,
   "id": "6fd0323f",
   "metadata": {
    "ExecuteTime": {
     "end_time": "2022-03-29T16:03:49.835530Z",
     "start_time": "2022-03-29T16:03:49.823392Z"
    }
   },
   "outputs": [
    {
     "data": {
      "text/latex": [
       "$\\displaystyle \\operatorname{Уон}{\\left(x \\right)} + \\frac{d^{2}}{d x^{2}} \\operatorname{Уон}{\\left(x \\right)}$"
      ],
      "text/plain": [
       "<IPython.core.display.Math object>"
      ]
     },
     "metadata": {},
     "output_type": "display_data"
    }
   ],
   "source": [
    "expr1 = f(x).diff(x, x) + f(x)\n",
    "display(Math(latex(expr1)))"
   ]
  },
  {
   "cell_type": "code",
   "execution_count": 9,
   "id": "f5ed7019",
   "metadata": {
    "ExecuteTime": {
     "end_time": "2022-03-29T16:05:26.052652Z",
     "start_time": "2022-03-29T16:05:26.047021Z"
    }
   },
   "outputs": [
    {
     "data": {
      "text/latex": [
       "$\\displaystyle \\frac{33}{4}$"
      ],
      "text/plain": [
       "33/4"
      ]
     },
     "execution_count": 9,
     "metadata": {},
     "output_type": "execute_result"
    }
   ],
   "source": [
    "Rational(891, 108)"
   ]
  }
 ],
 "metadata": {
  "kernelspec": {
   "display_name": "Python 3 (ipykernel)",
   "language": "python",
   "name": "python3"
  },
  "language_info": {
   "codemirror_mode": {
    "name": "ipython",
    "version": 3
   },
   "file_extension": ".py",
   "mimetype": "text/x-python",
   "name": "python",
   "nbconvert_exporter": "python",
   "pygments_lexer": "ipython3",
   "version": "3.9.7"
  },
  "latex_envs": {
   "LaTeX_envs_menu_present": true,
   "autoclose": false,
   "autocomplete": true,
   "bibliofile": "biblio.bib",
   "cite_by": "apalike",
   "current_citInitial": 1,
   "eqLabelWithNumbers": true,
   "eqNumInitial": 1,
   "hotkeys": {
    "equation": "Ctrl-E",
    "itemize": "Ctrl-I"
   },
   "labels_anchors": false,
   "latex_user_defs": false,
   "report_style_numbering": false,
   "user_envs_cfg": false
  }
 },
 "nbformat": 4,
 "nbformat_minor": 5
}
