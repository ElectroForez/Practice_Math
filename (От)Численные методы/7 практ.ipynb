{
 "cells": [
  {
   "cell_type": "code",
   "execution_count": 1,
   "id": "f2580d6d",
   "metadata": {
    "ExecuteTime": {
     "end_time": "2022-03-27T16:17:05.477035Z",
     "start_time": "2022-03-27T16:17:05.224551Z"
    }
   },
   "outputs": [],
   "source": [
    "from sympy import *\n",
    "from IPython.core.interactiveshell import InteractiveShell\n",
    "InteractiveShell.ast_node_interactivity = \"all\"\n",
    "from IPython.display import display, Math, Latex\n",
    "init_printing(use_latex='mathjax')"
   ]
  },
  {
   "cell_type": "code",
   "execution_count": 2,
   "id": "4c2ef56c",
   "metadata": {
    "ExecuteTime": {
     "end_time": "2022-03-27T16:17:05.483262Z",
     "start_time": "2022-03-27T16:17:05.478618Z"
    }
   },
   "outputs": [],
   "source": [
    "def print_eq(eq, *exprs, rev_int2=False):\n",
    "    if type(eq) == str:\n",
    "        eq = Symbol(eq)\n",
    "    out = '$$ {} ' + '= {}' * len(exprs) + '$$'\n",
    "    exprs=list(exprs)\n",
    "    for i in range(len(exprs)):\n",
    "        if type(exprs[i]) != str:\n",
    "            exprs[i] = latex(exprs[i])\n",
    "    if rev_int2:\n",
    "        exprs[-2] += '|_0^x'\n",
    "    display(Latex(out.format(latex(eq), *exprs)))\n",
    "\n",
    "def s_o(sym, order):#sym\n",
    "    sym = str(sym)\n",
    "    if len(sym) > 1:\n",
    "        tail = sym[1:]\n",
    "        sym=sym[0]\n",
    "    else:\n",
    "        tail = ''\n",
    "    if order == 0:\n",
    "        return Symbol(sym + tail)\n",
    "    if 1 <= order <=3:\n",
    "        order = '\\'' * order\n",
    "    else:\n",
    "        order = f'({order})'\n",
    "    return Symbol(sym + '^{'+order+'}' + tail)"
   ]
  },
  {
   "cell_type": "code",
   "execution_count": 3,
   "id": "839d6134",
   "metadata": {
    "ExecuteTime": {
     "end_time": "2022-03-27T16:17:05.487132Z",
     "start_time": "2022-03-27T16:17:05.484393Z"
    }
   },
   "outputs": [],
   "source": [
    "cosh.__name__='ch'\n",
    "sinh.__name__='sh'"
   ]
  },
  {
   "cell_type": "markdown",
   "id": "3dd1b973",
   "metadata": {},
   "source": [
    "# Вставьте здесь ваши параметры"
   ]
  },
  {
   "cell_type": "code",
   "execution_count": 15,
   "id": "92e0f580",
   "metadata": {
    "ExecuteTime": {
     "end_time": "2022-03-27T16:23:05.280815Z",
     "start_time": "2022-03-27T16:23:05.269381Z"
    }
   },
   "outputs": [
    {
     "data": {
      "text/latex": [
       "$$ y = \\sin{\\left(\\frac{\\pi x}{8} \\right)}$$"
      ],
      "text/plain": [
       "<IPython.core.display.Latex object>"
      ]
     },
     "metadata": {},
     "output_type": "display_data"
    },
    {
     "data": {
      "text/latex": [
       "$$ x_{0} = 4$$"
      ],
      "text/plain": [
       "<IPython.core.display.Latex object>"
      ]
     },
     "metadata": {},
     "output_type": "display_data"
    },
    {
     "data": {
      "text/latex": [
       "$$ n = 7$$"
      ],
      "text/plain": [
       "<IPython.core.display.Latex object>"
      ]
     },
     "metadata": {},
     "output_type": "display_data"
    }
   ],
   "source": [
    "x = Symbol('x')\n",
    "y = Symbol('y')\n",
    "x0 = 4 #сюда вставить ваш x0\n",
    "n_diff = 7 # до производной какой степени считать \n",
    "expr = sin((pi*x)/8)#здесь должно быть выражение\n",
    "print_eq(y, expr)\n",
    "print_eq('x_0', x0)\n",
    "print_eq('n', n_diff)"
   ]
  },
  {
   "cell_type": "code",
   "execution_count": 17,
   "id": "cf6a0097",
   "metadata": {
    "ExecuteTime": {
     "end_time": "2022-03-27T16:23:36.760455Z",
     "start_time": "2022-03-27T16:23:36.639731Z"
    },
    "scrolled": true
   },
   "outputs": [
    {
     "data": {
      "text/latex": [
       "$$ y = \\sin{\\left(\\frac{\\pi x}{8} \\right)}$$"
      ],
      "text/plain": [
       "<IPython.core.display.Latex object>"
      ]
     },
     "metadata": {},
     "output_type": "display_data"
    },
    {
     "data": {
      "text/latex": [
       "$$ y^{'} = \\frac{\\pi \\cos{\\left(\\frac{\\pi x}{8} \\right)}}{8}$$"
      ],
      "text/plain": [
       "<IPython.core.display.Latex object>"
      ]
     },
     "metadata": {},
     "output_type": "display_data"
    },
    {
     "data": {
      "text/latex": [
       "$$ y^{''} = - \\frac{\\pi^{2} \\sin{\\left(\\frac{\\pi x}{8} \\right)}}{64}$$"
      ],
      "text/plain": [
       "<IPython.core.display.Latex object>"
      ]
     },
     "metadata": {},
     "output_type": "display_data"
    },
    {
     "data": {
      "text/latex": [
       "$$ y^{'''} = - \\frac{\\pi^{3} \\cos{\\left(\\frac{\\pi x}{8} \\right)}}{512}$$"
      ],
      "text/plain": [
       "<IPython.core.display.Latex object>"
      ]
     },
     "metadata": {},
     "output_type": "display_data"
    },
    {
     "data": {
      "text/latex": [
       "$$ y^{(4)} = \\frac{\\pi^{4} \\sin{\\left(\\frac{\\pi x}{8} \\right)}}{4096}$$"
      ],
      "text/plain": [
       "<IPython.core.display.Latex object>"
      ]
     },
     "metadata": {},
     "output_type": "display_data"
    },
    {
     "data": {
      "text/latex": [
       "$$ y^{(5)} = \\frac{\\pi^{5} \\cos{\\left(\\frac{\\pi x}{8} \\right)}}{32768}$$"
      ],
      "text/plain": [
       "<IPython.core.display.Latex object>"
      ]
     },
     "metadata": {},
     "output_type": "display_data"
    },
    {
     "data": {
      "text/latex": [
       "$$ y^{(6)} = - \\frac{\\pi^{6} \\sin{\\left(\\frac{\\pi x}{8} \\right)}}{262144}$$"
      ],
      "text/plain": [
       "<IPython.core.display.Latex object>"
      ]
     },
     "metadata": {},
     "output_type": "display_data"
    },
    {
     "data": {
      "text/latex": [
       "$$ y^{(7)} = - \\frac{\\pi^{7} \\cos{\\left(\\frac{\\pi x}{8} \\right)}}{2097152}$$"
      ],
      "text/plain": [
       "<IPython.core.display.Latex object>"
      ]
     },
     "metadata": {},
     "output_type": "display_data"
    }
   ],
   "source": [
    "diffs = [expr]\n",
    "print_eq(y, expr)\n",
    "for i in range(1, n_diff + 1):\n",
    "    expr_dif = expr.diff(x, i)\n",
    "    diffs.append(expr_dif)\n",
    "    out_expr = simplify(expand(expr_dif))\n",
    "    print_eq(s_o(y, i), out_expr)"
   ]
  },
  {
   "cell_type": "code",
   "execution_count": 12,
   "id": "92e6d367",
   "metadata": {
    "ExecuteTime": {
     "end_time": "2022-03-27T16:19:49.906606Z",
     "start_time": "2022-03-27T16:19:49.888034Z"
    },
    "scrolled": false
   },
   "outputs": [
    {
     "data": {
      "text/latex": [
       "$$ y(4) = 1$$"
      ],
      "text/plain": [
       "<IPython.core.display.Latex object>"
      ]
     },
     "metadata": {},
     "output_type": "display_data"
    },
    {
     "data": {
      "text/latex": [
       "$$ y^{'}(4) = 0$$"
      ],
      "text/plain": [
       "<IPython.core.display.Latex object>"
      ]
     },
     "metadata": {},
     "output_type": "display_data"
    },
    {
     "data": {
      "text/latex": [
       "$$ y^{''}(4) = - \\frac{\\pi^{2}}{64}$$"
      ],
      "text/plain": [
       "<IPython.core.display.Latex object>"
      ]
     },
     "metadata": {},
     "output_type": "display_data"
    },
    {
     "data": {
      "text/latex": [
       "$$ y^{'''}(4) = 0$$"
      ],
      "text/plain": [
       "<IPython.core.display.Latex object>"
      ]
     },
     "metadata": {},
     "output_type": "display_data"
    },
    {
     "data": {
      "text/latex": [
       "$$ y^{(4)}(4) = \\frac{\\pi^{4}}{4096}$$"
      ],
      "text/plain": [
       "<IPython.core.display.Latex object>"
      ]
     },
     "metadata": {},
     "output_type": "display_data"
    },
    {
     "data": {
      "text/latex": [
       "$$ y^{(5)}(4) = 0$$"
      ],
      "text/plain": [
       "<IPython.core.display.Latex object>"
      ]
     },
     "metadata": {},
     "output_type": "display_data"
    },
    {
     "data": {
      "text/latex": [
       "$$ y^{(6)}(4) = - \\frac{\\pi^{6}}{262144}$$"
      ],
      "text/plain": [
       "<IPython.core.display.Latex object>"
      ]
     },
     "metadata": {},
     "output_type": "display_data"
    },
    {
     "data": {
      "text/latex": [
       "$$ y^{(7)}(4) = 0$$"
      ],
      "text/plain": [
       "<IPython.core.display.Latex object>"
      ]
     },
     "metadata": {},
     "output_type": "display_data"
    }
   ],
   "source": [
    "y_f = symbols('y', cls=Function)\n",
    "for i in range(0, len(diffs)):\n",
    "    print_eq(latex(s_o(y_f, i)) + f'({x0})', diffs[i].subs(x, x0))"
   ]
  },
  {
   "cell_type": "code",
   "execution_count": 18,
   "id": "74e75b86",
   "metadata": {
    "ExecuteTime": {
     "end_time": "2022-03-27T16:23:59.287554Z",
     "start_time": "2022-03-27T16:23:59.245083Z"
    }
   },
   "outputs": [
    {
     "data": {
      "text/latex": [
       "$$ 1 - \\frac{\\pi^{2} \\left(x - 4\\right)^{2}}{128} + \\frac{\\pi^{4} \\left(x - 4\\right)^{4}}{98304} - \\frac{\\pi^{6} \\left(x - 4\\right)^{6}}{188743680} + O\\left(\\left(x - 4\\right)^{8}; x\\rightarrow 4\\right) $$"
      ],
      "text/plain": [
       "<IPython.core.display.Latex object>"
      ]
     },
     "metadata": {},
     "output_type": "display_data"
    }
   ],
   "source": [
    "print('Ответ:')\n",
    "print_eq(expr.series(x0 = x0, n = n_diff + 1))"
   ]
  }
 ],
 "metadata": {
  "kernelspec": {
   "display_name": "Python 3 (ipykernel)",
   "language": "python",
   "name": "python3"
  },
  "language_info": {
   "codemirror_mode": {
    "name": "ipython",
    "version": 3
   },
   "file_extension": ".py",
   "mimetype": "text/x-python",
   "name": "python",
   "nbconvert_exporter": "python",
   "pygments_lexer": "ipython3",
   "version": "3.9.7"
  },
  "latex_envs": {
   "LaTeX_envs_menu_present": true,
   "autoclose": false,
   "autocomplete": true,
   "bibliofile": "biblio.bib",
   "cite_by": "apalike",
   "current_citInitial": 1,
   "eqLabelWithNumbers": true,
   "eqNumInitial": 1,
   "hotkeys": {
    "equation": "Ctrl-E",
    "itemize": "Ctrl-I"
   },
   "labels_anchors": false,
   "latex_user_defs": false,
   "report_style_numbering": false,
   "user_envs_cfg": false
  }
 },
 "nbformat": 4,
 "nbformat_minor": 5
}
