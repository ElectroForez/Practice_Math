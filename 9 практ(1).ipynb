{
 "cells": [
  {
   "cell_type": "markdown",
   "id": "d4418127",
   "metadata": {},
   "source": [
    "# Для запуска кода введите свои параметры в полях ниже(придётся полистать)"
   ]
  },
  {
   "cell_type": "markdown",
   "id": "a47a4345",
   "metadata": {},
   "source": [
    "# а затем нажмите CNTRL + F9"
   ]
  },
  {
   "cell_type": "code",
   "execution_count": 1,
   "id": "99c58291",
   "metadata": {
    "ExecuteTime": {
     "end_time": "2022-03-21T14:06:58.027181Z",
     "start_time": "2022-03-21T14:06:57.798322Z"
    }
   },
   "outputs": [],
   "source": [
    "from sympy import *\n",
    "from IPython.core.interactiveshell import InteractiveShell\n",
    "InteractiveShell.ast_node_interactivity = \"all\"\n",
    "from IPython.display import display, Math, Latex\n",
    "init_printing(use_latex='mathjax')\n",
    "from sympy.abc import lamda as lmd"
   ]
  },
  {
   "cell_type": "code",
   "execution_count": 2,
   "id": "4617122d",
   "metadata": {
    "ExecuteTime": {
     "end_time": "2022-03-21T14:06:58.038426Z",
     "start_time": "2022-03-21T14:06:58.028801Z"
    }
   },
   "outputs": [],
   "source": [
    "def print_eq(eq, *exprs, rev_int2=False):\n",
    "    if type(eq) == str:\n",
    "        eq = Symbol(eq)\n",
    "    out = '$$ {} ' + '= {}' * len(exprs) + '$$'\n",
    "    exprs=list(exprs)\n",
    "    for i in range(len(exprs)):\n",
    "        if type(exprs[i]) != str:\n",
    "            exprs[i] = latex(exprs[i])\n",
    "    if rev_int2:\n",
    "        exprs[-2] += '|_0^x'\n",
    "    display(Latex(out.format(latex(eq), *exprs)))\n",
    "    \n",
    "def s_o(sym, order):#sym\n",
    "    sym = str(sym)\n",
    "    if len(sym) > 1:\n",
    "        tail = sym[1:]\n",
    "        sym=sym[0]\n",
    "    else:\n",
    "        tail = ''\n",
    "    if order == 0:\n",
    "        return Symbol(sym + tail)\n",
    "    if 1 <= order <=3:\n",
    "        order = '\\'' * order\n",
    "    else:\n",
    "        order = f'({order})'\n",
    "    return Symbol(sym + '^{'+order+'}' + tail)\n",
    "    \n",
    "def get_degree(el):\n",
    "    args = el.args\n",
    "    if len(args) == 0:\n",
    "        return 0\n",
    "    elif len(args[-1].args) == 0 and ask(Q.extended_real(args[-1])):\n",
    "        return args[-1]\n",
    "    else:\n",
    "        return 1\n",
    "        \n",
    "def get_coef(el):\n",
    "    args = el.args\n",
    "    if len(args) == 0:\n",
    "        return None\n",
    "    elif ask(Q.extended_real(args[0])):\n",
    "        return args[0]\n",
    "    return 1\n",
    "    \n",
    "def to_s(i):\n",
    "    return Symbol(str(i))\n",
    "    \n",
    "def print_system(*exprs, collab=True): \n",
    "    '''\n",
    "    collab говнюк не хочет нормально системы уравнений отоброжать, \n",
    "    если вы в Jupyter, то замените в аргументе collab True на False'''\n",
    "    exprs=list(exprs)\n",
    "    for i in range(len(exprs)):\n",
    "        if type(exprs[i]) != str:\n",
    "            exprs[i] = latex(exprs[i])\n",
    "    exprs_latex = r'\\\\'.join(exprs)\n",
    "    if collab:\n",
    "        system = r'Начало\\ системы\\\\' + exprs_latex + r'\\\\Конец\\ системы\\\\'\n",
    "    else:\n",
    "        system = \\\n",
    "        r'''\\begin{equation*}\n",
    "    \\begin{cases}''' \\\n",
    "        + exprs_latex + \\\n",
    "        r'''\\end{cases}\n",
    "    \\end{equation*}\n",
    "        '''\n",
    "\n",
    "    print_eq(system)\n",
    "\n",
    "def simple_express(expr, symbol, from_left=True):\n",
    "    l_side = expr.lhs\n",
    "    r_side = expr.rhs\n",
    "    if from_left:\n",
    "        args = l_side.args\n",
    "    else:\n",
    "        args = r_side.args\n",
    "    for arg in args:\n",
    "        if arg != symbol:\n",
    "            l_side /= arg\n",
    "            r_side /= arg\n",
    "    return Eq(l_side, r_side)\n",
    "\n",
    "def get_den(expr): \n",
    "    for el in expr.args:\n",
    "        if type(el) == Rational:\n",
    "            return el"
   ]
  },
  {
   "cell_type": "code",
   "execution_count": 3,
   "id": "be8c07b3",
   "metadata": {
    "ExecuteTime": {
     "end_time": "2022-03-21T14:06:58.047527Z",
     "start_time": "2022-03-21T14:06:58.039599Z"
    }
   },
   "outputs": [],
   "source": [
    "def find_y(expr):\n",
    "    for el in expr.args:\n",
    "        if el == y:\n",
    "            return y\n",
    "        for sub_el in el.args:\n",
    "            if sub_el == y:\n",
    "                return el"
   ]
  },
  {
   "cell_type": "code",
   "execution_count": 4,
   "id": "b6e4ee0e",
   "metadata": {
    "ExecuteTime": {
     "end_time": "2022-03-21T14:06:58.055482Z",
     "start_time": "2022-03-21T14:06:58.049112Z"
    }
   },
   "outputs": [],
   "source": [
    "ln.__name__ = 'ln'\n",
    "tan.__name__= 'tg'"
   ]
  },
  {
   "cell_type": "code",
   "execution_count": 5,
   "id": "9d28dffe",
   "metadata": {
    "ExecuteTime": {
     "end_time": "2022-03-21T14:06:58.061979Z",
     "start_time": "2022-03-21T14:06:58.056578Z"
    }
   },
   "outputs": [],
   "source": [
    "x = Symbol('x')\n",
    "y = Symbol('y')\n",
    "t = Symbol('t')\n",
    "z = Symbol('z')\n",
    "yk = Function('y_k')\n",
    "C = Symbol('C')\n",
    "C_f, C_d = symbols('C C\\'', cls=Function)"
   ]
  },
  {
   "cell_type": "markdown",
   "id": "5e689f59",
   "metadata": {},
   "source": [
    "# Подставьте свои параметры"
   ]
  },
  {
   "cell_type": "code",
   "execution_count": 6,
   "id": "edf55e1d",
   "metadata": {
    "ExecuteTime": {
     "end_time": "2022-03-21T14:06:58.203331Z",
     "start_time": "2022-03-21T14:06:58.063415Z"
    }
   },
   "outputs": [
    {
     "data": {
      "text/latex": [
       "$$ Начало\\ системы\\\\- y \\operatorname{tg}{\\left(x \\right)} + y^{'} = - y^{2} \\cos{\\left(x \\right)}\\\\y(0)=3\\\\Конец\\ системы\\\\ $$"
      ],
      "text/plain": [
       "<IPython.core.display.Latex object>"
      ]
     },
     "metadata": {},
     "output_type": "display_data"
    }
   ],
   "source": [
    "expr_l = s_o(y, 1)- y*tan(x) # часть уравнения слева\n",
    "expr_r = -cos(x) * y ** 2 #часть уравнения справа\n",
    "n_y = 0 #n - где y(n)\n",
    "y_n = 3 # y(n) = \n",
    "expr = Eq(expr_l, expr_r) \n",
    "print_system(expr, f'y({n_y})=' + latex(y_n))"
   ]
  },
  {
   "cell_type": "markdown",
   "id": "e3d68ef9",
   "metadata": {},
   "source": [
    "### Примечание\n",
    "Другой порядок это нормально. Главное, чтобы коэффициенты совпадали. Ну и лучше из самого задания это дело переписать. Мне на этот порядок невероятно сложно влиять, ибо такой функционал не предусмотрен. <br>\n",
    "Если дробь поменялась, то это тоже нормально. Она упростилась. Впишите и старую, и новую через равно"
   ]
  },
  {
   "cell_type": "markdown",
   "id": "f7890ee4",
   "metadata": {},
   "source": [
    "# Перезапустите блокнот после ввода параметров"
   ]
  },
  {
   "cell_type": "markdown",
   "id": "6d65bd7a",
   "metadata": {},
   "source": [
    "# Решение"
   ]
  },
  {
   "cell_type": "code",
   "execution_count": 7,
   "id": "ab979e2f",
   "metadata": {
    "ExecuteTime": {
     "end_time": "2022-03-21T14:06:58.210243Z",
     "start_time": "2022-03-21T14:06:58.205127Z"
    }
   },
   "outputs": [
    {
     "name": "stdout",
     "output_type": "stream",
     "text": [
      "Решение:\n"
     ]
    },
    {
     "data": {
      "text/latex": [
       "$$ - y \\operatorname{tg}{\\left(x \\right)} + y^{'} = - y^{2} \\cos{\\left(x \\right)}(1) $$"
      ],
      "text/plain": [
       "<IPython.core.display.Latex object>"
      ]
     },
     "metadata": {},
     "output_type": "display_data"
    },
    {
     "name": "stdout",
     "output_type": "stream",
     "text": [
      "Решение y=0 нас не интересует\n"
     ]
    }
   ],
   "source": [
    "print('Решение:')\n",
    "print_eq(latex(expr) + '(1)')\n",
    "print('Решение y=0 нас не интересует')"
   ]
  },
  {
   "cell_type": "code",
   "execution_count": 8,
   "id": "411fdccd",
   "metadata": {
    "ExecuteTime": {
     "end_time": "2022-03-21T14:06:58.233313Z",
     "start_time": "2022-03-21T14:06:58.211863Z"
    }
   },
   "outputs": [
    {
     "data": {
      "text/latex": [
       "$$ - \\frac{\\operatorname{tg}{\\left(x \\right)}}{y} + \\frac{y^{'}}{y^{2}} = - \\cos{\\left(x \\right)} $$"
      ],
      "text/plain": [
       "<IPython.core.display.Latex object>"
      ]
     },
     "metadata": {},
     "output_type": "display_data"
    },
    {
     "name": "stdout",
     "output_type": "stream",
     "text": [
      "Замена\n"
     ]
    },
    {
     "data": {
      "text/latex": [
       "$$ z = \\frac{1}{y}= y^{-1}$$"
      ],
      "text/plain": [
       "<IPython.core.display.Latex object>"
      ]
     },
     "metadata": {},
     "output_type": "display_data"
    },
    {
     "data": {
      "text/latex": [
       "$$ z' = - \\frac{y^{'}}{y^{2}}$$"
      ],
      "text/plain": [
       "<IPython.core.display.Latex object>"
      ]
     },
     "metadata": {},
     "output_type": "display_data"
    }
   ],
   "source": [
    "r_y = find_y(expr.rhs)\n",
    "s_r_y = r_y.args[1]\n",
    "new_expr = expand(Eq(expr.lhs / r_y, expr.rhs / r_y))\n",
    "print_eq(new_expr)\n",
    "print('Замена')\n",
    "z_value = 1/(y ** (s_r_y - 1))\n",
    "z_value_dif = -(s_r_y - 1) * s_o(y, 1) / r_y\n",
    "print_eq(z, z_value, 'y^{' + str(-(s_r_y - 1)) + '}')\n",
    "print_eq('z\\'', z_value_dif)"
   ]
  },
  {
   "cell_type": "code",
   "execution_count": 9,
   "id": "529cc1ef",
   "metadata": {
    "ExecuteTime": {
     "end_time": "2022-03-21T14:06:58.292579Z",
     "start_time": "2022-03-21T14:06:58.234589Z"
    }
   },
   "outputs": [
    {
     "data": {
      "text/latex": [
       "$$ - z \\operatorname{tg}{\\left(x \\right)} - z^{'} = - \\cos{\\left(x \\right)}\\ (2) - линейное\\ неоднородное \\ 1-го\\ порядка $$"
      ],
      "text/plain": [
       "<IPython.core.display.Latex object>"
      ]
     },
     "metadata": {},
     "output_type": "display_data"
    },
    {
     "data": {
      "text/latex": [
       "$$ - z \\operatorname{tg}{\\left(x \\right)} - z^{'} = 0\\ (3) - линейное\\ однородное \\ 1-го\\ порядка $$"
      ],
      "text/plain": [
       "<IPython.core.display.Latex object>"
      ]
     },
     "metadata": {},
     "output_type": "display_data"
    },
    {
     "data": {
      "text/latex": [
       "$$ \\frac{dz}{dx} = - z \\operatorname{tg}{\\left(x \\right)}\\ \\ \\ \\ z=0- не\\ решение\\ (2) $$"
      ],
      "text/plain": [
       "<IPython.core.display.Latex object>"
      ]
     },
     "metadata": {},
     "output_type": "display_data"
    },
    {
     "data": {
      "text/latex": [
       "$$ \\frac{dz}{z} = - \\operatorname{tg}{\\left(x \\right)}\\cdot dx $$"
      ],
      "text/plain": [
       "<IPython.core.display.Latex object>"
      ]
     },
     "metadata": {},
     "output_type": "display_data"
    }
   ],
   "source": [
    "if new_expr != new_expr.subs(z_value_dif, s_o(z, 1)):\n",
    "    z_expr = new_expr.subs(z_value_dif, s_o(z, 1))\n",
    "else:\n",
    "    z_expr = new_expr.subs(-z_value_dif, -s_o(z, 1))\n",
    "z_expr = z_expr.subs(z_value, z)\n",
    "print_eq(latex(z_expr) + '\\ (2) - линейное\\ неоднородное \\ 1-го\\ порядка')\n",
    "z_expr_0 = Eq(z_expr.lhs, 0)\n",
    "print_eq(latex(z_expr_0) + '\\ (3) - линейное\\ однородное \\ 1-го\\ порядка')\n",
    "dzx = to_s('dz') / to_s('dx')\n",
    "z_expr_0 = z_expr_0.subs(s_o(z, 1), dzx)\n",
    "z_expr_0 = Eq(dzx, solve(z_expr_0, dzx)[0])\n",
    "print_eq(latex(z_expr_0) + '\\ \\ \\ \\ z=0- не\\ решение\\ (2)')\n",
    "z_expr_0 = Eq(z_expr_0.lhs * to_s('dx') / z, z_expr_0.rhs / z)\n",
    "print_eq(latex(z_expr_0) + ('\\cdot dx'))\n",
    "z_expr_0 = Eq(z_expr_0.lhs / to_s('dz'), z_expr_0.rhs)"
   ]
  },
  {
   "cell_type": "code",
   "execution_count": 10,
   "id": "c766066a",
   "metadata": {
    "ExecuteTime": {
     "end_time": "2022-03-21T14:06:58.422650Z",
     "start_time": "2022-03-21T14:06:58.295095Z"
    }
   },
   "outputs": [
    {
     "data": {
      "text/latex": [
       "$$ \\int \\frac{1}{z}\\, dz = \\int \\left(- \\operatorname{tg}{\\left(x \\right)}\\right)\\, dx $$"
      ],
      "text/plain": [
       "<IPython.core.display.Latex object>"
      ]
     },
     "metadata": {},
     "output_type": "display_data"
    },
    {
     "data": {
      "text/latex": [
       "$$ \\ln{\\left(z \\right)} = \\ln{\\left(\\cos{\\left(x \\right)} \\right)}+C $$"
      ],
      "text/plain": [
       "<IPython.core.display.Latex object>"
      ]
     },
     "metadata": {},
     "output_type": "display_data"
    },
    {
     "data": {
      "text/latex": [
       "$$ z_{оо} = C \\cos{\\left(x \\right)}$$"
      ],
      "text/plain": [
       "<IPython.core.display.Latex object>"
      ]
     },
     "metadata": {},
     "output_type": "display_data"
    }
   ],
   "source": [
    "z_integral = Eq(Integral(z_expr_0.lhs), Integral(z_expr_0.rhs))\n",
    "print_eq(z_integral)\n",
    "z_integral = Eq(z_integral.lhs.doit(), z_integral.rhs.doit())\n",
    "print_eq(latex(z_integral) + '+C')\n",
    "z_integral = Eq(z_integral.lhs, z_integral.rhs + ln(C))\n",
    "zoo = solve(z_integral, z)[0]\n",
    "print_eq('z_оо', zoo)"
   ]
  },
  {
   "cell_type": "code",
   "execution_count": 11,
   "id": "916b79e5",
   "metadata": {
    "ExecuteTime": {
     "end_time": "2022-03-21T14:06:58.432900Z",
     "start_time": "2022-03-21T14:06:58.423987Z"
    }
   },
   "outputs": [
    {
     "data": {
      "text/latex": [
       "$$ z_{он} = C{\\left(x \\right)} \\cos{\\left(x \\right)}$$"
      ],
      "text/plain": [
       "<IPython.core.display.Latex object>"
      ]
     },
     "metadata": {},
     "output_type": "display_data"
    },
    {
     "data": {
      "text/latex": [
       "$$ z' = - C{\\left(x \\right)} \\sin{\\left(x \\right)} + \\operatorname{C'}{\\left(x \\right)} \\cos{\\left(x \\right)}$$"
      ],
      "text/plain": [
       "<IPython.core.display.Latex object>"
      ]
     },
     "metadata": {},
     "output_type": "display_data"
    },
    {
     "name": "stdout",
     "output_type": "stream",
     "text": [
      "Подставляем в (2)\n"
     ]
    }
   ],
   "source": [
    "zoh = zoo.subs(C, C_f(x))\n",
    "print_eq('z_он', zoh)\n",
    "if zoh.args[0] == C_f(x):\n",
    "    f_diff = zoh.args[1]\n",
    "else:\n",
    "    f_diff = zoh.args[0]\n",
    "z_dif_C = C_d(x) * f_diff + C_f(x) * f_diff.diff(x)\n",
    "print_eq('z\\'', z_dif_C)\n",
    "print('Подставляем в (2)')"
   ]
  },
  {
   "cell_type": "code",
   "execution_count": 12,
   "id": "8f059490",
   "metadata": {
    "ExecuteTime": {
     "end_time": "2022-03-21T14:06:58.484666Z",
     "start_time": "2022-03-21T14:06:58.434027Z"
    }
   },
   "outputs": [
    {
     "data": {
      "text/latex": [
       "$$ - (- C{\\left(x \\right)} \\sin{\\left(x \\right)} + \\operatorname{C'}{\\left(x \\right)} \\cos{\\left(x \\right)}) - C{\\left(x \\right)} \\cos{\\left(x \\right)} \\operatorname{tg}{\\left(x \\right)} = - \\cos{\\left(x \\right)} $$"
      ],
      "text/plain": [
       "<IPython.core.display.Latex object>"
      ]
     },
     "metadata": {},
     "output_type": "display_data"
    },
    {
     "data": {
      "text/latex": [
       "$$ - \\operatorname{C'}{\\left(x \\right)} \\cos{\\left(x \\right)} = - \\cos{\\left(x \\right)} $$"
      ],
      "text/plain": [
       "<IPython.core.display.Latex object>"
      ]
     },
     "metadata": {},
     "output_type": "display_data"
    },
    {
     "data": {
      "text/latex": [
       "$$ \\operatorname{C'}{\\left(x \\right)} = 1 $$"
      ],
      "text/plain": [
       "<IPython.core.display.Latex object>"
      ]
     },
     "metadata": {},
     "output_type": "display_data"
    },
    {
     "data": {
      "text/latex": [
       "$$ C{\\left(x \\right)} = \\int 1\\, dx= x+C$$"
      ],
      "text/plain": [
       "<IPython.core.display.Latex object>"
      ]
     },
     "metadata": {},
     "output_type": "display_data"
    }
   ],
   "source": [
    "print_eq(z_expr.subs({s_o(z, 1): to_s(f'({latex(z_dif_C)})'), z:to_s(latex(zoh))}))\n",
    "sub_expr = Eq(simplify(z_expr.lhs.subs({s_o(z, 1): z_dif_C, z:(zoh)})), z_expr.rhs)\n",
    "print_eq(sub_expr)\n",
    "C_d_val = simple_express(sub_expr, C_d(x))\n",
    "print_eq(C_d_val)\n",
    "C_f_val = Integral(C_d_val.rhs, x).doit()\n",
    "print_eq(C_f(x), Integral(C_d_val.rhs, x), latex(C_f_val) + '+C')\n",
    "C_f_val += C"
   ]
  },
  {
   "cell_type": "code",
   "execution_count": 13,
   "id": "b014bc5e",
   "metadata": {
    "ExecuteTime": {
     "end_time": "2022-03-21T14:06:58.521097Z",
     "start_time": "2022-03-21T14:06:58.485885Z"
    }
   },
   "outputs": [
    {
     "data": {
      "text/latex": [
       "$$ z = (C + x) \\cos{\\left(x \\right)}= \\left(C + x\\right) \\cos{\\left(x \\right)}= \\frac{1}{y}$$"
      ],
      "text/plain": [
       "<IPython.core.display.Latex object>"
      ]
     },
     "metadata": {},
     "output_type": "display_data"
    },
    {
     "data": {
      "text/latex": [
       "$$ Начало\\ системы\\\\y \\left(C + x\\right) \\cos{\\left(x \\right)} = 1\\\\y(0)=3\\\\Конец\\ системы\\\\ $$"
      ],
      "text/plain": [
       "<IPython.core.display.Latex object>"
      ]
     },
     "metadata": {},
     "output_type": "display_data"
    },
    {
     "data": {
      "text/latex": [
       "$$ 3 \\left(0 + C\\right) \\cos{\\left(0 \\right)} = 1 $$"
      ],
      "text/plain": [
       "<IPython.core.display.Latex object>"
      ]
     },
     "metadata": {},
     "output_type": "display_data"
    },
    {
     "data": {
      "text/latex": [
       "$$ C = \\frac{1}{3}$$"
      ],
      "text/plain": [
       "<IPython.core.display.Latex object>"
      ]
     },
     "metadata": {},
     "output_type": "display_data"
    }
   ],
   "source": [
    "z_C = simplify(zoh.subs(C_f(x), C_f_val))\n",
    "print_eq(z, zoh.subs(C_f(x), to_s(f'({latex(C_f_val)})')), z_C, z_value)\n",
    "z_C = Eq(z_C * y, 1) \n",
    "print_system(z_C, f'y({n_y})={latex(y_n)}')\n",
    "print_eq(z_C.subs({x: to_s(latex(n_y)), y: to_s(latex(y_n))}))\n",
    "C_val =  solve(z_C.subs({x: n_y, y: y_n}), C)[0]\n",
    "print_eq(C, C_val)"
   ]
  },
  {
   "cell_type": "code",
   "execution_count": 14,
   "id": "39cac8e1",
   "metadata": {
    "ExecuteTime": {
     "end_time": "2022-03-21T14:06:58.532091Z",
     "start_time": "2022-03-21T14:06:58.522557Z"
    }
   },
   "outputs": [
    {
     "name": "stdout",
     "output_type": "stream",
     "text": [
      "Ответ:\n"
     ]
    },
    {
     "data": {
      "text/latex": [
       "$$ y \\left(x + \\frac{1}{3}\\right) \\cos{\\left(x \\right)} = 1 $$"
      ],
      "text/plain": [
       "<IPython.core.display.Latex object>"
      ]
     },
     "metadata": {},
     "output_type": "display_data"
    }
   ],
   "source": [
    "print('Ответ:')\n",
    "print_eq(z_C.subs(C, C_val))"
   ]
  },
  {
   "cell_type": "markdown",
   "id": "ea11555f",
   "metadata": {},
   "source": [
    "Если эта программа очень помогла вам, то буду премного вам благодарен, если отправите копеечку.<br>\n",
    "+79159427630\n",
    "<br>Владислав Владимирович Т.\n",
    "<br>Тинькофф, Сбер\n",
    "<br>А ещё пожелания, косяки и прочее в тг или вк c удовольствием выслушаю.\n",
    "<br>Я в вк https://vk.com/vladt99\n",
    "<br>Также помогу с вводом примера или отвечу на вопросы по коду, или не по коду. А может пообщаемся. Или проект совместный забабахаем(Только не по продаже этого кода). Или в настолки сыграем. Или будем вместе светлое коммунистическое строить... А может всё сразу?"
   ]
  }
 ],
 "metadata": {
  "kernelspec": {
   "display_name": "Python 3 (ipykernel)",
   "language": "python",
   "name": "python3"
  },
  "language_info": {
   "codemirror_mode": {
    "name": "ipython",
    "version": 3
   },
   "file_extension": ".py",
   "mimetype": "text/x-python",
   "name": "python",
   "nbconvert_exporter": "python",
   "pygments_lexer": "ipython3",
   "version": "3.9.7"
  },
  "latex_envs": {
   "LaTeX_envs_menu_present": true,
   "autoclose": false,
   "autocomplete": true,
   "bibliofile": "biblio.bib",
   "cite_by": "apalike",
   "current_citInitial": 1,
   "eqLabelWithNumbers": true,
   "eqNumInitial": 1,
   "hotkeys": {
    "equation": "Ctrl-E",
    "itemize": "Ctrl-I"
   },
   "labels_anchors": false,
   "latex_user_defs": false,
   "report_style_numbering": false,
   "user_envs_cfg": false
  }
 },
 "nbformat": 4,
 "nbformat_minor": 5
}
