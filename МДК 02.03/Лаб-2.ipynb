{
 "cells": [
  {
   "cell_type": "code",
   "execution_count": 1,
   "id": "2120ae4b",
   "metadata": {},
   "outputs": [],
   "source": [
    "from IPython.core.interactiveshell import InteractiveShell\n",
    "InteractiveShell.ast_node_interactivity = \"all\"\n",
    "from IPython.display import display, Math, Latex"
   ]
  },
  {
   "cell_type": "code",
   "execution_count": 2,
   "id": "b9564eb9",
   "metadata": {},
   "outputs": [],
   "source": [
    "from sympy import *\n",
    "from sympy.vector import CoordSys3D\n",
    "import numpy as np\n",
    "from functools import reduce\n",
    "from sympy.abc import lamda as lmd"
   ]
  },
  {
   "cell_type": "code",
   "execution_count": 3,
   "id": "7763f52e",
   "metadata": {},
   "outputs": [],
   "source": [
    "def print_eq(eq, *exprs):\n",
    "    if type(eq) == str:\n",
    "        eq = Symbol(eq)\n",
    "    out = '$$ {} ' + '= {}' * len(exprs) + '$$'\n",
    "    exprs=list(exprs)\n",
    "    for i in range(len(exprs)):\n",
    "        if isinstance(exprs[i], (np.ndarray,)):\n",
    "            exprs[i] = pmatrix(exprs[i])\n",
    "        elif type(exprs[i]) != str:\n",
    "            exprs[i] = latex(exprs[i])\n",
    "    display(Latex(out.format(latex(eq), *exprs)))\n",
    "\n",
    "def print_system(*exprs, collab=False): \n",
    "    '''\n",
    "    collab говнюк не хочет нормально системы уравнений отоброжать, \n",
    "    если вы в Jupyter, то замените в аргументе collab True на False'''\n",
    "    exprs=list(exprs)\n",
    "    for i in range(len(exprs)):\n",
    "        if type(exprs[i]) != str:\n",
    "            exprs[i] = latex(exprs[i])\n",
    "    exprs_latex = r'\\\\'.join(exprs)\n",
    "    if collab:\n",
    "        system = r'Начало системы\\\\' + exprs_latex + r'\\\\Конец_системы\\\\'\n",
    "    else:\n",
    "        system = \\\n",
    "        r'''\\begin{equation*}\n",
    "    \\begin{cases}''' \\\n",
    "        + exprs_latex + \\\n",
    "        r'''\\end{cases}\n",
    "    \\end{equation*}\n",
    "        '''\n",
    "\n",
    "    print_eq(system)\n",
    "    \n",
    "def to_s(i):\n",
    "    return Symbol(str(i))\n",
    "\n",
    "def pmatrix(array):\n",
    "    if type(array) != Matrix:\n",
    "        array = Matrix(array)\n",
    "    return latex(array)[6:-7].replace('matrix', 'pmatrix') + ''"
   ]
  },
  {
   "cell_type": "markdown",
   "id": "6f4194fb",
   "metadata": {},
   "source": [
    "# Задание 1"
   ]
  },
  {
   "cell_type": "code",
   "execution_count": 4,
   "id": "265bcb63",
   "metadata": {},
   "outputs": [],
   "source": [
    "bar_a = Symbol(r'\\bar a')\n",
    "bar_b = Symbol(r'\\bar b')"
   ]
  },
  {
   "cell_type": "code",
   "execution_count": 5,
   "id": "3525c7e7",
   "metadata": {},
   "outputs": [],
   "source": [
    "variants = [\n",
    "    [\n",
    "        [0, 4, 7, 2],\n",
    "        [-2, 4, 3, -1],\n",
    "        [4, -4, 1, 4],\n",
    "        [2, 4, 11, 5]\n",
    "    ],\n",
    "    [\n",
    "        [1, 2, 3],\n",
    "        [1, 3, 9],\n",
    "        [1, 5, 17]\n",
    "    ],\n",
    "    [\n",
    "        [5, 1, -1, 2],\n",
    "        [4, -1, -1, 6],\n",
    "        [-3, 3, 1, -10],\n",
    "        [6, 3, -1, -2]\n",
    "    ]\n",
    "]"
   ]
  },
  {
   "cell_type": "code",
   "execution_count": 6,
   "id": "d47f3a70",
   "metadata": {},
   "outputs": [],
   "source": [
    "a = variants[2]\n",
    "a = [np.array(el) for el in a]\n",
    "n = len(a)\n",
    "f = np.dot"
   ]
  },
  {
   "cell_type": "code",
   "execution_count": 7,
   "id": "554d0274",
   "metadata": {
    "scrolled": false
   },
   "outputs": [
    {
     "data": {
      "text/latex": [
       "$$ \\bar b_{1} = \\bar a_1$$"
      ],
      "text/plain": [
       "<IPython.core.display.Latex object>"
      ]
     },
     "metadata": {},
     "output_type": "display_data"
    },
    {
     "data": {
      "text/latex": [
       "$$ \\bar b_2=\\bar a_2-\\frac{(\\bar a_2;\\bar b_1)}{(\\bar b_1;\\bar b_1)}\\bar b_1 $$"
      ],
      "text/plain": [
       "<IPython.core.display.Latex object>"
      ]
     },
     "metadata": {},
     "output_type": "display_data"
    },
    {
     "data": {
      "text/latex": [
       "$$ \\bar b_2=\\begin{pmatrix}4\\\\-1\\\\-1\\\\6\\end{pmatrix}-\\frac{32}{31}\\cdot\\begin{pmatrix}5\\\\1\\\\-1\\\\2\\end{pmatrix}=\\begin{pmatrix}- \\frac{36}{31}\\\\- \\frac{63}{31}\\\\\\frac{1}{31}\\\\\\frac{122}{31}\\end{pmatrix} $$"
      ],
      "text/plain": [
       "<IPython.core.display.Latex object>"
      ]
     },
     "metadata": {},
     "output_type": "display_data"
    },
    {
     "data": {
      "text/latex": [
       "$$ \\bar b_{2} = \\begin{pmatrix}-36\\\\-63\\\\1\\\\122\\end{pmatrix}$$"
      ],
      "text/plain": [
       "<IPython.core.display.Latex object>"
      ]
     },
     "metadata": {},
     "output_type": "display_data"
    },
    {
     "name": "stdout",
     "output_type": "stream",
     "text": [
      "Проверка:\n"
     ]
    },
    {
     "data": {
      "text/latex": [
       "$$ (\\bar b_{1};\\bar b_2) = 0$$"
      ],
      "text/plain": [
       "<IPython.core.display.Latex object>"
      ]
     },
     "metadata": {},
     "output_type": "display_data"
    },
    {
     "data": {
      "text/latex": [
       "$$ \\bar b_3=\\bar a_3-\\frac{(\\bar a_3;\\bar b_1)}{(\\bar b_1;\\bar b_1)}\\bar b_1-\\frac{(\\bar a_3;\\bar b_2)}{(\\bar b_2;\\bar b_2)}\\bar b_2 $$"
      ],
      "text/plain": [
       "<IPython.core.display.Latex object>"
      ]
     },
     "metadata": {},
     "output_type": "display_data"
    },
    {
     "data": {
      "text/latex": [
       "$$ \\bar b_3=\\begin{pmatrix}-3\\\\3\\\\1\\\\-10\\end{pmatrix}-- \\frac{33}{31}\\cdot\\begin{pmatrix}5\\\\1\\\\-1\\\\2\\end{pmatrix}-- \\frac{2}{31}\\cdot\\begin{pmatrix}-36\\\\-63\\\\1\\\\122\\end{pmatrix}=\\begin{pmatrix}0\\\\0\\\\0\\\\0\\end{pmatrix} $$"
      ],
      "text/plain": [
       "<IPython.core.display.Latex object>"
      ]
     },
     "metadata": {},
     "output_type": "display_data"
    },
    {
     "data": {
      "text/latex": [
       "$$ \\bar b_{3} = \\begin{pmatrix}0\\\\0\\\\0\\\\0\\end{pmatrix}$$"
      ],
      "text/plain": [
       "<IPython.core.display.Latex object>"
      ]
     },
     "metadata": {},
     "output_type": "display_data"
    },
    {
     "name": "stdout",
     "output_type": "stream",
     "text": [
      "Проверка:\n"
     ]
    },
    {
     "data": {
      "text/latex": [
       "$$ (\\bar b_{1};\\bar b_3) = 0$$"
      ],
      "text/plain": [
       "<IPython.core.display.Latex object>"
      ]
     },
     "metadata": {},
     "output_type": "display_data"
    },
    {
     "data": {
      "text/latex": [
       "$$ (\\bar b_{2};\\bar b_3) = 0$$"
      ],
      "text/plain": [
       "<IPython.core.display.Latex object>"
      ]
     },
     "metadata": {},
     "output_type": "display_data"
    },
    {
     "data": {
      "text/latex": [
       "$$ \\bar b_4=\\bar a_4-\\frac{(\\bar a_4;\\bar b_1)}{(\\bar b_1;\\bar b_1)}\\bar b_1-\\frac{(\\bar a_4;\\bar b_2)}{(\\bar b_2;\\bar b_2)}\\bar b_2-\\frac{(\\bar a_4;\\bar b_3)}{(\\bar b_3;\\bar b_3)}\\bar b_3 $$"
      ],
      "text/plain": [
       "<IPython.core.display.Latex object>"
      ]
     },
     "metadata": {},
     "output_type": "display_data"
    },
    {
     "data": {
      "text/latex": [
       "$$ \\bar b_4=\\begin{pmatrix}6\\\\3\\\\-1\\\\-2\\end{pmatrix}-\\frac{30}{31}\\cdot\\begin{pmatrix}5\\\\1\\\\-1\\\\2\\end{pmatrix}-- \\frac{1}{31}\\cdot\\begin{pmatrix}-36\\\\-63\\\\1\\\\122\\end{pmatrix}=\\begin{pmatrix}0\\\\0\\\\0\\\\0\\end{pmatrix} $$"
      ],
      "text/plain": [
       "<IPython.core.display.Latex object>"
      ]
     },
     "metadata": {},
     "output_type": "display_data"
    },
    {
     "data": {
      "text/latex": [
       "$$ \\bar b_{4} = \\begin{pmatrix}0\\\\0\\\\0\\\\0\\end{pmatrix}$$"
      ],
      "text/plain": [
       "<IPython.core.display.Latex object>"
      ]
     },
     "metadata": {},
     "output_type": "display_data"
    },
    {
     "name": "stdout",
     "output_type": "stream",
     "text": [
      "Проверка:\n"
     ]
    },
    {
     "data": {
      "text/latex": [
       "$$ (\\bar b_{1};\\bar b_4) = 0$$"
      ],
      "text/plain": [
       "<IPython.core.display.Latex object>"
      ]
     },
     "metadata": {},
     "output_type": "display_data"
    },
    {
     "data": {
      "text/latex": [
       "$$ (\\bar b_{2};\\bar b_4) = 0$$"
      ],
      "text/plain": [
       "<IPython.core.display.Latex object>"
      ]
     },
     "metadata": {},
     "output_type": "display_data"
    },
    {
     "data": {
      "text/latex": [
       "$$ (\\bar b_{3};\\bar b_4) = 0$$"
      ],
      "text/plain": [
       "<IPython.core.display.Latex object>"
      ]
     },
     "metadata": {},
     "output_type": "display_data"
    }
   ],
   "source": [
    "b = [\n",
    "    a[0]\n",
    "]\n",
    "\n",
    "print_eq(f'{bar_b}_1', f'{bar_a}_1')\n",
    "\n",
    "for i in range(1, n):\n",
    "    b_gen_view = f'{bar_b}_{i + 1}={bar_a}_{i + 1}'\n",
    "    b_solved_view = f'{bar_b}_{i + 1}={pmatrix(a[i])}'\n",
    "    p1 = a[i]\n",
    "    b_n = p1\n",
    "    \n",
    "    \n",
    "    for j in range(1, i + 1):\n",
    "        b_gen_view += f'-\\\\frac{{({bar_a}_{i + 1};{bar_b}_{j})}}{{({bar_b}_{j};{bar_b}_{j})}}{bar_b}_{j}'\n",
    "    print_eq(b_gen_view)    \n",
    "    \n",
    "    for j in range(1, i + 1):\n",
    "        err = None\n",
    "        p_n = Rational(\n",
    "            f(a[i], b[j - 1]),\n",
    "            f(b[j - 1], b[j - 1])\n",
    "        )\n",
    "        if p_n == nan:\n",
    "            err = ZeroDivisionError('Получаем деление на 0')\n",
    "            break\n",
    "            \n",
    "        b_solved_view += '-' + latex(p_n)\n",
    "        b_solved_view += r'\\cdot' + pmatrix(b[j - 1])\n",
    "        p_n = p_n * b[j - 1]\n",
    "        b_n = b_n - p_n\n",
    "        \n",
    "    b_solved_view += '=' + pmatrix(b_n)\n",
    "    \n",
    "    if not err:\n",
    "        nok = 1\n",
    "        for el in b_n:\n",
    "            nok = np.gcd(nok, el)\n",
    "        b_n = b_n / nok\n",
    "\n",
    "        nod = reduce(np.gcd, b_n)\n",
    "        b_n = b_n / (1 if not nod else nod)\n",
    "\n",
    "    b.append(b_n)\n",
    "    \n",
    "    print_eq(b_solved_view)\n",
    "    print_eq(f'{bar_b}_{i + 1}', (b_n))\n",
    "    \n",
    "    print('Проверка:')\n",
    "    for j in range(i):\n",
    "        print_eq(f'({bar_b}_{{{j + 1}}};{bar_b}_{i + 1})', f(b[j], b[i]))"
   ]
  },
  {
   "cell_type": "code",
   "execution_count": 8,
   "id": "224c77eb",
   "metadata": {},
   "outputs": [
    {
     "data": {
      "text/latex": [
       "$$ |\\bar b_{1|} = \\sqrt{31}$$"
      ],
      "text/plain": [
       "<IPython.core.display.Latex object>"
      ]
     },
     "metadata": {},
     "output_type": "display_data"
    },
    {
     "data": {
      "text/latex": [
       "$$ |\\bar b_{2|} = 5 \\sqrt{806}$$"
      ],
      "text/plain": [
       "<IPython.core.display.Latex object>"
      ]
     },
     "metadata": {},
     "output_type": "display_data"
    },
    {
     "data": {
      "text/latex": [
       "$$ |\\bar b_{3|} = 0$$"
      ],
      "text/plain": [
       "<IPython.core.display.Latex object>"
      ]
     },
     "metadata": {},
     "output_type": "display_data"
    },
    {
     "data": {
      "text/latex": [
       "$$ |\\bar b_{4|} = 0$$"
      ],
      "text/plain": [
       "<IPython.core.display.Latex object>"
      ]
     },
     "metadata": {},
     "output_type": "display_data"
    },
    {
     "data": {
      "text/latex": [
       "$$ |\\bar h_{1}| = \\begin{pmatrix}\\frac{5 \\sqrt{31}}{31}\\\\\\frac{\\sqrt{31}}{31}\\\\- \\frac{\\sqrt{31}}{31}\\\\\\frac{2 \\sqrt{31}}{31}\\end{pmatrix}$$"
      ],
      "text/plain": [
       "<IPython.core.display.Latex object>"
      ]
     },
     "metadata": {},
     "output_type": "display_data"
    },
    {
     "data": {
      "text/latex": [
       "$$ |\\bar h_{2}| = \\begin{pmatrix}- \\frac{18 \\sqrt{806}}{2015}\\\\- \\frac{63 \\sqrt{806}}{4030}\\\\\\frac{\\sqrt{806}}{4030}\\\\\\frac{61 \\sqrt{806}}{2015}\\end{pmatrix}$$"
      ],
      "text/plain": [
       "<IPython.core.display.Latex object>"
      ]
     },
     "metadata": {},
     "output_type": "display_data"
    },
    {
     "data": {
      "text/latex": [
       "$$ |\\bar h_{3}| = \\begin{pmatrix}0\\\\0\\\\0\\\\0\\end{pmatrix}$$"
      ],
      "text/plain": [
       "<IPython.core.display.Latex object>"
      ]
     },
     "metadata": {},
     "output_type": "display_data"
    },
    {
     "data": {
      "text/latex": [
       "$$ |\\bar h_{4}| = \\begin{pmatrix}0\\\\0\\\\0\\\\0\\end{pmatrix}$$"
      ],
      "text/plain": [
       "<IPython.core.display.Latex object>"
      ]
     },
     "metadata": {},
     "output_type": "display_data"
    }
   ],
   "source": [
    "b_b_sqrts = []\n",
    "for i in range(len(b)):\n",
    "    b_b_sqrt = sqrt(f(b[i], b[i]))\n",
    "    b_b_sqrts.append(b_b_sqrt)\n",
    "    print_eq(f'|{bar_b}_{i + 1}|', b_b_sqrt)\n",
    "\n",
    "for i in range(len(b)):\n",
    "    if b_b_sqrts[i]:\n",
    "        h = b[i] / b_b_sqrts[i]\n",
    "    else:\n",
    "        h = b[i] * 0\n",
    "    print_eq(f'|\\\\bar h_{{{i + 1}}}|', pmatrix(h))"
   ]
  },
  {
   "cell_type": "markdown",
   "id": "d1637946",
   "metadata": {},
   "source": [
    "# Задание 2"
   ]
  },
  {
   "cell_type": "code",
   "execution_count": 9,
   "id": "3d5a7e47",
   "metadata": {},
   "outputs": [],
   "source": [
    "integral_from = 1\n",
    "integral_to = -1"
   ]
  },
  {
   "cell_type": "code",
   "execution_count": 10,
   "id": "0553fd18",
   "metadata": {},
   "outputs": [
    {
     "data": {
      "text/latex": [
       "$$ (f(x);g(x))=\\int_{-1}^{1} (f(x);g(x)) \\,dx $$"
      ],
      "text/plain": [
       "<IPython.core.display.Latex object>"
      ]
     },
     "metadata": {},
     "output_type": "display_data"
    }
   ],
   "source": [
    "print_eq(f'(f(x);g(x))=\\int_{{{integral_to}}}^{{{integral_from}}} (f(x);g(x)) \\,dx')"
   ]
  },
  {
   "cell_type": "code",
   "execution_count": 11,
   "id": "bac0a700",
   "metadata": {},
   "outputs": [],
   "source": [
    "t = Symbol('t')\n",
    "task_symbol = Symbol('f')"
   ]
  },
  {
   "cell_type": "code",
   "execution_count": 12,
   "id": "a260737b",
   "metadata": {},
   "outputs": [
    {
     "data": {
      "text/latex": [
       "$$ f_{1} = t^{2} + 3 t$$"
      ],
      "text/plain": [
       "<IPython.core.display.Latex object>"
      ]
     },
     "metadata": {},
     "output_type": "display_data"
    },
    {
     "data": {
      "text/latex": [
       "$$ f_{2} = 2 t^{2} + 3 t + 1$$"
      ],
      "text/plain": [
       "<IPython.core.display.Latex object>"
      ]
     },
     "metadata": {},
     "output_type": "display_data"
    },
    {
     "data": {
      "text/latex": [
       "$$ f_{3} = 3 t^{2} + 5 t + 1$$"
      ],
      "text/plain": [
       "<IPython.core.display.Latex object>"
      ]
     },
     "metadata": {},
     "output_type": "display_data"
    }
   ],
   "source": [
    "exprs = [\n",
    "    3*t + t ** 2,\n",
    "    1 + 3 * t + 2 * t ** 2,\n",
    "    1 + 5 * t + 3 * t ** 2,\n",
    "]\n",
    "\n",
    "for i in range(len(exprs)):\n",
    "    expr = exprs[i]\n",
    "    print_eq(latex(task_symbol) + f\"_{i + 1}\", expr)"
   ]
  },
  {
   "cell_type": "code",
   "execution_count": 13,
   "id": "814d90ee",
   "metadata": {},
   "outputs": [
    {
     "data": {
      "text/latex": [
       "$\\displaystyle \\int\\limits_{-1}^{1} \\left(t^{2} + 3 t\\right) \\left(2 t^{2} + 3 t + 1\\right)\\, dt$"
      ],
      "text/plain": [
       "Integral((t**2 + 3*t)*(2*t**2 + 3*t + 1), (t, -1, 1))"
      ]
     },
     "execution_count": 13,
     "metadata": {},
     "output_type": "execute_result"
    }
   ],
   "source": [
    "Integral(exprs[0] * exprs[1], (t, integral_to, integral_from))"
   ]
  },
  {
   "cell_type": "code",
   "execution_count": 14,
   "id": "f9002f8d",
   "metadata": {},
   "outputs": [],
   "source": [
    "n = len(exprs)\n",
    "f = lambda x, y: Integral(x * y, (t, integral_to, integral_from)).doit()"
   ]
  },
  {
   "cell_type": "code",
   "execution_count": 15,
   "id": "c67b8312",
   "metadata": {},
   "outputs": [
    {
     "data": {
      "text/latex": [
       "$\\displaystyle \\frac{112}{15}$"
      ],
      "text/plain": [
       "112/15"
      ]
     },
     "execution_count": 15,
     "metadata": {},
     "output_type": "execute_result"
    }
   ],
   "source": [
    "f(exprs[0], exprs[1])"
   ]
  },
  {
   "cell_type": "code",
   "execution_count": 23,
   "id": "65c1053c",
   "metadata": {},
   "outputs": [
    {
     "data": {
      "text/latex": [
       "$$ \\bar b_{1} = f_1$$"
      ],
      "text/plain": [
       "<IPython.core.display.Latex object>"
      ]
     },
     "metadata": {},
     "output_type": "display_data"
    },
    {
     "data": {
      "text/latex": [
       "$$ b_2=f_2-\\frac{(f_2;\\bar b_1)}{(\\bar b_1;\\bar b_1)}\\bar b_1 $$"
      ],
      "text/plain": [
       "<IPython.core.display.Latex object>"
      ]
     },
     "metadata": {},
     "output_type": "display_data"
    },
    {
     "data": {
      "text/latex": [
       "$$ b_2=(2 t^{2} + 3 t + 1)-\\frac{7}{6}\\cdot (t^{2} + 3 t)=\\frac{5 t^{2}}{6} - \\frac{t}{2} + 1 $$"
      ],
      "text/plain": [
       "<IPython.core.display.Latex object>"
      ]
     },
     "metadata": {},
     "output_type": "display_data"
    },
    {
     "name": "stdout",
     "output_type": "stream",
     "text": [
      "Проверка:\n"
     ]
    },
    {
     "data": {
      "text/latex": [
       "$$ (\\bar b_{1};\\bar b_2) = 0$$"
      ],
      "text/plain": [
       "<IPython.core.display.Latex object>"
      ]
     },
     "metadata": {},
     "output_type": "display_data"
    },
    {
     "data": {
      "text/latex": [
       "$$ b_3=f_3-\\frac{(f_3;\\bar b_1)}{(\\bar b_1;\\bar b_1)}\\bar b_1-\\frac{(f_3;\\bar b_2)}{(\\bar b_2;\\bar b_2)}\\bar b_2 $$"
      ],
      "text/plain": [
       "<IPython.core.display.Latex object>"
      ]
     },
     "metadata": {},
     "output_type": "display_data"
    },
    {
     "data": {
      "text/latex": [
       "$$ b_3=(3 t^{2} + 5 t + 1)-\\frac{89}{48}\\cdot (t^{2} + 3 t)-\\frac{35}{32}\\cdot (\\frac{5 t^{2}}{6} - \\frac{t}{2} + 1)=\\frac{15 t^{2}}{64} - \\frac{t}{64} - \\frac{3}{32} $$"
      ],
      "text/plain": [
       "<IPython.core.display.Latex object>"
      ]
     },
     "metadata": {},
     "output_type": "display_data"
    },
    {
     "name": "stdout",
     "output_type": "stream",
     "text": [
      "Проверка:\n"
     ]
    },
    {
     "data": {
      "text/latex": [
       "$$ (\\bar b_{1};\\bar b_3) = 0$$"
      ],
      "text/plain": [
       "<IPython.core.display.Latex object>"
      ]
     },
     "metadata": {},
     "output_type": "display_data"
    },
    {
     "data": {
      "text/latex": [
       "$$ (\\bar b_{2};\\bar b_3) = 0$$"
      ],
      "text/plain": [
       "<IPython.core.display.Latex object>"
      ]
     },
     "metadata": {},
     "output_type": "display_data"
    }
   ],
   "source": [
    "b = [\n",
    "    exprs[0]\n",
    "]\n",
    "\n",
    "print_eq(f'{bar_b}_1', f'{task_symbol}_1')\n",
    "\n",
    "for i in range(1, n):\n",
    "    b_gen_view = f'b_{i + 1}={task_symbol}_{i + 1}'\n",
    "    b_solved_view = f'b_{i + 1}=({latex(exprs[i])})'\n",
    "    p1 = exprs[i]\n",
    "    b_n = p1\n",
    "    \n",
    "    \n",
    "    for j in range(1, i + 1):\n",
    "        b_gen_view += f'-\\\\frac{{({task_symbol}_{i + 1};{bar_b}_{j})}}{{({bar_b}_{j};{bar_b}_{j})}}{bar_b}_{j}'\n",
    "    print_eq(b_gen_view)    \n",
    "    \n",
    "    for j in range(1, i + 1):\n",
    "        err = None\n",
    "        p_n = Rational(\n",
    "            f(exprs[i], b[j - 1]),\n",
    "            f(b[j - 1], b[j - 1])\n",
    "        )\n",
    "        if p_n == nan:\n",
    "            err = ZeroDivisionError('Получаем деление на 0')\n",
    "            break\n",
    "            \n",
    "        b_solved_view += '-' + latex(p_n)\n",
    "        b_solved_view += r'\\cdot ' + f'({latex(b[j - 1])})'\n",
    "        p_n = p_n * b[j - 1]\n",
    "        b_n = b_n - p_n\n",
    "        \n",
    "    b_solved_view += '=' + latex(b_n)\n",
    "    \n",
    "    if not err:\n",
    "        pass\n",
    "\n",
    "    b.append(b_n)\n",
    "    \n",
    "    print_eq(b_solved_view)\n",
    "    \n",
    "    print('Проверка:')\n",
    "    for j in range(i):\n",
    "        print_eq(f'({bar_b}_{{{j + 1}}};{bar_b}_{i + 1})', f(b[j], b[i]))"
   ]
  },
  {
   "cell_type": "code",
   "execution_count": 27,
   "id": "c16a7fcd",
   "metadata": {},
   "outputs": [
    {
     "data": {
      "text/latex": [
       "$$ |b_{1|} = \\frac{4 \\sqrt{10}}{5}$$"
      ],
      "text/plain": [
       "<IPython.core.display.Latex object>"
      ]
     },
     "metadata": {},
     "output_type": "display_data"
    },
    {
     "data": {
      "text/latex": [
       "$$ |b_{2|} = \\frac{4 \\sqrt{2}}{3}$$"
      ],
      "text/plain": [
       "<IPython.core.display.Latex object>"
      ]
     },
     "metadata": {},
     "output_type": "display_data"
    },
    {
     "data": {
      "text/latex": [
       "$$ |b_{3|} = \\frac{\\sqrt{6}}{24}$$"
      ],
      "text/plain": [
       "<IPython.core.display.Latex object>"
      ]
     },
     "metadata": {},
     "output_type": "display_data"
    },
    {
     "data": {
      "text/latex": [
       "$$ |h_{1}| = \\frac{\\sqrt{10} t^{2}}{8} + \\frac{3 \\sqrt{10} t}{8}$$"
      ],
      "text/plain": [
       "<IPython.core.display.Latex object>"
      ]
     },
     "metadata": {},
     "output_type": "display_data"
    },
    {
     "data": {
      "text/latex": [
       "$$ |h_{2}| = \\frac{5 \\sqrt{2} t^{2}}{16} - \\frac{3 \\sqrt{2} t}{16} + \\frac{3 \\sqrt{2}}{8}$$"
      ],
      "text/plain": [
       "<IPython.core.display.Latex object>"
      ]
     },
     "metadata": {},
     "output_type": "display_data"
    },
    {
     "data": {
      "text/latex": [
       "$$ |h_{3}| = \\frac{15 \\sqrt{6} t^{2}}{16} - \\frac{\\sqrt{6} t}{16} - \\frac{3 \\sqrt{6}}{8}$$"
      ],
      "text/plain": [
       "<IPython.core.display.Latex object>"
      ]
     },
     "metadata": {},
     "output_type": "display_data"
    }
   ],
   "source": [
    "b_b_sqrts = []\n",
    "for i in range(len(b)):\n",
    "    b_b_sqrt = sqrt(f(b[i], b[i]))\n",
    "    b_b_sqrts.append(b_b_sqrt)\n",
    "    print_eq(f'|b_{i + 1}|', b_b_sqrt)\n",
    "\n",
    "for i in range(len(b)):\n",
    "    if b_b_sqrts[i]:\n",
    "        h = b[i] / b_b_sqrts[i]\n",
    "    else:\n",
    "        h = b[i] * 0\n",
    "    print_eq(f'|h_{{{i + 1}}}|', expand(h))"
   ]
  }
 ],
 "metadata": {
  "kernelspec": {
   "display_name": "Python 3 (ipykernel)",
   "language": "python",
   "name": "python3"
  },
  "language_info": {
   "codemirror_mode": {
    "name": "ipython",
    "version": 3
   },
   "file_extension": ".py",
   "mimetype": "text/x-python",
   "name": "python",
   "nbconvert_exporter": "python",
   "pygments_lexer": "ipython3",
   "version": "3.10.7"
  }
 },
 "nbformat": 4,
 "nbformat_minor": 5
}
