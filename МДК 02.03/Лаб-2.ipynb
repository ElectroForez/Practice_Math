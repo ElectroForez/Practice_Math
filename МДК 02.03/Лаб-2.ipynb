{
 "cells": [
  {
   "cell_type": "code",
   "execution_count": 18,
   "id": "2120ae4b",
   "metadata": {},
   "outputs": [],
   "source": [
    "from IPython.core.interactiveshell import InteractiveShell\n",
    "InteractiveShell.ast_node_interactivity = \"all\"\n",
    "from IPython.display import display, Math, Latex"
   ]
  },
  {
   "cell_type": "code",
   "execution_count": 19,
   "id": "b9564eb9",
   "metadata": {},
   "outputs": [],
   "source": [
    "from sympy import *\n",
    "from sympy.vector import CoordSys3D\n",
    "import numpy as np\n",
    "from functools import reduce\n",
    "from sympy.abc import lamda as lmd"
   ]
  },
  {
   "cell_type": "code",
   "execution_count": 20,
   "id": "7763f52e",
   "metadata": {},
   "outputs": [],
   "source": [
    "def print_eq(eq, *exprs):\n",
    "    if type(eq) == str:\n",
    "        eq = Symbol(eq)\n",
    "    out = '$$ {} ' + '= {}' * len(exprs) + '$$'\n",
    "    exprs=list(exprs)\n",
    "    for i in range(len(exprs)):\n",
    "        if isinstance(exprs[i], (np.ndarray,)):\n",
    "            exprs[i] = pmatrix(exprs[i])\n",
    "        elif type(exprs[i]) != str:\n",
    "            exprs[i] = latex(exprs[i])\n",
    "    display(Latex(out.format(latex(eq), *exprs)))\n",
    "    \n",
    "def to_s(i):\n",
    "    return Symbol(str(i))\n",
    "\n",
    "def pmatrix(array):\n",
    "    if type(array) != Matrix:\n",
    "        array = Matrix(array)\n",
    "    return latex(array)[6:-7].replace('matrix', 'pmatrix') + ''"
   ]
  },
  {
   "cell_type": "code",
   "execution_count": 46,
   "id": "554d0274",
   "metadata": {
    "scrolled": false
   },
   "outputs": [],
   "source": [
    "# исходники для первого задания\n",
    "def task_vectors(a, f, f_solving):\n",
    "    bar_a = Symbol(r'\\bar a')\n",
    "    bar_b = Symbol(r'\\bar b')\n",
    "    \n",
    "    a = [np.array(el) for el in a]\n",
    "    \n",
    "    n = len(a)\n",
    "    b = [\n",
    "        a[0]\n",
    "    ]\n",
    "\n",
    "    print_eq(f'{bar_b}_1', f'{bar_a}_1')\n",
    "\n",
    "    for i in range(1, n):\n",
    "        b_gen_view = f'{bar_b}_{i + 1}={bar_a}_{i + 1}'\n",
    "        b_solved_view = f'{bar_b}_{i + 1}={pmatrix(a[i])}'\n",
    "        p1 = a[i]\n",
    "        b_n = p1\n",
    "\n",
    "\n",
    "        for j in range(1, i + 1):\n",
    "            b_gen_view += f'-\\\\frac{{({bar_a}_{i + 1};{bar_b}_{j})}}{{({bar_b}_{j};{bar_b}_{j})}}{bar_b}_{j}'\n",
    "        print_eq(b_gen_view)    \n",
    "\n",
    "        for j in range(1, i + 1):\n",
    "            err = None\n",
    "            \n",
    "            \n",
    "            print_eq(f'({bar_a}_{{{i + 1}}};{bar_b}_{j})',f_solving(a[i], b[j - 1]), latex(f(a[i], b[j - 1])))\n",
    "            \n",
    "            p_n = Rational(\n",
    "                f(a[i], b[j - 1]),\n",
    "                f(b[j - 1], b[j - 1])\n",
    "            )\n",
    "            if p_n == nan:\n",
    "                err = ZeroDivisionError('Получаем деление на 0')\n",
    "                break\n",
    "\n",
    "            b_solved_view += '-' + latex(p_n)\n",
    "            b_solved_view += r'\\cdot' + pmatrix(b[j - 1])\n",
    "            p_n = p_n * b[j - 1]\n",
    "            b_n = b_n - p_n\n",
    "        \n",
    "        print_eq(f'({bar_b}_{{{j}}};{bar_b}_{j})', f_solving(a[j - 1], b[j - 1]), latex(f(a[j - 1], b[j - 1])))\n",
    "\n",
    "        b_solved_view += '=' + pmatrix(b_n)\n",
    "\n",
    "        if not err:\n",
    "            nok = 1\n",
    "            for el in b_n:\n",
    "                nok = np.gcd(nok, el)\n",
    "            b_n = b_n / nok\n",
    "\n",
    "            nod = reduce(np.gcd, b_n)\n",
    "            b_n = b_n / (1 if not nod else nod)\n",
    "\n",
    "        b.append(b_n)\n",
    "\n",
    "        print_eq(b_solved_view)\n",
    "        print_eq(f'{bar_b}_{i + 1}', (b_n))\n",
    "\n",
    "        print('Проверка:')\n",
    "        for j in range(i):\n",
    "            print_eq(f'({bar_b}_{{{j + 1}}};{bar_b}_{i + 1})', f(b[j], b[i]))\n",
    "    \n",
    "    b_b_sqrts = []\n",
    "    \n",
    "    for i in range(len(b)):\n",
    "        b_b_sqrt = sqrt(f(b[i], b[i]))\n",
    "        b_b_sqrts.append(b_b_sqrt)\n",
    "        print_eq(f'|{bar_b}_{{{i + 1}}}|', b_b_sqrt)\n",
    "\n",
    "    for i in range(len(b)):\n",
    "        if b_b_sqrts[i]:\n",
    "            h = b[i] / b_b_sqrts[i]\n",
    "        else:\n",
    "            h = b[i] * 0\n",
    "        print_eq(f'|\\\\bar h_{{{i + 1}}}|', pmatrix(h))"
   ]
  },
  {
   "cell_type": "code",
   "execution_count": 47,
   "id": "60f50c05",
   "metadata": {},
   "outputs": [],
   "source": [
    "# исходники для второго-третьего задания\n",
    "# exprs - выражения, f - функция, f - решение функции, task_symbol - символ в задании\n",
    "def task(exprs, f, f_solving, task_symbol):\n",
    "    \n",
    "    for i in range(len(exprs)):\n",
    "        expr = exprs[i]\n",
    "        print_eq(latex(task_symbol) + f\"_{i + 1}\", expr)\n",
    "    \n",
    "    b = [\n",
    "        exprs[0]\n",
    "    ]\n",
    "    \n",
    "    n = len(exprs)\n",
    "    \n",
    "    print_eq(f'b_1', f'{task_symbol}_1')\n",
    "\n",
    "    for i in range(1, n):\n",
    "        b_gen_view = f'b_{i + 1}={task_symbol}_{i + 1}'\n",
    "        b_solved_view = f'b_{i + 1}=({latex(exprs[i])})'\n",
    "        p1 = exprs[i]\n",
    "        b_n = p1\n",
    "\n",
    "\n",
    "        for j in range(1, i + 1):\n",
    "            b_gen_view += f'-\\\\frac{{({task_symbol}_{i + 1};b_{j})}}{{(b_{j};b_{j})}}b_{j}'\n",
    "        print_eq(b_gen_view)    \n",
    "\n",
    "        for j in range(1, i + 1):\n",
    "            \n",
    "            print_eq(f'(f_{{{i + 1}}};b_{j})', f_solving(exprs[i], b[j - 1]), f(exprs[i], b[j - 1]))\n",
    "            p_n = Rational(\n",
    "                f(exprs[i], b[j - 1]),\n",
    "                f(b[j - 1], b[j - 1])\n",
    "            )\n",
    "\n",
    "            b_solved_view += '-' + f\"({latex(p_n)})\"\n",
    "            b_solved_view += r'\\cdot ' + f'({latex(b[j - 1])})'\n",
    "            p_n = p_n * b[j - 1]\n",
    "            b_n = b_n - p_n\n",
    "            \n",
    "        print_eq(f'(b_{{{j}}};b_{j})', f_solving(b[j - 1], b[j - 1]), f(exprs[j - 1], b[j - 1]))\n",
    "        \n",
    "        b_solved_view += '=' + latex(b_n)\n",
    "\n",
    "        b.append(b_n)\n",
    "\n",
    "        print_eq(b_solved_view)\n",
    "\n",
    "        print('Проверка:')\n",
    "        for j in range(i):\n",
    "            print_eq(f'(b_{{{j + 1}}};b_{i + 1})', f(b[j], b[i]))\n",
    "        \n",
    "    b_b_sqrts = []\n",
    "    for i in range(len(b)):\n",
    "        b_b_sqrt = sqrt(f(b[i], b[i]))\n",
    "        b_b_sqrts.append(b_b_sqrt)\n",
    "        print_eq(f'|b_{{{i + 1}}}|', b_b_sqrt)\n",
    "\n",
    "    for i in range(len(b)):\n",
    "        h = b[i] / b_b_sqrts[i]\n",
    "        print_eq(f'|h_{{{i + 1}}}|', expand(h))\n",
    "        \n",
    "task_symbol_a = Symbol('f')\n",
    "task_symbol_b = Symbol('g')\n",
    "\n",
    "t = Symbol('t')"
   ]
  },
  {
   "cell_type": "markdown",
   "id": "6f4194fb",
   "metadata": {},
   "source": [
    "# Задание 1"
   ]
  },
  {
   "cell_type": "markdown",
   "id": "98a9154d",
   "metadata": {},
   "source": [
    "###### Настройка для второго задания"
   ]
  },
  {
   "cell_type": "code",
   "execution_count": 23,
   "id": "19d59066",
   "metadata": {},
   "outputs": [],
   "source": [
    "f_1 = np.dot\n",
    "\n",
    "def f_1_solving(x, y):\n",
    "    return \"+\".join([f\"{e1}\\cdot {e2}\" for e1, e2 in zip(x, y)])"
   ]
  },
  {
   "cell_type": "markdown",
   "id": "e16e911f",
   "metadata": {},
   "source": [
    "\n",
    "## Вставьте сюда свои значения"
   ]
  },
  {
   "cell_type": "code",
   "execution_count": 48,
   "id": "6bd05ef7",
   "metadata": {
    "scrolled": false
   },
   "outputs": [
    {
     "data": {
      "text/latex": [
       "$$ \\bar b_{1} = \\bar a_1$$"
      ],
      "text/plain": [
       "<IPython.core.display.Latex object>"
      ]
     },
     "metadata": {},
     "output_type": "display_data"
    },
    {
     "data": {
      "text/latex": [
       "$$ \\bar b_2=\\bar a_2-\\frac{(\\bar a_2;\\bar b_1)}{(\\bar b_1;\\bar b_1)}\\bar b_1 $$"
      ],
      "text/plain": [
       "<IPython.core.display.Latex object>"
      ]
     },
     "metadata": {},
     "output_type": "display_data"
    },
    {
     "data": {
      "text/latex": [
       "$$ (\\bar a_{2};\\bar b_1) = 1\\cdot 2+1\\cdot 1+3\\cdot 1+-2\\cdot 1= \\mathtt{\\text{4}}$$"
      ],
      "text/plain": [
       "<IPython.core.display.Latex object>"
      ]
     },
     "metadata": {},
     "output_type": "display_data"
    },
    {
     "data": {
      "text/latex": [
       "$$ (\\bar b_{1};\\bar b_1) = 2\\cdot 2+1\\cdot 1+1\\cdot 1+1\\cdot 1= \\mathtt{\\text{7}}$$"
      ],
      "text/plain": [
       "<IPython.core.display.Latex object>"
      ]
     },
     "metadata": {},
     "output_type": "display_data"
    },
    {
     "data": {
      "text/latex": [
       "$$ \\bar b_2=\\begin{pmatrix}1\\\\1\\\\3\\\\-2\\end{pmatrix}-\\frac{4}{7}\\cdot\\begin{pmatrix}2\\\\1\\\\1\\\\1\\end{pmatrix}=\\begin{pmatrix}- \\frac{1}{7}\\\\\\frac{3}{7}\\\\\\frac{17}{7}\\\\- \\frac{18}{7}\\end{pmatrix} $$"
      ],
      "text/plain": [
       "<IPython.core.display.Latex object>"
      ]
     },
     "metadata": {},
     "output_type": "display_data"
    },
    {
     "data": {
      "text/latex": [
       "$$ \\bar b_{2} = \\begin{pmatrix}-1\\\\3\\\\17\\\\-18\\end{pmatrix}$$"
      ],
      "text/plain": [
       "<IPython.core.display.Latex object>"
      ]
     },
     "metadata": {},
     "output_type": "display_data"
    },
    {
     "name": "stdout",
     "output_type": "stream",
     "text": [
      "Проверка:\n"
     ]
    },
    {
     "data": {
      "text/latex": [
       "$$ (\\bar b_{1};\\bar b_2) = 0$$"
      ],
      "text/plain": [
       "<IPython.core.display.Latex object>"
      ]
     },
     "metadata": {},
     "output_type": "display_data"
    },
    {
     "data": {
      "text/latex": [
       "$$ \\bar b_3=\\bar a_3-\\frac{(\\bar a_3;\\bar b_1)}{(\\bar b_1;\\bar b_1)}\\bar b_1-\\frac{(\\bar a_3;\\bar b_2)}{(\\bar b_2;\\bar b_2)}\\bar b_2 $$"
      ],
      "text/plain": [
       "<IPython.core.display.Latex object>"
      ]
     },
     "metadata": {},
     "output_type": "display_data"
    },
    {
     "data": {
      "text/latex": [
       "$$ (\\bar a_{3};\\bar b_1) = 0\\cdot 2+-1\\cdot 1+-5\\cdot 1+3\\cdot 1= \\mathtt{\\text{-3}}$$"
      ],
      "text/plain": [
       "<IPython.core.display.Latex object>"
      ]
     },
     "metadata": {},
     "output_type": "display_data"
    },
    {
     "data": {
      "text/latex": [
       "$$ (\\bar a_{3};\\bar b_2) = 0\\cdot -1+-1\\cdot 3+-5\\cdot 17+3\\cdot -18= -142$$"
      ],
      "text/plain": [
       "<IPython.core.display.Latex object>"
      ]
     },
     "metadata": {},
     "output_type": "display_data"
    },
    {
     "data": {
      "text/latex": [
       "$$ (\\bar b_{2};\\bar b_2) = 1\\cdot -1+1\\cdot 3+3\\cdot 17+-2\\cdot -18= 89$$"
      ],
      "text/plain": [
       "<IPython.core.display.Latex object>"
      ]
     },
     "metadata": {},
     "output_type": "display_data"
    },
    {
     "data": {
      "text/latex": [
       "$$ \\bar b_3=\\begin{pmatrix}0\\\\-1\\\\-5\\\\3\\end{pmatrix}-- \\frac{3}{7}\\cdot\\begin{pmatrix}2\\\\1\\\\1\\\\1\\end{pmatrix}-- \\frac{142}{623}\\cdot\\begin{pmatrix}-1\\\\3\\\\17\\\\-18\\end{pmatrix}=\\begin{pmatrix}\\frac{56}{89}\\\\\\frac{10}{89}\\\\- \\frac{62}{89}\\\\- \\frac{60}{89}\\end{pmatrix} $$"
      ],
      "text/plain": [
       "<IPython.core.display.Latex object>"
      ]
     },
     "metadata": {},
     "output_type": "display_data"
    },
    {
     "data": {
      "text/latex": [
       "$$ \\bar b_{3} = \\begin{pmatrix}28\\\\5\\\\-31\\\\-30\\end{pmatrix}$$"
      ],
      "text/plain": [
       "<IPython.core.display.Latex object>"
      ]
     },
     "metadata": {},
     "output_type": "display_data"
    },
    {
     "name": "stdout",
     "output_type": "stream",
     "text": [
      "Проверка:\n"
     ]
    },
    {
     "data": {
      "text/latex": [
       "$$ (\\bar b_{1};\\bar b_3) = 0$$"
      ],
      "text/plain": [
       "<IPython.core.display.Latex object>"
      ]
     },
     "metadata": {},
     "output_type": "display_data"
    },
    {
     "data": {
      "text/latex": [
       "$$ (\\bar b_{2};\\bar b_3) = 0$$"
      ],
      "text/plain": [
       "<IPython.core.display.Latex object>"
      ]
     },
     "metadata": {},
     "output_type": "display_data"
    },
    {
     "data": {
      "text/latex": [
       "$$ \\bar b_4=\\bar a_4-\\frac{(\\bar a_4;\\bar b_1)}{(\\bar b_1;\\bar b_1)}\\bar b_1-\\frac{(\\bar a_4;\\bar b_2)}{(\\bar b_2;\\bar b_2)}\\bar b_2-\\frac{(\\bar a_4;\\bar b_3)}{(\\bar b_3;\\bar b_3)}\\bar b_3 $$"
      ],
      "text/plain": [
       "<IPython.core.display.Latex object>"
      ]
     },
     "metadata": {},
     "output_type": "display_data"
    },
    {
     "data": {
      "text/latex": [
       "$$ (\\bar a_{4};\\bar b_1) = 3\\cdot 2+1\\cdot 1+-1\\cdot 1+0\\cdot 1= \\mathtt{\\text{6}}$$"
      ],
      "text/plain": [
       "<IPython.core.display.Latex object>"
      ]
     },
     "metadata": {},
     "output_type": "display_data"
    },
    {
     "data": {
      "text/latex": [
       "$$ (\\bar a_{4};\\bar b_2) = 3\\cdot -1+1\\cdot 3+-1\\cdot 17+0\\cdot -18= -17$$"
      ],
      "text/plain": [
       "<IPython.core.display.Latex object>"
      ]
     },
     "metadata": {},
     "output_type": "display_data"
    },
    {
     "data": {
      "text/latex": [
       "$$ (\\bar a_{4};\\bar b_3) = 3\\cdot 28+1\\cdot 5+-1\\cdot -31+0\\cdot -30= 120$$"
      ],
      "text/plain": [
       "<IPython.core.display.Latex object>"
      ]
     },
     "metadata": {},
     "output_type": "display_data"
    },
    {
     "data": {
      "text/latex": [
       "$$ (\\bar b_{3};\\bar b_3) = 0\\cdot 28+-1\\cdot 5+-5\\cdot -31+3\\cdot -30= 60$$"
      ],
      "text/plain": [
       "<IPython.core.display.Latex object>"
      ]
     },
     "metadata": {},
     "output_type": "display_data"
    },
    {
     "data": {
      "text/latex": [
       "$$ \\bar b_4=\\begin{pmatrix}3\\\\1\\\\-1\\\\0\\end{pmatrix}-\\frac{6}{7}\\cdot\\begin{pmatrix}2\\\\1\\\\1\\\\1\\end{pmatrix}-- \\frac{17}{623}\\cdot\\begin{pmatrix}-1\\\\3\\\\17\\\\-18\\end{pmatrix}-\\frac{4}{89}\\cdot\\begin{pmatrix}28\\\\5\\\\-31\\\\-30\\end{pmatrix}=\\begin{pmatrix}0\\\\0\\\\0\\\\0\\end{pmatrix} $$"
      ],
      "text/plain": [
       "<IPython.core.display.Latex object>"
      ]
     },
     "metadata": {},
     "output_type": "display_data"
    },
    {
     "data": {
      "text/latex": [
       "$$ \\bar b_{4} = \\begin{pmatrix}0\\\\0\\\\0\\\\0\\end{pmatrix}$$"
      ],
      "text/plain": [
       "<IPython.core.display.Latex object>"
      ]
     },
     "metadata": {},
     "output_type": "display_data"
    },
    {
     "name": "stdout",
     "output_type": "stream",
     "text": [
      "Проверка:\n"
     ]
    },
    {
     "data": {
      "text/latex": [
       "$$ (\\bar b_{1};\\bar b_4) = 0$$"
      ],
      "text/plain": [
       "<IPython.core.display.Latex object>"
      ]
     },
     "metadata": {},
     "output_type": "display_data"
    },
    {
     "data": {
      "text/latex": [
       "$$ (\\bar b_{2};\\bar b_4) = 0$$"
      ],
      "text/plain": [
       "<IPython.core.display.Latex object>"
      ]
     },
     "metadata": {},
     "output_type": "display_data"
    },
    {
     "data": {
      "text/latex": [
       "$$ (\\bar b_{3};\\bar b_4) = 0$$"
      ],
      "text/plain": [
       "<IPython.core.display.Latex object>"
      ]
     },
     "metadata": {},
     "output_type": "display_data"
    },
    {
     "data": {
      "text/latex": [
       "$$ |\\bar b_{1}| = \\sqrt{7}$$"
      ],
      "text/plain": [
       "<IPython.core.display.Latex object>"
      ]
     },
     "metadata": {},
     "output_type": "display_data"
    },
    {
     "data": {
      "text/latex": [
       "$$ |\\bar b_{2}| = \\sqrt{623}$$"
      ],
      "text/plain": [
       "<IPython.core.display.Latex object>"
      ]
     },
     "metadata": {},
     "output_type": "display_data"
    },
    {
     "data": {
      "text/latex": [
       "$$ |\\bar b_{3}| = \\sqrt{2670}$$"
      ],
      "text/plain": [
       "<IPython.core.display.Latex object>"
      ]
     },
     "metadata": {},
     "output_type": "display_data"
    },
    {
     "data": {
      "text/latex": [
       "$$ |\\bar b_{4}| = 0$$"
      ],
      "text/plain": [
       "<IPython.core.display.Latex object>"
      ]
     },
     "metadata": {},
     "output_type": "display_data"
    },
    {
     "data": {
      "text/latex": [
       "$$ |\\bar h_{1}| = \\begin{pmatrix}\\frac{2 \\sqrt{7}}{7}\\\\\\frac{\\sqrt{7}}{7}\\\\\\frac{\\sqrt{7}}{7}\\\\\\frac{\\sqrt{7}}{7}\\end{pmatrix}$$"
      ],
      "text/plain": [
       "<IPython.core.display.Latex object>"
      ]
     },
     "metadata": {},
     "output_type": "display_data"
    },
    {
     "data": {
      "text/latex": [
       "$$ |\\bar h_{2}| = \\begin{pmatrix}- \\frac{\\sqrt{623}}{623}\\\\\\frac{3 \\sqrt{623}}{623}\\\\\\frac{17 \\sqrt{623}}{623}\\\\- \\frac{18 \\sqrt{623}}{623}\\end{pmatrix}$$"
      ],
      "text/plain": [
       "<IPython.core.display.Latex object>"
      ]
     },
     "metadata": {},
     "output_type": "display_data"
    },
    {
     "data": {
      "text/latex": [
       "$$ |\\bar h_{3}| = \\begin{pmatrix}\\frac{14 \\sqrt{2670}}{1335}\\\\\\frac{\\sqrt{2670}}{534}\\\\- \\frac{31 \\sqrt{2670}}{2670}\\\\- \\frac{\\sqrt{2670}}{89}\\end{pmatrix}$$"
      ],
      "text/plain": [
       "<IPython.core.display.Latex object>"
      ]
     },
     "metadata": {},
     "output_type": "display_data"
    },
    {
     "data": {
      "text/latex": [
       "$$ |\\bar h_{4}| = \\begin{pmatrix}0\\\\0\\\\0\\\\0\\end{pmatrix}$$"
      ],
      "text/plain": [
       "<IPython.core.display.Latex object>"
      ]
     },
     "metadata": {},
     "output_type": "display_data"
    }
   ],
   "source": [
    "a = [\n",
    "    [2, 1, 1, 1],\n",
    "    [1, 1, 3, -2],\n",
    "    [0, -1, -5, 3],\n",
    "    [3, 1, -1, 0]\n",
    "]\n",
    "\n",
    "task_vectors(a, f_1, f_1_solving)"
   ]
  },
  {
   "cell_type": "markdown",
   "id": "d1637946",
   "metadata": {},
   "source": [
    "# Задание 2"
   ]
  },
  {
   "cell_type": "markdown",
   "id": "a4e95649",
   "metadata": {},
   "source": [
    "###### Настройка для второго задания"
   ]
  },
  {
   "cell_type": "code",
   "execution_count": 8,
   "id": "3d5a7e47",
   "metadata": {},
   "outputs": [],
   "source": [
    "integral_from = 1\n",
    "integral_to = -1"
   ]
  },
  {
   "cell_type": "code",
   "execution_count": 9,
   "id": "af76fb4d",
   "metadata": {},
   "outputs": [],
   "source": [
    "def f_2(x, y): # результирующая функция\n",
    "    return Integral(x * y, (t, integral_to, integral_from)).doit()\n",
    "\n",
    "def f_2_solving(x, y): # возвращает latex решения\n",
    "    result = \"\"\n",
    "    result += latex(Integral(x * y, (t, integral_to, integral_from))) + \"=\"\n",
    "    result += latex(Integral(x * y, (t,)).doit()) + f\"\\\\bigg |_{{{integral_to}}}^{{{integral_from}}}\"\n",
    "    return result"
   ]
  },
  {
   "cell_type": "code",
   "execution_count": 10,
   "id": "0553fd18",
   "metadata": {},
   "outputs": [
    {
     "data": {
      "text/latex": [
       "$$ (f(x);g(x))=\\int_{-1}^{1} (f(x);g(x)) \\,dx $$"
      ],
      "text/plain": [
       "<IPython.core.display.Latex object>"
      ]
     },
     "metadata": {},
     "output_type": "display_data"
    }
   ],
   "source": [
    "print_eq(f'(f(x);g(x))=\\int_{{{integral_to}}}^{{{integral_from}}} (f(x);g(x)) \\,dx')"
   ]
  },
  {
   "cell_type": "markdown",
   "id": "5e0e3729",
   "metadata": {},
   "source": [
    "## a)"
   ]
  },
  {
   "cell_type": "markdown",
   "id": "5a4074bc",
   "metadata": {},
   "source": [
    "### Вставьте свои значения сюда"
   ]
  },
  {
   "cell_type": "code",
   "execution_count": 49,
   "id": "a260737b",
   "metadata": {},
   "outputs": [
    {
     "data": {
      "text/latex": [
       "$$ f_{1} = 2 t^{2} + 4 t + 1$$"
      ],
      "text/plain": [
       "<IPython.core.display.Latex object>"
      ]
     },
     "metadata": {},
     "output_type": "display_data"
    },
    {
     "data": {
      "text/latex": [
       "$$ f_{2} = t^{2} + t + 1$$"
      ],
      "text/plain": [
       "<IPython.core.display.Latex object>"
      ]
     },
     "metadata": {},
     "output_type": "display_data"
    },
    {
     "data": {
      "text/latex": [
       "$$ f_{3} = 2 t^{2} + 3 t + 1$$"
      ],
      "text/plain": [
       "<IPython.core.display.Latex object>"
      ]
     },
     "metadata": {},
     "output_type": "display_data"
    },
    {
     "data": {
      "text/latex": [
       "$$ b_{1} = f_1$$"
      ],
      "text/plain": [
       "<IPython.core.display.Latex object>"
      ]
     },
     "metadata": {},
     "output_type": "display_data"
    },
    {
     "data": {
      "text/latex": [
       "$$ b_2=f_2-\\frac{(f_2;b_1)}{(b_1;b_1)}b_1 $$"
      ],
      "text/plain": [
       "<IPython.core.display.Latex object>"
      ]
     },
     "metadata": {},
     "output_type": "display_data"
    },
    {
     "data": {
      "text/latex": [
       "$$ (f_{2};b_1) = \\int\\limits_{-1}^{1} \\left(t^{2} + t + 1\\right) \\left(2 t^{2} + 4 t + 1\\right)\\, dt=\\frac{2 t^{5}}{5} + \\frac{3 t^{4}}{2} + \\frac{7 t^{3}}{3} + \\frac{5 t^{2}}{2} + t\\bigg |_{-1}^{1}= \\frac{112}{15}$$"
      ],
      "text/plain": [
       "<IPython.core.display.Latex object>"
      ]
     },
     "metadata": {},
     "output_type": "display_data"
    },
    {
     "data": {
      "text/latex": [
       "$$ (b_{1};b_1) = \\int\\limits_{-1}^{1} \\left(2 t^{2} + 4 t + 1\\right)^{2}\\, dt=\\frac{4 t^{5}}{5} + 4 t^{4} + \\frac{20 t^{3}}{3} + 4 t^{2} + t\\bigg |_{-1}^{1}= \\frac{254}{15}$$"
      ],
      "text/plain": [
       "<IPython.core.display.Latex object>"
      ]
     },
     "metadata": {},
     "output_type": "display_data"
    },
    {
     "data": {
      "text/latex": [
       "$$ b_2=(t^{2} + t + 1)-(\\frac{56}{127})\\cdot (2 t^{2} + 4 t + 1)=\\frac{15 t^{2}}{127} - \\frac{97 t}{127} + \\frac{71}{127} $$"
      ],
      "text/plain": [
       "<IPython.core.display.Latex object>"
      ]
     },
     "metadata": {},
     "output_type": "display_data"
    },
    {
     "name": "stdout",
     "output_type": "stream",
     "text": [
      "Проверка:\n"
     ]
    },
    {
     "data": {
      "text/latex": [
       "$$ (b_{1};b_2) = 0$$"
      ],
      "text/plain": [
       "<IPython.core.display.Latex object>"
      ]
     },
     "metadata": {},
     "output_type": "display_data"
    },
    {
     "data": {
      "text/latex": [
       "$$ b_3=f_3-\\frac{(f_3;b_1)}{(b_1;b_1)}b_1-\\frac{(f_3;b_2)}{(b_2;b_2)}b_2 $$"
      ],
      "text/plain": [
       "<IPython.core.display.Latex object>"
      ]
     },
     "metadata": {},
     "output_type": "display_data"
    },
    {
     "data": {
      "text/latex": [
       "$$ (f_{3};b_1) = \\int\\limits_{-1}^{1} \\left(2 t^{2} + 3 t + 1\\right) \\left(2 t^{2} + 4 t + 1\\right)\\, dt=\\frac{4 t^{5}}{5} + \\frac{7 t^{4}}{2} + \\frac{16 t^{3}}{3} + \\frac{7 t^{2}}{2} + t\\bigg |_{-1}^{1}= \\frac{214}{15}$$"
      ],
      "text/plain": [
       "<IPython.core.display.Latex object>"
      ]
     },
     "metadata": {},
     "output_type": "display_data"
    },
    {
     "data": {
      "text/latex": [
       "$$ (f_{3};b_2) = \\int\\limits_{-1}^{1} \\left(\\frac{15 t^{2}}{127} - \\frac{97 t}{127} + \\frac{71}{127}\\right) \\left(2 t^{2} + 3 t + 1\\right)\\, dt=\\frac{6 t^{5}}{127} - \\frac{149 t^{4}}{508} - \\frac{134 t^{3}}{381} + \\frac{58 t^{2}}{127} + \\frac{71 t}{127}\\bigg |_{-1}^{1}= \\frac{194}{381}$$"
      ],
      "text/plain": [
       "<IPython.core.display.Latex object>"
      ]
     },
     "metadata": {},
     "output_type": "display_data"
    },
    {
     "data": {
      "text/latex": [
       "$$ (b_{2};b_2) = \\int\\limits_{-1}^{1} \\left(\\frac{15 t^{2}}{127} - \\frac{97 t}{127} + \\frac{71}{127}\\right)^{2}\\, dt=\\frac{45 t^{5}}{16129} - \\frac{1455 t^{4}}{32258} + \\frac{11539 t^{3}}{48387} - \\frac{6887 t^{2}}{16129} + \\frac{5041 t}{16129}\\bigg |_{-1}^{1}= \\frac{422}{381}$$"
      ],
      "text/plain": [
       "<IPython.core.display.Latex object>"
      ]
     },
     "metadata": {},
     "output_type": "display_data"
    },
    {
     "data": {
      "text/latex": [
       "$$ b_3=(2 t^{2} + 3 t + 1)-(\\frac{107}{127})\\cdot (2 t^{2} + 4 t + 1)-(\\frac{97}{211})\\cdot (\\frac{15 t^{2}}{127} - \\frac{97 t}{127} + \\frac{71}{127})=\\frac{55 t^{2}}{211} - \\frac{4 t}{211} - \\frac{21}{211} $$"
      ],
      "text/plain": [
       "<IPython.core.display.Latex object>"
      ]
     },
     "metadata": {},
     "output_type": "display_data"
    },
    {
     "name": "stdout",
     "output_type": "stream",
     "text": [
      "Проверка:\n"
     ]
    },
    {
     "data": {
      "text/latex": [
       "$$ (b_{1};b_3) = 0$$"
      ],
      "text/plain": [
       "<IPython.core.display.Latex object>"
      ]
     },
     "metadata": {},
     "output_type": "display_data"
    },
    {
     "data": {
      "text/latex": [
       "$$ (b_{2};b_3) = 0$$"
      ],
      "text/plain": [
       "<IPython.core.display.Latex object>"
      ]
     },
     "metadata": {},
     "output_type": "display_data"
    },
    {
     "data": {
      "text/latex": [
       "$$ |b_{1}| = \\frac{\\sqrt{3810}}{15}$$"
      ],
      "text/plain": [
       "<IPython.core.display.Latex object>"
      ]
     },
     "metadata": {},
     "output_type": "display_data"
    },
    {
     "data": {
      "text/latex": [
       "$$ |b_{2}| = \\frac{\\sqrt{160782}}{381}$$"
      ],
      "text/plain": [
       "<IPython.core.display.Latex object>"
      ]
     },
     "metadata": {},
     "output_type": "display_data"
    },
    {
     "data": {
      "text/latex": [
       "$$ |b_{3}| = \\frac{2 \\sqrt{1266}}{633}$$"
      ],
      "text/plain": [
       "<IPython.core.display.Latex object>"
      ]
     },
     "metadata": {},
     "output_type": "display_data"
    },
    {
     "data": {
      "text/latex": [
       "$$ |h_{1}| = \\frac{\\sqrt{3810} t^{2}}{127} + \\frac{2 \\sqrt{3810} t}{127} + \\frac{\\sqrt{3810}}{254}$$"
      ],
      "text/plain": [
       "<IPython.core.display.Latex object>"
      ]
     },
     "metadata": {},
     "output_type": "display_data"
    },
    {
     "data": {
      "text/latex": [
       "$$ |h_{2}| = \\frac{15 \\sqrt{160782} t^{2}}{53594} - \\frac{97 \\sqrt{160782} t}{53594} + \\frac{71 \\sqrt{160782}}{53594}$$"
      ],
      "text/plain": [
       "<IPython.core.display.Latex object>"
      ]
     },
     "metadata": {},
     "output_type": "display_data"
    },
    {
     "data": {
      "text/latex": [
       "$$ |h_{3}| = \\frac{55 \\sqrt{1266} t^{2}}{844} - \\frac{\\sqrt{1266} t}{211} - \\frac{21 \\sqrt{1266}}{844}$$"
      ],
      "text/plain": [
       "<IPython.core.display.Latex object>"
      ]
     },
     "metadata": {},
     "output_type": "display_data"
    }
   ],
   "source": [
    "exprs_2a = [\n",
    "    1 + 4 * t + 2 * t ** 2,\n",
    "    1 + 1 * t + 1 * t ** 2,\n",
    "    1 + 3 * t + 2 * t ** 2,\n",
    "]\n",
    "\n",
    "task(exprs_2a, f_2, f_2_solving, task_symbol_a)"
   ]
  },
  {
   "cell_type": "markdown",
   "id": "277d921f",
   "metadata": {},
   "source": [
    "## б)"
   ]
  },
  {
   "cell_type": "markdown",
   "id": "13647144",
   "metadata": {},
   "source": [
    "### Вставьте свои значения сюда"
   ]
  },
  {
   "cell_type": "code",
   "execution_count": 12,
   "id": "b03cd33e",
   "metadata": {},
   "outputs": [
    {
     "data": {
      "text/latex": [
       "$$ g_{1} = 1 - t^{2}$$"
      ],
      "text/plain": [
       "<IPython.core.display.Latex object>"
      ]
     },
     "metadata": {},
     "output_type": "display_data"
    },
    {
     "data": {
      "text/latex": [
       "$$ g_{2} = 3 t^{2} + t + 2$$"
      ],
      "text/plain": [
       "<IPython.core.display.Latex object>"
      ]
     },
     "metadata": {},
     "output_type": "display_data"
    },
    {
     "data": {
      "text/latex": [
       "$$ g_{3} = t^{2} + t + 3$$"
      ],
      "text/plain": [
       "<IPython.core.display.Latex object>"
      ]
     },
     "metadata": {},
     "output_type": "display_data"
    },
    {
     "data": {
      "text/latex": [
       "$$ b_{1} = g_1$$"
      ],
      "text/plain": [
       "<IPython.core.display.Latex object>"
      ]
     },
     "metadata": {},
     "output_type": "display_data"
    },
    {
     "data": {
      "text/latex": [
       "$$ b_2=g_2-\\frac{(g_2;b_1)}{(b_1;b_1)}b_1 $$"
      ],
      "text/plain": [
       "<IPython.core.display.Latex object>"
      ]
     },
     "metadata": {},
     "output_type": "display_data"
    },
    {
     "data": {
      "text/latex": [
       "$$ (f_{2};b_1) = \\int\\limits_{-1}^{1} \\left(1 - t^{2}\\right) \\left(3 t^{2} + t + 2\\right)\\, dt=- \\frac{3 t^{5}}{5} - \\frac{t^{4}}{4} + \\frac{t^{3}}{3} + \\frac{t^{2}}{2} + 2 t\\bigg |_{-1}^{1}= \\frac{52}{15}$$"
      ],
      "text/plain": [
       "<IPython.core.display.Latex object>"
      ]
     },
     "metadata": {},
     "output_type": "display_data"
    },
    {
     "data": {
      "text/latex": [
       "$$ (b_{1};b_1) = \\int\\limits_{-1}^{1} \\left(1 - t^{2}\\right)^{2}\\, dt=\\frac{t^{5}}{5} - \\frac{2 t^{3}}{3} + t\\bigg |_{-1}^{1}= \\frac{16}{15}$$"
      ],
      "text/plain": [
       "<IPython.core.display.Latex object>"
      ]
     },
     "metadata": {},
     "output_type": "display_data"
    },
    {
     "data": {
      "text/latex": [
       "$$ b_2=(3 t^{2} + t + 2)-\\frac{13}{4}\\cdot (1 - t^{2})=\\frac{25 t^{2}}{4} + t - \\frac{5}{4} $$"
      ],
      "text/plain": [
       "<IPython.core.display.Latex object>"
      ]
     },
     "metadata": {},
     "output_type": "display_data"
    },
    {
     "name": "stdout",
     "output_type": "stream",
     "text": [
      "Проверка:\n"
     ]
    },
    {
     "data": {
      "text/latex": [
       "$$ (b_{1};b_2) = 0$$"
      ],
      "text/plain": [
       "<IPython.core.display.Latex object>"
      ]
     },
     "metadata": {},
     "output_type": "display_data"
    },
    {
     "data": {
      "text/latex": [
       "$$ b_3=g_3-\\frac{(g_3;b_1)}{(b_1;b_1)}b_1-\\frac{(g_3;b_2)}{(b_2;b_2)}b_2 $$"
      ],
      "text/plain": [
       "<IPython.core.display.Latex object>"
      ]
     },
     "metadata": {},
     "output_type": "display_data"
    },
    {
     "data": {
      "text/latex": [
       "$$ (f_{3};b_1) = \\int\\limits_{-1}^{1} \\left(1 - t^{2}\\right) \\left(t^{2} + t + 3\\right)\\, dt=- \\frac{t^{5}}{5} - \\frac{t^{4}}{4} - \\frac{2 t^{3}}{3} + \\frac{t^{2}}{2} + 3 t\\bigg |_{-1}^{1}= \\frac{64}{15}$$"
      ],
      "text/plain": [
       "<IPython.core.display.Latex object>"
      ]
     },
     "metadata": {},
     "output_type": "display_data"
    },
    {
     "data": {
      "text/latex": [
       "$$ (b_{1};b_1) = \\int\\limits_{-1}^{1} \\left(1 - t^{2}\\right)^{2}\\, dt=\\frac{t^{5}}{5} - \\frac{2 t^{3}}{3} + t\\bigg |_{-1}^{1}= \\frac{16}{15}$$"
      ],
      "text/plain": [
       "<IPython.core.display.Latex object>"
      ]
     },
     "metadata": {},
     "output_type": "display_data"
    },
    {
     "data": {
      "text/latex": [
       "$$ (f_{3};b_2) = \\int\\limits_{-1}^{1} \\left(t^{2} + t + 3\\right) \\left(\\frac{25 t^{2}}{4} + t - \\frac{5}{4}\\right)\\, dt=\\frac{5 t^{5}}{4} + \\frac{29 t^{4}}{16} + \\frac{37 t^{3}}{6} + \\frac{7 t^{2}}{8} - \\frac{15 t}{4}\\bigg |_{-1}^{1}= \\frac{22}{3}$$"
      ],
      "text/plain": [
       "<IPython.core.display.Latex object>"
      ]
     },
     "metadata": {},
     "output_type": "display_data"
    },
    {
     "data": {
      "text/latex": [
       "$$ (b_{2};b_2) = \\int\\limits_{-1}^{1} \\left(\\frac{25 t^{2}}{4} + t - \\frac{5}{4}\\right)^{2}\\, dt=\\frac{125 t^{5}}{16} + \\frac{25 t^{4}}{8} - \\frac{39 t^{3}}{8} - \\frac{5 t^{2}}{4} + \\frac{25 t}{16}\\bigg |_{-1}^{1}= 9$$"
      ],
      "text/plain": [
       "<IPython.core.display.Latex object>"
      ]
     },
     "metadata": {},
     "output_type": "display_data"
    },
    {
     "data": {
      "text/latex": [
       "$$ b_3=(t^{2} + t + 3)-4\\cdot (1 - t^{2})-\\frac{22}{27}\\cdot (\\frac{25 t^{2}}{4} + t - \\frac{5}{4})=- \\frac{5 t^{2}}{54} + \\frac{5 t}{27} + \\frac{1}{54} $$"
      ],
      "text/plain": [
       "<IPython.core.display.Latex object>"
      ]
     },
     "metadata": {},
     "output_type": "display_data"
    },
    {
     "name": "stdout",
     "output_type": "stream",
     "text": [
      "Проверка:\n"
     ]
    },
    {
     "data": {
      "text/latex": [
       "$$ (b_{1};b_3) = 0$$"
      ],
      "text/plain": [
       "<IPython.core.display.Latex object>"
      ]
     },
     "metadata": {},
     "output_type": "display_data"
    },
    {
     "data": {
      "text/latex": [
       "$$ (b_{2};b_3) = 0$$"
      ],
      "text/plain": [
       "<IPython.core.display.Latex object>"
      ]
     },
     "metadata": {},
     "output_type": "display_data"
    },
    {
     "data": {
      "text/latex": [
       "$$ |b_{1|} = \\frac{4 \\sqrt{15}}{15}$$"
      ],
      "text/plain": [
       "<IPython.core.display.Latex object>"
      ]
     },
     "metadata": {},
     "output_type": "display_data"
    },
    {
     "data": {
      "text/latex": [
       "$$ |b_{2|} = 3$$"
      ],
      "text/plain": [
       "<IPython.core.display.Latex object>"
      ]
     },
     "metadata": {},
     "output_type": "display_data"
    },
    {
     "data": {
      "text/latex": [
       "$$ |b_{3|} = \\frac{\\sqrt{2}}{9}$$"
      ],
      "text/plain": [
       "<IPython.core.display.Latex object>"
      ]
     },
     "metadata": {},
     "output_type": "display_data"
    },
    {
     "data": {
      "text/latex": [
       "$$ |h_{1}| = - \\frac{\\sqrt{15} t^{2}}{4} + \\frac{\\sqrt{15}}{4}$$"
      ],
      "text/plain": [
       "<IPython.core.display.Latex object>"
      ]
     },
     "metadata": {},
     "output_type": "display_data"
    },
    {
     "data": {
      "text/latex": [
       "$$ |h_{2}| = \\frac{25 t^{2}}{12} + \\frac{t}{3} - \\frac{5}{12}$$"
      ],
      "text/plain": [
       "<IPython.core.display.Latex object>"
      ]
     },
     "metadata": {},
     "output_type": "display_data"
    },
    {
     "data": {
      "text/latex": [
       "$$ |h_{3}| = - \\frac{5 \\sqrt{2} t^{2}}{12} + \\frac{5 \\sqrt{2} t}{6} + \\frac{\\sqrt{2}}{12}$$"
      ],
      "text/plain": [
       "<IPython.core.display.Latex object>"
      ]
     },
     "metadata": {},
     "output_type": "display_data"
    }
   ],
   "source": [
    "exprs_2b = [\n",
    "    1 - t ** 2,\n",
    "    2 + t + 3 * t ** 2,\n",
    "    3 + t + t ** 2\n",
    "]\n",
    "task(exprs_2b, f_2, f_2_solving, task_symbol_b)"
   ]
  },
  {
   "cell_type": "markdown",
   "id": "bcea4cbf",
   "metadata": {},
   "source": [
    "# Задание 3"
   ]
  },
  {
   "cell_type": "markdown",
   "id": "e7e41433",
   "metadata": {},
   "source": [
    "###### Настройка для задания"
   ]
  },
  {
   "cell_type": "code",
   "execution_count": 13,
   "id": "4383234e",
   "metadata": {},
   "outputs": [],
   "source": [
    "def f_3(x, y): # результирующая функция\n",
    "    result = 0\n",
    "    result += x.subs({t: -1}) * y.subs({t: -1})\n",
    "    result += x.subs({t: 0}) * y.subs({t: 0})\n",
    "    result += x.subs({t: 1}) * y.subs({t: 1})\n",
    "    return result\n",
    "\n",
    "def f_3_solving(x, y): # возвращает latex решения\n",
    "    result = \"\"\n",
    "    result += latex(x.subs({t: -1})) + r\"\\cdot\" + latex(y.subs({t: -1}))\n",
    "    result += \"+\" + latex(x.subs({t: 0})) + r\"\\cdot\" + latex(y.subs({t: 0}))\n",
    "    result += \"+\" + latex(x.subs({t: 1})) + r\"\\cdot\" + latex(y.subs({t: 1}))\n",
    "    return result"
   ]
  },
  {
   "cell_type": "code",
   "execution_count": 14,
   "id": "47fdf418",
   "metadata": {},
   "outputs": [
    {
     "data": {
      "text/latex": [
       "$$ (f(x);g(x))=f(-1) \\cdot g(-1) + f(0) \\cdot g(0) + f(1) \\cdot g(1) $$"
      ],
      "text/plain": [
       "<IPython.core.display.Latex object>"
      ]
     },
     "metadata": {},
     "output_type": "display_data"
    }
   ],
   "source": [
    "print_eq(f'(f(x);g(x))=f(-1) \\cdot g(-1) + f(0) \\cdot g(0) + f(1) \\cdot g(1)')"
   ]
  },
  {
   "cell_type": "markdown",
   "id": "f7158b33",
   "metadata": {},
   "source": [
    "## a)"
   ]
  },
  {
   "cell_type": "markdown",
   "id": "a4eaeff3",
   "metadata": {},
   "source": [
    "### Вставьте свои значения сюда"
   ]
  },
  {
   "cell_type": "code",
   "execution_count": 15,
   "id": "f4224d32",
   "metadata": {
    "scrolled": false
   },
   "outputs": [
    {
     "data": {
      "text/latex": [
       "$$ f_{1} = t^{2} + 3 t$$"
      ],
      "text/plain": [
       "<IPython.core.display.Latex object>"
      ]
     },
     "metadata": {},
     "output_type": "display_data"
    },
    {
     "data": {
      "text/latex": [
       "$$ f_{2} = 2 t^{2} + 3 t + 1$$"
      ],
      "text/plain": [
       "<IPython.core.display.Latex object>"
      ]
     },
     "metadata": {},
     "output_type": "display_data"
    },
    {
     "data": {
      "text/latex": [
       "$$ f_{3} = 3 t^{2} + 5 t + 1$$"
      ],
      "text/plain": [
       "<IPython.core.display.Latex object>"
      ]
     },
     "metadata": {},
     "output_type": "display_data"
    },
    {
     "data": {
      "text/latex": [
       "$$ b_{1} = f_1$$"
      ],
      "text/plain": [
       "<IPython.core.display.Latex object>"
      ]
     },
     "metadata": {},
     "output_type": "display_data"
    },
    {
     "data": {
      "text/latex": [
       "$$ b_2=f_2-\\frac{(f_2;b_1)}{(b_1;b_1)}b_1 $$"
      ],
      "text/plain": [
       "<IPython.core.display.Latex object>"
      ]
     },
     "metadata": {},
     "output_type": "display_data"
    },
    {
     "data": {
      "text/latex": [
       "$$ (f_{2};b_1) = 0\\cdot-2+1\\cdot0+6\\cdot4= 24$$"
      ],
      "text/plain": [
       "<IPython.core.display.Latex object>"
      ]
     },
     "metadata": {},
     "output_type": "display_data"
    },
    {
     "data": {
      "text/latex": [
       "$$ (b_{1};b_1) = -2\\cdot-2+0\\cdot0+4\\cdot4= 20$$"
      ],
      "text/plain": [
       "<IPython.core.display.Latex object>"
      ]
     },
     "metadata": {},
     "output_type": "display_data"
    },
    {
     "data": {
      "text/latex": [
       "$$ b_2=(2 t^{2} + 3 t + 1)-\\frac{6}{5}\\cdot (t^{2} + 3 t)=\\frac{4 t^{2}}{5} - \\frac{3 t}{5} + 1 $$"
      ],
      "text/plain": [
       "<IPython.core.display.Latex object>"
      ]
     },
     "metadata": {},
     "output_type": "display_data"
    },
    {
     "name": "stdout",
     "output_type": "stream",
     "text": [
      "Проверка:\n"
     ]
    },
    {
     "data": {
      "text/latex": [
       "$$ (b_{1};b_2) = 0$$"
      ],
      "text/plain": [
       "<IPython.core.display.Latex object>"
      ]
     },
     "metadata": {},
     "output_type": "display_data"
    },
    {
     "data": {
      "text/latex": [
       "$$ b_3=f_3-\\frac{(f_3;b_1)}{(b_1;b_1)}b_1-\\frac{(f_3;b_2)}{(b_2;b_2)}b_2 $$"
      ],
      "text/plain": [
       "<IPython.core.display.Latex object>"
      ]
     },
     "metadata": {},
     "output_type": "display_data"
    },
    {
     "data": {
      "text/latex": [
       "$$ (f_{3};b_1) = -1\\cdot-2+1\\cdot0+9\\cdot4= 38$$"
      ],
      "text/plain": [
       "<IPython.core.display.Latex object>"
      ]
     },
     "metadata": {},
     "output_type": "display_data"
    },
    {
     "data": {
      "text/latex": [
       "$$ (b_{1};b_1) = -2\\cdot-2+0\\cdot0+4\\cdot4= 20$$"
      ],
      "text/plain": [
       "<IPython.core.display.Latex object>"
      ]
     },
     "metadata": {},
     "output_type": "display_data"
    },
    {
     "data": {
      "text/latex": [
       "$$ (f_{3};b_2) = -1\\cdot\\frac{12}{5}+1\\cdot1+9\\cdot\\frac{6}{5}= \\frac{47}{5}$$"
      ],
      "text/plain": [
       "<IPython.core.display.Latex object>"
      ]
     },
     "metadata": {},
     "output_type": "display_data"
    },
    {
     "data": {
      "text/latex": [
       "$$ (b_{2};b_2) = \\frac{12}{5}\\cdot\\frac{12}{5}+1\\cdot1+\\frac{6}{5}\\cdot\\frac{6}{5}= \\frac{41}{5}$$"
      ],
      "text/plain": [
       "<IPython.core.display.Latex object>"
      ]
     },
     "metadata": {},
     "output_type": "display_data"
    },
    {
     "data": {
      "text/latex": [
       "$$ b_3=(3 t^{2} + 5 t + 1)-\\frac{19}{10}\\cdot (t^{2} + 3 t)-\\frac{47}{41}\\cdot (\\frac{4 t^{2}}{5} - \\frac{3 t}{5} + 1)=\\frac{15 t^{2}}{82} - \\frac{t}{82} - \\frac{6}{41} $$"
      ],
      "text/plain": [
       "<IPython.core.display.Latex object>"
      ]
     },
     "metadata": {},
     "output_type": "display_data"
    },
    {
     "name": "stdout",
     "output_type": "stream",
     "text": [
      "Проверка:\n"
     ]
    },
    {
     "data": {
      "text/latex": [
       "$$ (b_{1};b_3) = 0$$"
      ],
      "text/plain": [
       "<IPython.core.display.Latex object>"
      ]
     },
     "metadata": {},
     "output_type": "display_data"
    },
    {
     "data": {
      "text/latex": [
       "$$ (b_{2};b_3) = 0$$"
      ],
      "text/plain": [
       "<IPython.core.display.Latex object>"
      ]
     },
     "metadata": {},
     "output_type": "display_data"
    },
    {
     "data": {
      "text/latex": [
       "$$ |b_{1|} = 2 \\sqrt{5}$$"
      ],
      "text/plain": [
       "<IPython.core.display.Latex object>"
      ]
     },
     "metadata": {},
     "output_type": "display_data"
    },
    {
     "data": {
      "text/latex": [
       "$$ |b_{2|} = \\frac{\\sqrt{205}}{5}$$"
      ],
      "text/plain": [
       "<IPython.core.display.Latex object>"
      ]
     },
     "metadata": {},
     "output_type": "display_data"
    },
    {
     "data": {
      "text/latex": [
       "$$ |b_{3|} = \\frac{\\sqrt{41}}{41}$$"
      ],
      "text/plain": [
       "<IPython.core.display.Latex object>"
      ]
     },
     "metadata": {},
     "output_type": "display_data"
    },
    {
     "data": {
      "text/latex": [
       "$$ |h_{1}| = \\frac{\\sqrt{5} t^{2}}{10} + \\frac{3 \\sqrt{5} t}{10}$$"
      ],
      "text/plain": [
       "<IPython.core.display.Latex object>"
      ]
     },
     "metadata": {},
     "output_type": "display_data"
    },
    {
     "data": {
      "text/latex": [
       "$$ |h_{2}| = \\frac{4 \\sqrt{205} t^{2}}{205} - \\frac{3 \\sqrt{205} t}{205} + \\frac{\\sqrt{205}}{41}$$"
      ],
      "text/plain": [
       "<IPython.core.display.Latex object>"
      ]
     },
     "metadata": {},
     "output_type": "display_data"
    },
    {
     "data": {
      "text/latex": [
       "$$ |h_{3}| = \\frac{15 \\sqrt{41} t^{2}}{82} - \\frac{\\sqrt{41} t}{82} - \\frac{6 \\sqrt{41}}{41}$$"
      ],
      "text/plain": [
       "<IPython.core.display.Latex object>"
      ]
     },
     "metadata": {},
     "output_type": "display_data"
    }
   ],
   "source": [
    "exprs_3a = [\n",
    "    3 * t + t ** 2,\n",
    "    1 + 3 * t + 2 * t ** 2,\n",
    "    1 + 5 * t + 3 * t ** 2\n",
    "]\n",
    "\n",
    "task(exprs_3a, f_3, f_3_solving, task_symbol_a)"
   ]
  },
  {
   "cell_type": "markdown",
   "id": "1b4a1241",
   "metadata": {},
   "source": [
    "## б)"
   ]
  },
  {
   "cell_type": "markdown",
   "id": "ad512202",
   "metadata": {},
   "source": [
    "### Вставьте свои значения сюда"
   ]
  },
  {
   "cell_type": "code",
   "execution_count": 16,
   "id": "ec8c5b3f",
   "metadata": {},
   "outputs": [
    {
     "data": {
      "text/latex": [
       "$$ g_{1} = 1 - t^{2}$$"
      ],
      "text/plain": [
       "<IPython.core.display.Latex object>"
      ]
     },
     "metadata": {},
     "output_type": "display_data"
    },
    {
     "data": {
      "text/latex": [
       "$$ g_{2} = 3 t^{2} + t + 2$$"
      ],
      "text/plain": [
       "<IPython.core.display.Latex object>"
      ]
     },
     "metadata": {},
     "output_type": "display_data"
    },
    {
     "data": {
      "text/latex": [
       "$$ g_{3} = t^{2} + t + 3$$"
      ],
      "text/plain": [
       "<IPython.core.display.Latex object>"
      ]
     },
     "metadata": {},
     "output_type": "display_data"
    },
    {
     "data": {
      "text/latex": [
       "$$ b_{1} = g_1$$"
      ],
      "text/plain": [
       "<IPython.core.display.Latex object>"
      ]
     },
     "metadata": {},
     "output_type": "display_data"
    },
    {
     "data": {
      "text/latex": [
       "$$ b_2=g_2-\\frac{(g_2;b_1)}{(b_1;b_1)}b_1 $$"
      ],
      "text/plain": [
       "<IPython.core.display.Latex object>"
      ]
     },
     "metadata": {},
     "output_type": "display_data"
    },
    {
     "data": {
      "text/latex": [
       "$$ (f_{2};b_1) = 4\\cdot0+2\\cdot1+6\\cdot0= 2$$"
      ],
      "text/plain": [
       "<IPython.core.display.Latex object>"
      ]
     },
     "metadata": {},
     "output_type": "display_data"
    },
    {
     "data": {
      "text/latex": [
       "$$ (b_{1};b_1) = 0\\cdot0+1\\cdot1+0\\cdot0= 1$$"
      ],
      "text/plain": [
       "<IPython.core.display.Latex object>"
      ]
     },
     "metadata": {},
     "output_type": "display_data"
    },
    {
     "data": {
      "text/latex": [
       "$$ b_2=(3 t^{2} + t + 2)-2\\cdot (1 - t^{2})=5 t^{2} + t $$"
      ],
      "text/plain": [
       "<IPython.core.display.Latex object>"
      ]
     },
     "metadata": {},
     "output_type": "display_data"
    },
    {
     "name": "stdout",
     "output_type": "stream",
     "text": [
      "Проверка:\n"
     ]
    },
    {
     "data": {
      "text/latex": [
       "$$ (b_{1};b_2) = 0$$"
      ],
      "text/plain": [
       "<IPython.core.display.Latex object>"
      ]
     },
     "metadata": {},
     "output_type": "display_data"
    },
    {
     "data": {
      "text/latex": [
       "$$ b_3=g_3-\\frac{(g_3;b_1)}{(b_1;b_1)}b_1-\\frac{(g_3;b_2)}{(b_2;b_2)}b_2 $$"
      ],
      "text/plain": [
       "<IPython.core.display.Latex object>"
      ]
     },
     "metadata": {},
     "output_type": "display_data"
    },
    {
     "data": {
      "text/latex": [
       "$$ (f_{3};b_1) = 3\\cdot0+3\\cdot1+5\\cdot0= 3$$"
      ],
      "text/plain": [
       "<IPython.core.display.Latex object>"
      ]
     },
     "metadata": {},
     "output_type": "display_data"
    },
    {
     "data": {
      "text/latex": [
       "$$ (b_{1};b_1) = 0\\cdot0+1\\cdot1+0\\cdot0= 1$$"
      ],
      "text/plain": [
       "<IPython.core.display.Latex object>"
      ]
     },
     "metadata": {},
     "output_type": "display_data"
    },
    {
     "data": {
      "text/latex": [
       "$$ (f_{3};b_2) = 3\\cdot4+3\\cdot0+5\\cdot6= 42$$"
      ],
      "text/plain": [
       "<IPython.core.display.Latex object>"
      ]
     },
     "metadata": {},
     "output_type": "display_data"
    },
    {
     "data": {
      "text/latex": [
       "$$ (b_{2};b_2) = 4\\cdot4+0\\cdot0+6\\cdot6= 52$$"
      ],
      "text/plain": [
       "<IPython.core.display.Latex object>"
      ]
     },
     "metadata": {},
     "output_type": "display_data"
    },
    {
     "data": {
      "text/latex": [
       "$$ b_3=(t^{2} + t + 3)-3\\cdot (1 - t^{2})-\\frac{21}{26}\\cdot (5 t^{2} + t)=- \\frac{t^{2}}{26} + \\frac{5 t}{26} $$"
      ],
      "text/plain": [
       "<IPython.core.display.Latex object>"
      ]
     },
     "metadata": {},
     "output_type": "display_data"
    },
    {
     "name": "stdout",
     "output_type": "stream",
     "text": [
      "Проверка:\n"
     ]
    },
    {
     "data": {
      "text/latex": [
       "$$ (b_{1};b_3) = 0$$"
      ],
      "text/plain": [
       "<IPython.core.display.Latex object>"
      ]
     },
     "metadata": {},
     "output_type": "display_data"
    },
    {
     "data": {
      "text/latex": [
       "$$ (b_{2};b_3) = 0$$"
      ],
      "text/plain": [
       "<IPython.core.display.Latex object>"
      ]
     },
     "metadata": {},
     "output_type": "display_data"
    },
    {
     "data": {
      "text/latex": [
       "$$ |b_{1|} = 1$$"
      ],
      "text/plain": [
       "<IPython.core.display.Latex object>"
      ]
     },
     "metadata": {},
     "output_type": "display_data"
    },
    {
     "data": {
      "text/latex": [
       "$$ |b_{2|} = 2 \\sqrt{13}$$"
      ],
      "text/plain": [
       "<IPython.core.display.Latex object>"
      ]
     },
     "metadata": {},
     "output_type": "display_data"
    },
    {
     "data": {
      "text/latex": [
       "$$ |b_{3|} = \\frac{\\sqrt{13}}{13}$$"
      ],
      "text/plain": [
       "<IPython.core.display.Latex object>"
      ]
     },
     "metadata": {},
     "output_type": "display_data"
    },
    {
     "data": {
      "text/latex": [
       "$$ |h_{1}| = 1 - t^{2}$$"
      ],
      "text/plain": [
       "<IPython.core.display.Latex object>"
      ]
     },
     "metadata": {},
     "output_type": "display_data"
    },
    {
     "data": {
      "text/latex": [
       "$$ |h_{2}| = \\frac{5 \\sqrt{13} t^{2}}{26} + \\frac{\\sqrt{13} t}{26}$$"
      ],
      "text/plain": [
       "<IPython.core.display.Latex object>"
      ]
     },
     "metadata": {},
     "output_type": "display_data"
    },
    {
     "data": {
      "text/latex": [
       "$$ |h_{3}| = - \\frac{\\sqrt{13} t^{2}}{26} + \\frac{5 \\sqrt{13} t}{26}$$"
      ],
      "text/plain": [
       "<IPython.core.display.Latex object>"
      ]
     },
     "metadata": {},
     "output_type": "display_data"
    }
   ],
   "source": [
    "exprs_3b = [\n",
    "    1 - t ** 2,\n",
    "    2 + t + 3 * t ** 2,\n",
    "    3 + t + t ** 2\n",
    "]\n",
    "\n",
    "task(exprs_3b, f_3, f_3_solving, task_symbol_b)"
   ]
  }
 ],
 "metadata": {
  "kernelspec": {
   "display_name": "Python 3 (ipykernel)",
   "language": "python",
   "name": "python3"
  },
  "language_info": {
   "codemirror_mode": {
    "name": "ipython",
    "version": 3
   },
   "file_extension": ".py",
   "mimetype": "text/x-python",
   "name": "python",
   "nbconvert_exporter": "python",
   "pygments_lexer": "ipython3",
   "version": "3.10.7"
  }
 },
 "nbformat": 4,
 "nbformat_minor": 5
}
