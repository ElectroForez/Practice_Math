{
 "cells": [
  {
   "cell_type": "code",
   "execution_count": 3,
   "id": "6ba4605e",
   "metadata": {},
   "outputs": [],
   "source": [
    "from sympy.vector import CoordSys3D, matrix_to_vector, Vector\n",
    "import numpy as np\n",
    "from sympy import Rational\n",
    "from functools import reduce\n",
    "import sympy"
   ]
  },
  {
   "cell_type": "code",
   "execution_count": 4,
   "id": "69e6b6ac",
   "metadata": {},
   "outputs": [],
   "source": [
    "N = CoordSys3D('')"
   ]
  },
  {
   "cell_type": "code",
   "execution_count": 5,
   "id": "3525c7e7",
   "metadata": {},
   "outputs": [],
   "source": [
    "variants = [\n",
    "    [\n",
    "        [0, 4, 7, 2],\n",
    "        [-2, 4, 3, -1],\n",
    "        [4, -4, 1, 4],\n",
    "        [2, 4, 11, 5]\n",
    "    ],\n",
    "    [\n",
    "        [1, 2, 3],\n",
    "        [1, 3, 9],\n",
    "        [1, 5, 17]\n",
    "    ],\n",
    "    [\n",
    "        [5, 1, -1, -2],\n",
    "        [4, -1, -1, 6],\n",
    "        [-3, 3, 1, -10],\n",
    "        [6, 3, -1, -2]\n",
    "    ]\n",
    "]"
   ]
  },
  {
   "cell_type": "code",
   "execution_count": 6,
   "id": "d47f3a70",
   "metadata": {},
   "outputs": [],
   "source": [
    "a = variants[2]\n",
    "a = [np.array(el) for el in a]\n",
    "n = len(a)\n",
    "f = np.dot"
   ]
  },
  {
   "cell_type": "code",
   "execution_count": 10,
   "id": "35ab26ab",
   "metadata": {},
   "outputs": [
    {
     "data": {
      "text/plain": [
       "8"
      ]
     },
     "execution_count": 10,
     "metadata": {},
     "output_type": "execute_result"
    }
   ],
   "source": [
    "f(b[0], a[1])"
   ]
  },
  {
   "cell_type": "code",
   "execution_count": 8,
   "id": "554d0274",
   "metadata": {
    "scrolled": false
   },
   "outputs": [
    {
     "name": "stdout",
     "output_type": "stream",
     "text": [
      "b_1= [ 5  1 -1 -2] \n",
      "\n",
      "2\n",
      "p1 =  [ 4 -1 -1  6]\n",
      "p_n= 8/31 *  [ 5  1 -1 -2]\n",
      "b_2= [84 -39 -23 202]\n",
      "\n",
      "3\n",
      "p1 =  [ -3   3   1 -10]\n",
      "p_n= 7/31 *  [ 5  1 -1 -2]\n",
      "p_n= -1206/24955 *  [84 -39 -23 202]\n",
      "b_3= [-14 179 23 43]\n",
      "\n",
      "4\n",
      "p1 =  [ 6  3 -1 -2]\n",
      "p_n= 38/31 *  [ 5  1 -1 -2]\n",
      "p_n= 3/24955 *  [84 -39 -23 202]\n",
      "p_n= 8/805 *  [-14 179 23 43]\n",
      "b_4= [0 0 0 0]\n",
      "\n"
     ]
    }
   ],
   "source": [
    "b = [\n",
    "    a[0]\n",
    "]\n",
    "\n",
    "print('b_1=', b[0], '\\n')\n",
    "\n",
    "for i in range(1, n):\n",
    "    print(i + 1)\n",
    "    p1 = a[i]\n",
    "    b_n = p1\n",
    "    print(\"p1 = \", b_n)\n",
    "    for j in range(1, i + 1):\n",
    "        err = None\n",
    "        p_n = Rational(\n",
    "            f(a[i], b[j - 1]),\n",
    "            f(b[j - 1], b[j - 1])\n",
    "        )\n",
    "        \n",
    "        if p_n == sympy.nan:\n",
    "            err = ZeroDivisionError('Получаем деление на 0')\n",
    "            break\n",
    "            \n",
    "        print('p_n=', p_n, end='')\n",
    "        print(' * ', b[j - 1])\n",
    "        p_n = p_n * b[j - 1]\n",
    "        b_n = b_n - p_n\n",
    "    \n",
    "    if err:\n",
    "        print(err)\n",
    "        b.append(b_n)\n",
    "        print(f'b_{i + 1}=', b_n)\n",
    "        break\n",
    "        \n",
    "    nok = 1\n",
    "    for el in b_n:\n",
    "        nok = np.gcd(nok, el)\n",
    "    b_n = b_n / nok\n",
    "    \n",
    "    nod = reduce(np.gcd, b_n)\n",
    "    b_n = b_n / (1 if not nod else nod)\n",
    "    \n",
    "    b.append(b_n)\n",
    "    print(f'b_{i + 1}=', b_n)\n",
    "    print()"
   ]
  },
  {
   "cell_type": "code",
   "execution_count": 85,
   "id": "34bb0f1d",
   "metadata": {},
   "outputs": [
    {
     "name": "stdout",
     "output_type": "stream",
     "text": [
      "b0= [1 2 3]\n",
      "b1= [-10 -13 12]\n",
      "b2= [-9 6 -1]\n"
     ]
    }
   ],
   "source": [
    "for i in range(len(b)):\n",
    "    print(f'b{i}=', b[i])"
   ]
  },
  {
   "cell_type": "code",
   "execution_count": null,
   "id": "d4332366",
   "metadata": {},
   "outputs": [],
   "source": []
  }
 ],
 "metadata": {
  "kernelspec": {
   "display_name": "Python 3 (ipykernel)",
   "language": "python",
   "name": "python3"
  },
  "language_info": {
   "codemirror_mode": {
    "name": "ipython",
    "version": 3
   },
   "file_extension": ".py",
   "mimetype": "text/x-python",
   "name": "python",
   "nbconvert_exporter": "python",
   "pygments_lexer": "ipython3",
   "version": "3.10.6"
  }
 },
 "nbformat": 4,
 "nbformat_minor": 5
}
