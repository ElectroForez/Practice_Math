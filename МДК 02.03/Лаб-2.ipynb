{
 "cells": [
  {
   "cell_type": "code",
   "execution_count": 1,
   "id": "2120ae4b",
   "metadata": {},
   "outputs": [],
   "source": [
    "from IPython.core.interactiveshell import InteractiveShell\n",
    "InteractiveShell.ast_node_interactivity = \"all\"\n",
    "from IPython.display import display, Math, Latex"
   ]
  },
  {
   "cell_type": "code",
   "execution_count": 2,
   "id": "b9564eb9",
   "metadata": {},
   "outputs": [],
   "source": [
    "from sympy import *\n",
    "from sympy.vector import CoordSys3D\n",
    "import numpy as np\n",
    "from functools import reduce\n",
    "from sympy.abc import lamda as lmd"
   ]
  },
  {
   "cell_type": "code",
   "execution_count": 3,
   "id": "7763f52e",
   "metadata": {},
   "outputs": [],
   "source": [
    "def print_eq(eq, *exprs):\n",
    "    if type(eq) == str:\n",
    "        eq = Symbol(eq)\n",
    "    out = '$$ {} ' + '= {}' * len(exprs) + '$$'\n",
    "    exprs=list(exprs)\n",
    "    for i in range(len(exprs)):\n",
    "        if isinstance(exprs[i], (np.ndarray,)):\n",
    "            exprs[i] = pmatrix(exprs[i])\n",
    "        elif type(exprs[i]) != str:\n",
    "            exprs[i] = latex(exprs[i])\n",
    "    display(Latex(out.format(latex(eq), *exprs)))\n",
    "    \n",
    "def to_s(i):\n",
    "    return Symbol(str(i))\n",
    "\n",
    "def pmatrix(array):\n",
    "    if type(array) != Matrix:\n",
    "        array = Matrix(array)\n",
    "    return latex(array)[6:-7].replace('matrix', 'pmatrix') + ''"
   ]
  },
  {
   "cell_type": "code",
   "execution_count": 32,
   "id": "554d0274",
   "metadata": {
    "scrolled": false
   },
   "outputs": [],
   "source": [
    "# исходники для первого задания\n",
    "def task_vectors(a, f, f_solving):\n",
    "    bar_a = Symbol(r'\\bar a')\n",
    "    bar_b = Symbol(r'\\bar b')\n",
    "    \n",
    "    a = [np.array(el) for el in a]\n",
    "    \n",
    "    n = len(a)\n",
    "    b = [\n",
    "        a[0]\n",
    "    ]\n",
    "\n",
    "    print_eq(f'{bar_b}_1', f'{bar_a}_1')\n",
    "\n",
    "    for i in range(1, n):\n",
    "        b_gen_view = f'{bar_b}_{i + 1}={bar_a}_{i + 1}'\n",
    "        b_solved_view = f'{bar_b}_{i + 1}={pmatrix(a[i])}'\n",
    "        p1 = a[i]\n",
    "        b_n = p1\n",
    "\n",
    "\n",
    "        for j in range(1, i + 1):\n",
    "            b_gen_view += f'-\\\\frac{{({bar_a}_{i + 1};{bar_b}_{j})}}{{({bar_b}_{j};{bar_b}_{j})}}{bar_b}_{j}'\n",
    "        print_eq(b_gen_view)    \n",
    "\n",
    "        for j in range(1, i + 1):\n",
    "            err = None\n",
    "            \n",
    "            \n",
    "            print_eq(f'({bar_a}_{{{i + 1}}};{bar_b}_{j})',f_solving(a[i], b[j - 1]), latex(f(a[i], b[j - 1])))\n",
    "            \n",
    "            p_n = Rational(\n",
    "                f(a[i], b[j - 1]),\n",
    "                f(b[j - 1], b[j - 1])\n",
    "            )\n",
    "            if p_n == nan:\n",
    "                err = ZeroDivisionError('Получаем деление на 0')\n",
    "                break\n",
    "\n",
    "            b_solved_view += '-' + latex(p_n)\n",
    "            b_solved_view += r'\\cdot' + pmatrix(b[j - 1])\n",
    "            p_n = p_n * b[j - 1]\n",
    "            b_n = b_n - p_n\n",
    "        \n",
    "        print_eq(f'({bar_b}_{{{j}}};{bar_b}_{j})', f_solving(b[j - 1], b[j - 1]), latex(f(b[j - 1], b[j - 1])))\n",
    "\n",
    "        b_solved_view += '=' + pmatrix(b_n)\n",
    "\n",
    "        if not err:\n",
    "            nok = 1\n",
    "            for el in b_n:\n",
    "                nok = np.gcd(nok, el)\n",
    "            b_n = b_n / nok\n",
    "    \n",
    "            nod = reduce(np.gcd, b_n)\n",
    "            b_n = b_n / (1 if not nod else nod)\n",
    "\n",
    "        b.append(b_n)\n",
    "\n",
    "        print_eq(b_solved_view)\n",
    "        print_eq(f'{bar_b}_{i + 1}', (b_n))\n",
    "\n",
    "        print('Проверка:')\n",
    "        for j in range(i):\n",
    "            print_eq(f'({bar_b}_{{{j + 1}}};{bar_b}_{i + 1})', f(b[j], b[i]))\n",
    "    \n",
    "    b_b_sqrts = []\n",
    "    \n",
    "    for i in range(len(b)):\n",
    "        b_b_sqrt = sqrt(f(b[i], b[i]))\n",
    "        if b_b_sqrt:\n",
    "            b_b_sqrts.append(b_b_sqrt)\n",
    "            print_eq(f'|{bar_b}_{{{i + 1}}}|', b_b_sqrt)\n",
    "\n",
    "    for i in range(len(b_b_sqrts)):\n",
    "        h = b[i] / b_b_sqrts[i]\n",
    "        print_eq(f'\\\\bar h_{{{i + 1}}}', pmatrix(h))"
   ]
  },
  {
   "cell_type": "code",
   "execution_count": 50,
   "id": "60f50c05",
   "metadata": {},
   "outputs": [],
   "source": [
    "# исходники для второго-третьего задания\n",
    "# exprs - выражения, f - функция, f - решение функции, task_symbol - символ в задании\n",
    "def task(exprs, f, f_solving, task_symbol):\n",
    "    \n",
    "    for i in range(len(exprs)):\n",
    "        expr = exprs[i]\n",
    "        print_eq(latex(task_symbol) + f\"_{i + 1}\", expr)\n",
    "    \n",
    "    b = [\n",
    "        exprs[0]\n",
    "    ]\n",
    "    \n",
    "    n = len(exprs)\n",
    "    \n",
    "    print_eq(f'b_1', f'{task_symbol}_1')\n",
    "\n",
    "    for i in range(1, n):\n",
    "        b_gen_view = f'b_{i + 1}={task_symbol}_{i + 1}'\n",
    "        b_solved_view = f'b_{i + 1}=({latex(exprs[i])})'\n",
    "        p1 = exprs[i]\n",
    "        b_n = p1\n",
    "\n",
    "\n",
    "        for j in range(1, i + 1):\n",
    "            b_gen_view += f'-\\\\frac{{({task_symbol}_{i + 1};b_{j})}}{{(b_{j};b_{j})}}b_{j}'\n",
    "        print_eq(b_gen_view)    \n",
    "\n",
    "        for j in range(1, i + 1):\n",
    "            \n",
    "            print_eq(f'({task_symbol}_{{{i + 1}}};b_{j})', f_solving(exprs[i], b[j - 1]), f(exprs[i], b[j - 1]))\n",
    "            p_n = Rational(\n",
    "                f(exprs[i], b[j - 1]),\n",
    "                f(b[j - 1], b[j - 1])\n",
    "            )\n",
    "\n",
    "            b_solved_view += '-' + f\"({latex(p_n)})\"\n",
    "            b_solved_view += r'\\cdot ' + f'({latex(b[j - 1])})'\n",
    "            p_n = p_n * b[j - 1]\n",
    "            b_n = b_n - p_n\n",
    "            \n",
    "        print_eq(f'(b_{{{j}}};b_{j})', f_solving(b[j - 1], b[j - 1]), f(exprs[j - 1], b[j - 1]))\n",
    "        \n",
    "        b_solved_view += '=' + latex(b_n)\n",
    "\n",
    "        b.append(b_n)\n",
    "\n",
    "        print_eq(b_solved_view)\n",
    "\n",
    "        print('Проверка:')\n",
    "        for j in range(i):\n",
    "            print_eq(f'(b_{{{j + 1}}};b_{i + 1})', f(b[j], b[i]))\n",
    "        \n",
    "    b_b_sqrts = []\n",
    "    for i in range(len(b)):\n",
    "        b_b_sqrt = sqrt(f(b[i], b[i]))\n",
    "        b_b_sqrts.append(b_b_sqrt)\n",
    "        print_eq(f'|b_{{{i + 1}}}|', b_b_sqrt)\n",
    "\n",
    "    for i in range(len(b)):\n",
    "        h = b[i] / b_b_sqrts[i]\n",
    "        print_eq(f'h_{{{i + 1}}}', expand(h))\n",
    "        \n",
    "f = Symbol('f')\n",
    "g = Symbol('g')\n",
    "\n",
    "t = Symbol('t')"
   ]
  },
  {
   "cell_type": "markdown",
   "id": "6f4194fb",
   "metadata": {},
   "source": [
    "# Задание 1"
   ]
  },
  {
   "cell_type": "markdown",
   "id": "98a9154d",
   "metadata": {},
   "source": [
    "###### Настройка для второго задания"
   ]
  },
  {
   "cell_type": "code",
   "execution_count": 6,
   "id": "19d59066",
   "metadata": {},
   "outputs": [],
   "source": [
    "f_1 = np.dot\n",
    "\n",
    "def f_1_solving(x, y):\n",
    "    return \"+\".join([f\"{e1}\\cdot {e2}\" for e1, e2 in zip(x, y)])"
   ]
  },
  {
   "cell_type": "markdown",
   "id": "e16e911f",
   "metadata": {},
   "source": [
    "\n",
    "## Вставьте сюда свои значения"
   ]
  },
  {
   "cell_type": "code",
   "execution_count": 57,
   "id": "6bd05ef7",
   "metadata": {
    "scrolled": false
   },
   "outputs": [
    {
     "data": {
      "text/latex": [
       "$$ \\bar b_{1} = \\bar a_1$$"
      ],
      "text/plain": [
       "<IPython.core.display.Latex object>"
      ]
     },
     "metadata": {},
     "output_type": "display_data"
    },
    {
     "data": {
      "text/latex": [
       "$$ \\bar b_2=\\bar a_2-\\frac{(\\bar a_2;\\bar b_1)}{(\\bar b_1;\\bar b_1)}\\bar b_1 $$"
      ],
      "text/plain": [
       "<IPython.core.display.Latex object>"
      ]
     },
     "metadata": {},
     "output_type": "display_data"
    },
    {
     "data": {
      "text/latex": [
       "$$ (\\bar a_{2};\\bar b_1) = 2\\cdot 2+5\\cdot 2+1\\cdot 3+5\\cdot 1= \\mathtt{\\text{22}}$$"
      ],
      "text/plain": [
       "<IPython.core.display.Latex object>"
      ]
     },
     "metadata": {},
     "output_type": "display_data"
    },
    {
     "data": {
      "text/latex": [
       "$$ (\\bar b_{1};\\bar b_1) = 2\\cdot 2+2\\cdot 2+3\\cdot 3+1\\cdot 1= \\mathtt{\\text{18}}$$"
      ],
      "text/plain": [
       "<IPython.core.display.Latex object>"
      ]
     },
     "metadata": {},
     "output_type": "display_data"
    },
    {
     "data": {
      "text/latex": [
       "$$ \\bar b_2=\\begin{pmatrix}2\\\\5\\\\1\\\\5\\end{pmatrix}-\\frac{11}{9}\\cdot\\begin{pmatrix}2\\\\2\\\\3\\\\1\\end{pmatrix}=\\begin{pmatrix}- \\frac{4}{9}\\\\\\frac{23}{9}\\\\- \\frac{8}{3}\\\\\\frac{34}{9}\\end{pmatrix} $$"
      ],
      "text/plain": [
       "<IPython.core.display.Latex object>"
      ]
     },
     "metadata": {},
     "output_type": "display_data"
    },
    {
     "data": {
      "text/latex": [
       "$$ \\bar b_{2} = \\begin{pmatrix}-4\\\\23\\\\-24\\\\34\\end{pmatrix}$$"
      ],
      "text/plain": [
       "<IPython.core.display.Latex object>"
      ]
     },
     "metadata": {},
     "output_type": "display_data"
    },
    {
     "name": "stdout",
     "output_type": "stream",
     "text": [
      "Проверка:\n"
     ]
    },
    {
     "data": {
      "text/latex": [
       "$$ (\\bar b_{1};\\bar b_2) = 0$$"
      ],
      "text/plain": [
       "<IPython.core.display.Latex object>"
      ]
     },
     "metadata": {},
     "output_type": "display_data"
    },
    {
     "data": {
      "text/latex": [
       "$$ \\bar b_3=\\bar a_3-\\frac{(\\bar a_3;\\bar b_1)}{(\\bar b_1;\\bar b_1)}\\bar b_1-\\frac{(\\bar a_3;\\bar b_2)}{(\\bar b_2;\\bar b_2)}\\bar b_2 $$"
      ],
      "text/plain": [
       "<IPython.core.display.Latex object>"
      ]
     },
     "metadata": {},
     "output_type": "display_data"
    },
    {
     "data": {
      "text/latex": [
       "$$ (\\bar a_{3};\\bar b_1) = 1\\cdot 2+2\\cdot 2+1\\cdot 3+5\\cdot 1= \\mathtt{\\text{14}}$$"
      ],
      "text/plain": [
       "<IPython.core.display.Latex object>"
      ]
     },
     "metadata": {},
     "output_type": "display_data"
    },
    {
     "data": {
      "text/latex": [
       "$$ (\\bar a_{3};\\bar b_2) = 1\\cdot -4+2\\cdot 23+1\\cdot -24+5\\cdot 34= 188$$"
      ],
      "text/plain": [
       "<IPython.core.display.Latex object>"
      ]
     },
     "metadata": {},
     "output_type": "display_data"
    },
    {
     "data": {
      "text/latex": [
       "$$ (\\bar b_{2};\\bar b_2) = -4\\cdot -4+23\\cdot 23+-24\\cdot -24+34\\cdot 34= 2277$$"
      ],
      "text/plain": [
       "<IPython.core.display.Latex object>"
      ]
     },
     "metadata": {},
     "output_type": "display_data"
    },
    {
     "data": {
      "text/latex": [
       "$$ \\bar b_3=\\begin{pmatrix}1\\\\2\\\\1\\\\5\\end{pmatrix}-\\frac{7}{9}\\cdot\\begin{pmatrix}2\\\\2\\\\3\\\\1\\end{pmatrix}-\\frac{188}{2277}\\cdot\\begin{pmatrix}-4\\\\23\\\\-24\\\\34\\end{pmatrix}=\\begin{pmatrix}- \\frac{57}{253}\\\\- \\frac{16}{11}\\\\\\frac{164}{253}\\\\\\frac{358}{253}\\end{pmatrix} $$"
      ],
      "text/plain": [
       "<IPython.core.display.Latex object>"
      ]
     },
     "metadata": {},
     "output_type": "display_data"
    },
    {
     "data": {
      "text/latex": [
       "$$ \\bar b_{3} = \\begin{pmatrix}-57\\\\-368\\\\164\\\\358\\end{pmatrix}$$"
      ],
      "text/plain": [
       "<IPython.core.display.Latex object>"
      ]
     },
     "metadata": {},
     "output_type": "display_data"
    },
    {
     "name": "stdout",
     "output_type": "stream",
     "text": [
      "Проверка:\n"
     ]
    },
    {
     "data": {
      "text/latex": [
       "$$ (\\bar b_{1};\\bar b_3) = 0$$"
      ],
      "text/plain": [
       "<IPython.core.display.Latex object>"
      ]
     },
     "metadata": {},
     "output_type": "display_data"
    },
    {
     "data": {
      "text/latex": [
       "$$ (\\bar b_{2};\\bar b_3) = 0$$"
      ],
      "text/plain": [
       "<IPython.core.display.Latex object>"
      ]
     },
     "metadata": {},
     "output_type": "display_data"
    },
    {
     "data": {
      "text/latex": [
       "$$ \\bar b_4=\\bar a_4-\\frac{(\\bar a_4;\\bar b_1)}{(\\bar b_1;\\bar b_1)}\\bar b_1-\\frac{(\\bar a_4;\\bar b_2)}{(\\bar b_2;\\bar b_2)}\\bar b_2-\\frac{(\\bar a_4;\\bar b_3)}{(\\bar b_3;\\bar b_3)}\\bar b_3 $$"
      ],
      "text/plain": [
       "<IPython.core.display.Latex object>"
      ]
     },
     "metadata": {},
     "output_type": "display_data"
    },
    {
     "data": {
      "text/latex": [
       "$$ (\\bar a_{4};\\bar b_1) = 1\\cdot 2+-1\\cdot 2+3\\cdot 3+1\\cdot 1= \\mathtt{\\text{10}}$$"
      ],
      "text/plain": [
       "<IPython.core.display.Latex object>"
      ]
     },
     "metadata": {},
     "output_type": "display_data"
    },
    {
     "data": {
      "text/latex": [
       "$$ (\\bar a_{4};\\bar b_2) = 1\\cdot -4+-1\\cdot 23+3\\cdot -24+1\\cdot 34= -65$$"
      ],
      "text/plain": [
       "<IPython.core.display.Latex object>"
      ]
     },
     "metadata": {},
     "output_type": "display_data"
    },
    {
     "data": {
      "text/latex": [
       "$$ (\\bar a_{4};\\bar b_3) = 1\\cdot -57+-1\\cdot -368+3\\cdot 164+1\\cdot 358= 1161$$"
      ],
      "text/plain": [
       "<IPython.core.display.Latex object>"
      ]
     },
     "metadata": {},
     "output_type": "display_data"
    },
    {
     "data": {
      "text/latex": [
       "$$ (\\bar b_{3};\\bar b_3) = -57\\cdot -57+-368\\cdot -368+164\\cdot 164+358\\cdot 358= 293733$$"
      ],
      "text/plain": [
       "<IPython.core.display.Latex object>"
      ]
     },
     "metadata": {},
     "output_type": "display_data"
    },
    {
     "data": {
      "text/latex": [
       "$$ \\bar b_4=\\begin{pmatrix}1\\\\-1\\\\3\\\\1\\end{pmatrix}-\\frac{5}{9}\\cdot\\begin{pmatrix}2\\\\2\\\\3\\\\1\\end{pmatrix}-- \\frac{65}{2277}\\cdot\\begin{pmatrix}-4\\\\23\\\\-24\\\\34\\end{pmatrix}-\\frac{1}{253}\\cdot\\begin{pmatrix}-57\\\\-368\\\\164\\\\358\\end{pmatrix}=\\begin{pmatrix}0\\\\0\\\\0\\\\0\\end{pmatrix} $$"
      ],
      "text/plain": [
       "<IPython.core.display.Latex object>"
      ]
     },
     "metadata": {},
     "output_type": "display_data"
    },
    {
     "data": {
      "text/latex": [
       "$$ \\bar b_{4} = \\begin{pmatrix}0\\\\0\\\\0\\\\0\\end{pmatrix}$$"
      ],
      "text/plain": [
       "<IPython.core.display.Latex object>"
      ]
     },
     "metadata": {},
     "output_type": "display_data"
    },
    {
     "name": "stdout",
     "output_type": "stream",
     "text": [
      "Проверка:\n"
     ]
    },
    {
     "data": {
      "text/latex": [
       "$$ (\\bar b_{1};\\bar b_4) = 0$$"
      ],
      "text/plain": [
       "<IPython.core.display.Latex object>"
      ]
     },
     "metadata": {},
     "output_type": "display_data"
    },
    {
     "data": {
      "text/latex": [
       "$$ (\\bar b_{2};\\bar b_4) = 0$$"
      ],
      "text/plain": [
       "<IPython.core.display.Latex object>"
      ]
     },
     "metadata": {},
     "output_type": "display_data"
    },
    {
     "data": {
      "text/latex": [
       "$$ (\\bar b_{3};\\bar b_4) = 0$$"
      ],
      "text/plain": [
       "<IPython.core.display.Latex object>"
      ]
     },
     "metadata": {},
     "output_type": "display_data"
    },
    {
     "data": {
      "text/latex": [
       "$$ |\\bar b_{1}| = 3 \\sqrt{2}$$"
      ],
      "text/plain": [
       "<IPython.core.display.Latex object>"
      ]
     },
     "metadata": {},
     "output_type": "display_data"
    },
    {
     "data": {
      "text/latex": [
       "$$ |\\bar b_{2}| = 3 \\sqrt{253}$$"
      ],
      "text/plain": [
       "<IPython.core.display.Latex object>"
      ]
     },
     "metadata": {},
     "output_type": "display_data"
    },
    {
     "data": {
      "text/latex": [
       "$$ |\\bar b_{3}| = 3 \\sqrt{32637}$$"
      ],
      "text/plain": [
       "<IPython.core.display.Latex object>"
      ]
     },
     "metadata": {},
     "output_type": "display_data"
    },
    {
     "data": {
      "text/latex": [
       "$$ \\bar h_{1} = \\begin{pmatrix}\\frac{\\sqrt{2}}{3}\\\\\\frac{\\sqrt{2}}{3}\\\\\\frac{\\sqrt{2}}{2}\\\\\\frac{\\sqrt{2}}{6}\\end{pmatrix}$$"
      ],
      "text/plain": [
       "<IPython.core.display.Latex object>"
      ]
     },
     "metadata": {},
     "output_type": "display_data"
    },
    {
     "data": {
      "text/latex": [
       "$$ \\bar h_{2} = \\begin{pmatrix}- \\frac{4 \\sqrt{253}}{759}\\\\\\frac{\\sqrt{253}}{33}\\\\- \\frac{8 \\sqrt{253}}{253}\\\\\\frac{34 \\sqrt{253}}{759}\\end{pmatrix}$$"
      ],
      "text/plain": [
       "<IPython.core.display.Latex object>"
      ]
     },
     "metadata": {},
     "output_type": "display_data"
    },
    {
     "data": {
      "text/latex": [
       "$$ \\bar h_{3} = \\begin{pmatrix}- \\frac{19 \\sqrt{32637}}{32637}\\\\- \\frac{16 \\sqrt{32637}}{4257}\\\\\\frac{164 \\sqrt{32637}}{97911}\\\\\\frac{358 \\sqrt{32637}}{97911}\\end{pmatrix}$$"
      ],
      "text/plain": [
       "<IPython.core.display.Latex object>"
      ]
     },
     "metadata": {},
     "output_type": "display_data"
    }
   ],
   "source": [
    "a = [\n",
    "    [2, 2, 3, 1],\n",
    "    [2, 5, 1, 5],\n",
    "    [1, 2, 1, 5],\n",
    "    [1, -1, 3, 1]\n",
    "]\n",
    "\n",
    "task_vectors(a, f_1, f_1_solving)"
   ]
  },
  {
   "cell_type": "markdown",
   "id": "d1637946",
   "metadata": {},
   "source": [
    "# Задание 2"
   ]
  },
  {
   "cell_type": "markdown",
   "id": "a4e95649",
   "metadata": {},
   "source": [
    "###### Настройка для второго задания"
   ]
  },
  {
   "cell_type": "code",
   "execution_count": 35,
   "id": "3d5a7e47",
   "metadata": {},
   "outputs": [],
   "source": [
    "integral_from = 1\n",
    "integral_to = -1"
   ]
  },
  {
   "cell_type": "code",
   "execution_count": 36,
   "id": "af76fb4d",
   "metadata": {},
   "outputs": [],
   "source": [
    "def f_2(x, y): # результирующая функция\n",
    "    return Integral(x * y, (t, integral_to, integral_from)).doit()\n",
    "\n",
    "def f_2_solving(x, y): # возвращает latex решения\n",
    "    result = \"\"\n",
    "    result += latex(Integral(x * y, (t, integral_to, integral_from))) + \"=\"\n",
    "    result += latex(Integral(x * y, (t,)).doit()) + f\"\\\\bigg |_{{{integral_to}}}^{{{integral_from}}}\"\n",
    "    return result"
   ]
  },
  {
   "cell_type": "code",
   "execution_count": 37,
   "id": "0553fd18",
   "metadata": {},
   "outputs": [
    {
     "data": {
      "text/latex": [
       "$$ (f(x);g(x))=\\int_{-1}^{1} (f(x);g(x)) \\,dx $$"
      ],
      "text/plain": [
       "<IPython.core.display.Latex object>"
      ]
     },
     "metadata": {},
     "output_type": "display_data"
    }
   ],
   "source": [
    "print_eq(f'(f(x);g(x))=\\int_{{{integral_to}}}^{{{integral_from}}} (f(x);g(x)) \\,dx')"
   ]
  },
  {
   "cell_type": "markdown",
   "id": "5e0e3729",
   "metadata": {},
   "source": [
    "## a)"
   ]
  },
  {
   "cell_type": "markdown",
   "id": "5a4074bc",
   "metadata": {},
   "source": [
    "### Вставьте свои значения сюда"
   ]
  },
  {
   "cell_type": "code",
   "execution_count": 59,
   "id": "a260737b",
   "metadata": {
    "scrolled": true
   },
   "outputs": [
    {
     "data": {
      "text/latex": [
       "$$ f_{1} = 2 t^{2} + t - 3$$"
      ],
      "text/plain": [
       "<IPython.core.display.Latex object>"
      ]
     },
     "metadata": {},
     "output_type": "display_data"
    },
    {
     "data": {
      "text/latex": [
       "$$ f_{2} = t^{2} - 2$$"
      ],
      "text/plain": [
       "<IPython.core.display.Latex object>"
      ]
     },
     "metadata": {},
     "output_type": "display_data"
    },
    {
     "data": {
      "text/latex": [
       "$$ f_{3} = 3 - t^{2}$$"
      ],
      "text/plain": [
       "<IPython.core.display.Latex object>"
      ]
     },
     "metadata": {},
     "output_type": "display_data"
    },
    {
     "data": {
      "text/latex": [
       "$$ b_{1} = f_1$$"
      ],
      "text/plain": [
       "<IPython.core.display.Latex object>"
      ]
     },
     "metadata": {},
     "output_type": "display_data"
    },
    {
     "data": {
      "text/latex": [
       "$$ b_2=f_2-\\frac{(f_2;b_1)}{(b_1;b_1)}b_1 $$"
      ],
      "text/plain": [
       "<IPython.core.display.Latex object>"
      ]
     },
     "metadata": {},
     "output_type": "display_data"
    },
    {
     "data": {
      "text/latex": [
       "$$ (f_{2};b_1) = \\int\\limits_{-1}^{1} \\left(t^{2} - 2\\right) \\left(2 t^{2} + t - 3\\right)\\, dt=\\frac{2 t^{5}}{5} + \\frac{t^{4}}{4} - \\frac{7 t^{3}}{3} - t^{2} + 6 t\\bigg |_{-1}^{1}= \\frac{122}{15}$$"
      ],
      "text/plain": [
       "<IPython.core.display.Latex object>"
      ]
     },
     "metadata": {},
     "output_type": "display_data"
    },
    {
     "data": {
      "text/latex": [
       "$$ (b_{1};b_1) = \\int\\limits_{-1}^{1} \\left(2 t^{2} + t - 3\\right)^{2}\\, dt=\\frac{4 t^{5}}{5} + t^{4} - \\frac{11 t^{3}}{3} - 3 t^{2} + 9 t\\bigg |_{-1}^{1}= \\frac{184}{15}$$"
      ],
      "text/plain": [
       "<IPython.core.display.Latex object>"
      ]
     },
     "metadata": {},
     "output_type": "display_data"
    },
    {
     "data": {
      "text/latex": [
       "$$ b_2=(t^{2} - 2)-(\\frac{61}{92})\\cdot (2 t^{2} + t - 3)=- \\frac{15 t^{2}}{46} - \\frac{61 t}{92} - \\frac{1}{92} $$"
      ],
      "text/plain": [
       "<IPython.core.display.Latex object>"
      ]
     },
     "metadata": {},
     "output_type": "display_data"
    },
    {
     "name": "stdout",
     "output_type": "stream",
     "text": [
      "Проверка:\n"
     ]
    },
    {
     "data": {
      "text/latex": [
       "$$ (b_{1};b_2) = 0$$"
      ],
      "text/plain": [
       "<IPython.core.display.Latex object>"
      ]
     },
     "metadata": {},
     "output_type": "display_data"
    },
    {
     "data": {
      "text/latex": [
       "$$ b_3=f_3-\\frac{(f_3;b_1)}{(b_1;b_1)}b_1-\\frac{(f_3;b_2)}{(b_2;b_2)}b_2 $$"
      ],
      "text/plain": [
       "<IPython.core.display.Latex object>"
      ]
     },
     "metadata": {},
     "output_type": "display_data"
    },
    {
     "data": {
      "text/latex": [
       "$$ (f_{3};b_1) = \\int\\limits_{-1}^{1} \\left(3 - t^{2}\\right) \\left(2 t^{2} + t - 3\\right)\\, dt=- \\frac{2 t^{5}}{5} - \\frac{t^{4}}{4} + 3 t^{3} + \\frac{3 t^{2}}{2} - 9 t\\bigg |_{-1}^{1}= - \\frac{64}{5}$$"
      ],
      "text/plain": [
       "<IPython.core.display.Latex object>"
      ]
     },
     "metadata": {},
     "output_type": "display_data"
    },
    {
     "data": {
      "text/latex": [
       "$$ (f_{3};b_2) = \\int\\limits_{-1}^{1} \\left(3 - t^{2}\\right) \\left(- \\frac{15 t^{2}}{46} - \\frac{61 t}{92} - \\frac{1}{92}\\right)\\, dt=\\frac{3 t^{5}}{46} + \\frac{61 t^{4}}{368} - \\frac{89 t^{3}}{276} - \\frac{183 t^{2}}{184} - \\frac{3 t}{92}\\bigg |_{-1}^{1}= - \\frac{40}{69}$$"
      ],
      "text/plain": [
       "<IPython.core.display.Latex object>"
      ]
     },
     "metadata": {},
     "output_type": "display_data"
    },
    {
     "data": {
      "text/latex": [
       "$$ (b_{2};b_2) = \\int\\limits_{-1}^{1} \\left(- \\frac{15 t^{2}}{46} - \\frac{61 t}{92} - \\frac{1}{92}\\right)^{2}\\, dt=\\frac{45 t^{5}}{2116} + \\frac{915 t^{4}}{8464} + \\frac{3781 t^{3}}{25392} + \\frac{61 t^{2}}{8464} + \\frac{t}{8464}\\bigg |_{-1}^{1}= \\frac{47}{138}$$"
      ],
      "text/plain": [
       "<IPython.core.display.Latex object>"
      ]
     },
     "metadata": {},
     "output_type": "display_data"
    },
    {
     "data": {
      "text/latex": [
       "$$ b_3=(3 - t^{2})-(- \\frac{24}{23})\\cdot (2 t^{2} + t - 3)-(- \\frac{80}{47})\\cdot (- \\frac{15 t^{2}}{46} - \\frac{61 t}{92} - \\frac{1}{92})=\\frac{25 t^{2}}{47} - \\frac{4 t}{47} - \\frac{7}{47} $$"
      ],
      "text/plain": [
       "<IPython.core.display.Latex object>"
      ]
     },
     "metadata": {},
     "output_type": "display_data"
    },
    {
     "name": "stdout",
     "output_type": "stream",
     "text": [
      "Проверка:\n"
     ]
    },
    {
     "data": {
      "text/latex": [
       "$$ (b_{1};b_3) = 0$$"
      ],
      "text/plain": [
       "<IPython.core.display.Latex object>"
      ]
     },
     "metadata": {},
     "output_type": "display_data"
    },
    {
     "data": {
      "text/latex": [
       "$$ (b_{2};b_3) = 0$$"
      ],
      "text/plain": [
       "<IPython.core.display.Latex object>"
      ]
     },
     "metadata": {},
     "output_type": "display_data"
    },
    {
     "data": {
      "text/latex": [
       "$$ |b_{1}| = \\frac{2 \\sqrt{690}}{15}$$"
      ],
      "text/plain": [
       "<IPython.core.display.Latex object>"
      ]
     },
     "metadata": {},
     "output_type": "display_data"
    },
    {
     "data": {
      "text/latex": [
       "$$ |b_{2}| = \\frac{\\sqrt{6486}}{138}$$"
      ],
      "text/plain": [
       "<IPython.core.display.Latex object>"
      ]
     },
     "metadata": {},
     "output_type": "display_data"
    },
    {
     "data": {
      "text/latex": [
       "$$ |b_{3}| = \\frac{2 \\sqrt{282}}{141}$$"
      ],
      "text/plain": [
       "<IPython.core.display.Latex object>"
      ]
     },
     "metadata": {},
     "output_type": "display_data"
    },
    {
     "data": {
      "text/latex": [
       "$$ h_{1} = \\frac{\\sqrt{690} t^{2}}{46} + \\frac{\\sqrt{690} t}{92} - \\frac{3 \\sqrt{690}}{92}$$"
      ],
      "text/plain": [
       "<IPython.core.display.Latex object>"
      ]
     },
     "metadata": {},
     "output_type": "display_data"
    },
    {
     "data": {
      "text/latex": [
       "$$ h_{2} = - \\frac{15 \\sqrt{6486} t^{2}}{2162} - \\frac{61 \\sqrt{6486} t}{4324} - \\frac{\\sqrt{6486}}{4324}$$"
      ],
      "text/plain": [
       "<IPython.core.display.Latex object>"
      ]
     },
     "metadata": {},
     "output_type": "display_data"
    },
    {
     "data": {
      "text/latex": [
       "$$ h_{3} = \\frac{25 \\sqrt{282} t^{2}}{188} - \\frac{\\sqrt{282} t}{47} - \\frac{7 \\sqrt{282}}{188}$$"
      ],
      "text/plain": [
       "<IPython.core.display.Latex object>"
      ]
     },
     "metadata": {},
     "output_type": "display_data"
    }
   ],
   "source": [
    "exprs_2a = [\n",
    "    -3 + 1 * t + 2 * t ** 2,\n",
    "    -2 + 0 * t + 1 * t ** 2,\n",
    "    3 + 0 * t - 1 * t ** 2,\n",
    "]\n",
    "\n",
    "task(exprs_2a, f_2, f_2_solving, f)"
   ]
  },
  {
   "cell_type": "markdown",
   "id": "277d921f",
   "metadata": {},
   "source": [
    "## б)"
   ]
  },
  {
   "cell_type": "markdown",
   "id": "13647144",
   "metadata": {},
   "source": [
    "### Вставьте свои значения сюда"
   ]
  },
  {
   "cell_type": "code",
   "execution_count": 60,
   "id": "b03cd33e",
   "metadata": {
    "scrolled": true
   },
   "outputs": [
    {
     "data": {
      "text/latex": [
       "$$ g_{1} = - 7 t^{2} - 2 t - 3$$"
      ],
      "text/plain": [
       "<IPython.core.display.Latex object>"
      ]
     },
     "metadata": {},
     "output_type": "display_data"
    },
    {
     "data": {
      "text/latex": [
       "$$ g_{2} = - 3 t^{2} - t - 2$$"
      ],
      "text/plain": [
       "<IPython.core.display.Latex object>"
      ]
     },
     "metadata": {},
     "output_type": "display_data"
    },
    {
     "data": {
      "text/latex": [
       "$$ g_{3} = 10 t^{2} + 3 t + 4$$"
      ],
      "text/plain": [
       "<IPython.core.display.Latex object>"
      ]
     },
     "metadata": {},
     "output_type": "display_data"
    },
    {
     "data": {
      "text/latex": [
       "$$ b_{1} = g_1$$"
      ],
      "text/plain": [
       "<IPython.core.display.Latex object>"
      ]
     },
     "metadata": {},
     "output_type": "display_data"
    },
    {
     "data": {
      "text/latex": [
       "$$ b_2=g_2-\\frac{(g_2;b_1)}{(b_1;b_1)}b_1 $$"
      ],
      "text/plain": [
       "<IPython.core.display.Latex object>"
      ]
     },
     "metadata": {},
     "output_type": "display_data"
    },
    {
     "data": {
      "text/latex": [
       "$$ (g_{2};b_1) = \\int\\limits_{-1}^{1} \\left(- 7 t^{2} - 2 t - 3\\right) \\left(- 3 t^{2} - t - 2\\right)\\, dt=\\frac{21 t^{5}}{5} + \\frac{13 t^{4}}{4} + \\frac{25 t^{3}}{3} + \\frac{7 t^{2}}{2} + 6 t\\bigg |_{-1}^{1}= \\frac{556}{15}$$"
      ],
      "text/plain": [
       "<IPython.core.display.Latex object>"
      ]
     },
     "metadata": {},
     "output_type": "display_data"
    },
    {
     "data": {
      "text/latex": [
       "$$ (b_{1};b_1) = \\int\\limits_{-1}^{1} \\left(- 7 t^{2} - 2 t - 3\\right)^{2}\\, dt=\\frac{49 t^{5}}{5} + 7 t^{4} + \\frac{46 t^{3}}{3} + 6 t^{2} + 9 t\\bigg |_{-1}^{1}= \\frac{1024}{15}$$"
      ],
      "text/plain": [
       "<IPython.core.display.Latex object>"
      ]
     },
     "metadata": {},
     "output_type": "display_data"
    },
    {
     "data": {
      "text/latex": [
       "$$ b_2=(- 3 t^{2} - t - 2)-(\\frac{139}{256})\\cdot (- 7 t^{2} - 2 t - 3)=\\frac{205 t^{2}}{256} + \\frac{11 t}{128} - \\frac{95}{256} $$"
      ],
      "text/plain": [
       "<IPython.core.display.Latex object>"
      ]
     },
     "metadata": {},
     "output_type": "display_data"
    },
    {
     "name": "stdout",
     "output_type": "stream",
     "text": [
      "Проверка:\n"
     ]
    },
    {
     "data": {
      "text/latex": [
       "$$ (b_{1};b_2) = 0$$"
      ],
      "text/plain": [
       "<IPython.core.display.Latex object>"
      ]
     },
     "metadata": {},
     "output_type": "display_data"
    },
    {
     "data": {
      "text/latex": [
       "$$ b_3=g_3-\\frac{(g_3;b_1)}{(b_1;b_1)}b_1-\\frac{(g_3;b_2)}{(b_2;b_2)}b_2 $$"
      ],
      "text/plain": [
       "<IPython.core.display.Latex object>"
      ]
     },
     "metadata": {},
     "output_type": "display_data"
    },
    {
     "data": {
      "text/latex": [
       "$$ (g_{3};b_1) = \\int\\limits_{-1}^{1} \\left(- 7 t^{2} - 2 t - 3\\right) \\left(10 t^{2} + 3 t + 4\\right)\\, dt=- 14 t^{5} - \\frac{41 t^{4}}{4} - \\frac{64 t^{3}}{3} - \\frac{17 t^{2}}{2} - 12 t\\bigg |_{-1}^{1}= - \\frac{284}{3}$$"
      ],
      "text/plain": [
       "<IPython.core.display.Latex object>"
      ]
     },
     "metadata": {},
     "output_type": "display_data"
    },
    {
     "data": {
      "text/latex": [
       "$$ (g_{3};b_2) = \\int\\limits_{-1}^{1} \\left(\\frac{205 t^{2}}{256} + \\frac{11 t}{128} - \\frac{95}{256}\\right) \\left(10 t^{2} + 3 t + 4\\right)\\, dt=\\frac{205 t^{5}}{128} + \\frac{835 t^{4}}{1024} - \\frac{t^{3}}{12} - \\frac{197 t^{2}}{512} - \\frac{95 t}{64}\\bigg |_{-1}^{1}= \\frac{13}{192}$$"
      ],
      "text/plain": [
       "<IPython.core.display.Latex object>"
      ]
     },
     "metadata": {},
     "output_type": "display_data"
    },
    {
     "data": {
      "text/latex": [
       "$$ (b_{2};b_2) = \\int\\limits_{-1}^{1} \\left(\\frac{205 t^{2}}{256} + \\frac{11 t}{128} - \\frac{95}{256}\\right)^{2}\\, dt=\\frac{8405 t^{5}}{65536} + \\frac{2255 t^{4}}{65536} - \\frac{6411 t^{3}}{32768} - \\frac{1045 t^{2}}{32768} + \\frac{9025 t}{65536}\\bigg |_{-1}^{1}= \\frac{9}{64}$$"
      ],
      "text/plain": [
       "<IPython.core.display.Latex object>"
      ]
     },
     "metadata": {},
     "output_type": "display_data"
    },
    {
     "data": {
      "text/latex": [
       "$$ b_3=(10 t^{2} + 3 t + 4)-(- \\frac{355}{256})\\cdot (- 7 t^{2} - 2 t - 3)-(\\frac{13}{27})\\cdot (\\frac{205 t^{2}}{256} + \\frac{11 t}{128} - \\frac{95}{256})=- \\frac{5 t^{2}}{54} + \\frac{5 t}{27} + \\frac{1}{54} $$"
      ],
      "text/plain": [
       "<IPython.core.display.Latex object>"
      ]
     },
     "metadata": {},
     "output_type": "display_data"
    },
    {
     "name": "stdout",
     "output_type": "stream",
     "text": [
      "Проверка:\n"
     ]
    },
    {
     "data": {
      "text/latex": [
       "$$ (b_{1};b_3) = 0$$"
      ],
      "text/plain": [
       "<IPython.core.display.Latex object>"
      ]
     },
     "metadata": {},
     "output_type": "display_data"
    },
    {
     "data": {
      "text/latex": [
       "$$ (b_{2};b_3) = 0$$"
      ],
      "text/plain": [
       "<IPython.core.display.Latex object>"
      ]
     },
     "metadata": {},
     "output_type": "display_data"
    },
    {
     "data": {
      "text/latex": [
       "$$ |b_{1}| = \\frac{32 \\sqrt{15}}{15}$$"
      ],
      "text/plain": [
       "<IPython.core.display.Latex object>"
      ]
     },
     "metadata": {},
     "output_type": "display_data"
    },
    {
     "data": {
      "text/latex": [
       "$$ |b_{2}| = \\frac{3}{8}$$"
      ],
      "text/plain": [
       "<IPython.core.display.Latex object>"
      ]
     },
     "metadata": {},
     "output_type": "display_data"
    },
    {
     "data": {
      "text/latex": [
       "$$ |b_{3}| = \\frac{\\sqrt{2}}{9}$$"
      ],
      "text/plain": [
       "<IPython.core.display.Latex object>"
      ]
     },
     "metadata": {},
     "output_type": "display_data"
    },
    {
     "data": {
      "text/latex": [
       "$$ h_{1} = - \\frac{7 \\sqrt{15} t^{2}}{32} - \\frac{\\sqrt{15} t}{16} - \\frac{3 \\sqrt{15}}{32}$$"
      ],
      "text/plain": [
       "<IPython.core.display.Latex object>"
      ]
     },
     "metadata": {},
     "output_type": "display_data"
    },
    {
     "data": {
      "text/latex": [
       "$$ h_{2} = \\frac{205 t^{2}}{96} + \\frac{11 t}{48} - \\frac{95}{96}$$"
      ],
      "text/plain": [
       "<IPython.core.display.Latex object>"
      ]
     },
     "metadata": {},
     "output_type": "display_data"
    },
    {
     "data": {
      "text/latex": [
       "$$ h_{3} = - \\frac{5 \\sqrt{2} t^{2}}{12} + \\frac{5 \\sqrt{2} t}{6} + \\frac{\\sqrt{2}}{12}$$"
      ],
      "text/plain": [
       "<IPython.core.display.Latex object>"
      ]
     },
     "metadata": {},
     "output_type": "display_data"
    }
   ],
   "source": [
    "exprs_2b = [\n",
    "    -3 - 2 * t - 7 * t ** 2,\n",
    "    -2 - 1 * t - 3 * t ** 2,\n",
    "    4 + 3 * t + 10 * t ** 2,\n",
    "]\n",
    "task(exprs_2b, f_2, f_2_solving, g)"
   ]
  },
  {
   "cell_type": "markdown",
   "id": "bcea4cbf",
   "metadata": {},
   "source": [
    "# Задание 3"
   ]
  },
  {
   "cell_type": "markdown",
   "id": "e7e41433",
   "metadata": {},
   "source": [
    "###### Настройка для задания"
   ]
  },
  {
   "cell_type": "code",
   "execution_count": 61,
   "id": "4383234e",
   "metadata": {},
   "outputs": [],
   "source": [
    "def f_3(x, y): # результирующая функция\n",
    "    result = 0\n",
    "    result += x.subs({t: -1}) * y.subs({t: -1})\n",
    "    result += x.subs({t: 0}) * y.subs({t: 0})\n",
    "    result += x.subs({t: 1}) * y.subs({t: 1})\n",
    "    return result\n",
    "\n",
    "def f_3_solving(x, y): # возвращает latex решения\n",
    "    result = \"\"\n",
    "    result += latex(x.subs({t: -1})) + r\"\\cdot\" + latex(y.subs({t: -1}))\n",
    "    result += \"+\" + latex(x.subs({t: 0})) + r\"\\cdot\" + latex(y.subs({t: 0}))\n",
    "    result += \"+\" + latex(x.subs({t: 1})) + r\"\\cdot\" + latex(y.subs({t: 1}))\n",
    "    return result"
   ]
  },
  {
   "cell_type": "code",
   "execution_count": 62,
   "id": "47fdf418",
   "metadata": {},
   "outputs": [
    {
     "data": {
      "text/latex": [
       "$$ (f(x);g(x))=f(-1) \\cdot g(-1) + f(0) \\cdot g(0) + f(1) \\cdot g(1) $$"
      ],
      "text/plain": [
       "<IPython.core.display.Latex object>"
      ]
     },
     "metadata": {},
     "output_type": "display_data"
    }
   ],
   "source": [
    "print_eq(f'(f(x);g(x))=f(-1) \\cdot g(-1) + f(0) \\cdot g(0) + f(1) \\cdot g(1)')"
   ]
  },
  {
   "cell_type": "markdown",
   "id": "f7158b33",
   "metadata": {},
   "source": [
    "## a)"
   ]
  },
  {
   "cell_type": "markdown",
   "id": "a4eaeff3",
   "metadata": {},
   "source": [
    "### Вставьте свои значения сюда"
   ]
  },
  {
   "cell_type": "code",
   "execution_count": 63,
   "id": "f4224d32",
   "metadata": {
    "scrolled": true
   },
   "outputs": [
    {
     "data": {
      "text/latex": [
       "$$ f_{1} = 2 t^{2} + t - 3$$"
      ],
      "text/plain": [
       "<IPython.core.display.Latex object>"
      ]
     },
     "metadata": {},
     "output_type": "display_data"
    },
    {
     "data": {
      "text/latex": [
       "$$ f_{2} = t^{2} - 2$$"
      ],
      "text/plain": [
       "<IPython.core.display.Latex object>"
      ]
     },
     "metadata": {},
     "output_type": "display_data"
    },
    {
     "data": {
      "text/latex": [
       "$$ f_{3} = 3 - t^{2}$$"
      ],
      "text/plain": [
       "<IPython.core.display.Latex object>"
      ]
     },
     "metadata": {},
     "output_type": "display_data"
    },
    {
     "data": {
      "text/latex": [
       "$$ b_{1} = f_1$$"
      ],
      "text/plain": [
       "<IPython.core.display.Latex object>"
      ]
     },
     "metadata": {},
     "output_type": "display_data"
    },
    {
     "data": {
      "text/latex": [
       "$$ b_2=f_2-\\frac{(f_2;b_1)}{(b_1;b_1)}b_1 $$"
      ],
      "text/plain": [
       "<IPython.core.display.Latex object>"
      ]
     },
     "metadata": {},
     "output_type": "display_data"
    },
    {
     "data": {
      "text/latex": [
       "$$ (f_{2};b_1) = -1\\cdot-2+-2\\cdot-3+-1\\cdot0= 8$$"
      ],
      "text/plain": [
       "<IPython.core.display.Latex object>"
      ]
     },
     "metadata": {},
     "output_type": "display_data"
    },
    {
     "data": {
      "text/latex": [
       "$$ (b_{1};b_1) = -2\\cdot-2+-3\\cdot-3+0\\cdot0= 13$$"
      ],
      "text/plain": [
       "<IPython.core.display.Latex object>"
      ]
     },
     "metadata": {},
     "output_type": "display_data"
    },
    {
     "data": {
      "text/latex": [
       "$$ b_2=(t^{2} - 2)-(\\frac{8}{13})\\cdot (2 t^{2} + t - 3)=- \\frac{3 t^{2}}{13} - \\frac{8 t}{13} - \\frac{2}{13} $$"
      ],
      "text/plain": [
       "<IPython.core.display.Latex object>"
      ]
     },
     "metadata": {},
     "output_type": "display_data"
    },
    {
     "name": "stdout",
     "output_type": "stream",
     "text": [
      "Проверка:\n"
     ]
    },
    {
     "data": {
      "text/latex": [
       "$$ (b_{1};b_2) = 0$$"
      ],
      "text/plain": [
       "<IPython.core.display.Latex object>"
      ]
     },
     "metadata": {},
     "output_type": "display_data"
    },
    {
     "data": {
      "text/latex": [
       "$$ b_3=f_3-\\frac{(f_3;b_1)}{(b_1;b_1)}b_1-\\frac{(f_3;b_2)}{(b_2;b_2)}b_2 $$"
      ],
      "text/plain": [
       "<IPython.core.display.Latex object>"
      ]
     },
     "metadata": {},
     "output_type": "display_data"
    },
    {
     "data": {
      "text/latex": [
       "$$ (f_{3};b_1) = 2\\cdot-2+3\\cdot-3+2\\cdot0= -13$$"
      ],
      "text/plain": [
       "<IPython.core.display.Latex object>"
      ]
     },
     "metadata": {},
     "output_type": "display_data"
    },
    {
     "data": {
      "text/latex": [
       "$$ (f_{3};b_2) = 2\\cdot\\frac{3}{13}+3\\cdot- \\frac{2}{13}+2\\cdot-1= -2$$"
      ],
      "text/plain": [
       "<IPython.core.display.Latex object>"
      ]
     },
     "metadata": {},
     "output_type": "display_data"
    },
    {
     "data": {
      "text/latex": [
       "$$ (b_{2};b_2) = \\frac{3}{13}\\cdot\\frac{3}{13}+- \\frac{2}{13}\\cdot- \\frac{2}{13}+-1\\cdot-1= \\frac{14}{13}$$"
      ],
      "text/plain": [
       "<IPython.core.display.Latex object>"
      ]
     },
     "metadata": {},
     "output_type": "display_data"
    },
    {
     "data": {
      "text/latex": [
       "$$ b_3=(3 - t^{2})-(-1)\\cdot (2 t^{2} + t - 3)-(- \\frac{13}{7})\\cdot (- \\frac{3 t^{2}}{13} - \\frac{8 t}{13} - \\frac{2}{13})=\\frac{4 t^{2}}{7} - \\frac{t}{7} - \\frac{2}{7} $$"
      ],
      "text/plain": [
       "<IPython.core.display.Latex object>"
      ]
     },
     "metadata": {},
     "output_type": "display_data"
    },
    {
     "name": "stdout",
     "output_type": "stream",
     "text": [
      "Проверка:\n"
     ]
    },
    {
     "data": {
      "text/latex": [
       "$$ (b_{1};b_3) = 0$$"
      ],
      "text/plain": [
       "<IPython.core.display.Latex object>"
      ]
     },
     "metadata": {},
     "output_type": "display_data"
    },
    {
     "data": {
      "text/latex": [
       "$$ (b_{2};b_3) = 0$$"
      ],
      "text/plain": [
       "<IPython.core.display.Latex object>"
      ]
     },
     "metadata": {},
     "output_type": "display_data"
    },
    {
     "data": {
      "text/latex": [
       "$$ |b_{1}| = \\sqrt{13}$$"
      ],
      "text/plain": [
       "<IPython.core.display.Latex object>"
      ]
     },
     "metadata": {},
     "output_type": "display_data"
    },
    {
     "data": {
      "text/latex": [
       "$$ |b_{2}| = \\frac{\\sqrt{182}}{13}$$"
      ],
      "text/plain": [
       "<IPython.core.display.Latex object>"
      ]
     },
     "metadata": {},
     "output_type": "display_data"
    },
    {
     "data": {
      "text/latex": [
       "$$ |b_{3}| = \\frac{\\sqrt{14}}{7}$$"
      ],
      "text/plain": [
       "<IPython.core.display.Latex object>"
      ]
     },
     "metadata": {},
     "output_type": "display_data"
    },
    {
     "data": {
      "text/latex": [
       "$$ h_{1} = \\frac{2 \\sqrt{13} t^{2}}{13} + \\frac{\\sqrt{13} t}{13} - \\frac{3 \\sqrt{13}}{13}$$"
      ],
      "text/plain": [
       "<IPython.core.display.Latex object>"
      ]
     },
     "metadata": {},
     "output_type": "display_data"
    },
    {
     "data": {
      "text/latex": [
       "$$ h_{2} = - \\frac{3 \\sqrt{182} t^{2}}{182} - \\frac{4 \\sqrt{182} t}{91} - \\frac{\\sqrt{182}}{91}$$"
      ],
      "text/plain": [
       "<IPython.core.display.Latex object>"
      ]
     },
     "metadata": {},
     "output_type": "display_data"
    },
    {
     "data": {
      "text/latex": [
       "$$ h_{3} = \\frac{2 \\sqrt{14} t^{2}}{7} - \\frac{\\sqrt{14} t}{14} - \\frac{\\sqrt{14}}{7}$$"
      ],
      "text/plain": [
       "<IPython.core.display.Latex object>"
      ]
     },
     "metadata": {},
     "output_type": "display_data"
    }
   ],
   "source": [
    "exprs_3a = [\n",
    "    -3 + 1 * t + 2 * t ** 2,\n",
    "    -2 + 0 * t + 1 * t ** 2,\n",
    "    3 + 0 * t - 1 * t ** 2,\n",
    "]\n",
    "\n",
    "task(exprs_3a, f_3, f_3_solving, f)"
   ]
  },
  {
   "cell_type": "markdown",
   "id": "1b4a1241",
   "metadata": {},
   "source": [
    "## б)"
   ]
  },
  {
   "cell_type": "markdown",
   "id": "ad512202",
   "metadata": {},
   "source": [
    "### Вставьте свои значения сюда"
   ]
  },
  {
   "cell_type": "code",
   "execution_count": 65,
   "id": "ec8c5b3f",
   "metadata": {
    "scrolled": true
   },
   "outputs": [
    {
     "data": {
      "text/latex": [
       "$$ g_{1} = - 7 t^{2} - 2 t - 3$$"
      ],
      "text/plain": [
       "<IPython.core.display.Latex object>"
      ]
     },
     "metadata": {},
     "output_type": "display_data"
    },
    {
     "data": {
      "text/latex": [
       "$$ g_{2} = - 3 t^{2} - t - 2$$"
      ],
      "text/plain": [
       "<IPython.core.display.Latex object>"
      ]
     },
     "metadata": {},
     "output_type": "display_data"
    },
    {
     "data": {
      "text/latex": [
       "$$ g_{3} = 10 t^{2} + 3 t + 4$$"
      ],
      "text/plain": [
       "<IPython.core.display.Latex object>"
      ]
     },
     "metadata": {},
     "output_type": "display_data"
    },
    {
     "data": {
      "text/latex": [
       "$$ b_{1} = g_1$$"
      ],
      "text/plain": [
       "<IPython.core.display.Latex object>"
      ]
     },
     "metadata": {},
     "output_type": "display_data"
    },
    {
     "data": {
      "text/latex": [
       "$$ b_2=g_2-\\frac{(g_2;b_1)}{(b_1;b_1)}b_1 $$"
      ],
      "text/plain": [
       "<IPython.core.display.Latex object>"
      ]
     },
     "metadata": {},
     "output_type": "display_data"
    },
    {
     "data": {
      "text/latex": [
       "$$ (g_{2};b_1) = -4\\cdot-8+-2\\cdot-3+-6\\cdot-12= 110$$"
      ],
      "text/plain": [
       "<IPython.core.display.Latex object>"
      ]
     },
     "metadata": {},
     "output_type": "display_data"
    },
    {
     "data": {
      "text/latex": [
       "$$ (b_{1};b_1) = -8\\cdot-8+-3\\cdot-3+-12\\cdot-12= 217$$"
      ],
      "text/plain": [
       "<IPython.core.display.Latex object>"
      ]
     },
     "metadata": {},
     "output_type": "display_data"
    },
    {
     "data": {
      "text/latex": [
       "$$ b_2=(- 3 t^{2} - t - 2)-(\\frac{110}{217})\\cdot (- 7 t^{2} - 2 t - 3)=\\frac{17 t^{2}}{31} + \\frac{3 t}{217} - \\frac{104}{217} $$"
      ],
      "text/plain": [
       "<IPython.core.display.Latex object>"
      ]
     },
     "metadata": {},
     "output_type": "display_data"
    },
    {
     "name": "stdout",
     "output_type": "stream",
     "text": [
      "Проверка:\n"
     ]
    },
    {
     "data": {
      "text/latex": [
       "$$ (b_{1};b_2) = 0$$"
      ],
      "text/plain": [
       "<IPython.core.display.Latex object>"
      ]
     },
     "metadata": {},
     "output_type": "display_data"
    },
    {
     "data": {
      "text/latex": [
       "$$ b_3=g_3-\\frac{(g_3;b_1)}{(b_1;b_1)}b_1-\\frac{(g_3;b_2)}{(b_2;b_2)}b_2 $$"
      ],
      "text/plain": [
       "<IPython.core.display.Latex object>"
      ]
     },
     "metadata": {},
     "output_type": "display_data"
    },
    {
     "data": {
      "text/latex": [
       "$$ (g_{3};b_1) = 11\\cdot-8+4\\cdot-3+17\\cdot-12= -304$$"
      ],
      "text/plain": [
       "<IPython.core.display.Latex object>"
      ]
     },
     "metadata": {},
     "output_type": "display_data"
    },
    {
     "data": {
      "text/latex": [
       "$$ (g_{3};b_2) = 11\\cdot\\frac{12}{217}+4\\cdot- \\frac{104}{217}+17\\cdot\\frac{18}{217}= \\frac{22}{217}$$"
      ],
      "text/plain": [
       "<IPython.core.display.Latex object>"
      ]
     },
     "metadata": {},
     "output_type": "display_data"
    },
    {
     "data": {
      "text/latex": [
       "$$ (b_{2};b_2) = \\frac{12}{217}\\cdot\\frac{12}{217}+- \\frac{104}{217}\\cdot- \\frac{104}{217}+\\frac{18}{217}\\cdot\\frac{18}{217}= \\frac{52}{217}$$"
      ],
      "text/plain": [
       "<IPython.core.display.Latex object>"
      ]
     },
     "metadata": {},
     "output_type": "display_data"
    },
    {
     "data": {
      "text/latex": [
       "$$ b_3=(10 t^{2} + 3 t + 4)-(- \\frac{304}{217})\\cdot (- 7 t^{2} - 2 t - 3)-(\\frac{11}{26})\\cdot (\\frac{17 t^{2}}{31} + \\frac{3 t}{217} - \\frac{104}{217})=- \\frac{t^{2}}{26} + \\frac{5 t}{26} $$"
      ],
      "text/plain": [
       "<IPython.core.display.Latex object>"
      ]
     },
     "metadata": {},
     "output_type": "display_data"
    },
    {
     "name": "stdout",
     "output_type": "stream",
     "text": [
      "Проверка:\n"
     ]
    },
    {
     "data": {
      "text/latex": [
       "$$ (b_{1};b_3) = 0$$"
      ],
      "text/plain": [
       "<IPython.core.display.Latex object>"
      ]
     },
     "metadata": {},
     "output_type": "display_data"
    },
    {
     "data": {
      "text/latex": [
       "$$ (b_{2};b_3) = 0$$"
      ],
      "text/plain": [
       "<IPython.core.display.Latex object>"
      ]
     },
     "metadata": {},
     "output_type": "display_data"
    },
    {
     "data": {
      "text/latex": [
       "$$ |b_{1}| = \\sqrt{217}$$"
      ],
      "text/plain": [
       "<IPython.core.display.Latex object>"
      ]
     },
     "metadata": {},
     "output_type": "display_data"
    },
    {
     "data": {
      "text/latex": [
       "$$ |b_{2}| = \\frac{2 \\sqrt{2821}}{217}$$"
      ],
      "text/plain": [
       "<IPython.core.display.Latex object>"
      ]
     },
     "metadata": {},
     "output_type": "display_data"
    },
    {
     "data": {
      "text/latex": [
       "$$ |b_{3}| = \\frac{\\sqrt{13}}{13}$$"
      ],
      "text/plain": [
       "<IPython.core.display.Latex object>"
      ]
     },
     "metadata": {},
     "output_type": "display_data"
    },
    {
     "data": {
      "text/latex": [
       "$$ h_{1} = - \\frac{\\sqrt{217} t^{2}}{31} - \\frac{2 \\sqrt{217} t}{217} - \\frac{3 \\sqrt{217}}{217}$$"
      ],
      "text/plain": [
       "<IPython.core.display.Latex object>"
      ]
     },
     "metadata": {},
     "output_type": "display_data"
    },
    {
     "data": {
      "text/latex": [
       "$$ h_{2} = \\frac{17 \\sqrt{2821} t^{2}}{806} + \\frac{3 \\sqrt{2821} t}{5642} - \\frac{4 \\sqrt{2821}}{217}$$"
      ],
      "text/plain": [
       "<IPython.core.display.Latex object>"
      ]
     },
     "metadata": {},
     "output_type": "display_data"
    },
    {
     "data": {
      "text/latex": [
       "$$ h_{3} = - \\frac{\\sqrt{13} t^{2}}{26} + \\frac{5 \\sqrt{13} t}{26}$$"
      ],
      "text/plain": [
       "<IPython.core.display.Latex object>"
      ]
     },
     "metadata": {},
     "output_type": "display_data"
    }
   ],
   "source": [
    "exprs_3b = [\n",
    "    -3 - 2 * t - 7 * t ** 2,\n",
    "    -2 - 1 * t - 3 * t ** 2,\n",
    "    4 + 3 * t + 10 * t ** 2,\n",
    "]\n",
    "\n",
    "task(exprs_3b, f_3, f_3_solving, g)"
   ]
  }
 ],
 "metadata": {
  "kernelspec": {
   "display_name": "Python 3 (ipykernel)",
   "language": "python",
   "name": "python3"
  },
  "language_info": {
   "codemirror_mode": {
    "name": "ipython",
    "version": 3
   },
   "file_extension": ".py",
   "mimetype": "text/x-python",
   "name": "python",
   "nbconvert_exporter": "python",
   "pygments_lexer": "ipython3",
   "version": "3.10.7"
  }
 },
 "nbformat": 4,
 "nbformat_minor": 5
}
