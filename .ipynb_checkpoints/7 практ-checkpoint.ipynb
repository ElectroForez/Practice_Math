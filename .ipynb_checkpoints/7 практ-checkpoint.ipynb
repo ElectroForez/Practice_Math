{
 "cells": [
  {
   "cell_type": "code",
   "execution_count": 1,
   "id": "41ea3d99",
   "metadata": {
    "ExecuteTime": {
     "end_time": "2022-03-20T16:43:34.524898Z",
     "start_time": "2022-03-20T16:43:32.782454Z"
    }
   },
   "outputs": [
    {
     "name": "stdout",
     "output_type": "stream",
     "text": [
      "Requirement already satisfied: sympy in /home/vladt/.local/lib/python3.9/site-packages (1.9)\r\n",
      "Requirement already satisfied: mpmath>=0.19 in /home/vladt/.local/lib/python3.9/site-packages (from sympy) (1.2.1)\r\n"
     ]
    }
   ],
   "source": [
    "!pip install sympy"
   ]
  },
  {
   "cell_type": "code",
   "execution_count": 2,
   "id": "f2580d6d",
   "metadata": {
    "ExecuteTime": {
     "end_time": "2022-03-20T16:43:34.788199Z",
     "start_time": "2022-03-20T16:43:34.529325Z"
    }
   },
   "outputs": [],
   "source": [
    "import os\n",
    "import sys\n",
    "from sympy import *\n",
    "init_printing()"
   ]
  },
  {
   "cell_type": "code",
   "execution_count": 3,
   "id": "4a1d320f",
   "metadata": {
    "ExecuteTime": {
     "end_time": "2022-03-20T16:43:34.791695Z",
     "start_time": "2022-03-20T16:43:34.789329Z"
    }
   },
   "outputs": [],
   "source": [
    "from IPython.core.interactiveshell import InteractiveShell\n",
    "InteractiveShell.ast_node_interactivity = \"all\""
   ]
  },
  {
   "cell_type": "markdown",
   "id": "3dd1b973",
   "metadata": {},
   "source": [
    "# Вставьте здесь ваши параметры"
   ]
  },
  {
   "cell_type": "code",
   "execution_count": 4,
   "id": "839d6134",
   "metadata": {
    "ExecuteTime": {
     "end_time": "2022-03-20T16:43:34.796941Z",
     "start_time": "2022-03-20T16:43:34.793922Z"
    }
   },
   "outputs": [],
   "source": [
    "cosh.__name__='ch'\n",
    "sinh.__name__='sh'"
   ]
  },
  {
   "cell_type": "code",
   "execution_count": 6,
   "id": "b3543071",
   "metadata": {
    "ExecuteTime": {
     "end_time": "2022-03-20T16:44:16.104942Z",
     "start_time": "2022-03-20T16:44:15.981765Z"
    }
   },
   "outputs": [
    {
     "data": {
      "text/latex": [
       "$\\displaystyle \\frac{\\operatorname{ch}{\\left(3 x - 1 \\right)}}{x^{2}}$"
      ],
      "text/plain": [
       "ch(3⋅x - 1)\n",
       "───────────\n",
       "      2    \n",
       "     x     "
      ]
     },
     "execution_count": 6,
     "metadata": {},
     "output_type": "execute_result"
    }
   ],
   "source": [
    "cosh(3 * x -1) / x ** 2"
   ]
  },
  {
   "cell_type": "code",
   "execution_count": 5,
   "id": "92e0f580",
   "metadata": {
    "ExecuteTime": {
     "end_time": "2022-03-20T16:43:36.922832Z",
     "start_time": "2022-03-20T16:43:36.652148Z"
    }
   },
   "outputs": [
    {
     "data": {
      "text/latex": [
       "$\\displaystyle \\sin{\\left(\\frac{\\pi x}{8} \\right)}$"
      ],
      "text/plain": [
       "   ⎛π⋅x⎞\n",
       "sin⎜───⎟\n",
       "   ⎝ 8 ⎠"
      ]
     },
     "execution_count": 5,
     "metadata": {},
     "output_type": "execute_result"
    }
   ],
   "source": [
    "x = Symbol('x')\n",
    "y = Symbol('y')\n",
    "x0 = 4 #сюда вставить ваш x0\n",
    "n_diff = 7 # до производной какой степени считать \n",
    "expr = sin((pi*x)/8)#здесь должно быть выражение\n",
    "expr"
   ]
  },
  {
   "cell_type": "code",
   "execution_count": 25,
   "id": "cf6a0097",
   "metadata": {
    "ExecuteTime": {
     "end_time": "2022-02-23T21:18:07.200236Z",
     "start_time": "2022-02-23T21:18:06.979974Z"
    },
    "scrolled": true
   },
   "outputs": [
    {
     "name": "stdout",
     "output_type": "stream",
     "text": [
      "Выражение\n"
     ]
    },
    {
     "data": {
      "text/latex": [
       "$\\displaystyle \\sin{\\left(\\frac{\\pi x}{8} \\right)}$"
      ],
      "text/plain": [
       "   ⎛π⋅x⎞\n",
       "sin⎜───⎟\n",
       "   ⎝ 8 ⎠"
      ]
     },
     "execution_count": 25,
     "metadata": {},
     "output_type": "execute_result"
    },
    {
     "name": "stdout",
     "output_type": "stream",
     "text": [
      "1 порядок\n"
     ]
    },
    {
     "data": {
      "text/latex": [
       "$\\displaystyle y = \\frac{\\pi \\cos{\\left(\\frac{\\pi x}{8} \\right)}}{8}$"
      ],
      "text/plain": [
       "         ⎛π⋅x⎞\n",
       "    π⋅cos⎜───⎟\n",
       "         ⎝ 8 ⎠\n",
       "y = ──────────\n",
       "        8     "
      ]
     },
     "execution_count": 25,
     "metadata": {},
     "output_type": "execute_result"
    },
    {
     "name": "stdout",
     "output_type": "stream",
     "text": [
      "2 порядок\n"
     ]
    },
    {
     "data": {
      "text/latex": [
       "$\\displaystyle y^{2} = - \\frac{\\pi^{2} \\sin{\\left(\\frac{\\pi x}{8} \\right)}}{64}$"
      ],
      "text/plain": [
       "       2    ⎛π⋅x⎞ \n",
       "     -π ⋅sin⎜───⎟ \n",
       " 2          ⎝ 8 ⎠ \n",
       "y  = ─────────────\n",
       "           64     "
      ]
     },
     "execution_count": 25,
     "metadata": {},
     "output_type": "execute_result"
    },
    {
     "name": "stdout",
     "output_type": "stream",
     "text": [
      "3 порядок\n"
     ]
    },
    {
     "data": {
      "text/latex": [
       "$\\displaystyle y^{3} = - \\frac{\\pi^{3} \\cos{\\left(\\frac{\\pi x}{8} \\right)}}{512}$"
      ],
      "text/plain": [
       "       3    ⎛π⋅x⎞ \n",
       "     -π ⋅cos⎜───⎟ \n",
       " 3          ⎝ 8 ⎠ \n",
       "y  = ─────────────\n",
       "          512     "
      ]
     },
     "execution_count": 25,
     "metadata": {},
     "output_type": "execute_result"
    },
    {
     "name": "stdout",
     "output_type": "stream",
     "text": [
      "4 порядок\n"
     ]
    },
    {
     "data": {
      "text/latex": [
       "$\\displaystyle y^{4} = \\frac{\\pi^{4} \\sin{\\left(\\frac{\\pi x}{8} \\right)}}{4096}$"
      ],
      "text/plain": [
       "      4    ⎛π⋅x⎞\n",
       "     π ⋅sin⎜───⎟\n",
       " 4         ⎝ 8 ⎠\n",
       "y  = ───────────\n",
       "         4096   "
      ]
     },
     "execution_count": 25,
     "metadata": {},
     "output_type": "execute_result"
    },
    {
     "name": "stdout",
     "output_type": "stream",
     "text": [
      "5 порядок\n"
     ]
    },
    {
     "data": {
      "text/latex": [
       "$\\displaystyle y^{5} = \\frac{\\pi^{5} \\cos{\\left(\\frac{\\pi x}{8} \\right)}}{32768}$"
      ],
      "text/plain": [
       "      5    ⎛π⋅x⎞\n",
       "     π ⋅cos⎜───⎟\n",
       " 5         ⎝ 8 ⎠\n",
       "y  = ───────────\n",
       "        32768   "
      ]
     },
     "execution_count": 25,
     "metadata": {},
     "output_type": "execute_result"
    },
    {
     "name": "stdout",
     "output_type": "stream",
     "text": [
      "6 порядок\n"
     ]
    },
    {
     "data": {
      "text/latex": [
       "$\\displaystyle y^{6} = - \\frac{\\pi^{6} \\sin{\\left(\\frac{\\pi x}{8} \\right)}}{262144}$"
      ],
      "text/plain": [
       "       6    ⎛π⋅x⎞ \n",
       "     -π ⋅sin⎜───⎟ \n",
       " 6          ⎝ 8 ⎠ \n",
       "y  = ─────────────\n",
       "         262144   "
      ]
     },
     "execution_count": 25,
     "metadata": {},
     "output_type": "execute_result"
    },
    {
     "name": "stdout",
     "output_type": "stream",
     "text": [
      "7 порядок\n"
     ]
    },
    {
     "data": {
      "text/latex": [
       "$\\displaystyle y^{7} = - \\frac{\\pi^{7} \\cos{\\left(\\frac{\\pi x}{8} \\right)}}{2097152}$"
      ],
      "text/plain": [
       "       7    ⎛π⋅x⎞ \n",
       "     -π ⋅cos⎜───⎟ \n",
       " 7          ⎝ 8 ⎠ \n",
       "y  = ─────────────\n",
       "        2097152   "
      ]
     },
     "execution_count": 25,
     "metadata": {},
     "output_type": "execute_result"
    }
   ],
   "source": [
    "diffs = [expr]\n",
    "print('Выражение')\n",
    "expr\n",
    "for i in range(1, n_diff + 1):\n",
    "    print(i, 'порядок')\n",
    "    expr_dif = expr.diff(x, i)\n",
    "    diffs.append(expr_dif)\n",
    "    out_expr = simplify(expand(expr_dif))\n",
    "    Eq(y ** i, out_expr)"
   ]
  },
  {
   "cell_type": "code",
   "execution_count": 26,
   "id": "b34f6914",
   "metadata": {
    "ExecuteTime": {
     "end_time": "2022-02-23T21:18:07.722514Z",
     "start_time": "2022-02-23T21:18:07.717928Z"
    }
   },
   "outputs": [],
   "source": [
    "y = symbols('y', cls=Function)"
   ]
  },
  {
   "cell_type": "code",
   "execution_count": 31,
   "id": "92e6d367",
   "metadata": {
    "ExecuteTime": {
     "end_time": "2022-02-23T21:25:59.076998Z",
     "start_time": "2022-02-23T21:25:59.040708Z"
    },
    "scrolled": false
   },
   "outputs": [
    {
     "name": "stdout",
     "output_type": "stream",
     "text": [
      "Дифференциал 0-го порядка при x=4\n"
     ]
    },
    {
     "data": {
      "text/latex": [
       "$\\displaystyle y{\\left(4 \\right)} = 1$"
      ],
      "text/plain": [
       "y(4) = 1"
      ]
     },
     "execution_count": 31,
     "metadata": {},
     "output_type": "execute_result"
    },
    {
     "name": "stdout",
     "output_type": "stream",
     "text": [
      "Дифференциал 1-го порядка при x=4\n"
     ]
    },
    {
     "data": {
      "text/latex": [
       "$\\displaystyle y{\\left(4 \\right)} = 0$"
      ],
      "text/plain": [
       "y(4) = 0"
      ]
     },
     "execution_count": 31,
     "metadata": {},
     "output_type": "execute_result"
    },
    {
     "name": "stdout",
     "output_type": "stream",
     "text": [
      "Дифференциал 2-го порядка при x=4\n"
     ]
    },
    {
     "data": {
      "text/latex": [
       "$\\displaystyle y{\\left(4 \\right)} = - \\frac{\\pi^{2}}{64}$"
      ],
      "text/plain": [
       "         2 \n",
       "       -π  \n",
       "y(4) = ────\n",
       "        64 "
      ]
     },
     "execution_count": 31,
     "metadata": {},
     "output_type": "execute_result"
    },
    {
     "name": "stdout",
     "output_type": "stream",
     "text": [
      "Дифференциал 3-го порядка при x=4\n"
     ]
    },
    {
     "data": {
      "text/latex": [
       "$\\displaystyle y{\\left(4 \\right)} = 0$"
      ],
      "text/plain": [
       "y(4) = 0"
      ]
     },
     "execution_count": 31,
     "metadata": {},
     "output_type": "execute_result"
    },
    {
     "name": "stdout",
     "output_type": "stream",
     "text": [
      "Дифференциал 4-го порядка при x=4\n"
     ]
    },
    {
     "data": {
      "text/latex": [
       "$\\displaystyle y{\\left(4 \\right)} = \\frac{\\pi^{4}}{4096}$"
      ],
      "text/plain": [
       "         4 \n",
       "        π  \n",
       "y(4) = ────\n",
       "       4096"
      ]
     },
     "execution_count": 31,
     "metadata": {},
     "output_type": "execute_result"
    },
    {
     "name": "stdout",
     "output_type": "stream",
     "text": [
      "Дифференциал 5-го порядка при x=4\n"
     ]
    },
    {
     "data": {
      "text/latex": [
       "$\\displaystyle y{\\left(4 \\right)} = 0$"
      ],
      "text/plain": [
       "y(4) = 0"
      ]
     },
     "execution_count": 31,
     "metadata": {},
     "output_type": "execute_result"
    },
    {
     "name": "stdout",
     "output_type": "stream",
     "text": [
      "Дифференциал 6-го порядка при x=4\n"
     ]
    },
    {
     "data": {
      "text/latex": [
       "$\\displaystyle y{\\left(4 \\right)} = - \\frac{\\pi^{6}}{262144}$"
      ],
      "text/plain": [
       "          6  \n",
       "        -π   \n",
       "y(4) = ──────\n",
       "       262144"
      ]
     },
     "execution_count": 31,
     "metadata": {},
     "output_type": "execute_result"
    },
    {
     "name": "stdout",
     "output_type": "stream",
     "text": [
      "Дифференциал 7-го порядка при x=4\n"
     ]
    },
    {
     "data": {
      "text/latex": [
       "$\\displaystyle y{\\left(4 \\right)} = 0$"
      ],
      "text/plain": [
       "y(4) = 0"
      ]
     },
     "execution_count": 31,
     "metadata": {},
     "output_type": "execute_result"
    }
   ],
   "source": [
    "for i in range(0, len(diffs)):\n",
    "    print(f'Дифференциал {i}-го порядка при x={x0}')\n",
    "    Eq(y(x0), diffs[i].subs(x, x0))\n",
    "    #diff.subs(x, x0)"
   ]
  },
  {
   "cell_type": "markdown",
   "id": "8a07f80d",
   "metadata": {},
   "source": [
    "Финальное уравнение"
   ]
  },
  {
   "cell_type": "code",
   "execution_count": 28,
   "id": "74e75b86",
   "metadata": {
    "ExecuteTime": {
     "end_time": "2022-02-23T21:18:09.381247Z",
     "start_time": "2022-02-23T21:18:09.289676Z"
    }
   },
   "outputs": [
    {
     "data": {
      "text/latex": [
       "$\\displaystyle 1 - \\frac{\\pi^{2} \\left(x - 4\\right)^{2}}{128} + \\frac{\\pi^{4} \\left(x - 4\\right)^{4}}{98304} - \\frac{\\pi^{6} \\left(x - 4\\right)^{6}}{188743680} + O\\left(\\left(x - 4\\right)^{8}; x\\rightarrow 4\\right)$"
      ],
      "text/plain": [
       "     2        2    4        4    6        6                     \n",
       "    π ⋅(x - 4)    π ⋅(x - 4)    π ⋅(x - 4)     ⎛       8       ⎞\n",
       "1 - ─────────── + ─────────── - ─────────── + O⎝(x - 4) ; x → 4⎠\n",
       "        128          98304       188743680                      "
      ]
     },
     "execution_count": 28,
     "metadata": {},
     "output_type": "execute_result"
    }
   ],
   "source": [
    "expr.series(x0 = x0, n = n_diff + 1)"
   ]
  },
  {
   "cell_type": "code",
   "execution_count": null,
   "id": "0e0552f5",
   "metadata": {},
   "outputs": [],
   "source": []
  }
 ],
 "metadata": {
  "kernelspec": {
   "display_name": "Python 3 (ipykernel)",
   "language": "python",
   "name": "python3"
  },
  "language_info": {
   "codemirror_mode": {
    "name": "ipython",
    "version": 3
   },
   "file_extension": ".py",
   "mimetype": "text/x-python",
   "name": "python",
   "nbconvert_exporter": "python",
   "pygments_lexer": "ipython3",
   "version": "3.9.7"
  },
  "latex_envs": {
   "LaTeX_envs_menu_present": true,
   "autoclose": false,
   "autocomplete": true,
   "bibliofile": "biblio.bib",
   "cite_by": "apalike",
   "current_citInitial": 1,
   "eqLabelWithNumbers": true,
   "eqNumInitial": 1,
   "hotkeys": {
    "equation": "Ctrl-E",
    "itemize": "Ctrl-I"
   },
   "labels_anchors": false,
   "latex_user_defs": false,
   "report_style_numbering": false,
   "user_envs_cfg": false
  }
 },
 "nbformat": 4,
 "nbformat_minor": 5
}
