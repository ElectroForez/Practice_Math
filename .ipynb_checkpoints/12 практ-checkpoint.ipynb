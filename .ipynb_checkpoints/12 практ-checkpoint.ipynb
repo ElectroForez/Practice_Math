{
 "cells": [
  {
   "cell_type": "markdown",
   "id": "d5c8e7e2",
   "metadata": {},
   "source": [
    "Предварительно нужно выбрать план с минимальной стоимостью. Сюда ввести только его"
   ]
  },
  {
   "cell_type": "code",
   "execution_count": 5,
   "id": "af6d57b8",
   "metadata": {
    "ExecuteTime": {
     "end_time": "2022-03-20T14:23:59.575829Z",
     "start_time": "2022-03-20T14:23:59.562652Z"
    }
   },
   "outputs": [],
   "source": [
    "from sympy import *\n",
    "from IPython.core.interactiveshell import InteractiveShell\n",
    "InteractiveShell.ast_node_interactivity = \"all\"\n",
    "from IPython.display import display, Math, Latex\n",
    "init_printing(use_latex='mathjax')\n",
    "from sympy.abc import lamda as lmd"
   ]
  },
  {
   "cell_type": "code",
   "execution_count": 3,
   "id": "9e63729f",
   "metadata": {
    "ExecuteTime": {
     "end_time": "2022-03-20T14:17:25.883109Z",
     "start_time": "2022-03-20T14:17:25.878716Z"
    }
   },
   "outputs": [],
   "source": [
    "_ = None"
   ]
  },
  {
   "cell_type": "code",
   "execution_count": 4,
   "id": "f1eaccdd",
   "metadata": {
    "ExecuteTime": {
     "end_time": "2022-03-20T14:18:18.644653Z",
     "start_time": "2022-03-20T14:18:18.639252Z"
    }
   },
   "outputs": [],
   "source": [
    "C = [[31, 78, 56, 32],\n",
    "     [71, 23, 11, 38],\n",
    "     [35, 36, 17, 81]]\n",
    "a = [[110],\n",
    "     [130],\n",
    "     [260]]\n",
    "b = [90, 100, 190, 120]\n",
    "start_plan = [[90, _, _, 20],\n",
    "              [_, _, 130, _],\n",
    "              [_, 100, 60, 100]]"
   ]
  },
  {
   "cell_type": "code",
   "execution_count": null,
   "id": "5ac00336",
   "metadata": {},
   "outputs": [],
   "source": []
  }
 ],
 "metadata": {
  "kernelspec": {
   "display_name": "Python 3 (ipykernel)",
   "language": "python",
   "name": "python3"
  },
  "language_info": {
   "codemirror_mode": {
    "name": "ipython",
    "version": 3
   },
   "file_extension": ".py",
   "mimetype": "text/x-python",
   "name": "python",
   "nbconvert_exporter": "python",
   "pygments_lexer": "ipython3",
   "version": "3.9.7"
  },
  "latex_envs": {
   "LaTeX_envs_menu_present": true,
   "autoclose": false,
   "autocomplete": true,
   "bibliofile": "biblio.bib",
   "cite_by": "apalike",
   "current_citInitial": 1,
   "eqLabelWithNumbers": true,
   "eqNumInitial": 1,
   "hotkeys": {
    "equation": "Ctrl-E",
    "itemize": "Ctrl-I"
   },
   "labels_anchors": false,
   "latex_user_defs": false,
   "report_style_numbering": false,
   "user_envs_cfg": false
  }
 },
 "nbformat": 4,
 "nbformat_minor": 5
}
