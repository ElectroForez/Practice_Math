{
 "cells": [
  {
   "cell_type": "code",
   "execution_count": 1,
   "id": "09ac5cec",
   "metadata": {
    "ExecuteTime": {
     "end_time": "2022-03-01T09:33:17.574327Z",
     "start_time": "2022-03-01T09:33:16.029591Z"
    }
   },
   "outputs": [
    {
     "name": "stdout",
     "output_type": "stream",
     "text": [
      "Requirement already satisfied: sympy in /home/vladt/.local/lib/python3.9/site-packages (1.9)\r\n",
      "Requirement already satisfied: mpmath>=0.19 in /home/vladt/.local/lib/python3.9/site-packages (from sympy) (1.2.1)\r\n"
     ]
    }
   ],
   "source": [
    "!pip install sympy"
   ]
  },
  {
   "cell_type": "code",
   "execution_count": 1,
   "id": "5933a7ae",
   "metadata": {
    "ExecuteTime": {
     "end_time": "2022-03-02T09:16:05.622673Z",
     "start_time": "2022-03-02T09:16:05.313965Z"
    }
   },
   "outputs": [],
   "source": [
    "import os\n",
    "import sys\n",
    "from sympy import *\n",
    "init_printing()"
   ]
  },
  {
   "cell_type": "code",
   "execution_count": 2,
   "id": "f1f79348",
   "metadata": {
    "ExecuteTime": {
     "end_time": "2022-03-02T09:16:05.626357Z",
     "start_time": "2022-03-02T09:16:05.623947Z"
    }
   },
   "outputs": [],
   "source": [
    "from IPython.core.interactiveshell import InteractiveShell\n",
    "InteractiveShell.ast_node_interactivity = \"all\""
   ]
  },
  {
   "cell_type": "code",
   "execution_count": 3,
   "id": "e5cfcaf9",
   "metadata": {
    "ExecuteTime": {
     "end_time": "2022-03-02T09:16:05.659101Z",
     "start_time": "2022-03-02T09:16:05.655450Z"
    }
   },
   "outputs": [],
   "source": [
    "def get_degree(el):#только для массивов без элементов в виде чисел\n",
    "    '''\n",
    "    Эта функция используется для сортировки членов интеграла по степеням,\n",
    "    а то там порядок сбивается, и отрицательные члены сначала идут\n",
    "    '''\n",
    "    if ask(Q.extended_real(el)):\n",
    "        return el\n",
    "    arg = el.args\n",
    "    if len(arg) > 1:\n",
    "        return get_degree(arg[-1])\n",
    "    if len(arg) == 0:\n",
    "        return 1"
   ]
  },
  {
   "cell_type": "code",
   "execution_count": 4,
   "id": "588d7839",
   "metadata": {
    "ExecuteTime": {
     "end_time": "2022-03-02T09:16:05.828325Z",
     "start_time": "2022-03-02T09:16:05.824512Z"
    }
   },
   "outputs": [],
   "source": [
    "cosh.__name__='ch'\n",
    "sinh.__name__='sh'"
   ]
  },
  {
   "cell_type": "code",
   "execution_count": 5,
   "id": "cc0abb6b",
   "metadata": {
    "ExecuteTime": {
     "end_time": "2022-03-02T09:16:05.997812Z",
     "start_time": "2022-03-02T09:16:05.995085Z"
    }
   },
   "outputs": [],
   "source": [
    "x = Symbol('x')\n",
    "y = Symbol('y')"
   ]
  },
  {
   "cell_type": "markdown",
   "id": "e8ded61c",
   "metadata": {
    "ExecuteTime": {
     "end_time": "2022-02-25T19:56:36.150569Z",
     "start_time": "2022-02-25T19:56:36.146942Z"
    }
   },
   "source": [
    "# КАК ПИСАТЬ ВЫРАЖЕНИЯ"
   ]
  },
  {
   "cell_type": "markdown",
   "id": "02a7bf03",
   "metadata": {},
   "source": [
    "е в степени"
   ]
  },
  {
   "cell_type": "code",
   "execution_count": 6,
   "id": "e758b675",
   "metadata": {
    "ExecuteTime": {
     "end_time": "2022-03-02T09:16:06.791829Z",
     "start_time": "2022-03-02T09:16:06.567078Z"
    }
   },
   "outputs": [
    {
     "data": {
      "text/latex": [
       "$\\displaystyle e^{- 2 x^{2}}$"
      ],
      "text/plain": [
       "     2\n",
       " -2⋅x \n",
       "ℯ     "
      ]
     },
     "execution_count": 6,
     "metadata": {},
     "output_type": "execute_result"
    }
   ],
   "source": [
    "exp(-2 * x ** 2)"
   ]
  },
  {
   "cell_type": "markdown",
   "id": "77df52ea",
   "metadata": {},
   "source": [
    "Дробь, где только циферки"
   ]
  },
  {
   "cell_type": "code",
   "execution_count": 7,
   "id": "597fa759",
   "metadata": {
    "ExecuteTime": {
     "end_time": "2022-03-02T09:16:07.351894Z",
     "start_time": "2022-03-02T09:16:07.345520Z"
    }
   },
   "outputs": [
    {
     "data": {
      "text/latex": [
       "$\\displaystyle \\frac{1}{2}$"
      ],
      "text/plain": [
       "1/2"
      ]
     },
     "execution_count": 7,
     "metadata": {},
     "output_type": "execute_result"
    }
   ],
   "source": [
    "Rational(1, 2)"
   ]
  },
  {
   "cell_type": "markdown",
   "id": "6d8051f5",
   "metadata": {},
   "source": [
    "Так эти дроби писать не надо!"
   ]
  },
  {
   "cell_type": "code",
   "execution_count": 8,
   "id": "6b211f9d",
   "metadata": {
    "ExecuteTime": {
     "end_time": "2022-03-02T09:16:08.870118Z",
     "start_time": "2022-03-02T09:16:08.865374Z"
    }
   },
   "outputs": [
    {
     "data": {
      "text/latex": [
       "$\\displaystyle 0.5$"
      ],
      "text/plain": [
       "0.5"
      ]
     },
     "execution_count": 8,
     "metadata": {},
     "output_type": "execute_result"
    }
   ],
   "source": [
    "1 / 2"
   ]
  },
  {
   "cell_type": "markdown",
   "id": "4c9eb68d",
   "metadata": {
    "ExecuteTime": {
     "end_time": "2022-02-25T20:00:05.757853Z",
     "start_time": "2022-02-25T20:00:05.750828Z"
    }
   },
   "source": [
    "Дробь с букавками"
   ]
  },
  {
   "cell_type": "code",
   "execution_count": 9,
   "id": "3feef46c",
   "metadata": {
    "ExecuteTime": {
     "end_time": "2022-03-02T09:16:09.205118Z",
     "start_time": "2022-03-02T09:16:09.197800Z"
    }
   },
   "outputs": [
    {
     "data": {
      "text/latex": [
       "$\\displaystyle \\frac{e^{- 2 x^{2}}}{\\sqrt{x}}$"
      ],
      "text/plain": [
       "     2\n",
       " -2⋅x \n",
       "ℯ     \n",
       "──────\n",
       "  √x  "
      ]
     },
     "execution_count": 9,
     "metadata": {},
     "output_type": "execute_result"
    }
   ],
   "source": [
    "exp(-2 * x ** 2) / sqrt(x)"
   ]
  },
  {
   "cell_type": "markdown",
   "id": "0b6ccae8",
   "metadata": {},
   "source": [
    "Корень произвольной степени. Знаменатель и есть степень корня. Вспоминайте математику"
   ]
  },
  {
   "cell_type": "code",
   "execution_count": 10,
   "id": "cf194082",
   "metadata": {
    "ExecuteTime": {
     "end_time": "2022-03-02T09:16:09.557590Z",
     "start_time": "2022-03-02T09:16:09.546429Z"
    }
   },
   "outputs": [
    {
     "data": {
      "text/latex": [
       "$\\displaystyle \\sqrt[3]{x + 1}$"
      ],
      "text/plain": [
       "3 _______\n",
       "╲╱ x + 1 "
      ]
     },
     "execution_count": 10,
     "metadata": {},
     "output_type": "execute_result"
    }
   ],
   "source": [
    "(x + 1) ** Rational(1, 3)"
   ]
  },
  {
   "cell_type": "markdown",
   "id": "66101a36",
   "metadata": {},
   "source": [
    "# Вставьте здесь ваши параметры"
   ]
  },
  {
   "cell_type": "code",
   "execution_count": 15,
   "id": "32ebad2b",
   "metadata": {
    "ExecuteTime": {
     "end_time": "2022-03-02T09:16:38.329127Z",
     "start_time": "2022-03-02T09:16:38.320669Z"
    },
    "scrolled": false
   },
   "outputs": [
    {
     "name": "stdout",
     "output_type": "stream",
     "text": [
      "Проверьте, что ваше выражение корректно отображается!\n"
     ]
    },
    {
     "data": {
      "text/latex": [
       "$\\displaystyle \\int\\limits_{0}^{1} \\cos{\\left(\\sqrt[3]{x} \\right)}\\, dx$"
      ],
      "text/plain": [
       "1              \n",
       "⌠              \n",
       "⎮    ⎛3 ___⎞   \n",
       "⎮ cos⎝╲╱ x ⎠ dx\n",
       "⌡              \n",
       "0              "
      ]
     },
     "execution_count": 15,
     "metadata": {},
     "output_type": "execute_result"
    },
    {
     "name": "stdout",
     "output_type": "stream",
     "text": [
      "Вычислить с точностью = 0.001\n"
     ]
    }
   ],
   "source": [
    "x0 = 0 #в этой задаче он должен быть 0, поэтому не меняем\n",
    "accuracy = 0.001 # до производной какой степени считать\n",
    "n = 3 #количество. Минимум 2 должно быть\n",
    "a = 1# a в интеграле(верхняя циферка). Нижняя у всех 0\n",
    "expr = cos(x ** Rational(1, 3))#<------- здесь должно быть ваше выражение\n",
    "print('Проверьте, что ваше выражение корректно отображается!')\n",
    "Integral(expr, (x, 0, a))\n",
    "print('Вычислить с точностью =', accuracy)"
   ]
  },
  {
   "cell_type": "code",
   "execution_count": 16,
   "id": "ed9f9691",
   "metadata": {
    "ExecuteTime": {
     "end_time": "2022-03-02T09:16:38.629698Z",
     "start_time": "2022-03-02T09:16:38.492533Z"
    }
   },
   "outputs": [
    {
     "name": "stdout",
     "output_type": "stream",
     "text": [
      "В знаменателе только x, поэтому его мы игнорируем при дифференцировании, а потом, получив дифференциал, поделием его на этот знаменатель\n",
      "В коде ниже будет результат вместе с делением\n"
     ]
    },
    {
     "data": {
      "text/latex": [
       "$\\displaystyle 3 x^{\\frac{2}{3}} \\cos{\\left(\\sqrt[3]{x} \\right)}$"
      ],
      "text/plain": [
       "   2/3    ⎛3 ___⎞\n",
       "3⋅x   ⋅cos⎝╲╱ x ⎠"
      ]
     },
     "execution_count": 16,
     "metadata": {},
     "output_type": "execute_result"
    }
   ],
   "source": [
    "good_detominator = True\n",
    "for el in expr.args:\n",
    "    degree = get_degree(el)\n",
    "    if (degree is None or ask(Q.extended_real(el))) or degree > 1:\n",
    "        continue\n",
    "    denominator = diff(el, x)\n",
    "    if not ask(Q.extended_real(denominator.subs(x, 0))):\n",
    "        print('В знаменателе только x, поэтому его мы игнорируем при дифференцировании, а потом, получив дифференциал, поделием его на этот знаменатель')\n",
    "        print('В коде ниже будет результат вместе с делением')\n",
    "        new_expr = expr / denominator\n",
    "        new_expr\n",
    "        good_detominator = False\n",
    "        break"
   ]
  },
  {
   "cell_type": "markdown",
   "id": "21218a8d",
   "metadata": {},
   "source": [
    "# Вычисление по точности"
   ]
  },
  {
   "cell_type": "markdown",
   "id": "4c608c40",
   "metadata": {},
   "source": [
    "но Виклянчук сказала, что нужно минимум 4 члена высчитать, поэтому минимум 4 члена и выведется"
   ]
  },
  {
   "cell_type": "code",
   "execution_count": 17,
   "id": "cf4fd78a",
   "metadata": {
    "ExecuteTime": {
     "end_time": "2022-03-02T09:16:48.985276Z",
     "start_time": "2022-03-02T09:16:47.689777Z"
    },
    "scrolled": true
   },
   "outputs": [
    {
     "name": "stdout",
     "output_type": "stream",
     "text": [
      "Выражение\n"
     ]
    },
    {
     "data": {
      "text/latex": [
       "$\\displaystyle \\cos{\\left(\\sqrt[3]{x} \\right)}$"
      ],
      "text/plain": [
       "   ⎛3 ___⎞\n",
       "cos⎝╲╱ x ⎠"
      ]
     },
     "execution_count": 17,
     "metadata": {},
     "output_type": "execute_result"
    },
    {
     "name": "stdout",
     "output_type": "stream",
     "text": [
      "0 порядок\n",
      "Дифференциал\n"
     ]
    },
    {
     "data": {
      "text/latex": [
       "$\\displaystyle y = 3 x^{\\frac{2}{3}} \\cos{\\left(\\sqrt[3]{x} \\right)}$"
      ],
      "text/plain": [
       "       2/3    ⎛3 ___⎞\n",
       "y = 3⋅x   ⋅cos⎝╲╱ x ⎠"
      ]
     },
     "execution_count": 17,
     "metadata": {},
     "output_type": "execute_result"
    },
    {
     "name": "stdout",
     "output_type": "stream",
     "text": [
      "При x = 0\n"
     ]
    },
    {
     "data": {
      "text/latex": [
       "$\\displaystyle y = 0$"
      ],
      "text/plain": [
       "y = 0"
      ]
     },
     "execution_count": 17,
     "metadata": {},
     "output_type": "execute_result"
    },
    {
     "name": "stdout",
     "output_type": "stream",
     "text": [
      "1 порядок\n",
      "Дифференциал\n"
     ]
    },
    {
     "data": {
      "text/latex": [
       "$\\displaystyle y = - \\sin{\\left(\\sqrt[3]{x} \\right)} + \\frac{2 \\cos{\\left(\\sqrt[3]{x} \\right)}}{\\sqrt[3]{x}}$"
      ],
      "text/plain": [
       "                        ⎛3 ___⎞\n",
       "         ⎛3 ___⎞   2⋅cos⎝╲╱ x ⎠\n",
       "y = - sin⎝╲╱ x ⎠ + ────────────\n",
       "                      3 ___    \n",
       "                      ╲╱ x     "
      ]
     },
     "execution_count": 17,
     "metadata": {},
     "output_type": "execute_result"
    },
    {
     "name": "stdout",
     "output_type": "stream",
     "text": [
      "При x = 0\n"
     ]
    },
    {
     "data": {
      "text/latex": [
       "$\\displaystyle \\text{False}$"
      ],
      "text/plain": [
       "False"
      ]
     },
     "execution_count": 17,
     "metadata": {},
     "output_type": "execute_result"
    },
    {
     "name": "stdout",
     "output_type": "stream",
     "text": [
      "2 порядок\n",
      "Дифференциал\n"
     ]
    },
    {
     "data": {
      "text/latex": [
       "$\\displaystyle y = - \\frac{2 \\sin{\\left(\\sqrt[3]{x} \\right)}}{3 x} - \\frac{\\cos{\\left(\\sqrt[3]{x} \\right)}}{3 x^{\\frac{2}{3}}} - \\frac{2 \\cos{\\left(\\sqrt[3]{x} \\right)}}{3 x^{\\frac{4}{3}}}$"
      ],
      "text/plain": [
       "           ⎛3 ___⎞      ⎛3 ___⎞        ⎛3 ___⎞\n",
       "      2⋅sin⎝╲╱ x ⎠   cos⎝╲╱ x ⎠   2⋅cos⎝╲╱ x ⎠\n",
       "y = - ──────────── - ────────── - ────────────\n",
       "          3⋅x             2/3           4/3   \n",
       "                       3⋅x           3⋅x      "
      ]
     },
     "execution_count": 17,
     "metadata": {},
     "output_type": "execute_result"
    },
    {
     "name": "stdout",
     "output_type": "stream",
     "text": [
      "При x = 0\n"
     ]
    },
    {
     "data": {
      "text/latex": [
       "$\\displaystyle \\text{False}$"
      ],
      "text/plain": [
       "False"
      ]
     },
     "execution_count": 17,
     "metadata": {},
     "output_type": "execute_result"
    },
    {
     "name": "stdout",
     "output_type": "stream",
     "text": [
      "3 порядок\n",
      "Дифференциал\n"
     ]
    },
    {
     "data": {
      "text/latex": [
       "$\\displaystyle y = \\frac{x^{\\frac{2}{3}} \\left(\\frac{\\sin{\\left(\\sqrt[3]{x} \\right)}}{x^{2}} + \\frac{6 \\cos{\\left(\\sqrt[3]{x} \\right)}}{x^{\\frac{7}{3}}} - \\frac{10 \\sin{\\left(\\sqrt[3]{x} \\right)}}{x^{\\frac{8}{3}}}\\right) + \\frac{6 \\sin{\\left(\\sqrt[3]{x} \\right)}}{x^{2}} - \\frac{6 \\left(\\cos{\\left(\\sqrt[3]{x} \\right)} - \\frac{2 \\sin{\\left(\\sqrt[3]{x} \\right)}}{\\sqrt[3]{x}}\\right)}{x^{\\frac{5}{3}}} + \\frac{8 \\cos{\\left(\\sqrt[3]{x} \\right)}}{x^{\\frac{7}{3}}}}{9}$"
      ],
      "text/plain": [
       "                                                                        ⎛     \n",
       "                                                                        ⎜   ⎛3\n",
       "                                                                      6⋅⎜cos⎝╲\n",
       "         ⎛   ⎛3 ___⎞        ⎛3 ___⎞         ⎛3 ___⎞⎞        ⎛3 ___⎞     ⎜     \n",
       "     2/3 ⎜sin⎝╲╱ x ⎠   6⋅cos⎝╲╱ x ⎠   10⋅sin⎝╲╱ x ⎠⎟   6⋅sin⎝╲╱ x ⎠     ⎝     \n",
       "    x   ⋅⎜────────── + ──────────── - ─────────────⎟ + ──────────── - ────────\n",
       "         ⎜     2            7/3             8/3    ⎟         2                \n",
       "         ⎝    x            x               x       ⎠        x                 \n",
       "y = ──────────────────────────────────────────────────────────────────────────\n",
       "                                                          9                   \n",
       "\n",
       "             ⎛3 ___⎞⎞               \n",
       " ___⎞   2⋅sin⎝╲╱ x ⎠⎟               \n",
       "╱ x ⎠ - ────────────⎟               \n",
       "           3 ___    ⎟        ⎛3 ___⎞\n",
       "           ╲╱ x     ⎠   8⋅cos⎝╲╱ x ⎠\n",
       "───────────────────── + ────────────\n",
       "      5/3                    7/3    \n",
       "     x                      x       \n",
       "────────────────────────────────────\n",
       "                                    "
      ]
     },
     "execution_count": 17,
     "metadata": {},
     "output_type": "execute_result"
    },
    {
     "name": "stdout",
     "output_type": "stream",
     "text": [
      "При x = 0\n"
     ]
    },
    {
     "data": {
      "text/latex": [
       "$\\displaystyle \\text{False}$"
      ],
      "text/plain": [
       "False"
      ]
     },
     "execution_count": 17,
     "metadata": {},
     "output_type": "execute_result"
    },
    {
     "name": "stdout",
     "output_type": "stream",
     "text": [
      "\n",
      "Финал\n",
      "\n",
      "Дифференциал\n"
     ]
    },
    {
     "data": {
      "text/latex": [
       "$\\displaystyle \\frac{x^{\\frac{8}{3}}}{40320} + \\frac{x^{\\frac{4}{3}}}{24} - \\frac{x^{\\frac{2}{3}}}{2} - \\frac{x^{2}}{720} + 1$"
      ],
      "text/plain": [
       "  8/3    4/3    2/3     2    \n",
       " x      x      x       x     \n",
       "───── + ──── - ──── - ─── + 1\n",
       "40320    24     2     720    "
      ]
     },
     "execution_count": 17,
     "metadata": {},
     "output_type": "execute_result"
    },
    {
     "name": "stdout",
     "output_type": "stream",
     "text": [
      "Интегралыч\n"
     ]
    },
    {
     "data": {
      "text/latex": [
       "$\\displaystyle \\frac{x^{\\frac{11}{3}}}{147840} + \\frac{x^{\\frac{7}{3}}}{56} - \\frac{3 x^{\\frac{5}{3}}}{10} - \\frac{x^{3}}{2160} + x$"
      ],
      "text/plain": [
       " 11/3     7/3      5/3     3     \n",
       "x        x      3⋅x       x      \n",
       "────── + ──── - ────── - ──── + x\n",
       "147840    56      10     2160    "
      ]
     },
     "execution_count": 17,
     "metadata": {},
     "output_type": "execute_result"
    },
    {
     "name": "stdout",
     "output_type": "stream",
     "text": [
      "Убираем последние 2 члена т.к. они дают меньше нужной точности\n",
      "При a = 1\n"
     ]
    },
    {
     "data": {
      "text/latex": [
       "$\\displaystyle \\frac{x^{\\frac{7}{3}}}{56} - \\frac{3 x^{\\frac{5}{3}}}{10} + x = \\frac{201}{280}$"
      ],
      "text/plain": [
       " 7/3      5/3          \n",
       "x      3⋅x          201\n",
       "──── - ────── + x = ───\n",
       " 56      10         280"
      ]
     },
     "execution_count": 17,
     "metadata": {},
     "output_type": "execute_result"
    },
    {
     "name": "stdout",
     "output_type": "stream",
     "text": [
      "Численный ответ =  0.7178571428571429\n",
      "Точность 0.0004561988936988937\n"
     ]
    }
   ],
   "source": [
    "print('Выражение')\n",
    "expr\n",
    "i = 0\n",
    "while True:\n",
    "    print(i, 'порядок')\n",
    "    if good_detominator:\n",
    "        expr_dif = expr.diff(x, i)#дифференциал\n",
    "    else:\n",
    "        expr_dif = new_expr.diff(x, i)\n",
    "    print('Дифференциал')\n",
    "    Eq(y, simplify(expand(expr_dif)))#выводим его\n",
    "    #Eq(y, expr_dif)\n",
    "    print('При x =', x0)\n",
    "    Eq(y, expr_dif.subs(x, x0))#выводим чему равен при подстановке\n",
    "    ser = expr.series(x0=x0, n=i + 1).removeO()#ряд\n",
    "    integral = sorted(integrate(ser, (x)).args, key=get_degree)# интеграл от ряда\n",
    "    if len(integral) >= 2:\n",
    "        l1 = integral[-1].subs(x, a)# последний член интеграла\n",
    "        l2 = integral[-2].subs(x, a)# предпоследний\n",
    "        cur_acc = abs(l2 + l1)#считаем здесь их точность\n",
    "        if cur_acc < accuracy and len(integral) >= 4:\n",
    "            if not good_detominator:#костыль из-за того, что знаменатель пропадает, и на 1 порядок меньше выводится\n",
    "                print(i + 1, 'порядок')\n",
    "                expr_dif = new_expr.diff(x, i + 1)\n",
    "                print('Дифференциал')\n",
    "                Eq(y, expr_dif)#выводим его\n",
    "                print('При x =', x0)\n",
    "                Eq(y, expr_dif.subs(x, x0))#выводим чему равен при подстановке\n",
    "            print('\\nФинал\\n')\n",
    "            print('Дифференциал')\n",
    "            ser\n",
    "            print('Интегралыч')\n",
    "            integrate(ser, (x))\n",
    "            integ_need = Add(*integral[:-2])# нужная часть интеграла для итогового счёта\n",
    "            answer = integ_need.subs(x, a)\n",
    "            print('Убираем последние 2 члена т.к. они дают меньше нужной точности')\n",
    "            print('При a =', a)\n",
    "            Eq(Add(integ_need), answer) \n",
    "            try:\n",
    "                print('Численный ответ = ', answer.p / answer.q)\n",
    "            except AttributeError:\n",
    "                print('Численный ответ = ', answer)\n",
    "            try:\n",
    "                print('Точность',  cur_acc.p / cur_acc.q)\n",
    "            except AttributeError:\n",
    "                print('Точность', cur_acc)\n",
    "            break\n",
    "    i +=1"
   ]
  },
  {
   "cell_type": "code",
   "execution_count": 18,
   "id": "b6c3bf35",
   "metadata": {
    "ExecuteTime": {
     "end_time": "2022-03-02T09:39:46.121482Z",
     "start_time": "2022-03-02T09:39:46.112266Z"
    }
   },
   "outputs": [
    {
     "data": {
      "text/latex": [
       "$\\displaystyle 720$"
      ],
      "text/plain": [
       "720"
      ]
     },
     "execution_count": 18,
     "metadata": {},
     "output_type": "execute_result"
    }
   ],
   "source": [
    "factorial(6)"
   ]
  },
  {
   "cell_type": "markdown",
   "id": "7a5d90fb",
   "metadata": {},
   "source": [
    "# Вычисление по количеству членов"
   ]
  },
  {
   "cell_type": "code",
   "execution_count": 20,
   "id": "bd819b09",
   "metadata": {
    "ExecuteTime": {
     "end_time": "2022-03-01T09:37:28.807018Z",
     "start_time": "2022-03-01T09:37:28.399036Z"
    },
    "scrolled": true
   },
   "outputs": [
    {
     "name": "stdout",
     "output_type": "stream",
     "text": [
      "Выражение\n"
     ]
    },
    {
     "data": {
      "text/latex": [
       "$\\displaystyle \\cos{\\left(\\sqrt[3]{x} \\right)}$"
      ],
      "text/plain": [
       "   ⎛3 ___⎞\n",
       "cos⎝╲╱ x ⎠"
      ]
     },
     "execution_count": 20,
     "metadata": {},
     "output_type": "execute_result"
    },
    {
     "name": "stdout",
     "output_type": "stream",
     "text": [
      "0 порядок\n",
      "\n",
      "Дифференциал\n"
     ]
    },
    {
     "data": {
      "text/latex": [
       "$\\displaystyle y = \\cos{\\left(\\sqrt[3]{x} \\right)}$"
      ],
      "text/plain": [
       "       ⎛3 ___⎞\n",
       "y = cos⎝╲╱ x ⎠"
      ]
     },
     "execution_count": 20,
     "metadata": {},
     "output_type": "execute_result"
    },
    {
     "name": "stdout",
     "output_type": "stream",
     "text": [
      "При x = 0\n"
     ]
    },
    {
     "data": {
      "text/latex": [
       "$\\displaystyle y = 1$"
      ],
      "text/plain": [
       "y = 1"
      ]
     },
     "execution_count": 20,
     "metadata": {},
     "output_type": "execute_result"
    },
    {
     "name": "stdout",
     "output_type": "stream",
     "text": [
      "1 порядок\n",
      "\n",
      "Дифференциал\n"
     ]
    },
    {
     "data": {
      "text/latex": [
       "$\\displaystyle y = - \\frac{\\sin{\\left(\\sqrt[3]{x} \\right)}}{3 x^{\\frac{2}{3}}}$"
      ],
      "text/plain": [
       "        ⎛3 ___⎞ \n",
       "    -sin⎝╲╱ x ⎠ \n",
       "y = ────────────\n",
       "          2/3   \n",
       "       3⋅x      "
      ]
     },
     "execution_count": 20,
     "metadata": {},
     "output_type": "execute_result"
    },
    {
     "name": "stdout",
     "output_type": "stream",
     "text": [
      "При x = 0\n"
     ]
    },
    {
     "data": {
      "text/latex": [
       "$\\displaystyle \\text{False}$"
      ],
      "text/plain": [
       "False"
      ]
     },
     "execution_count": 20,
     "metadata": {},
     "output_type": "execute_result"
    },
    {
     "name": "stdout",
     "output_type": "stream",
     "text": [
      "\n",
      "Финал\n",
      "\n",
      "Дифференциал\n"
     ]
    },
    {
     "data": {
      "text/latex": [
       "$\\displaystyle \\frac{x^{\\frac{4}{3}}}{24} - \\frac{x^{\\frac{2}{3}}}{2} + 1$"
      ],
      "text/plain": [
       " 4/3    2/3    \n",
       "x      x       \n",
       "──── - ──── + 1\n",
       " 24     2      "
      ]
     },
     "execution_count": 20,
     "metadata": {},
     "output_type": "execute_result"
    },
    {
     "name": "stdout",
     "output_type": "stream",
     "text": [
      "Интегралыч\n"
     ]
    },
    {
     "data": {
      "text/latex": [
       "$\\displaystyle \\frac{x^{\\frac{7}{3}}}{56} - \\frac{3 x^{\\frac{5}{3}}}{10} + x$"
      ],
      "text/plain": [
       " 7/3      5/3    \n",
       "x      3⋅x       \n",
       "──── - ────── + x\n",
       " 56      10      "
      ]
     },
     "execution_count": 20,
     "metadata": {},
     "output_type": "execute_result"
    },
    {
     "name": "stdout",
     "output_type": "stream",
     "text": [
      "При a = 1\n"
     ]
    },
    {
     "data": {
      "text/latex": [
       "$\\displaystyle \\frac{x^{\\frac{7}{3}}}{56} - \\frac{3 x^{\\frac{5}{3}}}{10} + x = \\frac{201}{280}$"
      ],
      "text/plain": [
       " 7/3      5/3          \n",
       "x      3⋅x          201\n",
       "──── - ────── + x = ───\n",
       " 56      10         280"
      ]
     },
     "execution_count": 20,
     "metadata": {},
     "output_type": "execute_result"
    },
    {
     "name": "stdout",
     "output_type": "stream",
     "text": [
      "Численный ответ =  0.7178571428571429\n",
      "Точность 0.28214285714285714\n"
     ]
    }
   ],
   "source": [
    "print('Выражение')\n",
    "expr\n",
    "i = 0\n",
    "while True:\n",
    "    print(i, 'порядок\\n')\n",
    "    if good_detominator:\n",
    "        expr_dif = expr.diff(x, i)#дифференциал\n",
    "    else:\n",
    "        expr_dif = new_expr.diff(x, i)\n",
    "    print('Дифференциал')\n",
    "    Eq(y, expr_dif)\n",
    "    print('При x =', x0)\n",
    "    Eq(y, expr_dif.subs(x, x0))\n",
    "    ser = expr.series(x0=x0, n=i + 1).removeO()#ряд\n",
    "    integral = sorted(integrate(ser, (x)).args, key=get_degree)# интеграл от ряда\n",
    "    if len(integral) == n:\n",
    "        l1 = integral[-1].subs(x, a)# последний член интеграла\n",
    "        l2 = integral[-2].subs(x, a)# предпоследний\n",
    "        cur_acc = abs(l2 + l1)# берём модуль\n",
    "        if not good_detominator:#костыль из-за того, что знаменатель пропадает, и на 1 порядок меньше выводится\n",
    "            print(i + 1, 'порядок')\n",
    "            expr_dif = new_expr.diff(x, i + 1)\n",
    "            print('Дифференциал')\n",
    "            Eq(y, expr_dif)#выводим его\n",
    "            print('При x =', x0)\n",
    "            Eq(y, expr_dif.subs(x, x0))#выводим чему равен при подстановке\n",
    "        print('\\nФинал\\n')\n",
    "        print('Дифференциал')\n",
    "        ser\n",
    "        print('Интегралыч')\n",
    "        integ_need = Add(*integral)# нужная часть интеграла для итогового счёта\n",
    "        integ_need\n",
    "        answer = integ_need.subs(x, a)\n",
    "        print('При a =', a)\n",
    "        Eq(Add(integ_need), answer) \n",
    "        try:\n",
    "            print('Численный ответ = ', answer.p / answer.q)\n",
    "        except AttributeError:\n",
    "            print('Численный ответ = ', answer)\n",
    "        try:\n",
    "            print('Точность',  cur_acc.p / cur_acc.q)\n",
    "        except AttributeError:\n",
    "            print('Точность', cur_acc)\n",
    "        break\n",
    "        \n",
    "    i +=1"
   ]
  },
  {
   "cell_type": "code",
   "execution_count": null,
   "id": "30c41172",
   "metadata": {},
   "outputs": [],
   "source": []
  }
 ],
 "metadata": {
  "kernelspec": {
   "display_name": "Python 3 (ipykernel)",
   "language": "python",
   "name": "python3"
  },
  "language_info": {
   "codemirror_mode": {
    "name": "ipython",
    "version": 3
   },
   "file_extension": ".py",
   "mimetype": "text/x-python",
   "name": "python",
   "nbconvert_exporter": "python",
   "pygments_lexer": "ipython3",
   "version": "3.9.7"
  },
  "latex_envs": {
   "LaTeX_envs_menu_present": true,
   "autoclose": false,
   "autocomplete": true,
   "bibliofile": "biblio.bib",
   "cite_by": "apalike",
   "current_citInitial": 1,
   "eqLabelWithNumbers": true,
   "eqNumInitial": 1,
   "hotkeys": {
    "equation": "Ctrl-E",
    "itemize": "Ctrl-I"
   },
   "labels_anchors": false,
   "latex_user_defs": false,
   "report_style_numbering": false,
   "user_envs_cfg": false
  }
 },
 "nbformat": 4,
 "nbformat_minor": 5
}
