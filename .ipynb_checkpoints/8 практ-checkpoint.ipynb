{
 "cells": [
  {
   "cell_type": "code",
   "execution_count": 1,
   "id": "09ac5cec",
   "metadata": {
    "ExecuteTime": {
     "end_time": "2022-03-03T11:59:36.074143Z",
     "start_time": "2022-03-03T11:59:34.608055Z"
    }
   },
   "outputs": [
    {
     "name": "stdout",
     "output_type": "stream",
     "text": [
      "Requirement already satisfied: sympy in /home/vladt/.local/lib/python3.9/site-packages (1.9)\r\n",
      "Requirement already satisfied: mpmath>=0.19 in /home/vladt/.local/lib/python3.9/site-packages (from sympy) (1.2.1)\r\n"
     ]
    }
   ],
   "source": [
    "!pip install sympy"
   ]
  },
  {
   "cell_type": "code",
   "execution_count": 2,
   "id": "5933a7ae",
   "metadata": {
    "ExecuteTime": {
     "end_time": "2022-03-03T11:59:36.321790Z",
     "start_time": "2022-03-03T11:59:36.078599Z"
    }
   },
   "outputs": [],
   "source": [
    "import os\n",
    "import sys\n",
    "from sympy import *\n",
    "init_printing()"
   ]
  },
  {
   "cell_type": "code",
   "execution_count": 3,
   "id": "f1f79348",
   "metadata": {
    "ExecuteTime": {
     "end_time": "2022-03-03T11:59:36.325219Z",
     "start_time": "2022-03-03T11:59:36.322920Z"
    }
   },
   "outputs": [],
   "source": [
    "from IPython.core.interactiveshell import InteractiveShell\n",
    "InteractiveShell.ast_node_interactivity = \"all\""
   ]
  },
  {
   "cell_type": "code",
   "execution_count": 4,
   "id": "e5cfcaf9",
   "metadata": {
    "ExecuteTime": {
     "end_time": "2022-03-03T11:59:36.333400Z",
     "start_time": "2022-03-03T11:59:36.326683Z"
    }
   },
   "outputs": [],
   "source": [
    "def get_degree(el):#только для массивов без элементов в виде чисел\n",
    "    '''\n",
    "    Эта функция используется для сортировки членов интеграла по степеням,\n",
    "    а то там порядок сбивается, и отрицательные члены сначала идут\n",
    "    '''\n",
    "    if ask(Q.extended_real(el)):\n",
    "        return el\n",
    "    arg = el.args\n",
    "    if len(arg) > 1:\n",
    "        return get_degree(arg[-1])\n",
    "    if len(arg) == 0:\n",
    "        return 1"
   ]
  },
  {
   "cell_type": "code",
   "execution_count": 5,
   "id": "588d7839",
   "metadata": {
    "ExecuteTime": {
     "end_time": "2022-03-03T11:59:36.339135Z",
     "start_time": "2022-03-03T11:59:36.334391Z"
    }
   },
   "outputs": [],
   "source": [
    "cosh.__name__='ch'\n",
    "sinh.__name__='sh'"
   ]
  },
  {
   "cell_type": "code",
   "execution_count": 6,
   "id": "cc0abb6b",
   "metadata": {
    "ExecuteTime": {
     "end_time": "2022-03-03T11:59:36.345143Z",
     "start_time": "2022-03-03T11:59:36.340430Z"
    }
   },
   "outputs": [],
   "source": [
    "x = Symbol('x')\n",
    "y = Symbol('y')"
   ]
  },
  {
   "cell_type": "markdown",
   "id": "e8ded61c",
   "metadata": {
    "ExecuteTime": {
     "end_time": "2022-02-25T19:56:36.150569Z",
     "start_time": "2022-02-25T19:56:36.146942Z"
    }
   },
   "source": [
    "# КАК ПИСАТЬ ВЫРАЖЕНИЯ"
   ]
  },
  {
   "cell_type": "markdown",
   "id": "02a7bf03",
   "metadata": {},
   "source": [
    "е в степени"
   ]
  },
  {
   "cell_type": "code",
   "execution_count": 7,
   "id": "e758b675",
   "metadata": {
    "ExecuteTime": {
     "end_time": "2022-03-03T11:59:37.224744Z",
     "start_time": "2022-03-03T11:59:36.989633Z"
    }
   },
   "outputs": [
    {
     "data": {
      "text/latex": [
       "$\\displaystyle e^{- 2 x^{2}}$"
      ],
      "text/plain": [
       "     2\n",
       " -2⋅x \n",
       "ℯ     "
      ]
     },
     "execution_count": 7,
     "metadata": {},
     "output_type": "execute_result"
    }
   ],
   "source": [
    "exp(-2 * x ** 2)"
   ]
  },
  {
   "cell_type": "markdown",
   "id": "77df52ea",
   "metadata": {},
   "source": [
    "Дробь, где только циферки"
   ]
  },
  {
   "cell_type": "code",
   "execution_count": 8,
   "id": "597fa759",
   "metadata": {
    "ExecuteTime": {
     "end_time": "2022-03-03T11:59:37.404059Z",
     "start_time": "2022-03-03T11:59:37.295454Z"
    }
   },
   "outputs": [
    {
     "data": {
      "text/latex": [
       "$\\displaystyle \\frac{1}{2}$"
      ],
      "text/plain": [
       "1/2"
      ]
     },
     "execution_count": 8,
     "metadata": {},
     "output_type": "execute_result"
    }
   ],
   "source": [
    "Rational(1, 2)"
   ]
  },
  {
   "cell_type": "markdown",
   "id": "6d8051f5",
   "metadata": {},
   "source": [
    "Так эти дроби писать не надо!"
   ]
  },
  {
   "cell_type": "code",
   "execution_count": 9,
   "id": "6b211f9d",
   "metadata": {
    "ExecuteTime": {
     "end_time": "2022-03-03T11:59:37.724697Z",
     "start_time": "2022-03-03T11:59:37.615341Z"
    }
   },
   "outputs": [
    {
     "data": {
      "text/latex": [
       "$\\displaystyle 0.5$"
      ],
      "text/plain": [
       "0.5"
      ]
     },
     "execution_count": 9,
     "metadata": {},
     "output_type": "execute_result"
    }
   ],
   "source": [
    "1 / 2"
   ]
  },
  {
   "cell_type": "markdown",
   "id": "4c9eb68d",
   "metadata": {
    "ExecuteTime": {
     "end_time": "2022-02-25T20:00:05.757853Z",
     "start_time": "2022-02-25T20:00:05.750828Z"
    }
   },
   "source": [
    "Дробь с букавками"
   ]
  },
  {
   "cell_type": "code",
   "execution_count": 10,
   "id": "3feef46c",
   "metadata": {
    "ExecuteTime": {
     "end_time": "2022-03-03T11:59:38.246449Z",
     "start_time": "2022-03-03T11:59:38.135360Z"
    }
   },
   "outputs": [
    {
     "data": {
      "text/latex": [
       "$\\displaystyle \\frac{e^{- 2 x^{2}}}{\\sqrt{x}}$"
      ],
      "text/plain": [
       "     2\n",
       " -2⋅x \n",
       "ℯ     \n",
       "──────\n",
       "  √x  "
      ]
     },
     "execution_count": 10,
     "metadata": {},
     "output_type": "execute_result"
    }
   ],
   "source": [
    "exp(-2 * x ** 2) / sqrt(x)"
   ]
  },
  {
   "cell_type": "markdown",
   "id": "0b6ccae8",
   "metadata": {},
   "source": [
    "Корень произвольной степени. Знаменатель и есть степень корня. Вспоминайте математику"
   ]
  },
  {
   "cell_type": "code",
   "execution_count": 11,
   "id": "cf194082",
   "metadata": {
    "ExecuteTime": {
     "end_time": "2022-03-03T11:59:39.493090Z",
     "start_time": "2022-03-03T11:59:39.377703Z"
    }
   },
   "outputs": [
    {
     "data": {
      "text/latex": [
       "$\\displaystyle \\sqrt[3]{x + 1}$"
      ],
      "text/plain": [
       "3 _______\n",
       "╲╱ x + 1 "
      ]
     },
     "execution_count": 11,
     "metadata": {},
     "output_type": "execute_result"
    }
   ],
   "source": [
    "(x + 1) ** Rational(1, 3)"
   ]
  },
  {
   "cell_type": "markdown",
   "id": "66101a36",
   "metadata": {},
   "source": [
    "# Вставьте здесь ваши параметры"
   ]
  },
  {
   "cell_type": "code",
   "execution_count": 18,
   "id": "32ebad2b",
   "metadata": {
    "ExecuteTime": {
     "end_time": "2022-03-03T12:02:09.079699Z",
     "start_time": "2022-03-03T12:02:08.970237Z"
    },
    "scrolled": false
   },
   "outputs": [
    {
     "name": "stdout",
     "output_type": "stream",
     "text": [
      "Проверьте, что ваше выражение корректно отображается!\n"
     ]
    },
    {
     "data": {
      "text/latex": [
       "$\\displaystyle \\int\\limits_{0}^{0.5} \\frac{1}{x^{3} + 1}\\, dx$"
      ],
      "text/plain": [
       "0.5          \n",
       " ⌠           \n",
       " ⎮    1      \n",
       " ⎮  ────── dx\n",
       " ⎮   3       \n",
       " ⎮  x  + 1   \n",
       " ⌡           \n",
       " 0           "
      ]
     },
     "execution_count": 18,
     "metadata": {},
     "output_type": "execute_result"
    },
    {
     "name": "stdout",
     "output_type": "stream",
     "text": [
      "Вычислить с точностью = 0.001\n"
     ]
    }
   ],
   "source": [
    "x0 = 0 #в этой задаче он должен быть 0, поэтому не меняем\n",
    "accuracy = 0.001 # до производной какой степени считать\n",
    "n = 3 #количество. Минимум 2 должно быть\n",
    "a = 0.5# a в интеграле(верхняя циферка). Нижняя у всех 0\n",
    "expr = 1 /(x ** 3 + 1)#<------- здесь должно быть ваше выражение\n",
    "print('Проверьте, что ваше выражение корректно отображается!')\n",
    "Integral(expr, (x, 0, a))\n",
    "print('Вычислить с точностью =', accuracy)"
   ]
  },
  {
   "cell_type": "code",
   "execution_count": 19,
   "id": "ed9f9691",
   "metadata": {
    "ExecuteTime": {
     "end_time": "2022-03-03T12:02:10.025165Z",
     "start_time": "2022-03-03T12:02:09.872340Z"
    }
   },
   "outputs": [],
   "source": [
    "good_detominator = True\n",
    "for el in expr.args:\n",
    "    degree = get_degree(el)\n",
    "    if (degree is None or ask(Q.extended_real(el))) or degree > 1:\n",
    "        continue\n",
    "    denominator = el\n",
    "    if not ask(Q.extended_real(denominator.subs(x, 0))) or denominator.subs(x, 0) == 0:\n",
    "        print('В знаменателе только x, поэтому его мы игнорируем при дифференцировании, а потом, получив дифференциал, поделием его на этот знаменатель')\n",
    "        print('В коде ниже будет результат вместе с делением')\n",
    "        new_expr = expr / denominator\n",
    "        new_expr\n",
    "        good_detominator = False\n",
    "        break"
   ]
  },
  {
   "cell_type": "markdown",
   "id": "21218a8d",
   "metadata": {},
   "source": [
    "# Вычисление по точности"
   ]
  },
  {
   "cell_type": "markdown",
   "id": "4c608c40",
   "metadata": {},
   "source": [
    "но Виклянчук сказала, что нужно минимум 4 члена высчитать, поэтому минимум 4 члена и выведется"
   ]
  },
  {
   "cell_type": "code",
   "execution_count": 21,
   "id": "cf4fd78a",
   "metadata": {
    "ExecuteTime": {
     "end_time": "2022-03-03T12:04:30.155932Z",
     "start_time": "2022-03-03T12:04:20.854513Z"
    },
    "scrolled": true
   },
   "outputs": [
    {
     "name": "stdout",
     "output_type": "stream",
     "text": [
      "Выражение\n"
     ]
    },
    {
     "data": {
      "text/latex": [
       "$\\displaystyle \\frac{1}{x^{3} + 1}$"
      ],
      "text/plain": [
       "  1   \n",
       "──────\n",
       " 3    \n",
       "x  + 1"
      ]
     },
     "execution_count": 21,
     "metadata": {},
     "output_type": "execute_result"
    },
    {
     "name": "stdout",
     "output_type": "stream",
     "text": [
      "0 порядок\n",
      "Дифференциал\n"
     ]
    },
    {
     "data": {
      "text/latex": [
       "$\\displaystyle y = \\frac{1}{x^{3} + 1}$"
      ],
      "text/plain": [
       "      1   \n",
       "y = ──────\n",
       "     3    \n",
       "    x  + 1"
      ]
     },
     "execution_count": 21,
     "metadata": {},
     "output_type": "execute_result"
    },
    {
     "name": "stdout",
     "output_type": "stream",
     "text": [
      "При x = 0\n"
     ]
    },
    {
     "data": {
      "text/latex": [
       "$\\displaystyle y = 1$"
      ],
      "text/plain": [
       "y = 1"
      ]
     },
     "execution_count": 21,
     "metadata": {},
     "output_type": "execute_result"
    },
    {
     "data": {
      "text/latex": [
       "$\\displaystyle \\left[ \\right]$"
      ],
      "text/plain": [
       "[]"
      ]
     },
     "execution_count": 21,
     "metadata": {},
     "output_type": "execute_result"
    },
    {
     "data": {
      "text/latex": [
       "$\\displaystyle 0$"
      ],
      "text/plain": [
       "0"
      ]
     },
     "execution_count": 21,
     "metadata": {},
     "output_type": "execute_result"
    },
    {
     "name": "stdout",
     "output_type": "stream",
     "text": [
      "1 порядок\n",
      "Дифференциал\n"
     ]
    },
    {
     "data": {
      "text/latex": [
       "$\\displaystyle y = - \\frac{3 x^{2}}{\\left(x^{3} + 1\\right)^{2}}$"
      ],
      "text/plain": [
       "          2  \n",
       "      -3⋅x   \n",
       "y = ─────────\n",
       "            2\n",
       "    ⎛ 3    ⎞ \n",
       "    ⎝x  + 1⎠ "
      ]
     },
     "execution_count": 21,
     "metadata": {},
     "output_type": "execute_result"
    },
    {
     "name": "stdout",
     "output_type": "stream",
     "text": [
      "При x = 0\n"
     ]
    },
    {
     "data": {
      "text/latex": [
       "$\\displaystyle y = 0$"
      ],
      "text/plain": [
       "y = 0"
      ]
     },
     "execution_count": 21,
     "metadata": {},
     "output_type": "execute_result"
    },
    {
     "data": {
      "text/latex": [
       "$\\displaystyle \\left[ \\right]$"
      ],
      "text/plain": [
       "[]"
      ]
     },
     "execution_count": 21,
     "metadata": {},
     "output_type": "execute_result"
    },
    {
     "data": {
      "text/latex": [
       "$\\displaystyle 0$"
      ],
      "text/plain": [
       "0"
      ]
     },
     "execution_count": 21,
     "metadata": {},
     "output_type": "execute_result"
    },
    {
     "name": "stdout",
     "output_type": "stream",
     "text": [
      "2 порядок\n",
      "Дифференциал\n"
     ]
    },
    {
     "data": {
      "text/latex": [
       "$\\displaystyle y = \\frac{6 x \\left(\\frac{3 x^{3}}{x^{3} + 1} - 1\\right)}{\\left(x^{3} + 1\\right)^{2}}$"
      ],
      "text/plain": [
       "        ⎛    3     ⎞\n",
       "        ⎜ 3⋅x      ⎟\n",
       "    6⋅x⋅⎜────── - 1⎟\n",
       "        ⎜ 3        ⎟\n",
       "        ⎝x  + 1    ⎠\n",
       "y = ────────────────\n",
       "               2    \n",
       "       ⎛ 3    ⎞     \n",
       "       ⎝x  + 1⎠     "
      ]
     },
     "execution_count": 21,
     "metadata": {},
     "output_type": "execute_result"
    },
    {
     "name": "stdout",
     "output_type": "stream",
     "text": [
      "При x = 0\n"
     ]
    },
    {
     "data": {
      "text/latex": [
       "$\\displaystyle y = 0$"
      ],
      "text/plain": [
       "y = 0"
      ]
     },
     "execution_count": 21,
     "metadata": {},
     "output_type": "execute_result"
    },
    {
     "data": {
      "text/latex": [
       "$\\displaystyle \\left[ \\right]$"
      ],
      "text/plain": [
       "[]"
      ]
     },
     "execution_count": 21,
     "metadata": {},
     "output_type": "execute_result"
    },
    {
     "data": {
      "text/latex": [
       "$\\displaystyle 0$"
      ],
      "text/plain": [
       "0"
      ]
     },
     "execution_count": 21,
     "metadata": {},
     "output_type": "execute_result"
    },
    {
     "name": "stdout",
     "output_type": "stream",
     "text": [
      "3 порядок\n",
      "Дифференциал\n"
     ]
    },
    {
     "data": {
      "text/latex": [
       "$\\displaystyle y = \\frac{6 \\left(- \\frac{27 x^{6}}{\\left(x^{3} + 1\\right)^{2}} + \\frac{18 x^{3}}{x^{3} + 1} - 1\\right)}{\\left(x^{3} + 1\\right)^{2}}$"
      ],
      "text/plain": [
       "      ⎛        6         3     ⎞\n",
       "      ⎜    27⋅x      18⋅x      ⎟\n",
       "    6⋅⎜- ───────── + ────── - 1⎟\n",
       "      ⎜          2    3        ⎟\n",
       "      ⎜  ⎛ 3    ⎞    x  + 1    ⎟\n",
       "      ⎝  ⎝x  + 1⎠              ⎠\n",
       "y = ────────────────────────────\n",
       "                     2          \n",
       "             ⎛ 3    ⎞           \n",
       "             ⎝x  + 1⎠           "
      ]
     },
     "execution_count": 21,
     "metadata": {},
     "output_type": "execute_result"
    },
    {
     "name": "stdout",
     "output_type": "stream",
     "text": [
      "При x = 0\n"
     ]
    },
    {
     "data": {
      "text/latex": [
       "$\\displaystyle y = -6$"
      ],
      "text/plain": [
       "y = -6"
      ]
     },
     "execution_count": 21,
     "metadata": {},
     "output_type": "execute_result"
    },
    {
     "data": {
      "text/latex": [
       "$\\displaystyle \\left[ x, \\  - \\frac{x^{4}}{4}\\right]$"
      ],
      "text/plain": [
       "⎡     4 ⎤\n",
       "⎢   -x  ⎥\n",
       "⎢x, ────⎥\n",
       "⎣    4  ⎦"
      ]
     },
     "execution_count": 21,
     "metadata": {},
     "output_type": "execute_result"
    },
    {
     "data": {
      "text/latex": [
       "$\\displaystyle - \\frac{x^{4}}{4} + x$"
      ],
      "text/plain": [
       "   4    \n",
       "  x     \n",
       "- ── + x\n",
       "  4     "
      ]
     },
     "execution_count": 21,
     "metadata": {},
     "output_type": "execute_result"
    },
    {
     "name": "stdout",
     "output_type": "stream",
     "text": [
      "4 порядок\n",
      "Дифференциал\n"
     ]
    },
    {
     "data": {
      "text/latex": [
       "$\\displaystyle y = \\frac{72 x^{2} \\left(\\frac{27 x^{6}}{\\left(x^{3} + 1\\right)^{2}} - \\frac{27 x^{3}}{x^{3} + 1} + 5\\right)}{\\left(x^{3} + 1\\right)^{3}}$"
      ],
      "text/plain": [
       "          ⎛      6         3     ⎞\n",
       "        2 ⎜  27⋅x      27⋅x      ⎟\n",
       "    72⋅x ⋅⎜───────── - ────── + 5⎟\n",
       "          ⎜        2    3        ⎟\n",
       "          ⎜⎛ 3    ⎞    x  + 1    ⎟\n",
       "          ⎝⎝x  + 1⎠              ⎠\n",
       "y = ──────────────────────────────\n",
       "                      3           \n",
       "              ⎛ 3    ⎞            \n",
       "              ⎝x  + 1⎠            "
      ]
     },
     "execution_count": 21,
     "metadata": {},
     "output_type": "execute_result"
    },
    {
     "name": "stdout",
     "output_type": "stream",
     "text": [
      "При x = 0\n"
     ]
    },
    {
     "data": {
      "text/latex": [
       "$\\displaystyle y = 0$"
      ],
      "text/plain": [
       "y = 0"
      ]
     },
     "execution_count": 21,
     "metadata": {},
     "output_type": "execute_result"
    },
    {
     "data": {
      "text/latex": [
       "$\\displaystyle \\left[ x, \\  - \\frac{x^{4}}{4}\\right]$"
      ],
      "text/plain": [
       "⎡     4 ⎤\n",
       "⎢   -x  ⎥\n",
       "⎢x, ────⎥\n",
       "⎣    4  ⎦"
      ]
     },
     "execution_count": 21,
     "metadata": {},
     "output_type": "execute_result"
    },
    {
     "data": {
      "text/latex": [
       "$\\displaystyle - \\frac{x^{4}}{4} + x$"
      ],
      "text/plain": [
       "   4    \n",
       "  x     \n",
       "- ── + x\n",
       "  4     "
      ]
     },
     "execution_count": 21,
     "metadata": {},
     "output_type": "execute_result"
    },
    {
     "name": "stdout",
     "output_type": "stream",
     "text": [
      "5 порядок\n",
      "Дифференциал\n"
     ]
    },
    {
     "data": {
      "text/latex": [
       "$\\displaystyle y = \\frac{360 x \\left(- \\frac{81 x^{9}}{\\left(x^{3} + 1\\right)^{3}} + \\frac{108 x^{6}}{\\left(x^{3} + 1\\right)^{2}} - \\frac{36 x^{3}}{x^{3} + 1} + 2\\right)}{\\left(x^{3} + 1\\right)^{3}}$"
      ],
      "text/plain": [
       "          ⎛        9            6        3     ⎞\n",
       "          ⎜    81⋅x        108⋅x     36⋅x      ⎟\n",
       "    360⋅x⋅⎜- ───────── + ───────── - ────── + 2⎟\n",
       "          ⎜          3           2    3        ⎟\n",
       "          ⎜  ⎛ 3    ⎞    ⎛ 3    ⎞    x  + 1    ⎟\n",
       "          ⎝  ⎝x  + 1⎠    ⎝x  + 1⎠              ⎠\n",
       "y = ────────────────────────────────────────────\n",
       "                             3                  \n",
       "                     ⎛ 3    ⎞                   \n",
       "                     ⎝x  + 1⎠                   "
      ]
     },
     "execution_count": 21,
     "metadata": {},
     "output_type": "execute_result"
    },
    {
     "name": "stdout",
     "output_type": "stream",
     "text": [
      "При x = 0\n"
     ]
    },
    {
     "data": {
      "text/latex": [
       "$\\displaystyle y = 0$"
      ],
      "text/plain": [
       "y = 0"
      ]
     },
     "execution_count": 21,
     "metadata": {},
     "output_type": "execute_result"
    },
    {
     "data": {
      "text/latex": [
       "$\\displaystyle \\left[ x, \\  - \\frac{x^{4}}{4}\\right]$"
      ],
      "text/plain": [
       "⎡     4 ⎤\n",
       "⎢   -x  ⎥\n",
       "⎢x, ────⎥\n",
       "⎣    4  ⎦"
      ]
     },
     "execution_count": 21,
     "metadata": {},
     "output_type": "execute_result"
    },
    {
     "data": {
      "text/latex": [
       "$\\displaystyle - \\frac{x^{4}}{4} + x$"
      ],
      "text/plain": [
       "   4    \n",
       "  x     \n",
       "- ── + x\n",
       "  4     "
      ]
     },
     "execution_count": 21,
     "metadata": {},
     "output_type": "execute_result"
    },
    {
     "name": "stdout",
     "output_type": "stream",
     "text": [
      "6 порядок\n",
      "Дифференциал\n"
     ]
    },
    {
     "data": {
      "text/latex": [
       "$\\displaystyle y = \\frac{720 \\left(\\frac{729 x^{12}}{\\left(x^{3} + 1\\right)^{4}} - \\frac{1215 x^{9}}{\\left(x^{3} + 1\\right)^{3}} + \\frac{594 x^{6}}{\\left(x^{3} + 1\\right)^{2}} - \\frac{81 x^{3}}{x^{3} + 1} + 1\\right)}{\\left(x^{3} + 1\\right)^{3}}$"
      ],
      "text/plain": [
       "        ⎛      12           9           6        3     ⎞\n",
       "        ⎜ 729⋅x       1215⋅x       594⋅x     81⋅x      ⎟\n",
       "    720⋅⎜───────── - ───────── + ───────── - ────── + 1⎟\n",
       "        ⎜        4           3           2    3        ⎟\n",
       "        ⎜⎛ 3    ⎞    ⎛ 3    ⎞    ⎛ 3    ⎞    x  + 1    ⎟\n",
       "        ⎝⎝x  + 1⎠    ⎝x  + 1⎠    ⎝x  + 1⎠              ⎠\n",
       "y = ────────────────────────────────────────────────────\n",
       "                                 3                      \n",
       "                         ⎛ 3    ⎞                       \n",
       "                         ⎝x  + 1⎠                       "
      ]
     },
     "execution_count": 21,
     "metadata": {},
     "output_type": "execute_result"
    },
    {
     "name": "stdout",
     "output_type": "stream",
     "text": [
      "При x = 0\n"
     ]
    },
    {
     "data": {
      "text/latex": [
       "$\\displaystyle y = 720$"
      ],
      "text/plain": [
       "y = 720"
      ]
     },
     "execution_count": 21,
     "metadata": {},
     "output_type": "execute_result"
    },
    {
     "data": {
      "text/latex": [
       "$\\displaystyle \\left[ x, \\  - \\frac{x^{4}}{4}, \\  \\frac{x^{7}}{7}\\right]$"
      ],
      "text/plain": [
       "⎡     4    7⎤\n",
       "⎢   -x    x ⎥\n",
       "⎢x, ────, ──⎥\n",
       "⎣    4    7 ⎦"
      ]
     },
     "execution_count": 21,
     "metadata": {},
     "output_type": "execute_result"
    },
    {
     "data": {
      "text/latex": [
       "$\\displaystyle \\frac{x^{7}}{7} - \\frac{x^{4}}{4} + x$"
      ],
      "text/plain": [
       " 7    4    \n",
       "x    x     \n",
       "── - ── + x\n",
       "7    4     "
      ]
     },
     "execution_count": 21,
     "metadata": {},
     "output_type": "execute_result"
    },
    {
     "name": "stdout",
     "output_type": "stream",
     "text": [
      "7 порядок\n",
      "Дифференциал\n"
     ]
    },
    {
     "data": {
      "text/latex": [
       "$\\displaystyle y = \\frac{45360 x^{2} \\left(- \\frac{243 x^{12}}{\\left(x^{3} + 1\\right)^{4}} + \\frac{486 x^{9}}{\\left(x^{3} + 1\\right)^{3}} - \\frac{315 x^{6}}{\\left(x^{3} + 1\\right)^{2}} + \\frac{72 x^{3}}{x^{3} + 1} - 4\\right)}{\\left(x^{3} + 1\\right)^{4}}$"
      ],
      "text/plain": [
       "             ⎛        12           9           6        3     ⎞\n",
       "           2 ⎜   243⋅x        486⋅x       315⋅x     72⋅x      ⎟\n",
       "    45360⋅x ⋅⎜- ───────── + ───────── - ───────── + ────── - 4⎟\n",
       "             ⎜          4           3           2    3        ⎟\n",
       "             ⎜  ⎛ 3    ⎞    ⎛ 3    ⎞    ⎛ 3    ⎞    x  + 1    ⎟\n",
       "             ⎝  ⎝x  + 1⎠    ⎝x  + 1⎠    ⎝x  + 1⎠              ⎠\n",
       "y = ───────────────────────────────────────────────────────────\n",
       "                                     4                         \n",
       "                             ⎛ 3    ⎞                          \n",
       "                             ⎝x  + 1⎠                          "
      ]
     },
     "execution_count": 21,
     "metadata": {},
     "output_type": "execute_result"
    },
    {
     "name": "stdout",
     "output_type": "stream",
     "text": [
      "При x = 0\n"
     ]
    },
    {
     "data": {
      "text/latex": [
       "$\\displaystyle y = 0$"
      ],
      "text/plain": [
       "y = 0"
      ]
     },
     "execution_count": 21,
     "metadata": {},
     "output_type": "execute_result"
    },
    {
     "data": {
      "text/latex": [
       "$\\displaystyle \\left[ x, \\  - \\frac{x^{4}}{4}, \\  \\frac{x^{7}}{7}\\right]$"
      ],
      "text/plain": [
       "⎡     4    7⎤\n",
       "⎢   -x    x ⎥\n",
       "⎢x, ────, ──⎥\n",
       "⎣    4    7 ⎦"
      ]
     },
     "execution_count": 21,
     "metadata": {},
     "output_type": "execute_result"
    },
    {
     "data": {
      "text/latex": [
       "$\\displaystyle \\frac{x^{7}}{7} - \\frac{x^{4}}{4} + x$"
      ],
      "text/plain": [
       " 7    4    \n",
       "x    x     \n",
       "── - ── + x\n",
       "7    4     "
      ]
     },
     "execution_count": 21,
     "metadata": {},
     "output_type": "execute_result"
    },
    {
     "name": "stdout",
     "output_type": "stream",
     "text": [
      "8 порядок\n",
      "Дифференциал\n"
     ]
    },
    {
     "data": {
      "text/latex": [
       "$\\displaystyle y = \\frac{362880 x \\left(\\frac{729 x^{15}}{\\left(x^{3} + 1\\right)^{5}} - \\frac{1701 x^{12}}{\\left(x^{3} + 1\\right)^{4}} + \\frac{1377 x^{9}}{\\left(x^{3} + 1\\right)^{3}} - \\frac{450 x^{6}}{\\left(x^{3} + 1\\right)^{2}} + \\frac{51 x^{3}}{x^{3} + 1} - 1\\right)}{\\left(x^{3} + 1\\right)^{4}}$"
      ],
      "text/plain": [
       "             ⎛      15           12          9           6        3     ⎞\n",
       "             ⎜ 729⋅x       1701⋅x      1377⋅x       450⋅x     51⋅x      ⎟\n",
       "    362880⋅x⋅⎜───────── - ───────── + ───────── - ───────── + ────── - 1⎟\n",
       "             ⎜        5           4           3           2    3        ⎟\n",
       "             ⎜⎛ 3    ⎞    ⎛ 3    ⎞    ⎛ 3    ⎞    ⎛ 3    ⎞    x  + 1    ⎟\n",
       "             ⎝⎝x  + 1⎠    ⎝x  + 1⎠    ⎝x  + 1⎠    ⎝x  + 1⎠              ⎠\n",
       "y = ─────────────────────────────────────────────────────────────────────\n",
       "                                          4                              \n",
       "                                  ⎛ 3    ⎞                               \n",
       "                                  ⎝x  + 1⎠                               "
      ]
     },
     "execution_count": 21,
     "metadata": {},
     "output_type": "execute_result"
    },
    {
     "name": "stdout",
     "output_type": "stream",
     "text": [
      "При x = 0\n"
     ]
    },
    {
     "data": {
      "text/latex": [
       "$\\displaystyle y = 0$"
      ],
      "text/plain": [
       "y = 0"
      ]
     },
     "execution_count": 21,
     "metadata": {},
     "output_type": "execute_result"
    },
    {
     "data": {
      "text/latex": [
       "$\\displaystyle \\left[ x, \\  - \\frac{x^{4}}{4}, \\  \\frac{x^{7}}{7}\\right]$"
      ],
      "text/plain": [
       "⎡     4    7⎤\n",
       "⎢   -x    x ⎥\n",
       "⎢x, ────, ──⎥\n",
       "⎣    4    7 ⎦"
      ]
     },
     "execution_count": 21,
     "metadata": {},
     "output_type": "execute_result"
    },
    {
     "data": {
      "text/latex": [
       "$\\displaystyle \\frac{x^{7}}{7} - \\frac{x^{4}}{4} + x$"
      ],
      "text/plain": [
       " 7    4    \n",
       "x    x     \n",
       "── - ── + x\n",
       "7    4     "
      ]
     },
     "execution_count": 21,
     "metadata": {},
     "output_type": "execute_result"
    },
    {
     "name": "stdout",
     "output_type": "stream",
     "text": [
      "9 порядок\n",
      "Дифференциал\n"
     ]
    },
    {
     "data": {
      "text/latex": [
       "$\\displaystyle y = \\frac{362880 \\left(- \\frac{19683 x^{18}}{\\left(x^{3} + 1\\right)^{6}} + \\frac{52488 x^{15}}{\\left(x^{3} + 1\\right)^{5}} - \\frac{51030 x^{12}}{\\left(x^{3} + 1\\right)^{4}} + \\frac{21870 x^{9}}{\\left(x^{3} + 1\\right)^{3}} - \\frac{3915 x^{6}}{\\left(x^{3} + 1\\right)^{2}} + \\frac{216 x^{3}}{x^{3} + 1} - 1\\right)}{\\left(x^{3} + 1\\right)^{4}}$"
      ],
      "text/plain": [
       "           ⎛         18          15          12           9          6        \n",
       "           ⎜  19683⋅x     52488⋅x     51030⋅x      21870⋅x     3915⋅x     216⋅\n",
       "    362880⋅⎜- ───────── + ───────── - ───────── + ───────── - ───────── + ────\n",
       "           ⎜          6           5           4           3           2    3  \n",
       "           ⎜  ⎛ 3    ⎞    ⎛ 3    ⎞    ⎛ 3    ⎞    ⎛ 3    ⎞    ⎛ 3    ⎞    x  +\n",
       "           ⎝  ⎝x  + 1⎠    ⎝x  + 1⎠    ⎝x  + 1⎠    ⎝x  + 1⎠    ⎝x  + 1⎠        \n",
       "y = ──────────────────────────────────────────────────────────────────────────\n",
       "                                                4                             \n",
       "                                        ⎛ 3    ⎞                              \n",
       "                                        ⎝x  + 1⎠                              \n",
       "\n",
       " 3    ⎞\n",
       "x     ⎟\n",
       "── - 1⎟\n",
       "      ⎟\n",
       " 1    ⎟\n",
       "      ⎠\n",
       "───────\n",
       "       \n",
       "       \n",
       "       "
      ]
     },
     "execution_count": 21,
     "metadata": {},
     "output_type": "execute_result"
    },
    {
     "name": "stdout",
     "output_type": "stream",
     "text": [
      "При x = 0\n"
     ]
    },
    {
     "data": {
      "text/latex": [
       "$\\displaystyle y = -362880$"
      ],
      "text/plain": [
       "y = -362880"
      ]
     },
     "execution_count": 21,
     "metadata": {},
     "output_type": "execute_result"
    },
    {
     "data": {
      "text/latex": [
       "$\\displaystyle \\left[ x, \\  - \\frac{x^{4}}{4}, \\  \\frac{x^{7}}{7}, \\  - \\frac{x^{10}}{10}\\right]$"
      ],
      "text/plain": [
       "⎡     4    7    10 ⎤\n",
       "⎢   -x    x   -x   ⎥\n",
       "⎢x, ────, ──, ─────⎥\n",
       "⎣    4    7     10 ⎦"
      ]
     },
     "execution_count": 21,
     "metadata": {},
     "output_type": "execute_result"
    },
    {
     "data": {
      "text/latex": [
       "$\\displaystyle - \\frac{x^{10}}{10} + \\frac{x^{7}}{7} - \\frac{x^{4}}{4} + x$"
      ],
      "text/plain": [
       "   10    7    4    \n",
       "  x     x    x     \n",
       "- ─── + ── - ── + x\n",
       "   10   7    4     "
      ]
     },
     "execution_count": 21,
     "metadata": {},
     "output_type": "execute_result"
    },
    {
     "name": "stdout",
     "output_type": "stream",
     "text": [
      "10 порядок\n",
      "Дифференциал\n"
     ]
    },
    {
     "data": {
      "text/latex": [
       "$\\displaystyle y = \\frac{10886400 x^{2} \\left(\\frac{19683 x^{18}}{\\left(x^{3} + 1\\right)^{6}} - \\frac{59049 x^{15}}{\\left(x^{3} + 1\\right)^{5}} + \\frac{67068 x^{12}}{\\left(x^{3} + 1\\right)^{4}} - \\frac{35721 x^{9}}{\\left(x^{3} + 1\\right)^{3}} + \\frac{8910 x^{6}}{\\left(x^{3} + 1\\right)^{2}} - \\frac{891 x^{3}}{x^{3} + 1} + 22\\right)}{\\left(x^{3} + 1\\right)^{5}}$"
      ],
      "text/plain": [
       "                ⎛       18          15          12           9          6     \n",
       "              2 ⎜19683⋅x     59049⋅x     67068⋅x      35721⋅x     8910⋅x     8\n",
       "    10886400⋅x ⋅⎜───────── - ───────── + ───────── - ───────── + ───────── - ─\n",
       "                ⎜        6           5           4           3           2    \n",
       "                ⎜⎛ 3    ⎞    ⎛ 3    ⎞    ⎛ 3    ⎞    ⎛ 3    ⎞    ⎛ 3    ⎞    x\n",
       "                ⎝⎝x  + 1⎠    ⎝x  + 1⎠    ⎝x  + 1⎠    ⎝x  + 1⎠    ⎝x  + 1⎠     \n",
       "y = ──────────────────────────────────────────────────────────────────────────\n",
       "                                                  5                           \n",
       "                                          ⎛ 3    ⎞                            \n",
       "                                          ⎝x  + 1⎠                            \n",
       "\n",
       "    3     ⎞\n",
       "91⋅x      ⎟\n",
       "───── + 22⎟\n",
       "3         ⎟\n",
       "  + 1     ⎟\n",
       "          ⎠\n",
       "───────────\n",
       "           \n",
       "           \n",
       "           "
      ]
     },
     "execution_count": 21,
     "metadata": {},
     "output_type": "execute_result"
    },
    {
     "name": "stdout",
     "output_type": "stream",
     "text": [
      "При x = 0\n"
     ]
    },
    {
     "data": {
      "text/latex": [
       "$\\displaystyle y = 0$"
      ],
      "text/plain": [
       "y = 0"
      ]
     },
     "execution_count": 21,
     "metadata": {},
     "output_type": "execute_result"
    },
    {
     "data": {
      "text/latex": [
       "$\\displaystyle \\left[ x, \\  - \\frac{x^{4}}{4}, \\  \\frac{x^{7}}{7}, \\  - \\frac{x^{10}}{10}\\right]$"
      ],
      "text/plain": [
       "⎡     4    7    10 ⎤\n",
       "⎢   -x    x   -x   ⎥\n",
       "⎢x, ────, ──, ─────⎥\n",
       "⎣    4    7     10 ⎦"
      ]
     },
     "execution_count": 21,
     "metadata": {},
     "output_type": "execute_result"
    },
    {
     "data": {
      "text/latex": [
       "$\\displaystyle - \\frac{x^{10}}{10} + \\frac{x^{7}}{7} - \\frac{x^{4}}{4} + x$"
      ],
      "text/plain": [
       "   10    7    4    \n",
       "  x     x    x     \n",
       "- ─── + ── - ── + x\n",
       "   10   7    4     "
      ]
     },
     "execution_count": 21,
     "metadata": {},
     "output_type": "execute_result"
    },
    {
     "name": "stdout",
     "output_type": "stream",
     "text": [
      "11 порядок\n",
      "Дифференциал\n"
     ]
    },
    {
     "data": {
      "text/latex": [
       "$\\displaystyle y = \\frac{119750400 x \\left(- \\frac{59049 x^{21}}{\\left(x^{3} + 1\\right)^{7}} + \\frac{196830 x^{18}}{\\left(x^{3} + 1\\right)^{6}} - \\frac{255879 x^{15}}{\\left(x^{3} + 1\\right)^{5}} + \\frac{163296 x^{12}}{\\left(x^{3} + 1\\right)^{4}} - \\frac{52731 x^{9}}{\\left(x^{3} + 1\\right)^{3}} + \\frac{7938 x^{6}}{\\left(x^{3} + 1\\right)^{2}} - \\frac{435 x^{3}}{x^{3} + 1} + 4\\right)}{\\left(x^{3} + 1\\right)^{5}}$"
      ],
      "text/plain": [
       "                ⎛         21           18           15           12           \n",
       "                ⎜  59049⋅x     196830⋅x     255879⋅x     163296⋅x      52731⋅x\n",
       "    119750400⋅x⋅⎜- ───────── + ────────── - ────────── + ────────── - ────────\n",
       "                ⎜          7           6            5            4            \n",
       "                ⎜  ⎛ 3    ⎞    ⎛ 3    ⎞     ⎛ 3    ⎞     ⎛ 3    ⎞     ⎛ 3    ⎞\n",
       "                ⎝  ⎝x  + 1⎠    ⎝x  + 1⎠     ⎝x  + 1⎠     ⎝x  + 1⎠     ⎝x  + 1⎠\n",
       "y = ──────────────────────────────────────────────────────────────────────────\n",
       "                                                          5                   \n",
       "                                                  ⎛ 3    ⎞                    \n",
       "                                                  ⎝x  + 1⎠                    \n",
       "\n",
       "9          6         3    ⎞\n",
       "     7938⋅x     435⋅x     ⎟\n",
       "─ + ───────── - ────── + 4⎟\n",
       "3           2    3        ⎟\n",
       "    ⎛ 3    ⎞    x  + 1    ⎟\n",
       "    ⎝x  + 1⎠              ⎠\n",
       "───────────────────────────\n",
       "                           \n",
       "                           \n",
       "                           "
      ]
     },
     "execution_count": 21,
     "metadata": {},
     "output_type": "execute_result"
    },
    {
     "name": "stdout",
     "output_type": "stream",
     "text": [
      "При x = 0\n"
     ]
    },
    {
     "data": {
      "text/latex": [
       "$\\displaystyle y = 0$"
      ],
      "text/plain": [
       "y = 0"
      ]
     },
     "execution_count": 21,
     "metadata": {},
     "output_type": "execute_result"
    },
    {
     "data": {
      "text/latex": [
       "$\\displaystyle \\left[ x, \\  - \\frac{x^{4}}{4}, \\  \\frac{x^{7}}{7}, \\  - \\frac{x^{10}}{10}\\right]$"
      ],
      "text/plain": [
       "⎡     4    7    10 ⎤\n",
       "⎢   -x    x   -x   ⎥\n",
       "⎢x, ────, ──, ─────⎥\n",
       "⎣    4    7     10 ⎦"
      ]
     },
     "execution_count": 21,
     "metadata": {},
     "output_type": "execute_result"
    },
    {
     "data": {
      "text/latex": [
       "$\\displaystyle - \\frac{x^{10}}{10} + \\frac{x^{7}}{7} - \\frac{x^{4}}{4} + x$"
      ],
      "text/plain": [
       "   10    7    4    \n",
       "  x     x    x     \n",
       "- ─── + ── - ── + x\n",
       "   10   7    4     "
      ]
     },
     "execution_count": 21,
     "metadata": {},
     "output_type": "execute_result"
    },
    {
     "name": "stdout",
     "output_type": "stream",
     "text": [
      "12 порядок\n",
      "Дифференциал\n"
     ]
    },
    {
     "data": {
      "text/latex": [
       "$\\displaystyle y = \\frac{479001600 \\left(\\frac{531441 x^{24}}{\\left(x^{3} + 1\\right)^{8}} - \\frac{1948617 x^{21}}{\\left(x^{3} + 1\\right)^{7}} + \\frac{2854035 x^{18}}{\\left(x^{3} + 1\\right)^{6}} - \\frac{2125764 x^{15}}{\\left(x^{3} + 1\\right)^{5}} + \\frac{847098 x^{12}}{\\left(x^{3} + 1\\right)^{4}} - \\frac{173502 x^{9}}{\\left(x^{3} + 1\\right)^{3}} + \\frac{15849 x^{6}}{\\left(x^{3} + 1\\right)^{2}} - \\frac{450 x^{3}}{x^{3} + 1} + 1\\right)}{\\left(x^{3} + 1\\right)^{5}}$"
      ],
      "text/plain": [
       "              ⎛        24            21            18            15           \n",
       "              ⎜531441⋅x     1948617⋅x     2854035⋅x     2125764⋅x     847098⋅x\n",
       "    479001600⋅⎜────────── - ─────────── + ─────────── - ─────────── + ────────\n",
       "              ⎜        8             7             6             5            \n",
       "              ⎜⎛ 3    ⎞      ⎛ 3    ⎞      ⎛ 3    ⎞      ⎛ 3    ⎞     ⎛ 3    ⎞\n",
       "              ⎝⎝x  + 1⎠      ⎝x  + 1⎠      ⎝x  + 1⎠      ⎝x  + 1⎠     ⎝x  + 1⎠\n",
       "y = ──────────────────────────────────────────────────────────────────────────\n",
       "                                                                5             \n",
       "                                                        ⎛ 3    ⎞              \n",
       "                                                        ⎝x  + 1⎠              \n",
       "\n",
       "12           9           6        3    ⎞\n",
       "     173502⋅x     15849⋅x    450⋅x     ⎟\n",
       "── - ───────── + ───────── - ────── + 1⎟\n",
       "4            3           2    3        ⎟\n",
       "     ⎛ 3    ⎞    ⎛ 3    ⎞    x  + 1    ⎟\n",
       "     ⎝x  + 1⎠    ⎝x  + 1⎠              ⎠\n",
       "────────────────────────────────────────\n",
       "                                        \n",
       "                                        \n",
       "                                        "
      ]
     },
     "execution_count": 21,
     "metadata": {},
     "output_type": "execute_result"
    },
    {
     "name": "stdout",
     "output_type": "stream",
     "text": [
      "При x = 0\n"
     ]
    },
    {
     "data": {
      "text/latex": [
       "$\\displaystyle y = 479001600$"
      ],
      "text/plain": [
       "y = 479001600"
      ]
     },
     "execution_count": 21,
     "metadata": {},
     "output_type": "execute_result"
    },
    {
     "data": {
      "text/latex": [
       "$\\displaystyle \\left[ x, \\  - \\frac{x^{4}}{4}, \\  \\frac{x^{7}}{7}, \\  - \\frac{x^{10}}{10}, \\  \\frac{x^{13}}{13}\\right]$"
      ],
      "text/plain": [
       "⎡     4    7    10    13⎤\n",
       "⎢   -x    x   -x     x  ⎥\n",
       "⎢x, ────, ──, ─────, ───⎥\n",
       "⎣    4    7     10    13⎦"
      ]
     },
     "execution_count": 21,
     "metadata": {},
     "output_type": "execute_result"
    },
    {
     "data": {
      "text/latex": [
       "$\\displaystyle \\frac{x^{13}}{13} - \\frac{x^{10}}{10} + \\frac{x^{7}}{7} - \\frac{x^{4}}{4} + x$"
      ],
      "text/plain": [
       " 13    10    7    4    \n",
       "x     x     x    x     \n",
       "─── - ─── + ── - ── + x\n",
       " 13    10   7    4     "
      ]
     },
     "execution_count": 21,
     "metadata": {},
     "output_type": "execute_result"
    },
    {
     "name": "stdout",
     "output_type": "stream",
     "text": [
      "\n",
      "Финал\n",
      "\n",
      "Дифференциал\n"
     ]
    },
    {
     "data": {
      "text/latex": [
       "$\\displaystyle x^{12} - x^{9} + x^{6} - x^{3} + 1$"
      ],
      "text/plain": [
       " 12    9    6    3    \n",
       "x   - x  + x  - x  + 1"
      ]
     },
     "execution_count": 21,
     "metadata": {},
     "output_type": "execute_result"
    },
    {
     "name": "stdout",
     "output_type": "stream",
     "text": [
      "Интегралыч\n"
     ]
    },
    {
     "data": {
      "text/latex": [
       "$\\displaystyle \\frac{x^{13}}{13} - \\frac{x^{10}}{10} + \\frac{x^{7}}{7} - \\frac{x^{4}}{4} + x$"
      ],
      "text/plain": [
       " 13    10    7    4    \n",
       "x     x     x    x     \n",
       "─── - ─── + ── - ── + x\n",
       " 13    10   7    4     "
      ]
     },
     "execution_count": 21,
     "metadata": {},
     "output_type": "execute_result"
    },
    {
     "name": "stdout",
     "output_type": "stream",
     "text": [
      "Убираем последние 2 члена т.к. они дают меньше нужной точности\n",
      "При a = 0.5\n"
     ]
    },
    {
     "data": {
      "text/latex": [
       "$\\displaystyle \\frac{x^{7}}{7} - \\frac{x^{4}}{4} + x = 0.485491071428571$"
      ],
      "text/plain": [
       " 7    4                        \n",
       "x    x                         \n",
       "── - ── + x = 0.485491071428571\n",
       "7    4                         "
      ]
     },
     "execution_count": 21,
     "metadata": {},
     "output_type": "execute_result"
    },
    {
     "name": "stdout",
     "output_type": "stream",
     "text": [
      "Численный ответ =  0.485491071428571\n",
      "Точность 0.0000882662\n"
     ]
    }
   ],
   "source": [
    "print('Выражение')\n",
    "expr\n",
    "i = 0\n",
    "while True:\n",
    "    print(i, 'порядок')\n",
    "    if good_detominator:\n",
    "        expr_dif = expr.diff(x, i)#дифференциал\n",
    "    else:\n",
    "        expr_dif = new_expr.diff(x, i)\n",
    "    print('Дифференциал')\n",
    "    Eq(y, expr_dif)#выводим его\n",
    "    #Eq(y, expr_dif)\n",
    "    print('При x =', x0)\n",
    "    Eq(y, expr_dif.subs(x, x0))#выводим чему равен при подстановке\n",
    "    ser = expr.series(x0=x0, n=i + 1).removeO()#ряд\n",
    "    integral = sorted(integrate(ser, (x)).args, key=get_degree)# интеграл от ряда\n",
    "    integral\n",
    "    Add(*integral)\n",
    "    if len(integral) >= 2:\n",
    "        l1 = integral[-1].subs(x, a)# последний член интеграла\n",
    "        l2 = integral[-2].subs(x, a)# предпоследний\n",
    "        cur_acc = abs(l2 + l1)#считаем здесь их точность\n",
    "        if cur_acc < accuracy and len(integral) >= 4:\n",
    "            if not good_detominator:#костыль из-за того, что знаменатель пропадает, и на 1 порядок меньше выводится\n",
    "                print(i + 1, 'порядок')\n",
    "                expr_dif = new_expr.diff(x, i + 1)\n",
    "                print('Дифференциал')\n",
    "                Eq(y, expr_dif)#выводим его\n",
    "                print('При x =', x0)\n",
    "                Eq(y, expr_dif.subs(x, x0))#выводим чему равен при подстановке\n",
    "            print('\\nФинал\\n')\n",
    "            print('Дифференциал')\n",
    "            ser\n",
    "            print('Интегралыч')\n",
    "            integrate(ser, (x))\n",
    "            integ_need = Add(*integral[:-2])# нужная часть интеграла для итогового счёта\n",
    "            answer = integ_need.subs(x, a)\n",
    "            print('Убираем последние 2 члена т.к. они дают меньше нужной точности')\n",
    "            print('При a =', a)\n",
    "            Eq(Add(integ_need), answer) \n",
    "            try:\n",
    "                print('Численный ответ = ', answer.p / answer.q)\n",
    "            except AttributeError:\n",
    "                print('Численный ответ = ', answer)\n",
    "            try:\n",
    "                print('Точность %12.10f' % (cur_acc.p / cur_acc.q))\n",
    "            except AttributeError:\n",
    "                print('Точность %12.10f' % cur_acc)\n",
    "            break\n",
    "    i +=1"
   ]
  },
  {
   "cell_type": "markdown",
   "id": "7a5d90fb",
   "metadata": {},
   "source": [
    "# Вычисление по количеству членов"
   ]
  },
  {
   "cell_type": "code",
   "execution_count": 20,
   "id": "bd819b09",
   "metadata": {
    "ExecuteTime": {
     "end_time": "2022-03-03T09:31:04.842681Z",
     "start_time": "2022-03-03T09:31:03.643847Z"
    },
    "scrolled": true
   },
   "outputs": [
    {
     "name": "stdout",
     "output_type": "stream",
     "text": [
      "Выражение\n"
     ]
    },
    {
     "data": {
      "text/latex": [
       "$\\displaystyle x^{2} \\sin{\\left(x \\right)}$"
      ],
      "text/plain": [
       " 2       \n",
       "x ⋅sin(x)"
      ]
     },
     "execution_count": 20,
     "metadata": {},
     "output_type": "execute_result"
    },
    {
     "name": "stdout",
     "output_type": "stream",
     "text": [
      "0 порядок\n",
      "\n",
      "Дифференциал\n"
     ]
    },
    {
     "data": {
      "text/latex": [
       "$\\displaystyle y = x^{2} \\sin{\\left(x \\right)}$"
      ],
      "text/plain": [
       "     2       \n",
       "y = x ⋅sin(x)"
      ]
     },
     "execution_count": 20,
     "metadata": {},
     "output_type": "execute_result"
    },
    {
     "name": "stdout",
     "output_type": "stream",
     "text": [
      "При x = 0\n"
     ]
    },
    {
     "data": {
      "text/latex": [
       "$\\displaystyle y = 0$"
      ],
      "text/plain": [
       "y = 0"
      ]
     },
     "execution_count": 20,
     "metadata": {},
     "output_type": "execute_result"
    },
    {
     "name": "stdout",
     "output_type": "stream",
     "text": [
      "1 порядок\n",
      "\n",
      "Дифференциал\n"
     ]
    },
    {
     "data": {
      "text/latex": [
       "$\\displaystyle y = x^{2} \\cos{\\left(x \\right)} + 2 x \\sin{\\left(x \\right)}$"
      ],
      "text/plain": [
       "     2                    \n",
       "y = x ⋅cos(x) + 2⋅x⋅sin(x)"
      ]
     },
     "execution_count": 20,
     "metadata": {},
     "output_type": "execute_result"
    },
    {
     "name": "stdout",
     "output_type": "stream",
     "text": [
      "При x = 0\n"
     ]
    },
    {
     "data": {
      "text/latex": [
       "$\\displaystyle y = 0$"
      ],
      "text/plain": [
       "y = 0"
      ]
     },
     "execution_count": 20,
     "metadata": {},
     "output_type": "execute_result"
    },
    {
     "name": "stdout",
     "output_type": "stream",
     "text": [
      "2 порядок\n",
      "\n",
      "Дифференциал\n"
     ]
    },
    {
     "data": {
      "text/latex": [
       "$\\displaystyle y = - x^{2} \\sin{\\left(x \\right)} + 4 x \\cos{\\left(x \\right)} + 2 \\sin{\\left(x \\right)}$"
      ],
      "text/plain": [
       "       2                               \n",
       "y = - x ⋅sin(x) + 4⋅x⋅cos(x) + 2⋅sin(x)"
      ]
     },
     "execution_count": 20,
     "metadata": {},
     "output_type": "execute_result"
    },
    {
     "name": "stdout",
     "output_type": "stream",
     "text": [
      "При x = 0\n"
     ]
    },
    {
     "data": {
      "text/latex": [
       "$\\displaystyle y = 0$"
      ],
      "text/plain": [
       "y = 0"
      ]
     },
     "execution_count": 20,
     "metadata": {},
     "output_type": "execute_result"
    },
    {
     "name": "stdout",
     "output_type": "stream",
     "text": [
      "3 порядок\n",
      "\n",
      "Дифференциал\n"
     ]
    },
    {
     "data": {
      "text/latex": [
       "$\\displaystyle y = - x^{2} \\cos{\\left(x \\right)} - 6 x \\sin{\\left(x \\right)} + 6 \\cos{\\left(x \\right)}$"
      ],
      "text/plain": [
       "       2                               \n",
       "y = - x ⋅cos(x) - 6⋅x⋅sin(x) + 6⋅cos(x)"
      ]
     },
     "execution_count": 20,
     "metadata": {},
     "output_type": "execute_result"
    },
    {
     "name": "stdout",
     "output_type": "stream",
     "text": [
      "При x = 0\n"
     ]
    },
    {
     "data": {
      "text/latex": [
       "$\\displaystyle y = 6$"
      ],
      "text/plain": [
       "y = 6"
      ]
     },
     "execution_count": 20,
     "metadata": {},
     "output_type": "execute_result"
    },
    {
     "name": "stdout",
     "output_type": "stream",
     "text": [
      "4 порядок\n",
      "\n",
      "Дифференциал\n"
     ]
    },
    {
     "data": {
      "text/latex": [
       "$\\displaystyle y = x^{2} \\sin{\\left(x \\right)} - 8 x \\cos{\\left(x \\right)} - 12 \\sin{\\left(x \\right)}$"
      ],
      "text/plain": [
       "     2                                \n",
       "y = x ⋅sin(x) - 8⋅x⋅cos(x) - 12⋅sin(x)"
      ]
     },
     "execution_count": 20,
     "metadata": {},
     "output_type": "execute_result"
    },
    {
     "name": "stdout",
     "output_type": "stream",
     "text": [
      "При x = 0\n"
     ]
    },
    {
     "data": {
      "text/latex": [
       "$\\displaystyle y = 0$"
      ],
      "text/plain": [
       "y = 0"
      ]
     },
     "execution_count": 20,
     "metadata": {},
     "output_type": "execute_result"
    },
    {
     "name": "stdout",
     "output_type": "stream",
     "text": [
      "5 порядок\n",
      "\n",
      "Дифференциал\n"
     ]
    },
    {
     "data": {
      "text/latex": [
       "$\\displaystyle y = x^{2} \\cos{\\left(x \\right)} + 10 x \\sin{\\left(x \\right)} - 20 \\cos{\\left(x \\right)}$"
      ],
      "text/plain": [
       "     2                                 \n",
       "y = x ⋅cos(x) + 10⋅x⋅sin(x) - 20⋅cos(x)"
      ]
     },
     "execution_count": 20,
     "metadata": {},
     "output_type": "execute_result"
    },
    {
     "name": "stdout",
     "output_type": "stream",
     "text": [
      "При x = 0\n"
     ]
    },
    {
     "data": {
      "text/latex": [
       "$\\displaystyle y = -20$"
      ],
      "text/plain": [
       "y = -20"
      ]
     },
     "execution_count": 20,
     "metadata": {},
     "output_type": "execute_result"
    },
    {
     "name": "stdout",
     "output_type": "stream",
     "text": [
      "6 порядок\n",
      "\n",
      "Дифференциал\n"
     ]
    },
    {
     "data": {
      "text/latex": [
       "$\\displaystyle y = - x^{2} \\sin{\\left(x \\right)} + 12 x \\cos{\\left(x \\right)} + 30 \\sin{\\left(x \\right)}$"
      ],
      "text/plain": [
       "       2                                 \n",
       "y = - x ⋅sin(x) + 12⋅x⋅cos(x) + 30⋅sin(x)"
      ]
     },
     "execution_count": 20,
     "metadata": {},
     "output_type": "execute_result"
    },
    {
     "name": "stdout",
     "output_type": "stream",
     "text": [
      "При x = 0\n"
     ]
    },
    {
     "data": {
      "text/latex": [
       "$\\displaystyle y = 0$"
      ],
      "text/plain": [
       "y = 0"
      ]
     },
     "execution_count": 20,
     "metadata": {},
     "output_type": "execute_result"
    },
    {
     "name": "stdout",
     "output_type": "stream",
     "text": [
      "7 порядок\n",
      "\n",
      "Дифференциал\n"
     ]
    },
    {
     "data": {
      "text/latex": [
       "$\\displaystyle y = - x^{2} \\cos{\\left(x \\right)} - 14 x \\sin{\\left(x \\right)} + 42 \\cos{\\left(x \\right)}$"
      ],
      "text/plain": [
       "       2                                 \n",
       "y = - x ⋅cos(x) - 14⋅x⋅sin(x) + 42⋅cos(x)"
      ]
     },
     "execution_count": 20,
     "metadata": {},
     "output_type": "execute_result"
    },
    {
     "name": "stdout",
     "output_type": "stream",
     "text": [
      "При x = 0\n"
     ]
    },
    {
     "data": {
      "text/latex": [
       "$\\displaystyle y = 42$"
      ],
      "text/plain": [
       "y = 42"
      ]
     },
     "execution_count": 20,
     "metadata": {},
     "output_type": "execute_result"
    },
    {
     "name": "stdout",
     "output_type": "stream",
     "text": [
      "\n",
      "Финал\n",
      "\n",
      "Дифференциал\n"
     ]
    },
    {
     "data": {
      "text/latex": [
       "$\\displaystyle \\frac{x^{7}}{120} - \\frac{x^{5}}{6} + x^{3}$"
      ],
      "text/plain": [
       "  7    5     \n",
       " x    x     3\n",
       "─── - ── + x \n",
       "120   6      "
      ]
     },
     "execution_count": 20,
     "metadata": {},
     "output_type": "execute_result"
    },
    {
     "name": "stdout",
     "output_type": "stream",
     "text": [
      "Интегралыч\n"
     ]
    },
    {
     "data": {
      "text/latex": [
       "$\\displaystyle \\frac{x^{8}}{960} - \\frac{x^{6}}{36} + \\frac{x^{4}}{4}$"
      ],
      "text/plain": [
       "  8    6    4\n",
       " x    x    x \n",
       "─── - ── + ──\n",
       "960   36   4 "
      ]
     },
     "execution_count": 20,
     "metadata": {},
     "output_type": "execute_result"
    },
    {
     "name": "stdout",
     "output_type": "stream",
     "text": [
      "При a = 1\n"
     ]
    },
    {
     "data": {
      "text/latex": [
       "$\\displaystyle \\frac{x^{8}}{960} - \\frac{x^{6}}{36} + \\frac{x^{4}}{4} = \\frac{643}{2880}$"
      ],
      "text/plain": [
       "  8    6    4       \n",
       " x    x    x    643 \n",
       "─── - ── + ── = ────\n",
       "960   36   4    2880"
      ]
     },
     "execution_count": 20,
     "metadata": {},
     "output_type": "execute_result"
    },
    {
     "name": "stdout",
     "output_type": "stream",
     "text": [
      "Численный ответ =  0.2232638888888889\n",
      "Точность 0.0267361111\n"
     ]
    }
   ],
   "source": [
    "print('Выражение')\n",
    "expr\n",
    "i = 0\n",
    "while True:\n",
    "    print(i, 'порядок\\n')\n",
    "    if good_detominator:\n",
    "        expr_dif = expr.diff(x, i)#дифференциал\n",
    "    else:\n",
    "        expr_dif = new_expr.diff(x, i)\n",
    "    print('Дифференциал')\n",
    "    Eq(y, expr_dif)\n",
    "    print('При x =', x0)\n",
    "    Eq(y, expr_dif.subs(x, x0))\n",
    "    ser = expr.series(x0=x0, n=i + 1).removeO()#ряд\n",
    "    integral = sorted(integrate(ser, (x)).args, key=get_degree)# интеграл от ряда\n",
    "    if len(integral) == n:\n",
    "        l1 = integral[-1].subs(x, a)# последний член интеграла\n",
    "        l2 = integral[-2].subs(x, a)# предпоследний\n",
    "        cur_acc = abs(l2 + l1)# берём модуль\n",
    "        if not good_detominator:#костыль из-за того, что знаменатель пропадает, и на 1 порядок меньше выводится\n",
    "            print(i + 1, 'порядок')\n",
    "            expr_dif = new_expr.diff(x, i + 1)\n",
    "            print('Дифференциал')\n",
    "            Eq(y, expr_dif)#выводим его\n",
    "            print('При x =', x0)\n",
    "            Eq(y, expr_dif.subs(x, x0))#выводим чему равен при подстановке\n",
    "        print('\\nФинал\\n')\n",
    "        print('Дифференциал')\n",
    "        ser\n",
    "        print('Интегралыч')\n",
    "        integ_need = Add(*integral)# нужная часть интеграла для итогового счёта\n",
    "        integ_need\n",
    "        answer = integ_need.subs(x, a)\n",
    "        print('При a =', a)\n",
    "        Eq(Add(integ_need), answer) \n",
    "        try:\n",
    "            print('Численный ответ = ', answer.p / answer.q)\n",
    "        except AttributeError:\n",
    "            print('Численный ответ = ', answer)\n",
    "        try:\n",
    "            print('Точность %12.10f' % (cur_acc.p / cur_acc.q))\n",
    "        except AttributeError:\n",
    "            print('Точность %12.10f' % cur_acc)\n",
    "        break\n",
    "        \n",
    "    i +=1"
   ]
  },
  {
   "cell_type": "code",
   "execution_count": null,
   "id": "30c41172",
   "metadata": {},
   "outputs": [],
   "source": []
  }
 ],
 "metadata": {
  "kernelspec": {
   "display_name": "Python 3 (ipykernel)",
   "language": "python",
   "name": "python3"
  },
  "language_info": {
   "codemirror_mode": {
    "name": "ipython",
    "version": 3
   },
   "file_extension": ".py",
   "mimetype": "text/x-python",
   "name": "python",
   "nbconvert_exporter": "python",
   "pygments_lexer": "ipython3",
   "version": "3.9.7"
  },
  "latex_envs": {
   "LaTeX_envs_menu_present": true,
   "autoclose": false,
   "autocomplete": true,
   "bibliofile": "biblio.bib",
   "cite_by": "apalike",
   "current_citInitial": 1,
   "eqLabelWithNumbers": true,
   "eqNumInitial": 1,
   "hotkeys": {
    "equation": "Ctrl-E",
    "itemize": "Ctrl-I"
   },
   "labels_anchors": false,
   "latex_user_defs": false,
   "report_style_numbering": false,
   "user_envs_cfg": false
  }
 },
 "nbformat": 4,
 "nbformat_minor": 5
}
