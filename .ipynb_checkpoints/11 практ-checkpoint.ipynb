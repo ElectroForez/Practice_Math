{
 "cells": [
  {
   "cell_type": "code",
   "execution_count": 1,
   "id": "5e0c9779",
   "metadata": {
    "ExecuteTime": {
     "end_time": "2022-03-27T12:55:41.935617Z",
     "start_time": "2022-03-27T12:55:41.459231Z"
    }
   },
   "outputs": [],
   "source": [
    "from sympy import *\n",
    "from IPython.core.interactiveshell import InteractiveShell\n",
    "InteractiveShell.ast_node_interactivity = \"all\"\n",
    "from IPython.display import display, Math, Latex\n",
    "init_printing(use_latex='mathjax')\n",
    "import numpy as np\n",
    "import pandas as pd\n",
    "from IPython.display import HTML, display\n",
    "from tabulate import tabulate\n",
    "from copy import deepcopy"
   ]
  },
  {
   "cell_type": "code",
   "execution_count": 50,
   "id": "f4ba9249",
   "metadata": {
    "ExecuteTime": {
     "end_time": "2022-03-27T13:33:43.736108Z",
     "start_time": "2022-03-27T13:33:43.723473Z"
    }
   },
   "outputs": [],
   "source": [
    "def print_eq(eq, *exprs, rev_int2=False):\n",
    "    if type(eq) == str:\n",
    "        eq = Symbol(eq)\n",
    "    out = '$$ {} ' + '= {}' * len(exprs) + '$$'\n",
    "    exprs=list(exprs)\n",
    "    for i in range(len(exprs)):\n",
    "        if type(exprs[i]) != str:\n",
    "            exprs[i] = latex(exprs[i])\n",
    "    if rev_int2:\n",
    "        exprs[-2] += '|_0^x'\n",
    "    display(Latex(out.format(latex(eq), *exprs)))\n",
    "\n",
    "def to_s(i):\n",
    "    return Symbol(str(i))\n",
    "\n",
    "def print_system(*exprs, collab=False): \n",
    "    '''\n",
    "    collab негодяй не хочет нормально системы уравнений отоброжать, \n",
    "    если вы в Jupyter, то замените в аргументе collab True на False'''\n",
    "    exprs=list(exprs)\n",
    "    for i in range(len(exprs)):\n",
    "        if type(exprs[i]) != str:\n",
    "            exprs[i] = latex(exprs[i])\n",
    "    exprs_latex = r'\\\\'.join(exprs)\n",
    "    if collab:\n",
    "        system = r'Начало системы\\\\' + exprs_latex + r'\\\\Конец_системы\\\\'\n",
    "    else:\n",
    "        system = \\\n",
    "        r'''\\begin{equation*}\n",
    "    \\begin{cases}''' \\\n",
    "        + exprs_latex + \\\n",
    "        r'''\\end{cases}\n",
    "    \\end{equation*}\n",
    "        '''\n",
    "\n",
    "    print_eq(system)\n",
    "    \n",
    "def get_coef(el):\n",
    "    args = el.args\n",
    "    if len(args) == 0:\n",
    "        return 1\n",
    "    elif ask(Q.extended_real(args[0])):\n",
    "        return int(args[0])\n",
    "    \n",
    "def print_table(array):\n",
    "    display(HTML(tabulate(array, tablefmt='html')))\n",
    "    \n",
    "def left_bas(values):\n",
    "    table_bas = [[]] * (values.shape[0] - 1)\n",
    "    for i_column in np.where(np.count_nonzero(values, axis=0) == 1)[0]:\n",
    "        nz_el = values[:, i_column].max()\n",
    "        i_nz_el = np.where(values[:, i_column] == nz_el)[0][0]\n",
    "        table_bas[i_nz_el] = [x_dict[f'x{i_column + 1}'], f'x{i_column + 1}']\n",
    "    return table_bas\n",
    "\n",
    "def change_row(main_row, changed_row, null_i):\n",
    "    factor = changed_row[null_i] / main_row[null_i]\n",
    "    return changed_row - main_row * factor\n",
    "\n",
    "def create_expr(coefs):\n",
    "    expr = 0\n",
    "    for i, coef in enumerate(coefs):\n",
    "        expr += coef * to_s(f'x_{i + 1}')\n",
    "    return expr"
   ]
  },
  {
   "cell_type": "code",
   "execution_count": 3,
   "id": "b10fbea8",
   "metadata": {
    "ExecuteTime": {
     "end_time": "2022-03-27T12:55:41.949194Z",
     "start_time": "2022-03-27T12:55:41.946819Z"
    }
   },
   "outputs": [],
   "source": [
    "x1, x2, x3, x4 = symbols('x_1, x_2, x_3, x_4')\n",
    "L = Symbol(r'L(\\bar{x})')"
   ]
  },
  {
   "cell_type": "code",
   "execution_count": 48,
   "id": "f8b2809d",
   "metadata": {
    "ExecuteTime": {
     "end_time": "2022-03-27T13:32:40.416064Z",
     "start_time": "2022-03-27T13:32:40.408773Z"
    }
   },
   "outputs": [
    {
     "data": {
      "text/latex": [
       "$$ L(\\bar{x}) = 13 x_{1} + 22 x_{2} + 27 x_{3}\\rightarrow max$$"
      ],
      "text/plain": [
       "<IPython.core.display.Latex object>"
      ]
     },
     "metadata": {},
     "output_type": "display_data"
    },
    {
     "data": {
      "text/latex": [
       "$$ x_{1} \\geqslant 0,\\ x_{2} \\geqslant 0 $$"
      ],
      "text/plain": [
       "<IPython.core.display.Latex object>"
      ]
     },
     "metadata": {},
     "output_type": "display_data"
    }
   ],
   "source": [
    "L_coefs = [13, 22, 27]\n",
    "    \n",
    "conss = [\n",
    "        7 * x1 + 2 * x2 + 3 * x3 <= 84,\n",
    "        x1 + 5 * x2 + 9 * x3 <= 90,\n",
    "       ]\n",
    "conss = [\n",
    "    [7, 2, 3, 84],\n",
    "    [1, 5, 9, 90]\n",
    "]\n",
    "\n",
    "L_expr = 0\n",
    "for i, coef in enumerate(L_coefs):\n",
    "    L_expr += coef * to_s(f'x_{i + 1}')\n",
    "    \n",
    "print_eq(L, latex(L_expr) + r'\\rightarrow max')\n",
    "print_eq(r'x_{1} \\geqslant 0,\\ x_{2} \\geqslant 0')"
   ]
  },
  {
   "cell_type": "code",
   "execution_count": 54,
   "id": "afb5a260",
   "metadata": {
    "ExecuteTime": {
     "end_time": "2022-03-27T13:39:49.112045Z",
     "start_time": "2022-03-27T13:39:49.101360Z"
    }
   },
   "outputs": [
    {
     "name": "stdout",
     "output_type": "stream",
     "text": [
      "Приведём запись к каноническому виду\n"
     ]
    },
    {
     "data": {
      "text/latex": [
       "$$ L(\\bar{x}) = 13 x_{1} + 22 x_{2} + 27 x_{3}\\rightarrow max$$"
      ],
      "text/plain": [
       "<IPython.core.display.Latex object>"
      ]
     },
     "metadata": {},
     "output_type": "display_data"
    },
    {
     "name": "stdout",
     "output_type": "stream",
     "text": [
      "При ограничениях:\n"
     ]
    },
    {
     "data": {
      "text/latex": [
       "$$ \\begin{equation*}\n",
       "    \\begin{cases}7 x_{1} + 2 x_{2} + 3 x_{3} + x_{4} = 84\\\\x_{1} + 5 x_{2} + 9 x_{3} + x_{5} = 90\\end{cases}\n",
       "    \\end{equation*}\n",
       "         $$"
      ],
      "text/plain": [
       "<IPython.core.display.Latex object>"
      ]
     },
     "metadata": {},
     "output_type": "display_data"
    },
    {
     "data": {
      "text/latex": [
       "$$ x_{j} \\geqslant 0,\\ j=\\overline{1,5} $$"
      ],
      "text/plain": [
       "<IPython.core.display.Latex object>"
      ]
     },
     "metadata": {},
     "output_type": "display_data"
    }
   ],
   "source": [
    "can_conss = [*conss]\n",
    "for i, coefs in enumerate(conss):\n",
    "    add_coef = [0] * len(conss)\n",
    "    add_coef[i] = 1\n",
    "    can_conss[i] = Eq(create_expr(coefs[:-1] + add_coef), coefs[-1])\n",
    "    \n",
    "L_expr = create_expr(L_coefs)\n",
    "x_values = L_coefs + [0] * (len(conss))\n",
    "xs = [f'x{i}' for i in range(1, len(L_coefs) + len(conss) + 1)]\n",
    "x_dict = {x: value for x, value in zip(xs, x_values)}\n",
    "print('Приведём запись к каноническому виду')\n",
    "print_eq(L, latex(L_expr) + r'\\rightarrow max')\n",
    "print('При ограничениях:')\n",
    "print_system(*can_conss)\n",
    "print_eq(r'x_{j} \\geqslant 0,\\ j=\\overline{1,' + str(len(L_coefs) + len(conss)) + '}')"
   ]
  },
  {
   "cell_type": "code",
   "execution_count": 73,
   "id": "ae0b3379",
   "metadata": {
    "ExecuteTime": {
     "end_time": "2022-03-27T14:18:51.127990Z",
     "start_time": "2022-03-27T14:18:51.088815Z"
    }
   },
   "outputs": [
    {
     "data": {
      "text/html": [
       "<table>\n",
       "<tbody>\n",
       "<tr><td>ci</td><td>БП</td><td>13 </td><td>22 </td><td>27 </td><td>0 </td><td>0 </td><td>L(x)</td></tr>\n",
       "<tr><td>  </td><td>  </td><td>x1 </td><td>x2 </td><td>x3 </td><td>x4</td><td>x5</td><td>bi  </td></tr>\n",
       "<tr><td>0 </td><td>x4</td><td>7  </td><td>2  </td><td>3  </td><td>1 </td><td>0 </td><td>84  </td></tr>\n",
       "<tr><td>0 </td><td>x5</td><td>1  </td><td>5  </td><td>9  </td><td>0 </td><td>1 </td><td>90  </td></tr>\n",
       "<tr><td>  </td><td>j </td><td>-13</td><td>-22</td><td>-27</td><td>0 </td><td>0 </td><td>0   </td></tr>\n",
       "</tbody>\n",
       "</table>"
      ],
      "text/plain": [
       "<IPython.core.display.HTML object>"
      ]
     },
     "metadata": {},
     "output_type": "display_data"
    },
    {
     "data": {
      "text/latex": [
       "$$ \\bar X_{1} = \\left( 0, \\  0, \\  0, \\  84, \\  90\\right)$$"
      ],
      "text/plain": [
       "<IPython.core.display.Latex object>"
      ]
     },
     "metadata": {},
     "output_type": "display_data"
    },
    {
     "data": {
      "text/latex": [
       "$$ L(\\bar x_{1}) = 0$$"
      ],
      "text/plain": [
       "<IPython.core.display.Latex object>"
      ]
     },
     "metadata": {},
     "output_type": "display_data"
    },
    {
     "name": "stdout",
     "output_type": "stream",
     "text": [
      "В индексной строке есть отрицательные элементы. Найденное решение не является оптимальным\n"
     ]
    },
    {
     "data": {
      "text/html": [
       "<table>\n",
       "<tbody>\n",
       "<tr><td>ci</td><td>БП</td><td>13  </td><td>22 </td><td>27</td><td>0 </td><td>0   </td><td>L(x)</td></tr>\n",
       "<tr><td>  </td><td>  </td><td>x1  </td><td>x2 </td><td>x3</td><td>x4</td><td>x5  </td><td>bi  </td></tr>\n",
       "<tr><td>0 </td><td>x4</td><td>20/3</td><td>1/3</td><td>0 </td><td>1 </td><td>-1/3</td><td>54  </td></tr>\n",
       "<tr><td>27</td><td>x3</td><td>1/9 </td><td>5/9</td><td>1 </td><td>0 </td><td>1/9 </td><td>10  </td></tr>\n",
       "<tr><td>  </td><td>j </td><td>-10 </td><td>-7 </td><td>0 </td><td>0 </td><td>3   </td><td>270 </td></tr>\n",
       "</tbody>\n",
       "</table>"
      ],
      "text/plain": [
       "<IPython.core.display.HTML object>"
      ]
     },
     "metadata": {},
     "output_type": "display_data"
    },
    {
     "data": {
      "text/latex": [
       "$$ \\bar X_{2} = \\left( 0, \\  0, \\  10, \\  54, \\  0\\right)$$"
      ],
      "text/plain": [
       "<IPython.core.display.Latex object>"
      ]
     },
     "metadata": {},
     "output_type": "display_data"
    },
    {
     "data": {
      "text/latex": [
       "$$ L(\\bar x_{2}) = 270$$"
      ],
      "text/plain": [
       "<IPython.core.display.Latex object>"
      ]
     },
     "metadata": {},
     "output_type": "display_data"
    },
    {
     "name": "stdout",
     "output_type": "stream",
     "text": [
      "В индексной строке есть отрицательные элементы. Найденное решение не является оптимальным\n"
     ]
    },
    {
     "data": {
      "text/html": [
       "<table>\n",
       "<tbody>\n",
       "<tr><td>ci</td><td>БП</td><td>13</td><td>22   </td><td>27</td><td>0    </td><td>0    </td><td>L(x) </td></tr>\n",
       "<tr><td>  </td><td>  </td><td>x1</td><td>x2   </td><td>x3</td><td>x4   </td><td>x5   </td><td>bi   </td></tr>\n",
       "<tr><td>13</td><td>x1</td><td>1 </td><td>1/20 </td><td>0 </td><td>3/20 </td><td>-1/20</td><td>81/10</td></tr>\n",
       "<tr><td>27</td><td>x3</td><td>0 </td><td>11/20</td><td>1 </td><td>-1/60</td><td>7/60 </td><td>91/10</td></tr>\n",
       "<tr><td>  </td><td>j </td><td>0 </td><td>-13/2</td><td>0 </td><td>3/2  </td><td>5/2  </td><td>351  </td></tr>\n",
       "</tbody>\n",
       "</table>"
      ],
      "text/plain": [
       "<IPython.core.display.HTML object>"
      ]
     },
     "metadata": {},
     "output_type": "display_data"
    },
    {
     "data": {
      "text/latex": [
       "$$ \\bar X_{3} = \\left( \\frac{81}{10}, \\  0, \\  \\frac{91}{10}, \\  0, \\  0\\right)$$"
      ],
      "text/plain": [
       "<IPython.core.display.Latex object>"
      ]
     },
     "metadata": {},
     "output_type": "display_data"
    },
    {
     "data": {
      "text/latex": [
       "$$ L(\\bar x_{3}) = 351$$"
      ],
      "text/plain": [
       "<IPython.core.display.Latex object>"
      ]
     },
     "metadata": {},
     "output_type": "display_data"
    },
    {
     "name": "stdout",
     "output_type": "stream",
     "text": [
      "В индексной строке есть отрицательные элементы. Найденное решение не является оптимальным\n"
     ]
    },
    {
     "data": {
      "text/html": [
       "<table>\n",
       "<tbody>\n",
       "<tr><td>ci</td><td>БП</td><td>13</td><td>22</td><td>27    </td><td>0    </td><td>0     </td><td>L(x)   </td></tr>\n",
       "<tr><td>  </td><td>  </td><td>x1</td><td>x2</td><td>x3    </td><td>x4   </td><td>x5    </td><td>bi     </td></tr>\n",
       "<tr><td>13</td><td>x1</td><td>1 </td><td>0 </td><td>-1/11 </td><td>5/33 </td><td>-2/33 </td><td>80/11  </td></tr>\n",
       "<tr><td>22</td><td>x2</td><td>0 </td><td>1 </td><td>20/11 </td><td>-1/33</td><td>7/33  </td><td>182/11 </td></tr>\n",
       "<tr><td>  </td><td>j </td><td>0 </td><td>0 </td><td>130/11</td><td>43/33</td><td>128/33</td><td>5044/11</td></tr>\n",
       "</tbody>\n",
       "</table>"
      ],
      "text/plain": [
       "<IPython.core.display.HTML object>"
      ]
     },
     "metadata": {},
     "output_type": "display_data"
    },
    {
     "name": "stdout",
     "output_type": "stream",
     "text": [
      "В индексной строке нет отрицательных элементов. Найденное опорное решение является оптимальным\n"
     ]
    },
    {
     "data": {
      "text/latex": [
       "$$ \\bar X_{опт} = \\left( \\frac{80}{11}, \\  \\frac{182}{11}, \\  0, \\  0, \\  0\\right)$$"
      ],
      "text/plain": [
       "<IPython.core.display.Latex object>"
      ]
     },
     "metadata": {},
     "output_type": "display_data"
    },
    {
     "data": {
      "text/latex": [
       "$$ L(\\bar x)_{max} = \\frac{5044}{11}$$"
      ],
      "text/plain": [
       "<IPython.core.display.Latex object>"
      ]
     },
     "metadata": {},
     "output_type": "display_data"
    }
   ],
   "source": [
    "def init_table(L_coefs, conss):\n",
    "    conss = np.array(conss)\n",
    "    table = []\n",
    "    header = np.vstack((x_values, xs))\n",
    "    header = np.hstack(([['ci', 'БП'], ['', '']], header, [['L(x)'], ['bi']]))\n",
    "    table_coef_x = conss[:, :-1]\n",
    "    table = np.hstack((table_coef_x, np.eye(len(conss), dtype=int)))\n",
    "    bs = conss[:, -1]\n",
    "    bs = bs.reshape((bs.size, 1))\n",
    "    table = np.hstack((table, bs))\n",
    "    footer = [coef * - 1 for coef in L_coefs] + [0] * (len(conss) + 1)\n",
    "    table = np.vstack((table, footer))\n",
    "    basises = left_bas(table)\n",
    "    left_side = np.vstack((basises, [['', 'j']]))\n",
    "    table = np.hstack((left_side, table))\n",
    "    table = np.vstack((header, table)).astype(object)\n",
    "    table[2:, 2:] = table[2:, 2:].astype(int)\n",
    "    return table\n",
    "\n",
    "def print_solution(table, n):\n",
    "    use_basises = {basis: b for basis, b in zip(table[2:-1, 1], table[2:-1, -1])}\n",
    "    solution_X = []\n",
    "    for x in x_dict:\n",
    "        if x in use_basises:\n",
    "            solution_X.append(use_basises[x])\n",
    "        else:\n",
    "            solution_X.append(0)\n",
    "    solution_X = tuple(solution_X)\n",
    "    print_eq(f'\\\\bar X_{n}', solution_X)\n",
    "    L_out = f'L(\\\\bar x_{{{n}}})'\n",
    "    if n == 'опт':\n",
    "        L_out = 'L(\\\\bar x)_{max}'\n",
    "    print_eq(L_out, table[-1, -1])\n",
    "\n",
    "def is_optimal(table):\n",
    "    values = table[2:, 2:]\n",
    "    return True if values[-1].min() >= 0 else False\n",
    "\n",
    "def step_simplex_method(table):\n",
    "    change_table = deepcopy(table)\n",
    "    values = change_table[2:, 2:]\n",
    "    per_col_i = np.where(values[-1] == values[-1].min())[0][0]\n",
    "    per_col = values[:-1, per_col_i]\n",
    "    bi = values[:-1, -1]\n",
    "    per_bi = np.array([Rational(b, per_val) for b, per_val in zip(bi, per_col)])\n",
    "    per_row_i = 0\n",
    "    for i, b in enumerate(per_bi):\n",
    "        if b >= 0 and b < per_bi[per_row_i]:\n",
    "            per_row_i = i\n",
    "    per_el = values[per_row_i, per_col_i]\n",
    "    per_row = values[per_row_i, :] * Rational(1, per_el)\n",
    "    values[per_row_i] = per_row\n",
    "    for i in range(values.shape[0]):\n",
    "        if i != per_row_i:\n",
    "            values[i] = change_row(per_row, values[i], per_col_i)\n",
    "    change_table[2:-1, :2] = left_bas(values)\n",
    "    change_table[2:, 2:] = values\n",
    "    return change_table\n",
    "\n",
    "def simplex_method(L_coefs, conss):\n",
    "    table = init_table(L_coefs, conss)\n",
    "    print_table(table)\n",
    "    n = 0\n",
    "    while True:\n",
    "        n += 1\n",
    "        if is_optimal(table):\n",
    "            print('В индексной строке нет отрицательных элементов. Найденное опорное решение является оптимальным')\n",
    "            print_solution(table, 'опт')\n",
    "            break\n",
    "        else:\n",
    "            print_solution(table, n)\n",
    "            print('В индексной строке есть отрицательные элементы. Найденное решение не является оптимальным')\n",
    "        table = step_simplex_method(table)\n",
    "        print_table(table)\n",
    "\n",
    "simplex_method(L_coefs, conss)"
   ]
  },
  {
   "cell_type": "code",
   "execution_count": null,
   "id": "66fb1d63",
   "metadata": {},
   "outputs": [],
   "source": []
  }
 ],
 "metadata": {
  "kernelspec": {
   "display_name": "Python 3 (ipykernel)",
   "language": "python",
   "name": "python3"
  },
  "language_info": {
   "codemirror_mode": {
    "name": "ipython",
    "version": 3
   },
   "file_extension": ".py",
   "mimetype": "text/x-python",
   "name": "python",
   "nbconvert_exporter": "python",
   "pygments_lexer": "ipython3",
   "version": "3.9.7"
  },
  "latex_envs": {
   "LaTeX_envs_menu_present": true,
   "autoclose": false,
   "autocomplete": true,
   "bibliofile": "biblio.bib",
   "cite_by": "apalike",
   "current_citInitial": 1,
   "eqLabelWithNumbers": true,
   "eqNumInitial": 1,
   "hotkeys": {
    "equation": "Ctrl-E",
    "itemize": "Ctrl-I"
   },
   "labels_anchors": false,
   "latex_user_defs": false,
   "report_style_numbering": false,
   "user_envs_cfg": false
  }
 },
 "nbformat": 4,
 "nbformat_minor": 5
}
