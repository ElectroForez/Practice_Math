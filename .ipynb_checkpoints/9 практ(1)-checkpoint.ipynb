{
 "cells": [
  {
   "cell_type": "markdown",
   "id": "d4418127",
   "metadata": {
    "id": "d4418127"
   },
   "source": [
    "# Для запуска кода введите свои параметры в полях ниже(придётся полистать)"
   ]
  },
  {
   "cell_type": "markdown",
   "id": "a47a4345",
   "metadata": {
    "id": "a47a4345"
   },
   "source": [
    "# а затем нажмите CNTRL + F9"
   ]
  },
  {
   "cell_type": "code",
   "execution_count": 1,
   "id": "99c58291",
   "metadata": {
    "ExecuteTime": {
     "end_time": "2022-03-23T18:26:38.161473Z",
     "start_time": "2022-03-23T18:26:37.853860Z"
    },
    "executionInfo": {
     "elapsed": 624,
     "status": "ok",
     "timestamp": 1647976471729,
     "user": {
      "displayName": "Влад Танцев",
      "photoUrl": "https://lh3.googleusercontent.com/a/default-user=s64",
      "userId": "17772345218159706590"
     },
     "user_tz": -180
    },
    "id": "99c58291"
   },
   "outputs": [],
   "source": [
    "from sympy import *\n",
    "from IPython.core.interactiveshell import InteractiveShell\n",
    "InteractiveShell.ast_node_interactivity = \"all\"\n",
    "from IPython.display import display, Math, Latex\n",
    "init_printing(use_latex='mathjax')\n",
    "from sympy.abc import lamda as lmd"
   ]
  },
  {
   "cell_type": "code",
   "execution_count": 2,
   "id": "4617122d",
   "metadata": {
    "ExecuteTime": {
     "end_time": "2022-03-23T18:26:38.173780Z",
     "start_time": "2022-03-23T18:26:38.163268Z"
    },
    "executionInfo": {
     "elapsed": 841,
     "status": "ok",
     "timestamp": 1647976472565,
     "user": {
      "displayName": "Влад Танцев",
      "photoUrl": "https://lh3.googleusercontent.com/a/default-user=s64",
      "userId": "17772345218159706590"
     },
     "user_tz": -180
    },
    "id": "4617122d"
   },
   "outputs": [],
   "source": [
    "def print_eq(eq, *exprs, rev_int2=False):\n",
    "    if type(eq) == str:\n",
    "        eq = Symbol(eq)\n",
    "    out = '$$ {} ' + '= {}' * len(exprs) + '$$'\n",
    "    exprs=list(exprs)\n",
    "    for i in range(len(exprs)):\n",
    "        if type(exprs[i]) != str:\n",
    "            exprs[i] = latex(exprs[i])\n",
    "    if rev_int2:\n",
    "        exprs[-2] += '|_0^x'\n",
    "    display(Latex(out.format(latex(eq), *exprs)))\n",
    "    \n",
    "def s_o(sym, order):#sym\n",
    "    sym = str(sym)\n",
    "    if len(sym) > 1:\n",
    "        tail = sym[1:]\n",
    "        sym=sym[0]\n",
    "    else:\n",
    "        tail = ''\n",
    "    if order == 0:\n",
    "        return Symbol(sym + tail)\n",
    "    if 1 <= order <=3:\n",
    "        order = '\\'' * order\n",
    "    else:\n",
    "        order = f'({order})'\n",
    "    return Symbol(sym + '^{'+order+'}' + tail)\n",
    "    \n",
    "def get_degree(el):\n",
    "    args = el.args\n",
    "    if len(args) == 0:\n",
    "        return 0\n",
    "    elif len(args[-1].args) == 0 and ask(Q.extended_real(args[-1])):\n",
    "        return args[-1]\n",
    "    else:\n",
    "        return 1\n",
    "        \n",
    "def get_coef(el):\n",
    "    args = el.args\n",
    "    if len(args) == 0:\n",
    "        return None\n",
    "    elif ask(Q.extended_real(args[0])):\n",
    "        return args[0]\n",
    "    return 1\n",
    "    \n",
    "def to_s(i):\n",
    "    return Symbol(str(i))\n",
    "    \n",
    "def print_system(*exprs, collab=True): \n",
    "    '''\n",
    "    collab говнюк не хочет нормально системы уравнений отоброжать, \n",
    "    если вы в Jupyter, то замените в аргументе collab True на False'''\n",
    "    exprs=list(exprs)\n",
    "    for i in range(len(exprs)):\n",
    "        if type(exprs[i]) != str:\n",
    "            exprs[i] = latex(exprs[i])\n",
    "    exprs_latex = r'\\\\'.join(exprs)\n",
    "    if collab:\n",
    "        system = r'Начало\\ системы\\\\' + exprs_latex + r'\\\\Конец\\ системы\\\\'\n",
    "    else:\n",
    "        system = \\\n",
    "        r'''\\begin{equation*}\n",
    "    \\begin{cases}''' \\\n",
    "        + exprs_latex + \\\n",
    "        r'''\\end{cases}\n",
    "    \\end{equation*}\n",
    "        '''\n",
    "\n",
    "    print_eq(system)\n",
    "\n",
    "def simple_express(expr, symbol, from_left=True):\n",
    "    l_side = expr.lhs\n",
    "    r_side = expr.rhs\n",
    "    if from_left:\n",
    "        args = l_side.args\n",
    "    else:\n",
    "        args = r_side.args\n",
    "    for arg in args:\n",
    "        if arg != symbol:\n",
    "            l_side /= arg\n",
    "            r_side /= arg\n",
    "    return Eq(l_side, r_side)\n",
    "\n",
    "def get_den(expr): \n",
    "    for el in expr.args:\n",
    "        if type(el) == Rational:\n",
    "            return el"
   ]
  },
  {
   "cell_type": "code",
   "execution_count": 3,
   "id": "be8c07b3",
   "metadata": {
    "ExecuteTime": {
     "end_time": "2022-03-23T18:26:38.179168Z",
     "start_time": "2022-03-23T18:26:38.175709Z"
    },
    "executionInfo": {
     "elapsed": 33,
     "status": "ok",
     "timestamp": 1647976472566,
     "user": {
      "displayName": "Влад Танцев",
      "photoUrl": "https://lh3.googleusercontent.com/a/default-user=s64",
      "userId": "17772345218159706590"
     },
     "user_tz": -180
    },
    "id": "be8c07b3"
   },
   "outputs": [],
   "source": [
    "def find_y(expr):\n",
    "    one = to_s('1')\n",
    "    expr *= one\n",
    "    for el in expr.args:\n",
    "        if el == y:\n",
    "            return y\n",
    "        for sub_el in el.args:\n",
    "            if sub_el == y:\n",
    "                return el"
   ]
  },
  {
   "cell_type": "code",
   "execution_count": 4,
   "id": "b6e4ee0e",
   "metadata": {
    "ExecuteTime": {
     "end_time": "2022-03-23T18:26:38.722483Z",
     "start_time": "2022-03-23T18:26:38.716760Z"
    },
    "executionInfo": {
     "elapsed": 31,
     "status": "ok",
     "timestamp": 1647976472566,
     "user": {
      "displayName": "Влад Танцев",
      "photoUrl": "https://lh3.googleusercontent.com/a/default-user=s64",
      "userId": "17772345218159706590"
     },
     "user_tz": -180
    },
    "id": "b6e4ee0e"
   },
   "outputs": [],
   "source": [
    "ln.__name__ = 'ln'\n",
    "tan.__name__= 'tg'"
   ]
  },
  {
   "cell_type": "code",
   "execution_count": 5,
   "id": "9d28dffe",
   "metadata": {
    "ExecuteTime": {
     "end_time": "2022-03-23T18:26:39.032669Z",
     "start_time": "2022-03-23T18:26:39.025868Z"
    },
    "executionInfo": {
     "elapsed": 31,
     "status": "ok",
     "timestamp": 1647976472567,
     "user": {
      "displayName": "Влад Танцев",
      "photoUrl": "https://lh3.googleusercontent.com/a/default-user=s64",
      "userId": "17772345218159706590"
     },
     "user_tz": -180
    },
    "id": "9d28dffe"
   },
   "outputs": [],
   "source": [
    "x = Symbol('x')\n",
    "y = Symbol('y')\n",
    "t = Symbol('t')\n",
    "z = Symbol('z')\n",
    "yk = Function('y_k')\n",
    "C = Symbol('C')\n",
    "C_f, C_d = symbols('C C\\'', cls=Function)"
   ]
  },
  {
   "cell_type": "markdown",
   "id": "5e689f59",
   "metadata": {
    "id": "5e689f59"
   },
   "source": [
    "# Подставьте свои параметры"
   ]
  },
  {
   "cell_type": "markdown",
   "id": "5heH8RXf4GkW",
   "metadata": {
    "id": "5heH8RXf4GkW"
   },
   "source": [
    "### Примечание\n",
    "Другой порядок при выводе это нормально. Главное, чтобы коэффициенты совпадали. Ну и лучше из самого задания это дело переписать. Мне на этот порядок невероятно сложно влиять, ибо такой функционал не предусмотрен. <br>\n",
    "Если дробь поменялась, то это тоже нормально. Она упростилась. Впишите и старую, и новую через равно"
   ]
  },
  {
   "cell_type": "code",
   "execution_count": 7,
   "id": "edf55e1d",
   "metadata": {
    "ExecuteTime": {
     "end_time": "2022-03-23T18:27:35.021997Z",
     "start_time": "2022-03-23T18:27:35.008419Z"
    },
    "colab": {
     "base_uri": "https://localhost:8080/",
     "height": 103
    },
    "executionInfo": {
     "elapsed": 31,
     "status": "ok",
     "timestamp": 1647976472568,
     "user": {
      "displayName": "Влад Танцев",
      "photoUrl": "https://lh3.googleusercontent.com/a/default-user=s64",
      "userId": "17772345218159706590"
     },
     "user_tz": -180
    },
    "id": "edf55e1d",
    "outputId": "512902b3-090b-4e34-9c30-b00106cb9270"
   },
   "outputs": [
    {
     "data": {
      "text/latex": [
       "$$ Начало\\ системы\\\\2 x y^{'} - y = - \\frac{1}{x y}\\\\y(1)=\\frac{\\sqrt{2}}{4}\\\\Конец\\ системы\\\\ $$"
      ],
      "text/plain": [
       "<IPython.core.display.Latex object>"
      ]
     },
     "metadata": {},
     "output_type": "display_data"
    }
   ],
   "source": [
    "expr_l = 2 * x * s_o(y, 1) - y# часть уравнения слева\n",
    "expr_r = -1 / (x * y) #часть уравнения справа\n",
    "n_y = 1 #n - где y(n)\n",
    "y_n = 1/(2*sqrt(2)) # y(n) = \n",
    "expr = Eq(expr_l, expr_r) \n",
    "print_system(expr, f'y({n_y})=' + latex(y_n))"
   ]
  },
  {
   "cell_type": "markdown",
   "id": "f7890ee4",
   "metadata": {
    "id": "f7890ee4"
   },
   "source": [
    "# Перезапустите блокнот после ввода параметров"
   ]
  },
  {
   "cell_type": "markdown",
   "id": "6d65bd7a",
   "metadata": {
    "id": "6d65bd7a"
   },
   "source": [
    "# Решение"
   ]
  },
  {
   "cell_type": "code",
   "execution_count": 8,
   "id": "ab979e2f",
   "metadata": {
    "ExecuteTime": {
     "end_time": "2022-03-23T18:27:40.000298Z",
     "start_time": "2022-03-23T18:27:39.991456Z"
    },
    "colab": {
     "base_uri": "https://localhost:8080/",
     "height": 74
    },
    "executionInfo": {
     "elapsed": 27,
     "status": "ok",
     "timestamp": 1647976472568,
     "user": {
      "displayName": "Влад Танцев",
      "photoUrl": "https://lh3.googleusercontent.com/a/default-user=s64",
      "userId": "17772345218159706590"
     },
     "user_tz": -180
    },
    "id": "ab979e2f",
    "outputId": "99467bf4-b5a5-45e6-c17b-7a2f14222766"
   },
   "outputs": [
    {
     "name": "stdout",
     "output_type": "stream",
     "text": [
      "Решение:\n"
     ]
    },
    {
     "data": {
      "text/latex": [
       "$$ 2 x y^{'} - y = - \\frac{1}{x y}(1) $$"
      ],
      "text/plain": [
       "<IPython.core.display.Latex object>"
      ]
     },
     "metadata": {},
     "output_type": "display_data"
    },
    {
     "name": "stdout",
     "output_type": "stream",
     "text": [
      "Решение y=0 нас не интересует\n"
     ]
    }
   ],
   "source": [
    "print('Решение:')\n",
    "print_eq(latex(expr) + '(1)')\n",
    "print('Решение y=0 нас не интересует')"
   ]
  },
  {
   "cell_type": "code",
   "execution_count": 9,
   "id": "411fdccd",
   "metadata": {
    "ExecuteTime": {
     "end_time": "2022-03-23T18:27:40.212772Z",
     "start_time": "2022-03-23T18:27:40.194158Z"
    },
    "colab": {
     "base_uri": "https://localhost:8080/",
     "height": 116
    },
    "executionInfo": {
     "elapsed": 22,
     "status": "ok",
     "timestamp": 1647976472569,
     "user": {
      "displayName": "Влад Танцев",
      "photoUrl": "https://lh3.googleusercontent.com/a/default-user=s64",
      "userId": "17772345218159706590"
     },
     "user_tz": -180
    },
    "id": "411fdccd",
    "outputId": "7c673883-4983-4fae-8c2c-bfa341b1f995"
   },
   "outputs": [
    {
     "data": {
      "text/latex": [
       "$$ 2 x y y^{'} - y^{2} = - \\frac{1}{x} $$"
      ],
      "text/plain": [
       "<IPython.core.display.Latex object>"
      ]
     },
     "metadata": {},
     "output_type": "display_data"
    },
    {
     "name": "stdout",
     "output_type": "stream",
     "text": [
      "Замена\n"
     ]
    },
    {
     "data": {
      "text/latex": [
       "$$ z = y^{2}= y^{2}$$"
      ],
      "text/plain": [
       "<IPython.core.display.Latex object>"
      ]
     },
     "metadata": {},
     "output_type": "display_data"
    },
    {
     "data": {
      "text/latex": [
       "$$ z' = 2 y y^{'}$$"
      ],
      "text/plain": [
       "<IPython.core.display.Latex object>"
      ]
     },
     "metadata": {},
     "output_type": "display_data"
    }
   ],
   "source": [
    "r_y = find_y(expr.rhs)\n",
    "s_r_y = r_y.args[1]\n",
    "new_expr = expand(Eq(expr.lhs / r_y, expr.rhs / r_y))\n",
    "print_eq(new_expr)\n",
    "print('Замена')\n",
    "z_value = 1/(y ** (s_r_y - 1))\n",
    "z_value_dif = -(s_r_y - 1) * s_o(y, 1) / r_y\n",
    "print_eq(z, z_value, 'y^{' + str(-(s_r_y - 1)) + '}')\n",
    "print_eq('z\\'', z_value_dif)"
   ]
  },
  {
   "cell_type": "code",
   "execution_count": 13,
   "id": "529cc1ef",
   "metadata": {
    "ExecuteTime": {
     "end_time": "2022-03-23T18:29:44.905709Z",
     "start_time": "2022-03-23T18:29:44.878630Z"
    },
    "colab": {
     "base_uri": "https://localhost:8080/",
     "height": 103
    },
    "executionInfo": {
     "elapsed": 409,
     "status": "ok",
     "timestamp": 1647976472958,
     "user": {
      "displayName": "Влад Танцев",
      "photoUrl": "https://lh3.googleusercontent.com/a/default-user=s64",
      "userId": "17772345218159706590"
     },
     "user_tz": -180
    },
    "id": "529cc1ef",
    "outputId": "549d4a83-ee53-4c6a-e06e-3aaed53796d1"
   },
   "outputs": [
    {
     "data": {
      "text/latex": [
       "$$ x z^{'} - z = - \\frac{1}{x}\\ (2) - линейное\\ неоднородное \\ 1-го\\ порядка $$"
      ],
      "text/plain": [
       "<IPython.core.display.Latex object>"
      ]
     },
     "metadata": {},
     "output_type": "display_data"
    },
    {
     "data": {
      "text/latex": [
       "$$ x z^{'} - z = 0\\ (3) - линейное\\ однородное \\ 1-го\\ порядка $$"
      ],
      "text/plain": [
       "<IPython.core.display.Latex object>"
      ]
     },
     "metadata": {},
     "output_type": "display_data"
    },
    {
     "data": {
      "text/latex": [
       "$$ \\frac{dz}{dx} = \\frac{z}{x}\\ \\ \\ \\ z=0- не\\ решение\\ (2) $$"
      ],
      "text/plain": [
       "<IPython.core.display.Latex object>"
      ]
     },
     "metadata": {},
     "output_type": "display_data"
    },
    {
     "data": {
      "text/latex": [
       "$$ \\frac{dz}{z} = \\frac{1}{x}\\cdot dx $$"
      ],
      "text/plain": [
       "<IPython.core.display.Latex object>"
      ]
     },
     "metadata": {},
     "output_type": "display_data"
    }
   ],
   "source": [
    "if 0 < s_r_y < 1:\n",
    "    if new_expr != new_expr.subs(z_value_dif / s_r_y, s_o(z, 1) / s_r_y):\n",
    "        z_expr = new_expr.subs(z_value_dif / s_r_y, s_o(z, 1) / s_r_y)\n",
    "    else:\n",
    "        z_expr = new_expr.subs(-z_value_dif / s_r_y, -s_o(z, 1) / s_r_y)\n",
    "else:\n",
    "    if new_expr != new_expr.subs(z_value_dif, s_o(z, 1)):\n",
    "        z_expr = new_expr.subs(z_value_dif, s_o(z, 1))\n",
    "    else:\n",
    "        z_expr = new_expr.subs(-z_value_dif, -s_o(z, 1))\n",
    "    z_expr = z_expr.subs(z_value, z)\n",
    "z_expr = z_expr.subs(z_value, z)\n",
    "print_eq(latex(z_expr) + '\\ (2) - линейное\\ неоднородное \\ 1-го\\ порядка')\n",
    "z_expr_0 = Eq(z_expr.lhs, 0)\n",
    "print_eq(latex(z_expr_0) + '\\ (3) - линейное\\ однородное \\ 1-го\\ порядка')\n",
    "dzx = to_s('dz') / to_s('dx')\n",
    "z_expr_0 = z_expr_0.subs(s_o(z, 1), dzx)\n",
    "z_expr_0 = Eq(dzx, solve(z_expr_0, dzx)[0])\n",
    "print_eq(latex(z_expr_0) + '\\ \\ \\ \\ z=0- не\\ решение\\ (2)')\n",
    "z_expr_0 = Eq(z_expr_0.lhs * to_s('dx') / z, z_expr_0.rhs / z)\n",
    "print_eq(latex(z_expr_0) + ('\\cdot dx'))\n",
    "z_expr_0 = Eq(z_expr_0.lhs / to_s('dz'), z_expr_0.rhs)"
   ]
  },
  {
   "cell_type": "code",
   "execution_count": 14,
   "id": "c766066a",
   "metadata": {
    "ExecuteTime": {
     "end_time": "2022-03-23T18:29:45.136305Z",
     "start_time": "2022-03-23T18:29:45.034918Z"
    },
    "colab": {
     "base_uri": "https://localhost:8080/",
     "height": 81
    },
    "executionInfo": {
     "elapsed": 20,
     "status": "ok",
     "timestamp": 1647976472958,
     "user": {
      "displayName": "Влад Танцев",
      "photoUrl": "https://lh3.googleusercontent.com/a/default-user=s64",
      "userId": "17772345218159706590"
     },
     "user_tz": -180
    },
    "id": "c766066a",
    "outputId": "5cb72c72-db31-4f53-b56e-f3519d64d301"
   },
   "outputs": [
    {
     "data": {
      "text/latex": [
       "$$ \\int \\frac{1}{z}\\, dz = \\int \\frac{1}{x}\\, dx $$"
      ],
      "text/plain": [
       "<IPython.core.display.Latex object>"
      ]
     },
     "metadata": {},
     "output_type": "display_data"
    },
    {
     "data": {
      "text/latex": [
       "$$ \\ln{\\left(z \\right)} = \\ln{\\left(x \\right)}+C $$"
      ],
      "text/plain": [
       "<IPython.core.display.Latex object>"
      ]
     },
     "metadata": {},
     "output_type": "display_data"
    },
    {
     "data": {
      "text/latex": [
       "$$ z_{оо} = C x$$"
      ],
      "text/plain": [
       "<IPython.core.display.Latex object>"
      ]
     },
     "metadata": {},
     "output_type": "display_data"
    }
   ],
   "source": [
    "z_integral = Eq(Integral(z_expr_0.lhs), Integral(z_expr_0.rhs))\n",
    "print_eq(z_integral)\n",
    "z_integral = Eq(z_integral.lhs.doit(), z_integral.rhs.doit())\n",
    "print_eq(latex(z_integral) + '+C')\n",
    "z_integral = Eq(z_integral.lhs, z_integral.rhs + ln(C))\n",
    "zoo = solve(z_integral, z)[0]\n",
    "print_eq('z_оо', zoo)"
   ]
  },
  {
   "cell_type": "code",
   "execution_count": 15,
   "id": "916b79e5",
   "metadata": {
    "ExecuteTime": {
     "end_time": "2022-03-23T18:29:45.237583Z",
     "start_time": "2022-03-23T18:29:45.227885Z"
    },
    "colab": {
     "base_uri": "https://localhost:8080/",
     "height": 81
    },
    "executionInfo": {
     "elapsed": 18,
     "status": "ok",
     "timestamp": 1647976472960,
     "user": {
      "displayName": "Влад Танцев",
      "photoUrl": "https://lh3.googleusercontent.com/a/default-user=s64",
      "userId": "17772345218159706590"
     },
     "user_tz": -180
    },
    "id": "916b79e5",
    "outputId": "efb8491f-9ac8-4b49-87d9-4329076263e6"
   },
   "outputs": [
    {
     "data": {
      "text/latex": [
       "$$ z_{он} = x C{\\left(x \\right)}$$"
      ],
      "text/plain": [
       "<IPython.core.display.Latex object>"
      ]
     },
     "metadata": {},
     "output_type": "display_data"
    },
    {
     "data": {
      "text/latex": [
       "$$ z' = x \\operatorname{C'}{\\left(x \\right)} + C{\\left(x \\right)}$$"
      ],
      "text/plain": [
       "<IPython.core.display.Latex object>"
      ]
     },
     "metadata": {},
     "output_type": "display_data"
    },
    {
     "name": "stdout",
     "output_type": "stream",
     "text": [
      "Подставляем в (2)\n"
     ]
    }
   ],
   "source": [
    "zoh = zoo.subs(C, C_f(x))\n",
    "print_eq('z_он', zoh)\n",
    "if zoh.args[0] == C_f(x):\n",
    "    f_diff = zoh.args[1]\n",
    "else:\n",
    "    f_diff = zoh.args[0]\n",
    "z_dif_C = C_d(x) * f_diff + C_f(x) * f_diff.diff(x)\n",
    "print_eq('z\\'', z_dif_C)\n",
    "print('Подставляем в (2)')"
   ]
  },
  {
   "cell_type": "code",
   "execution_count": 16,
   "id": "8f059490",
   "metadata": {
    "ExecuteTime": {
     "end_time": "2022-03-23T18:29:45.485253Z",
     "start_time": "2022-03-23T18:29:45.444375Z"
    },
    "colab": {
     "base_uri": "https://localhost:8080/",
     "height": 107
    },
    "executionInfo": {
     "elapsed": 417,
     "status": "ok",
     "timestamp": 1647976473362,
     "user": {
      "displayName": "Влад Танцев",
      "photoUrl": "https://lh3.googleusercontent.com/a/default-user=s64",
      "userId": "17772345218159706590"
     },
     "user_tz": -180
    },
    "id": "8f059490",
    "outputId": "af72915c-bc58-4c09-e6a2-27e30e376cac"
   },
   "outputs": [
    {
     "data": {
      "text/latex": [
       "$$ (x \\operatorname{C'}{\\left(x \\right)} + C{\\left(x \\right)}) x - x C{\\left(x \\right)} = - \\frac{1}{x} $$"
      ],
      "text/plain": [
       "<IPython.core.display.Latex object>"
      ]
     },
     "metadata": {},
     "output_type": "display_data"
    },
    {
     "data": {
      "text/latex": [
       "$$ x^{2} \\operatorname{C'}{\\left(x \\right)} = - \\frac{1}{x} $$"
      ],
      "text/plain": [
       "<IPython.core.display.Latex object>"
      ]
     },
     "metadata": {},
     "output_type": "display_data"
    },
    {
     "data": {
      "text/latex": [
       "$$ \\operatorname{C'}{\\left(x \\right)} = - \\frac{1}{x^{3}} $$"
      ],
      "text/plain": [
       "<IPython.core.display.Latex object>"
      ]
     },
     "metadata": {},
     "output_type": "display_data"
    },
    {
     "data": {
      "text/latex": [
       "$$ C{\\left(x \\right)} = \\int \\left(- \\frac{1}{x^{3}}\\right)\\, dx= \\frac{1}{2 x^{2}}+C$$"
      ],
      "text/plain": [
       "<IPython.core.display.Latex object>"
      ]
     },
     "metadata": {},
     "output_type": "display_data"
    }
   ],
   "source": [
    "print_eq(z_expr.subs({s_o(z, 1): to_s(f'({latex(z_dif_C)})'), z:to_s(latex(zoh))}))\n",
    "sub_expr = Eq(simplify(z_expr.lhs.subs({s_o(z, 1): z_dif_C, z:(zoh)})), z_expr.rhs)\n",
    "print_eq(sub_expr)\n",
    "C_d_val = simple_express(sub_expr, C_d(x))\n",
    "print_eq(C_d_val)\n",
    "C_f_val = Integral(C_d_val.rhs, x).doit()\n",
    "print_eq(C_f(x), Integral(C_d_val.rhs, x), latex(C_f_val) + '+C')\n",
    "C_f_val += C"
   ]
  },
  {
   "cell_type": "code",
   "execution_count": 17,
   "id": "b014bc5e",
   "metadata": {
    "ExecuteTime": {
     "end_time": "2022-03-23T18:29:52.585598Z",
     "start_time": "2022-03-23T18:29:52.534453Z"
    },
    "colab": {
     "base_uri": "https://localhost:8080/",
     "height": 183
    },
    "executionInfo": {
     "elapsed": 13,
     "status": "ok",
     "timestamp": 1647976473364,
     "user": {
      "displayName": "Влад Танцев",
      "photoUrl": "https://lh3.googleusercontent.com/a/default-user=s64",
      "userId": "17772345218159706590"
     },
     "user_tz": -180
    },
    "id": "b014bc5e",
    "outputId": "79f9b9d6-66ef-4191-eba2-d0aba80a978d"
   },
   "outputs": [
    {
     "data": {
      "text/latex": [
       "$$ z = (C + \\frac{1}{2 x^{2}}) x= C x + \\frac{1}{2 x}= y^{2}$$"
      ],
      "text/plain": [
       "<IPython.core.display.Latex object>"
      ]
     },
     "metadata": {},
     "output_type": "display_data"
    },
    {
     "data": {
      "text/latex": [
       "$$ Начало\\ системы\\\\C x + \\frac{1}{2 x} = y^{2}\\\\y(1)=\\frac{\\sqrt{2}}{4}\\\\Конец\\ системы\\\\ $$"
      ],
      "text/plain": [
       "<IPython.core.display.Latex object>"
      ]
     },
     "metadata": {},
     "output_type": "display_data"
    },
    {
     "data": {
      "text/latex": [
       "$$ 1 C + \\frac{1}{2 \\cdot 1} = \\frac{\\sqrt{2}}{4}^{2} $$"
      ],
      "text/plain": [
       "<IPython.core.display.Latex object>"
      ]
     },
     "metadata": {},
     "output_type": "display_data"
    },
    {
     "data": {
      "text/latex": [
       "$$ C = - \\frac{3}{8}$$"
      ],
      "text/plain": [
       "<IPython.core.display.Latex object>"
      ]
     },
     "metadata": {},
     "output_type": "display_data"
    }
   ],
   "source": [
    "z_C = simplify(zoh.subs(C_f(x), C_f_val))\n",
    "print_eq(z, zoh.subs(C_f(x), to_s(f'({latex(C_f_val)})')), z_C, z_value)\n",
    "z_C = Eq(z_C, z_value) \n",
    "print_system(z_C, f'y({n_y})={latex(y_n)}')\n",
    "print_eq(z_C.subs({x: to_s(latex(n_y)), y: to_s(latex(y_n))}))\n",
    "C_val =  solve(z_C.subs({x: n_y, y: y_n}), C)[0]\n",
    "print_eq(C, C_val)"
   ]
  },
  {
   "cell_type": "code",
   "execution_count": 18,
   "id": "39cac8e1",
   "metadata": {
    "ExecuteTime": {
     "end_time": "2022-03-23T18:29:55.146050Z",
     "start_time": "2022-03-23T18:29:55.138083Z"
    },
    "colab": {
     "base_uri": "https://localhost:8080/",
     "height": 58
    },
    "executionInfo": {
     "elapsed": 14,
     "status": "ok",
     "timestamp": 1647976473984,
     "user": {
      "displayName": "Влад Танцев",
      "photoUrl": "https://lh3.googleusercontent.com/a/default-user=s64",
      "userId": "17772345218159706590"
     },
     "user_tz": -180
    },
    "id": "39cac8e1",
    "outputId": "52aff840-4d40-4a7d-83d3-d0ab153fdd8a"
   },
   "outputs": [
    {
     "name": "stdout",
     "output_type": "stream",
     "text": [
      "Ответ:\n"
     ]
    },
    {
     "data": {
      "text/latex": [
       "$$ - \\frac{3 x}{8} + \\frac{1}{2 x} = y^{2} $$"
      ],
      "text/plain": [
       "<IPython.core.display.Latex object>"
      ]
     },
     "metadata": {},
     "output_type": "display_data"
    }
   ],
   "source": [
    "print('Ответ:')\n",
    "print_eq(z_C.subs(C, C_val))"
   ]
  },
  {
   "cell_type": "markdown",
   "id": "ea11555f",
   "metadata": {
    "id": "ea11555f"
   },
   "source": [
    "Если эта программа очень помогла вам, то буду премного вам благодарен, если поддержите материально копеечкой.<br>\n",
    "+79159427630\n",
    "<br>Владислав Владимирович Т.\n",
    "<br>Тинькофф, Сбер\n",
    "<br>Я в вк https://vk.com/vladt99\n",
    "<br>Пожелания, косяки и прочее в тг или вк c удовольствием выслушаю. Также помогу с вводом примера или отвечу на вопросы по коду, или не по коду. А может пообщаемся. Или проект совместный забабахаем(Только не по продаже этого кода). Или в настолки сыграем. Или будем вместе светлое коммунистическое строить... А может всё сразу?"
   ]
  }
 ],
 "metadata": {
  "colab": {
   "collapsed_sections": [],
   "name": "9_практ(1).ipynb",
   "provenance": []
  },
  "kernelspec": {
   "display_name": "Python 3 (ipykernel)",
   "language": "python",
   "name": "python3"
  },
  "language_info": {
   "codemirror_mode": {
    "name": "ipython",
    "version": 3
   },
   "file_extension": ".py",
   "mimetype": "text/x-python",
   "name": "python",
   "nbconvert_exporter": "python",
   "pygments_lexer": "ipython3",
   "version": "3.9.7"
  },
  "latex_envs": {
   "LaTeX_envs_menu_present": true,
   "autoclose": false,
   "autocomplete": true,
   "bibliofile": "biblio.bib",
   "cite_by": "apalike",
   "current_citInitial": 1,
   "eqLabelWithNumbers": true,
   "eqNumInitial": 1,
   "hotkeys": {
    "equation": "Ctrl-E",
    "itemize": "Ctrl-I"
   },
   "labels_anchors": false,
   "latex_user_defs": false,
   "report_style_numbering": false,
   "user_envs_cfg": false
  },
  "varInspector": {
   "cols": {
    "lenName": 16,
    "lenType": 16,
    "lenVar": 40
   },
   "kernels_config": {
    "python": {
     "delete_cmd_postfix": "",
     "delete_cmd_prefix": "del ",
     "library": "var_list.py",
     "varRefreshCmd": "print(var_dic_list())"
    },
    "r": {
     "delete_cmd_postfix": ") ",
     "delete_cmd_prefix": "rm(",
     "library": "var_list.r",
     "varRefreshCmd": "cat(var_dic_list()) "
    }
   },
   "types_to_exclude": [
    "module",
    "function",
    "builtin_function_or_method",
    "instance",
    "_Feature"
   ],
   "window_display": false
  }
 },
 "nbformat": 4,
 "nbformat_minor": 5
}
