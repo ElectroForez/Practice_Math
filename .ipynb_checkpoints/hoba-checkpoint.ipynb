{
 "cells": [
  {
   "cell_type": "code",
   "execution_count": 3,
   "id": "27371b9a",
   "metadata": {
    "ExecuteTime": {
     "end_time": "2022-03-10T12:46:23.805394Z",
     "start_time": "2022-03-10T12:46:23.791448Z"
    }
   },
   "outputs": [],
   "source": [
    "from sympy import *\n",
    "from sympy.abc import *"
   ]
  },
  {
   "cell_type": "code",
   "execution_count": 5,
   "id": "b8f117b4",
   "metadata": {
    "ExecuteTime": {
     "end_time": "2022-03-10T12:46:50.755818Z",
     "start_time": "2022-03-10T12:46:50.753468Z"
    }
   },
   "outputs": [],
   "source": [
    "from IPython.core.interactiveshell import InteractiveShell\n",
    "InteractiveShell.ast_node_interactivity = \"all\""
   ]
  },
  {
   "cell_type": "code",
   "execution_count": 11,
   "id": "9ae7d5e0",
   "metadata": {
    "ExecuteTime": {
     "end_time": "2022-03-10T12:48:36.444215Z",
     "start_time": "2022-03-10T12:48:36.434152Z"
    }
   },
   "outputs": [
    {
     "data": {
      "text/latex": [
       "$\\displaystyle a e^{15 x}$"
      ],
      "text/plain": [
       "a*exp(15*x)"
      ]
     },
     "execution_count": 11,
     "metadata": {},
     "output_type": "execute_result"
    },
    {
     "data": {
      "text/latex": [
       "$\\displaystyle e^{- 15 x}$"
      ],
      "text/plain": [
       "exp(-15*x)"
      ]
     },
     "execution_count": 11,
     "metadata": {},
     "output_type": "execute_result"
    }
   ],
   "source": [
    "expr1 = a * x \n",
    "expr1\n",
    "expr2 = exp(-15*x)\n",
    "expr2"
   ]
  },
  {
   "cell_type": "code",
   "execution_count": 12,
   "id": "a97484db",
   "metadata": {
    "ExecuteTime": {
     "end_time": "2022-03-10T12:48:36.932694Z",
     "start_time": "2022-03-10T12:48:36.923646Z"
    }
   },
   "outputs": [
    {
     "data": {
      "text/latex": [
       "$\\displaystyle 1$"
      ],
      "text/plain": [
       "1"
      ]
     },
     "execution_count": 12,
     "metadata": {},
     "output_type": "execute_result"
    }
   ],
   "source": [
    "expr1.subs(a, expr2)"
   ]
  },
  {
   "cell_type": "code",
   "execution_count": null,
   "id": "deb4a3ac",
   "metadata": {},
   "outputs": [],
   "source": []
  }
 ],
 "metadata": {
  "kernelspec": {
   "display_name": "Python 3 (ipykernel)",
   "language": "python",
   "name": "python3"
  },
  "language_info": {
   "codemirror_mode": {
    "name": "ipython",
    "version": 3
   },
   "file_extension": ".py",
   "mimetype": "text/x-python",
   "name": "python",
   "nbconvert_exporter": "python",
   "pygments_lexer": "ipython3",
   "version": "3.9.7"
  },
  "latex_envs": {
   "LaTeX_envs_menu_present": true,
   "autoclose": false,
   "autocomplete": true,
   "bibliofile": "biblio.bib",
   "cite_by": "apalike",
   "current_citInitial": 1,
   "eqLabelWithNumbers": true,
   "eqNumInitial": 1,
   "hotkeys": {
    "equation": "Ctrl-E",
    "itemize": "Ctrl-I"
   },
   "labels_anchors": false,
   "latex_user_defs": false,
   "report_style_numbering": false,
   "user_envs_cfg": false
  }
 },
 "nbformat": 4,
 "nbformat_minor": 5
}
