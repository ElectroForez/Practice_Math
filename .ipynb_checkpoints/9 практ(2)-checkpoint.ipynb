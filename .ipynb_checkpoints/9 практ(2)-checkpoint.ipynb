{
 "cells": [
  {
   "cell_type": "code",
   "execution_count": 1,
   "id": "b0bfb942",
   "metadata": {
    "ExecuteTime": {
     "end_time": "2022-03-15T07:31:49.520779Z",
     "start_time": "2022-03-15T07:31:49.198582Z"
    }
   },
   "outputs": [],
   "source": [
    "from sympy import *\n",
    "from IPython.core.interactiveshell import InteractiveShell\n",
    "InteractiveShell.ast_node_interactivity = \"all\"\n",
    "from IPython.display import display, Math, Latex\n",
    "init_printing(use_latex='mathjax')"
   ]
  },
  {
   "cell_type": "code",
   "execution_count": 31,
   "id": "cfb13247",
   "metadata": {
    "ExecuteTime": {
     "end_time": "2022-03-15T07:40:09.170138Z",
     "start_time": "2022-03-15T07:40:09.166956Z"
    }
   },
   "outputs": [],
   "source": [
    "def print_eq(eq, *exprs, rev_int2=False):\n",
    "    out = '$${} ' + '= {}' * len(exprs) + '$$'\n",
    "    exprs = list(map(latex, exprs))\n",
    "    if rev_int2:\n",
    "        exprs[-2] += r'\\bigg |_0^x'\n",
    "    display(Latex(out.format(str(eq), *exprs)))"
   ]
  },
  {
   "cell_type": "code",
   "execution_count": 32,
   "id": "7bc291b8",
   "metadata": {
    "ExecuteTime": {
     "end_time": "2022-03-15T07:40:09.426936Z",
     "start_time": "2022-03-15T07:40:09.423154Z"
    }
   },
   "outputs": [],
   "source": [
    "x = Symbol('x')\n",
    "y = Symbol('y')\n",
    "t = Symbol('t')\n",
    "yk = symbols('y_k', cls=Function)"
   ]
  },
  {
   "cell_type": "markdown",
   "id": "87d03939",
   "metadata": {},
   "source": [
    "# Сюда ваши параметры"
   ]
  },
  {
   "cell_type": "code",
   "execution_count": 33,
   "id": "cf9d1db9",
   "metadata": {
    "ExecuteTime": {
     "end_time": "2022-03-15T07:40:09.945032Z",
     "start_time": "2022-03-15T07:40:09.939491Z"
    }
   },
   "outputs": [
    {
     "data": {
      "text/latex": [
       "$$y' = \\left(3 x + 2 y\\right)^{2}$$"
      ],
      "text/plain": [
       "<IPython.core.display.Latex object>"
      ]
     },
     "metadata": {},
     "output_type": "display_data"
    },
    {
     "data": {
      "text/latex": [
       "$$y(0) = 0$$"
      ],
      "text/plain": [
       "<IPython.core.display.Latex object>"
      ]
     },
     "metadata": {},
     "output_type": "display_data"
    }
   ],
   "source": [
    "expr = (3*x + 2 * y) ** 2 #<----- Сюда пример\n",
    "y0 = 0 #сюда чему равно y(0)\n",
    "n=4 #Нам надо 4 члена, поэтому это не трогайте. То, что ниже тоже\n",
    "print_eq('y\\'', expr)\n",
    "print_eq('y(0)', y0)\n",
    "yk_value = y0"
   ]
  },
  {
   "cell_type": "code",
   "execution_count": 34,
   "id": "ad64a7d4",
   "metadata": {
    "ExecuteTime": {
     "end_time": "2022-03-15T07:40:10.386763Z",
     "start_time": "2022-03-15T07:40:10.380641Z"
    }
   },
   "outputs": [
    {
     "name": "stdout",
     "output_type": "stream",
     "text": [
      "Пишем общую формулу очередного приближения Пикаро\n"
     ]
    },
    {
     "data": {
      "text/latex": [
       "$$y_{k+1} = \\int\\limits_{0}^{x} \\left(3 t + 2 \\operatorname{y_{k}}{\\left(t \\right)}\\right)^{2}\\, dt$$"
      ],
      "text/plain": [
       "<IPython.core.display.Latex object>"
      ]
     },
     "metadata": {},
     "output_type": "display_data"
    }
   ],
   "source": [
    "print('Пишем общую формулу очередного приближения Пикаро')\n",
    "general_formula = y0 + Integral(expr.subs({x:t,y:yk(t)}), (t, 0, x))#общая формула с определённым интегралом\n",
    "general_formula_WOS = y0 + Integral(expr.subs({x:t,y:yk(t)}), (t))#а здесь с неопределенным интегралом\n",
    "print_eq('y_{k+1}', general_formula)"
   ]
  },
  {
   "cell_type": "code",
   "execution_count": 35,
   "id": "d961876a",
   "metadata": {
    "ExecuteTime": {
     "end_time": "2022-03-15T07:40:11.206713Z",
     "start_time": "2022-03-15T07:40:11.179055Z"
    },
    "scrolled": false
   },
   "outputs": [
    {
     "data": {
      "text/latex": [
       "$$y_1 = \\int\\limits_{0}^{x} 9 t^{2}\\, dt= 3 t^{3}\\bigg |_0^x= 3 x^{3}$$"
      ],
      "text/plain": [
       "<IPython.core.display.Latex object>"
      ]
     },
     "metadata": {},
     "output_type": "display_data"
    },
    {
     "data": {
      "text/latex": [
       "$$y_2 = \\int\\limits_{0}^{x} \\left(6 t^{3} + 3 t\\right)^{2}\\, dt= \\frac{36 t^{7}}{7} + \\frac{36 t^{5}}{5} + 3 t^{3}\\bigg |_0^x= \\frac{36 x^{7}}{7} + \\frac{36 x^{5}}{5} + 3 x^{3}$$"
      ],
      "text/plain": [
       "<IPython.core.display.Latex object>"
      ]
     },
     "metadata": {},
     "output_type": "display_data"
    },
    {
     "data": {
      "text/latex": [
       "$$y_3 = \\int\\limits_{0}^{x} \\left(\\frac{72 t^{7}}{7} + \\frac{72 t^{5}}{5} + 6 t^{3} + 3 t\\right)^{2}\\, dt= \\frac{1728 t^{15}}{245} + \\frac{10368 t^{13}}{455} + \\frac{57888 t^{11}}{1925} + \\frac{912 t^{9}}{35} + \\frac{612 t^{7}}{35} + \\frac{36 t^{5}}{5} + 3 t^{3}\\bigg |_0^x= \\frac{1728 x^{15}}{245} + \\frac{10368 x^{13}}{455} + \\frac{57888 x^{11}}{1925} + \\frac{912 x^{9}}{35} + \\frac{612 x^{7}}{35} + \\frac{36 x^{5}}{5} + 3 x^{3}$$"
      ],
      "text/plain": [
       "<IPython.core.display.Latex object>"
      ]
     },
     "metadata": {},
     "output_type": "display_data"
    },
    {
     "data": {
      "text/latex": [
       "$$y_4 = \\int\\limits_{0}^{x} \\left(\\frac{3456 t^{15}}{245} + \\frac{20736 t^{13}}{455} + \\frac{115776 t^{11}}{1925} + \\frac{1824 t^{9}}{35} + \\frac{1224 t^{7}}{35} + \\frac{72 t^{5}}{5} + 6 t^{3} + 3 t\\right)^{2}\\, dt= \\frac{11943936 t^{31}}{1860775} + \\frac{143327232 t^{29}}{3232775} + \\frac{11140153344 t^{27}}{79704625} + \\frac{42624589824 t^{25}}{153278125} + \\frac{3154253654016 t^{23}}{7755873125} + \\frac{411346944 t^{21}}{875875} + \\frac{55346688 t^{19}}{125125} + \\frac{5262845184 t^{17}}{14889875} + \\frac{217161792 t^{15}}{875875} + \\frac{3837312 t^{13}}{25025} + \\frac{164448 t^{11}}{1925} + \\frac{1488 t^{9}}{35} + \\frac{612 t^{7}}{35} + \\frac{36 t^{5}}{5} + 3 t^{3}\\bigg |_0^x= \\frac{11943936 x^{31}}{1860775} + \\frac{143327232 x^{29}}{3232775} + \\frac{11140153344 x^{27}}{79704625} + \\frac{42624589824 x^{25}}{153278125} + \\frac{3154253654016 x^{23}}{7755873125} + \\frac{411346944 x^{21}}{875875} + \\frac{55346688 x^{19}}{125125} + \\frac{5262845184 x^{17}}{14889875} + \\frac{217161792 x^{15}}{875875} + \\frac{3837312 x^{13}}{25025} + \\frac{164448 x^{11}}{1925} + \\frac{1488 x^{9}}{35} + \\frac{612 x^{7}}{35} + \\frac{36 x^{5}}{5} + 3 x^{3}$$"
      ],
      "text/plain": [
       "<IPython.core.display.Latex object>"
      ]
     },
     "metadata": {},
     "output_type": "display_data"
    }
   ],
   "source": [
    "results = []\n",
    "for i in range(1, n + 1):\n",
    "    def_integral = general_formula.subs(yk(t), yk_value)#подставляем значения сюда\n",
    "    rev_integral = general_formula_WOS.subs(yk(t), yk_value).doit()#раскроем неопределённый интеграл\n",
    "    result = general_formula.subs(yk(t), yk_value).doit()#результат интегрирования\n",
    "    yk_value = result.subs(x, t)#чему будет равен yk\n",
    "    results += [result]#сохраним результаты\n",
    "    print_eq(f'y_{i}', def_integral, rev_integral, result, rev_int2=True)#выводим\n",
    "yk_value = y0#в конце это обнулим, чтобы при перезапуске дальше интегрирование не шло"
   ]
  },
  {
   "cell_type": "code",
   "execution_count": 20,
   "id": "5f59cc4e",
   "metadata": {
    "ExecuteTime": {
     "end_time": "2022-03-15T07:36:25.042886Z",
     "start_time": "2022-03-15T07:36:25.024054Z"
    }
   },
   "outputs": [
    {
     "name": "stdout",
     "output_type": "stream",
     "text": [
      "Ответ: общая формула очередного приближения Пикаро\n"
     ]
    },
    {
     "data": {
      "text/latex": [
       "$$y_{k+1} = \\int\\limits_{0}^{x} \\left(3 t + 2 \\operatorname{y_{k}}{\\left(t \\right)}\\right)^{2}\\, dt$$"
      ],
      "text/plain": [
       "<IPython.core.display.Latex object>"
      ]
     },
     "metadata": {},
     "output_type": "display_data"
    },
    {
     "data": {
      "text/latex": [
       "$$y_1 = 3 x^{3}$$"
      ],
      "text/plain": [
       "<IPython.core.display.Latex object>"
      ]
     },
     "metadata": {},
     "output_type": "display_data"
    },
    {
     "data": {
      "text/latex": [
       "$$y_2 = \\frac{36 x^{7}}{7} + \\frac{36 x^{5}}{5} + 3 x^{3}$$"
      ],
      "text/plain": [
       "<IPython.core.display.Latex object>"
      ]
     },
     "metadata": {},
     "output_type": "display_data"
    },
    {
     "data": {
      "text/latex": [
       "$$y_3 = \\frac{1728 x^{15}}{245} + \\frac{10368 x^{13}}{455} + \\frac{57888 x^{11}}{1925} + \\frac{912 x^{9}}{35} + \\frac{612 x^{7}}{35} + \\frac{36 x^{5}}{5} + 3 x^{3}$$"
      ],
      "text/plain": [
       "<IPython.core.display.Latex object>"
      ]
     },
     "metadata": {},
     "output_type": "display_data"
    },
    {
     "data": {
      "text/latex": [
       "$$y_4 = \\frac{11943936 x^{31}}{1860775} + \\frac{143327232 x^{29}}{3232775} + \\frac{11140153344 x^{27}}{79704625} + \\frac{42624589824 x^{25}}{153278125} + \\frac{3154253654016 x^{23}}{7755873125} + \\frac{411346944 x^{21}}{875875} + \\frac{55346688 x^{19}}{125125} + \\frac{5262845184 x^{17}}{14889875} + \\frac{217161792 x^{15}}{875875} + \\frac{3837312 x^{13}}{25025} + \\frac{164448 x^{11}}{1925} + \\frac{1488 x^{9}}{35} + \\frac{612 x^{7}}{35} + \\frac{36 x^{5}}{5} + 3 x^{3}$$"
      ],
      "text/plain": [
       "<IPython.core.display.Latex object>"
      ]
     },
     "metadata": {},
     "output_type": "display_data"
    }
   ],
   "source": [
    "print('Ответ: общая формула очередного приближения Пикаро')\n",
    "print_eq('y_{k+1}', general_formula)\n",
    "for i in range(0, n):\n",
    "    print_eq(f'y_{i + 1}', results[i])"
   ]
  },
  {
   "cell_type": "code",
   "execution_count": null,
   "id": "9a771985",
   "metadata": {},
   "outputs": [],
   "source": []
  }
 ],
 "metadata": {
  "kernelspec": {
   "display_name": "Python 3 (ipykernel)",
   "language": "python",
   "name": "python3"
  },
  "language_info": {
   "codemirror_mode": {
    "name": "ipython",
    "version": 3
   },
   "file_extension": ".py",
   "mimetype": "text/x-python",
   "name": "python",
   "nbconvert_exporter": "python",
   "pygments_lexer": "ipython3",
   "version": "3.9.7"
  },
  "latex_envs": {
   "LaTeX_envs_menu_present": true,
   "autoclose": false,
   "autocomplete": true,
   "bibliofile": "biblio.bib",
   "cite_by": "apalike",
   "current_citInitial": 1,
   "eqLabelWithNumbers": true,
   "eqNumInitial": 1,
   "hotkeys": {
    "equation": "Ctrl-E",
    "itemize": "Ctrl-I"
   },
   "labels_anchors": false,
   "latex_user_defs": false,
   "report_style_numbering": false,
   "user_envs_cfg": false
  },
  "varInspector": {
   "cols": {
    "lenName": 16,
    "lenType": 16,
    "lenVar": 40
   },
   "kernels_config": {
    "python": {
     "delete_cmd_postfix": "",
     "delete_cmd_prefix": "del ",
     "library": "var_list.py",
     "varRefreshCmd": "print(var_dic_list())"
    },
    "r": {
     "delete_cmd_postfix": ") ",
     "delete_cmd_prefix": "rm(",
     "library": "var_list.r",
     "varRefreshCmd": "cat(var_dic_list()) "
    }
   },
   "types_to_exclude": [
    "module",
    "function",
    "builtin_function_or_method",
    "instance",
    "_Feature"
   ],
   "window_display": false
  }
 },
 "nbformat": 4,
 "nbformat_minor": 5
}
