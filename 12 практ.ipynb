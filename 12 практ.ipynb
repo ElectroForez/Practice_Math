{
 "cells": [
  {
   "cell_type": "markdown",
   "id": "71101e30",
   "metadata": {},
   "source": [
    "Предварительно нужно выбрать план с минимальной стоимостью. Сюда ввести только его"
   ]
  },
  {
   "cell_type": "code",
   "execution_count": 133,
   "id": "2871cb52",
   "metadata": {
    "ExecuteTime": {
     "end_time": "2022-03-20T15:42:32.231235Z",
     "start_time": "2022-03-20T15:42:32.225099Z"
    }
   },
   "outputs": [],
   "source": [
    "from sympy import *\n",
    "import numpy as np\n",
    "import pandas as pd\n",
    "from IPython.core.interactiveshell import InteractiveShell\n",
    "InteractiveShell.ast_node_interactivity = \"all\"\n",
    "from IPython.display import display, Math, Latex\n",
    "init_printing()\n",
    "from sympy.abc import *"
   ]
  },
  {
   "cell_type": "code",
   "execution_count": 134,
   "id": "0e11eb10",
   "metadata": {
    "ExecuteTime": {
     "end_time": "2022-03-20T15:42:32.584130Z",
     "start_time": "2022-03-20T15:42:32.579959Z"
    }
   },
   "outputs": [],
   "source": [
    "def print_eq(eq, *exprs, rev_int2=False):\n",
    "    if type(eq) == str:\n",
    "        eq = Symbol(eq)\n",
    "    out = '$$ {} ' + '= {}' * len(exprs) + '$$'\n",
    "    exprs=list(exprs)\n",
    "    for i in range(len(exprs)):\n",
    "        if type(exprs[i]) != str:\n",
    "            exprs[i] = latex(exprs[i])\n",
    "    if rev_int2:\n",
    "        exprs[-2] += '|_0^x'\n",
    "    display(Latex(out.format(latex(eq), *exprs)))"
   ]
  },
  {
   "cell_type": "code",
   "execution_count": 135,
   "id": "9b2a6b67",
   "metadata": {
    "ExecuteTime": {
     "end_time": "2022-03-20T15:42:32.760633Z",
     "start_time": "2022-03-20T15:42:32.757997Z"
    }
   },
   "outputs": [],
   "source": [
    "_ = Symbol('.')"
   ]
  },
  {
   "cell_type": "code",
   "execution_count": 136,
   "id": "6a4a9a18",
   "metadata": {
    "ExecuteTime": {
     "end_time": "2022-03-20T15:42:32.931777Z",
     "start_time": "2022-03-20T15:42:32.928572Z"
    }
   },
   "outputs": [],
   "source": [
    "C = [[31, 78, 56, 32],\n",
    "     [71, 23, 11, 38],\n",
    "     [35, 36, 17, 81]]\n",
    "a = [[110],\n",
    "     [130],\n",
    "     [260]]\n",
    "b = [90, 100, 190, 120]\n",
    "start_plan = [[90, _, _, 20],\n",
    "              [_, _, 130, _],\n",
    "              [_, 100, 60, 100]]"
   ]
  },
  {
   "cell_type": "code",
   "execution_count": 137,
   "id": "b3e3feeb",
   "metadata": {
    "ExecuteTime": {
     "end_time": "2022-03-20T15:42:33.106647Z",
     "start_time": "2022-03-20T15:42:33.095148Z"
    }
   },
   "outputs": [
    {
     "data": {
      "text/latex": [
       "$$ C = \\left[\\begin{matrix}31 & 78 & 56 & 32\\\\71 & 23 & 11 & 38\\\\35 & 36 & 17 & 81\\end{matrix}\\right]$$"
      ],
      "text/plain": [
       "<IPython.core.display.Latex object>"
      ]
     },
     "metadata": {},
     "output_type": "display_data"
    },
    {
     "data": {
      "text/latex": [
       "$$ a = \\left[\\begin{matrix}110\\\\130\\\\260\\end{matrix}\\right]$$"
      ],
      "text/plain": [
       "<IPython.core.display.Latex object>"
      ]
     },
     "metadata": {},
     "output_type": "display_data"
    },
    {
     "data": {
      "text/latex": [
       "$$ b = \\left[\\begin{matrix}90\\\\100\\\\190\\\\120\\end{matrix}\\right]$$"
      ],
      "text/plain": [
       "<IPython.core.display.Latex object>"
      ]
     },
     "metadata": {},
     "output_type": "display_data"
    },
    {
     "data": {
      "text/latex": [
       "$$ start plan = \\left[\\begin{matrix}90 & . & . & 20\\\\. & . & 130 & .\\\\. & 100 & 60 & 100\\end{matrix}\\right]$$"
      ],
      "text/plain": [
       "<IPython.core.display.Latex object>"
      ]
     },
     "metadata": {},
     "output_type": "display_data"
    },
    {
     "name": "stdout",
     "output_type": "stream",
     "text": [
      "Задача закрыта\n"
     ]
    }
   ],
   "source": [
    "C = np.array(C)\n",
    "a = np.array(a)\n",
    "b = np.array(b)\n",
    "start_plan = np.array(start_plan)\n",
    "start_els = [C, a, b, start_plan]\n",
    "name_els = ['C', 'a', 'b', 'start plan']\n",
    "for name, el in zip(name_els, start_els):\n",
    "    print_eq(name, Matrix(el))\n",
    "if sum(a) == sum(b):\n",
    "    print('Задача закрыта')\n",
    "else:\n",
    "    print('ЗАДАЧА НЕ ЗАКРЫТА. ПРОВЕРЬТЕ ВВЕДЁННЫЕ ДАННЫЕ')"
   ]
  },
  {
   "cell_type": "code",
   "execution_count": 138,
   "id": "899ed805",
   "metadata": {
    "ExecuteTime": {
     "end_time": "2022-03-20T15:42:33.299965Z",
     "start_time": "2022-03-20T15:42:33.283300Z"
    }
   },
   "outputs": [
    {
     "data": {
      "text/plain": [
       "array([[1, 2],\n",
       "       [3, 4]])"
      ]
     },
     "execution_count": 138,
     "metadata": {},
     "output_type": "execute_result"
    },
    {
     "ename": "ValueError",
     "evalue": "invalid literal for int() with base 10: '\\\\underline{1}'",
     "output_type": "error",
     "traceback": [
      "\u001b[0;31m---------------------------------------------------------------------------\u001b[0m",
      "\u001b[0;31mValueError\u001b[0m                                Traceback (most recent call last)",
      "Input \u001b[0;32mIn [138]\u001b[0m, in \u001b[0;36m<module>\u001b[0;34m\u001b[0m\n\u001b[1;32m      1\u001b[0m my_matrix \u001b[38;5;241m=\u001b[39m np\u001b[38;5;241m.\u001b[39marray([[\u001b[38;5;241m1\u001b[39m, \u001b[38;5;241m2\u001b[39m], [\u001b[38;5;241m3\u001b[39m, \u001b[38;5;241m4\u001b[39m]])\n\u001b[1;32m      2\u001b[0m my_matrix\n\u001b[0;32m----> 3\u001b[0m my_matrix[\u001b[38;5;241m0\u001b[39m, \u001b[38;5;241m0\u001b[39m] \u001b[38;5;241m=\u001b[39m \u001b[38;5;124mr\u001b[39m\u001b[38;5;124m'\u001b[39m\u001b[38;5;124m\\\u001b[39m\u001b[38;5;124munderline\u001b[39m\u001b[38;5;132;01m{1}\u001b[39;00m\u001b[38;5;124m'\u001b[39m\n",
      "\u001b[0;31mValueError\u001b[0m: invalid literal for int() with base 10: '\\\\underline{1}'"
     ]
    }
   ],
   "source": [
    "my_matrix = np.array([[1, 2], [3, 4]])\n",
    "my_matrix\n",
    "my_matrix[0, 0] = r'\\underline{1}'"
   ]
  },
  {
   "cell_type": "markdown",
   "id": "50dfca3a",
   "metadata": {},
   "source": [
    "$$\\begin{pmatrix}\n",
    "a_{11}-\\lambda & a_{12}&a_{13}\\\\\n",
    "a_{21}& a_{22}-\\lambda &a_{23}\\\\\n",
    "a_{31}& a_{32}&a_{33}-\\lambda\n",
    "\\end{pmatrix}$$"
   ]
  },
  {
   "cell_type": "code",
   "execution_count": 143,
   "id": "71e21cef",
   "metadata": {
    "ExecuteTime": {
     "end_time": "2022-03-20T15:43:49.512893Z",
     "start_time": "2022-03-20T15:43:49.507577Z"
    }
   },
   "outputs": [],
   "source": [
    "def underline(el):\n",
    "    if type(el) != str:\n",
    "        el = latex(Symbol(latex(el)))\n",
    "    return '\\\\underline{' + el + '}'"
   ]
  },
  {
   "cell_type": "code",
   "execution_count": 182,
   "id": "912951db",
   "metadata": {
    "ExecuteTime": {
     "end_time": "2022-03-20T15:55:37.199086Z",
     "start_time": "2022-03-20T15:55:37.193312Z"
    }
   },
   "outputs": [
    {
     "data": {
      "text/latex": [
       "$$ $$\\begin{pmatrix}\\mathtt{\\text{1}}& \\mathtt{\\text{1}}\\\\\\mathtt{\\text{3}}& \\mathtt{\\text{3}}\\\\\\end{pmatrix}$$ $$"
      ],
      "text/plain": [
       "<IPython.core.display.Latex object>"
      ]
     },
     "metadata": {},
     "output_type": "display_data"
    }
   ],
   "source": [
    "def latex_matrix(a, unline=None):\n",
    "    start = r'$$\\begin{pmatrix}'\n",
    "    end = r'\\end{pmatrix}$$'\n",
    "    content = ''\n",
    "    for i in range(len(a)):\n",
    "        line_latex = latex(a[i, 0])\n",
    "        for j in range(len(a[i].tolist()[1:])):\n",
    "            line_latex += '& ' + latex(a[i, j])\n",
    "        line_latex += r'\\\\'\n",
    "        content += line_latex\n",
    "    return start + content + end\n",
    "print_eq(latex_matrix(a))"
   ]
  },
  {
   "cell_type": "code",
   "execution_count": 186,
   "id": "01cf9afb",
   "metadata": {
    "ExecuteTime": {
     "end_time": "2022-03-20T15:55:57.693298Z",
     "start_time": "2022-03-20T15:55:57.686079Z"
    }
   },
   "outputs": [
    {
     "data": {
      "text/plain": [
       "array([2])"
      ]
     },
     "execution_count": 186,
     "metadata": {},
     "output_type": "execute_result"
    }
   ],
   "source": [
    "a = np.array([[1, 2], [3, 4]])\n",
    "a[0, 1:]"
   ]
  },
  {
   "cell_type": "code",
   "execution_count": 146,
   "id": "868c1d71",
   "metadata": {
    "ExecuteTime": {
     "end_time": "2022-03-20T15:43:50.777480Z",
     "start_time": "2022-03-20T15:43:50.773526Z"
    }
   },
   "outputs": [
    {
     "data": {
      "text/latex": [
       "$$ \\underline{20 x} $$"
      ],
      "text/plain": [
       "<IPython.core.display.Latex object>"
      ]
     },
     "metadata": {},
     "output_type": "display_data"
    }
   ],
   "source": [
    "print_eq(underline((latex(x * 20))))"
   ]
  }
 ],
 "metadata": {
  "kernelspec": {
   "display_name": "Python 3 (ipykernel)",
   "language": "python",
   "name": "python3"
  },
  "language_info": {
   "codemirror_mode": {
    "name": "ipython",
    "version": 3
   },
   "file_extension": ".py",
   "mimetype": "text/x-python",
   "name": "python",
   "nbconvert_exporter": "python",
   "pygments_lexer": "ipython3",
   "version": "3.9.7"
  },
  "latex_envs": {
   "LaTeX_envs_menu_present": true,
   "autoclose": false,
   "autocomplete": true,
   "bibliofile": "biblio.bib",
   "cite_by": "apalike",
   "current_citInitial": 1,
   "eqLabelWithNumbers": true,
   "eqNumInitial": 1,
   "hotkeys": {
    "equation": "Ctrl-E",
    "itemize": "Ctrl-I"
   },
   "labels_anchors": false,
   "latex_user_defs": false,
   "report_style_numbering": false,
   "user_envs_cfg": false
  }
 },
 "nbformat": 4,
 "nbformat_minor": 5
}
