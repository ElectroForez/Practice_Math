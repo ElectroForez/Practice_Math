{
 "cells": [
  {
   "cell_type": "code",
   "execution_count": 1,
   "id": "27371b9a",
   "metadata": {
    "ExecuteTime": {
     "end_time": "2022-03-14T07:15:08.205868Z",
     "start_time": "2022-03-14T07:15:07.902837Z"
    }
   },
   "outputs": [],
   "source": [
    "from sympy import *\n",
    "from sympy.abc import *"
   ]
  },
  {
   "cell_type": "code",
   "execution_count": 2,
   "id": "b8f117b4",
   "metadata": {
    "ExecuteTime": {
     "end_time": "2022-03-14T07:15:08.210554Z",
     "start_time": "2022-03-14T07:15:08.207212Z"
    }
   },
   "outputs": [],
   "source": [
    "from IPython.core.interactiveshell import InteractiveShell\n",
    "InteractiveShell.ast_node_interactivity = \"all\"\n",
    "from IPython.display import display, Math"
   ]
  },
  {
   "cell_type": "code",
   "execution_count": 4,
   "id": "70713751",
   "metadata": {
    "ExecuteTime": {
     "end_time": "2022-03-10T13:19:26.100546Z",
     "start_time": "2022-03-10T13:19:26.097417Z"
    }
   },
   "outputs": [],
   "source": [
    "f = symbols('Уон', cls=Function)"
   ]
  },
  {
   "cell_type": "code",
   "execution_count": 5,
   "id": "2c738a3f",
   "metadata": {
    "ExecuteTime": {
     "end_time": "2022-03-10T13:19:26.394563Z",
     "start_time": "2022-03-10T13:19:26.345253Z"
    }
   },
   "outputs": [
    {
     "data": {
      "text/latex": [
       "$\\displaystyle \\operatorname{Уон}{\\left(x \\right)}$"
      ],
      "text/plain": [
       "Уон(x)"
      ]
     },
     "execution_count": 5,
     "metadata": {},
     "output_type": "execute_result"
    },
    {
     "data": {
      "text/latex": [
       "$\\displaystyle \\operatorname{Уон}{\\left(x \\right)} + \\frac{d^{2}}{d x^{2}} \\operatorname{Уон}{\\left(x \\right)}$"
      ],
      "text/plain": [
       "Уон(x) + Derivative(Уон(x), (x, 2))"
      ]
     },
     "execution_count": 5,
     "metadata": {},
     "output_type": "execute_result"
    }
   ],
   "source": [
    "f(x) # результат ?(?)\n",
    "f(x).diff(x, x) + f(x)"
   ]
  },
  {
   "cell_type": "code",
   "execution_count": 19,
   "id": "bc75f655",
   "metadata": {
    "ExecuteTime": {
     "end_time": "2022-03-10T13:31:17.058076Z",
     "start_time": "2022-03-10T13:31:17.046806Z"
    }
   },
   "outputs": [
    {
     "data": {
      "text/latex": [
       "$\\displaystyle \\operatorname{Уон}{\\left(x \\right)} + \\frac{d^{2}}{d x^{2}} \\operatorname{Уон}{\\left(x \\right)}$"
      ],
      "text/plain": [
       "<IPython.core.display.Math object>"
      ]
     },
     "metadata": {},
     "output_type": "display_data"
    },
    {
     "name": "stdout",
     "output_type": "stream",
     "text": [
      "exp(-15*z)\n"
     ]
    }
   ],
   "source": [
    "def func():\n",
    "    expr1 = Integral(a * z, (a, 2, 1))\n",
    "    expr1 = f(x).diff(x, x) + f(x)\n",
    "    display(Math(latex(expr1)))\n",
    "    expr2 = exp(-15*z)\n",
    "    print(expr2)\n",
    "func()"
   ]
  },
  {
   "cell_type": "code",
   "execution_count": 3,
   "id": "6fd0323f",
   "metadata": {
    "ExecuteTime": {
     "end_time": "2022-03-14T07:15:14.323632Z",
     "start_time": "2022-03-14T07:15:13.993285Z"
    }
   },
   "outputs": [
    {
     "ename": "TypeError",
     "evalue": "'Symbol' object is not callable",
     "output_type": "error",
     "traceback": [
      "\u001b[0;31m---------------------------------------------------------------------------\u001b[0m",
      "\u001b[0;31mTypeError\u001b[0m                                 Traceback (most recent call last)",
      "Input \u001b[0;32mIn [3]\u001b[0m, in \u001b[0;36m<module>\u001b[0;34m\u001b[0m\n\u001b[0;32m----> 1\u001b[0m expr1 \u001b[38;5;241m=\u001b[39m \u001b[43mf\u001b[49m\u001b[43m(\u001b[49m\u001b[43mx\u001b[49m\u001b[43m)\u001b[49m\u001b[38;5;241m.\u001b[39mdiff(x, x) \u001b[38;5;241m+\u001b[39m f(x)\n\u001b[1;32m      2\u001b[0m display(Math(latex(expr1)))\n",
      "\u001b[0;31mTypeError\u001b[0m: 'Symbol' object is not callable"
     ]
    }
   ],
   "source": [
    "expr1 = f(x).diff(x, x) + f(x)\n",
    "display(Math(latex(expr1)))"
   ]
  },
  {
   "cell_type": "code",
   "execution_count": null,
   "id": "f5ed7019",
   "metadata": {},
   "outputs": [],
   "source": []
  }
 ],
 "metadata": {
  "kernelspec": {
   "display_name": "Python 3 (ipykernel)",
   "language": "python",
   "name": "python3"
  },
  "language_info": {
   "codemirror_mode": {
    "name": "ipython",
    "version": 3
   },
   "file_extension": ".py",
   "mimetype": "text/x-python",
   "name": "python",
   "nbconvert_exporter": "python",
   "pygments_lexer": "ipython3",
   "version": "3.9.7"
  },
  "latex_envs": {
   "LaTeX_envs_menu_present": true,
   "autoclose": false,
   "autocomplete": true,
   "bibliofile": "biblio.bib",
   "cite_by": "apalike",
   "current_citInitial": 1,
   "eqLabelWithNumbers": true,
   "eqNumInitial": 1,
   "hotkeys": {
    "equation": "Ctrl-E",
    "itemize": "Ctrl-I"
   },
   "labels_anchors": false,
   "latex_user_defs": false,
   "report_style_numbering": false,
   "user_envs_cfg": false
  }
 },
 "nbformat": 4,
 "nbformat_minor": 5
}
